{
 "cells": [
  {
   "cell_type": "code",
   "execution_count": 260,
   "metadata": {
    "id": "NMM6llZNqpY-"
   },
   "outputs": [],
   "source": [
    "import pandas as pd\n",
    "import numpy as np\n",
    "import matplotlib.pyplot as plt\n",
    "import seaborn as sns\n",
    "from tqdm import tqdm\n",
    "from IPython.display import display"
   ]
  },
  {
   "cell_type": "markdown",
   "metadata": {
    "jp-MarkdownHeadingCollapsed": true
   },
   "source": [
    "### Get article data by PMC ID"
   ]
  },
  {
   "cell_type": "code",
   "execution_count": 93,
   "metadata": {},
   "outputs": [
    {
     "name": "stdout",
     "output_type": "stream",
     "text": [
      "{'title': 'Phytochemicals as Antimicrobials: Prospecting Himalayan Medicinal Plants as Source of Alternate Medicine to Combat Antimicrobial Resistance.', 'abstract': 'Among all available antimicrobials, antibiotics hold a prime position in the treatment of infectious diseases. However, the emergence of antimicrobial resistance (AMR) has posed a serious threat to the effectiveness of antibiotics, resulting in increased morbidity, mortality, and escalation in healthcare costs causing a global health crisis. The overuse and misuse of antibiotics in global healthcare setups have accelerated the development and spread of AMR, leading to the emergence of multidrug-resistant (MDR) pathogens, which further limits treatment options. This creates a critical need to explore alternative approaches to combat bacterial infections. Phytochemicals have gained attention as a potential source of alternative medicine to address the challenge of AMR. Phytochemicals are structurally and functionally diverse and have multitarget antimicrobial effects, disrupting essential cellular activities. Given the promising results of plant-based antimicrobials, coupled with the slow discovery of novel antibiotics, it has become highly imperative to explore the vast repository of phytocompounds to overcome the looming catastrophe of AMR. This review summarizes the emergence of AMR towards existing antibiotics and potent phytochemicals having antimicrobial activities, along with a comprehensive overview of 123 Himalayan medicinal plants reported to possess antimicrobial phytocompounds, thus compiling the existing information that will help researchers in the exploration of phytochemicals to combat AMR.', 'authors': ['Ashraf, Mohammad Vikas', 'Pant, Shreekar', 'Khan, M. A. Hannan', 'Shah, Ali Asghar', 'Siddiqui, Sazada', 'Jeridi, Mouna', 'Alhamdi, Heba Waheeb Saeed', 'Ahmad, Shoeb'], 'year': '2023', 'journal': 'Pharmaceuticals'}\n"
     ]
    }
   ],
   "source": [
    "from Bio import Entrez\n",
    "\n",
    "def get_article_data(pmcid):\n",
    "    Entrez.email = \"your-email@example.com\"  # Replace with your email\n",
    "\n",
    "    handle = Entrez.efetch(db=\"pmc\", id=pmcid, rettype=\"medline\", retmode=\"text\")\n",
    "    article_data = handle.read()\n",
    "    # print(article_data)\n",
    "    handle.close()\n",
    "\n",
    "    title, abstract, authors, year, journal = None, \"\", [], None, None\n",
    "    abstract_flag = False\n",
    "    title_flag=False\n",
    "\n",
    "    for line in article_data.splitlines():\n",
    "        if line.startswith(\"TI  - \"):\n",
    "            title = line[6:]\n",
    "            title_flag=True\n",
    "        elif title_flag and line.startswith(\"  \"):\n",
    "            title += \" \" + line.strip()\n",
    "        else:\n",
    "            title_flag = False\n",
    "        \n",
    "        if line.startswith(\"AB  - \"):\n",
    "            abstract = line[6:]\n",
    "            abstract_flag = True\n",
    "        elif abstract_flag and line.startswith(\"  \"):\n",
    "            abstract += \" \" + line.strip()\n",
    "        else:\n",
    "            abstract_flag = False\n",
    "\n",
    "        if line.startswith(\"FAU - \"):\n",
    "            authors.append(line[6:])\n",
    "        elif line.startswith(\"DP  - \"):\n",
    "            year = line[6:].split(\" \")[0]\n",
    "        elif line.startswith(\"JT  - \"):\n",
    "            journal = line[6:]\n",
    "\n",
    "    return {\n",
    "        \"title\": title,\n",
    "        \"abstract\": abstract,\n",
    "        \"authors\": authors,\n",
    "        \"year\": year,\n",
    "        \"journal\": journal\n",
    "    }\n",
    "# Example usage\n",
    "pmcid = \"PMC10302623\"  # Replace with the actual PMCID\n",
    "article_info = get_article_data(pmcid)\n",
    "print(article_info)"
   ]
  },
  {
   "cell_type": "markdown",
   "metadata": {},
   "source": [
    "### PMC datasets reading"
   ]
  },
  {
   "cell_type": "code",
   "execution_count": 12,
   "metadata": {},
   "outputs": [],
   "source": [
    "pmc_labeled_path = \"/home/echukhrova/nlp_project/labeled_tables/\""
   ]
  },
  {
   "cell_type": "code",
   "execution_count": 254,
   "metadata": {
    "id": "bzpkGIpeqrLw"
   },
   "outputs": [],
   "source": [
    "pmc100_orig = pd.read_csv(pmc_labeled_path+'PMC100.csv').drop(['Unnamed: 0', '-1'], axis='columns')\n",
    "pmc100_orig = pmc100_orig.rename(columns={'1':'food', '3':'bact', 'text_id':'pmcid'})\n",
    "pmc95_orig = pd.read_csv(pmc_labeled_path+'PMC095.csv').drop(['Unnamed: 0', '-1'], axis='columns')\n",
    "pmc95_orig = pmc95_orig.rename(columns={'1':'food', '3':'bact', 'text_id':'pmcid'})\n",
    "pmc90_orig = pd.read_csv(pmc_labeled_path+'PMC090.csv').drop(['Unnamed: 0', '-1'], axis='columns')\n",
    "pmc90_orig = pmc90_orig.rename(columns={'1':'food', '3':'bact', 'text_id':'pmcid'})\n",
    "pmc85 = pd.read_csv(pmc_labeled_path+'PMC085.csv').drop(['Unnamed: 0', '-1'], axis='columns')\n",
    "pmc80 = pd.read_csv(pmc_labeled_path+'PMC080.csv').drop(['Unnamed: 0', '-1'], axis='columns')\n",
    "pmc75 = pd.read_csv(pmc_labeled_path+'PMC075.csv').drop(['Unnamed: 0', '-1'], axis='columns')\n",
    "pmc70 = pd.read_csv(pmc_labeled_path+'PMC070.csv').drop(['Unnamed: 0', '-1'], axis='columns')\n"
   ]
  },
  {
   "cell_type": "code",
   "execution_count": 239,
   "metadata": {},
   "outputs": [],
   "source": [
    "pmc100_title = pd.read_csv(pmc_labeled_path+'PMC100_TITLE.csv').drop(['Unnamed: 0', '-1'], axis='columns')\n",
    "pmc100_title = pmc100_title.rename(columns={'1':'gut', '3':'microbiome', 'text_id':'pmcid'})\n",
    "pmc100_abstr = pd.read_csv(pmc_labeled_path+'PMC100_ABSTRACT.csv').drop(['Unnamed: 0', '-1'], axis='columns')\n",
    "pmc100_abstr = pmc100_abstr.rename(columns={'1':'gut', '3':'microbiome', 'text_id':'pmcid'})\n",
    "\n",
    "pmc95_title = pd.read_csv(pmc_labeled_path+'PMC095_TITLE.csv').drop(['Unnamed: 0', '-1'], axis='columns')\n",
    "pmc95_title = pmc95_title.rename(columns={'1':'gut', '3':'microbiome', 'text_id':'pmcid'})\n",
    "pmc95_abstr = pd.read_csv(pmc_labeled_path+'PMC095_ABSTRACT.csv').drop(['Unnamed: 0', '-1'], axis='columns')\n",
    "pmc95_abstr = pmc95_abstr.rename(columns={'1':'gut', '3':'microbiome', 'text_id':'pmcid'})\n",
    "\n",
    "pmc90_title = pd.read_csv(pmc_labeled_path+'PMC090_TITLE.csv').drop(['Unnamed: 0', '-1'], axis='columns')\n",
    "pmc90_title = pmc90_title.rename(columns={'1':'gut', '3':'microbiome', 'text_id':'pmcid'})\n",
    "pmc90_abstr = pd.read_csv(pmc_labeled_path+'PMC090_ABSTRACT.csv').drop(['Unnamed: 0', '-1'], axis='columns')\n",
    "pmc90_abstr = pmc90_abstr.rename(columns={'1':'gut', '3':'microbiome', 'text_id':'pmcid'})"
   ]
  },
  {
   "cell_type": "code",
   "execution_count": 255,
   "metadata": {},
   "outputs": [],
   "source": [
    "pmc100_gut = pmc100_abstr[(pmc100_abstr.gut > 0) & (pmc100_abstr.microbiome > 0)]\n",
    "gut100_ind = pmc100_gut.pmcid\n",
    "pmc100 = pmc100_orig[pmc100_orig.pmcid.isin(gut100_ind)]\n",
    "\n",
    "pmc95_gut = pmc95_abstr[(pmc95_abstr.gut > 0) & (pmc95_abstr.microbiome > 0)]\n",
    "gut95_ind = pmc95_gut.pmcid\n",
    "pmc95 = pmc95_orig[pmc95_orig.pmcid.isin(gut95_ind)]\n",
    "\n",
    "pmc90_gut = pmc90_abstr[(pmc90_abstr.gut > 0) & (pmc90_abstr.microbiome > 0)]\n",
    "gut90_ind = pmc90_gut.pmcid\n",
    "pmc90 = pmc90_orig[pmc90_orig.pmcid.isin(gut90_ind)]"
   ]
  },
  {
   "cell_type": "code",
   "execution_count": 256,
   "metadata": {},
   "outputs": [
    {
     "name": "stdout",
     "output_type": "stream",
     "text": [
      "Length of init PMC100 dataset: 415559\n",
      "Length of 'gut' + 'microbiome' filtered PMC100 dataset: 4040, i.e. 0.9721844551555857 %\n",
      "Length of init PMC95 dataset: 435357\n",
      "Length of 'gut' + 'microbiome' filtered PMC095 dataset: 4271, i.e. 0.9810339560406747 %\n",
      "Length of init PMC90 dataset: 442682\n",
      "Length of 'gut' + 'microbiome' filtered PMC090 dataset: 3813, i.e. 0.8613406463330336 %\n"
     ]
    }
   ],
   "source": [
    "print(f\"Length of init PMC100 dataset: {len(pmc100_orig)}\")\n",
    "print(f\"Length of 'gut' + 'microbiome' filtered PMC100 dataset: {len(pmc100)}, i.e. {len(pmc100)/len(pmc100_orig) * 100} %\")\n",
    "\n",
    "print(f\"Length of init PMC95 dataset: {len(pmc95_orig)}\")\n",
    "print(f\"Length of 'gut' + 'microbiome' filtered PMC095 dataset: {len(pmc95)}, i.e. {len(pmc95)/len(pmc95_orig)  * 100} %\")\n",
    "\n",
    "print(f\"Length of init PMC90 dataset: {len(pmc90_orig)}\")\n",
    "print(f\"Length of 'gut' + 'microbiome' filtered PMC090 dataset: {len(pmc90)}, i.e. {len(pmc90)/len(pmc90_orig)  * 100} %\")\n"
   ]
  },
  {
   "cell_type": "code",
   "execution_count": 250,
   "metadata": {},
   "outputs": [
    {
     "data": {
      "text/plain": [
       "0"
      ]
     },
     "execution_count": 250,
     "metadata": {},
     "output_type": "execute_result"
    }
   ],
   "source": [
    "len(set(pmc90_orig.pmcid.values).intersection(set(pmc95_orig.pmcid.values))) + \\\n",
    "len(set(pmc100_orig.pmcid.values).intersection(set(pmc95_orig.pmcid.values))) + \\\n",
    "len(set(pmc90_orig.pmcid.values).intersection(set(pmc100_orig.pmcid.values)))"
   ]
  },
  {
   "cell_type": "code",
   "execution_count": 258,
   "metadata": {},
   "outputs": [],
   "source": []
  },
  {
   "cell_type": "code",
   "execution_count": 264,
   "metadata": {},
   "outputs": [
    {
     "name": "stdout",
     "output_type": "stream",
     "text": [
      "PMC100 statistics:\n"
     ]
    },
    {
     "data": {
      "text/html": [
       "<div>\n",
       "<style scoped>\n",
       "    .dataframe tbody tr th:only-of-type {\n",
       "        vertical-align: middle;\n",
       "    }\n",
       "\n",
       "    .dataframe tbody tr th {\n",
       "        vertical-align: top;\n",
       "    }\n",
       "\n",
       "    .dataframe thead th {\n",
       "        text-align: right;\n",
       "    }\n",
       "</style>\n",
       "<table border=\"1\" class=\"dataframe\">\n",
       "  <thead>\n",
       "    <tr style=\"text-align: right;\">\n",
       "      <th>food</th>\n",
       "      <th>0</th>\n",
       "      <th>10</th>\n",
       "      <th>50</th>\n",
       "      <th>100</th>\n",
       "      <th>500</th>\n",
       "      <th>1000</th>\n",
       "    </tr>\n",
       "    <tr>\n",
       "      <th>bact</th>\n",
       "      <th></th>\n",
       "      <th></th>\n",
       "      <th></th>\n",
       "      <th></th>\n",
       "      <th></th>\n",
       "      <th></th>\n",
       "    </tr>\n",
       "  </thead>\n",
       "  <tbody>\n",
       "    <tr>\n",
       "      <th>0</th>\n",
       "      <td>3563</td>\n",
       "      <td>2580</td>\n",
       "      <td>952</td>\n",
       "      <td>358</td>\n",
       "      <td>5</td>\n",
       "      <td>0</td>\n",
       "    </tr>\n",
       "    <tr>\n",
       "      <th>10</th>\n",
       "      <td>2577</td>\n",
       "      <td>1921</td>\n",
       "      <td>704</td>\n",
       "      <td>272</td>\n",
       "      <td>5</td>\n",
       "      <td>0</td>\n",
       "    </tr>\n",
       "    <tr>\n",
       "      <th>50</th>\n",
       "      <td>702</td>\n",
       "      <td>528</td>\n",
       "      <td>198</td>\n",
       "      <td>79</td>\n",
       "      <td>3</td>\n",
       "      <td>0</td>\n",
       "    </tr>\n",
       "    <tr>\n",
       "      <th>100</th>\n",
       "      <td>162</td>\n",
       "      <td>118</td>\n",
       "      <td>50</td>\n",
       "      <td>23</td>\n",
       "      <td>2</td>\n",
       "      <td>0</td>\n",
       "    </tr>\n",
       "    <tr>\n",
       "      <th>300</th>\n",
       "      <td>4</td>\n",
       "      <td>2</td>\n",
       "      <td>1</td>\n",
       "      <td>1</td>\n",
       "      <td>0</td>\n",
       "      <td>0</td>\n",
       "    </tr>\n",
       "  </tbody>\n",
       "</table>\n",
       "</div>"
      ],
      "text/plain": [
       "food  0     10    50    100   500   1000\n",
       "bact                                    \n",
       "0     3563  2580   952   358     5     0\n",
       "10    2577  1921   704   272     5     0\n",
       "50     702   528   198    79     3     0\n",
       "100    162   118    50    23     2     0\n",
       "300      4     2     1     1     0     0"
      ]
     },
     "metadata": {},
     "output_type": "display_data"
    },
    {
     "name": "stdout",
     "output_type": "stream",
     "text": [
      "---------------------------------\n",
      "PMC95 statistics:\n"
     ]
    },
    {
     "data": {
      "text/html": [
       "<div>\n",
       "<style scoped>\n",
       "    .dataframe tbody tr th:only-of-type {\n",
       "        vertical-align: middle;\n",
       "    }\n",
       "\n",
       "    .dataframe tbody tr th {\n",
       "        vertical-align: top;\n",
       "    }\n",
       "\n",
       "    .dataframe thead th {\n",
       "        text-align: right;\n",
       "    }\n",
       "</style>\n",
       "<table border=\"1\" class=\"dataframe\">\n",
       "  <thead>\n",
       "    <tr style=\"text-align: right;\">\n",
       "      <th>food</th>\n",
       "      <th>0</th>\n",
       "      <th>10</th>\n",
       "      <th>50</th>\n",
       "      <th>100</th>\n",
       "      <th>500</th>\n",
       "      <th>1000</th>\n",
       "    </tr>\n",
       "    <tr>\n",
       "      <th>bact</th>\n",
       "      <th></th>\n",
       "      <th></th>\n",
       "      <th></th>\n",
       "      <th></th>\n",
       "      <th></th>\n",
       "      <th></th>\n",
       "    </tr>\n",
       "  </thead>\n",
       "  <tbody>\n",
       "    <tr>\n",
       "      <th>0</th>\n",
       "      <td>3724</td>\n",
       "      <td>2677</td>\n",
       "      <td>966</td>\n",
       "      <td>388</td>\n",
       "      <td>2</td>\n",
       "      <td>0</td>\n",
       "    </tr>\n",
       "    <tr>\n",
       "      <th>10</th>\n",
       "      <td>2644</td>\n",
       "      <td>1941</td>\n",
       "      <td>685</td>\n",
       "      <td>265</td>\n",
       "      <td>1</td>\n",
       "      <td>0</td>\n",
       "    </tr>\n",
       "    <tr>\n",
       "      <th>50</th>\n",
       "      <td>725</td>\n",
       "      <td>550</td>\n",
       "      <td>200</td>\n",
       "      <td>83</td>\n",
       "      <td>0</td>\n",
       "      <td>0</td>\n",
       "    </tr>\n",
       "    <tr>\n",
       "      <th>100</th>\n",
       "      <td>185</td>\n",
       "      <td>150</td>\n",
       "      <td>66</td>\n",
       "      <td>24</td>\n",
       "      <td>0</td>\n",
       "      <td>0</td>\n",
       "    </tr>\n",
       "    <tr>\n",
       "      <th>300</th>\n",
       "      <td>4</td>\n",
       "      <td>4</td>\n",
       "      <td>1</td>\n",
       "      <td>0</td>\n",
       "      <td>0</td>\n",
       "      <td>0</td>\n",
       "    </tr>\n",
       "  </tbody>\n",
       "</table>\n",
       "</div>"
      ],
      "text/plain": [
       "food  0     10    50    100   500   1000\n",
       "bact                                    \n",
       "0     3724  2677   966   388     2     0\n",
       "10    2644  1941   685   265     1     0\n",
       "50     725   550   200    83     0     0\n",
       "100    185   150    66    24     0     0\n",
       "300      4     4     1     0     0     0"
      ]
     },
     "metadata": {},
     "output_type": "display_data"
    },
    {
     "name": "stdout",
     "output_type": "stream",
     "text": [
      "---------------------------------\n",
      "PMC90 statistics:\n"
     ]
    },
    {
     "data": {
      "text/html": [
       "<div>\n",
       "<style scoped>\n",
       "    .dataframe tbody tr th:only-of-type {\n",
       "        vertical-align: middle;\n",
       "    }\n",
       "\n",
       "    .dataframe tbody tr th {\n",
       "        vertical-align: top;\n",
       "    }\n",
       "\n",
       "    .dataframe thead th {\n",
       "        text-align: right;\n",
       "    }\n",
       "</style>\n",
       "<table border=\"1\" class=\"dataframe\">\n",
       "  <thead>\n",
       "    <tr style=\"text-align: right;\">\n",
       "      <th>food</th>\n",
       "      <th>0</th>\n",
       "      <th>10</th>\n",
       "      <th>50</th>\n",
       "      <th>100</th>\n",
       "      <th>500</th>\n",
       "      <th>1000</th>\n",
       "    </tr>\n",
       "    <tr>\n",
       "      <th>bact</th>\n",
       "      <th></th>\n",
       "      <th></th>\n",
       "      <th></th>\n",
       "      <th></th>\n",
       "      <th></th>\n",
       "      <th></th>\n",
       "    </tr>\n",
       "  </thead>\n",
       "  <tbody>\n",
       "    <tr>\n",
       "      <th>0</th>\n",
       "      <td>3323</td>\n",
       "      <td>2344</td>\n",
       "      <td>883</td>\n",
       "      <td>347</td>\n",
       "      <td>3</td>\n",
       "      <td>0</td>\n",
       "    </tr>\n",
       "    <tr>\n",
       "      <th>10</th>\n",
       "      <td>2347</td>\n",
       "      <td>1696</td>\n",
       "      <td>648</td>\n",
       "      <td>270</td>\n",
       "      <td>3</td>\n",
       "      <td>0</td>\n",
       "    </tr>\n",
       "    <tr>\n",
       "      <th>50</th>\n",
       "      <td>687</td>\n",
       "      <td>502</td>\n",
       "      <td>179</td>\n",
       "      <td>81</td>\n",
       "      <td>3</td>\n",
       "      <td>0</td>\n",
       "    </tr>\n",
       "    <tr>\n",
       "      <th>100</th>\n",
       "      <td>159</td>\n",
       "      <td>127</td>\n",
       "      <td>52</td>\n",
       "      <td>23</td>\n",
       "      <td>3</td>\n",
       "      <td>0</td>\n",
       "    </tr>\n",
       "    <tr>\n",
       "      <th>300</th>\n",
       "      <td>3</td>\n",
       "      <td>3</td>\n",
       "      <td>1</td>\n",
       "      <td>0</td>\n",
       "      <td>0</td>\n",
       "      <td>0</td>\n",
       "    </tr>\n",
       "  </tbody>\n",
       "</table>\n",
       "</div>"
      ],
      "text/plain": [
       "food  0     10    50    100   500   1000\n",
       "bact                                    \n",
       "0     3323  2344   883   347     3     0\n",
       "10    2347  1696   648   270     3     0\n",
       "50     687   502   179    81     3     0\n",
       "100    159   127    52    23     3     0\n",
       "300      3     3     1     0     0     0"
      ]
     },
     "metadata": {},
     "output_type": "display_data"
    }
   ],
   "source": [
    "print(\"PMC100 statistics:\")\n",
    "display(eval_len_for_two_bounds(pmc100, food_bounds = [0, 10, 50, 100, 500, 1000], bact_bounds =[0, 10, 50,100,300]))\n",
    "print(\"---------------------------------\")\n",
    "print(\"PMC95 statistics:\")\n",
    "display(eval_len_for_two_bounds(pmc95, food_bounds = [0, 10, 50, 100, 500, 1000], bact_bounds =[0, 10, 50,100,300]))\n",
    "print(\"---------------------------------\")\n",
    "print(\"PMC90 statistics:\")\n",
    "display(eval_len_for_two_bounds(pmc90, food_bounds = [0, 10, 50, 100, 500, 1000], bact_bounds =[0, 10, 50,100,300]))"
   ]
  },
  {
   "cell_type": "markdown",
   "metadata": {},
   "source": [
    "### Many food articles"
   ]
  },
  {
   "cell_type": "code",
   "execution_count": 168,
   "metadata": {},
   "outputs": [
    {
     "data": {
      "text/plain": [
       "array(['PMC10459315', 'PMC10136752', 'PMC10135282', 'PMC10005405',\n",
       "       'PMC10493557', 'PMC10221066'], dtype=object)"
      ]
     },
     "execution_count": 168,
     "metadata": {},
     "output_type": "execute_result"
    }
   ],
   "source": [
    "pmc100.text_id[pmc100['1'] > 500].values"
   ]
  },
  {
   "cell_type": "code",
   "execution_count": 169,
   "metadata": {},
   "outputs": [],
   "source": [
    "many_food_pmc = ['PMC10459315', 'PMC10136752', 'PMC10135282', 'PMC10005405',\n",
    "       'PMC10493557', 'PMC10221066']\n",
    "many_food_articles_info = {}\n",
    "for pmcid in many_food_pmc:# Replace with the actual PMCID\n",
    "    article_info = get_article_data(pmcid)\n",
    "    many_food_articles_info[pmcid] = article_info"
   ]
  },
  {
   "cell_type": "code",
   "execution_count": 170,
   "metadata": {},
   "outputs": [
    {
     "name": "stdout",
     "output_type": "stream",
     "text": [
      "PMC10459315: \"Is There More to Olive Oil than Healthy Lipids?\"\n",
      "\n",
      "PMC10136752: \"Integrated Microbiota and Metabolite Changes following Rice Bran Intake during Murine Inflammatory Colitis-Associated Colon Cancer and in Colorectal Cancer Survivors.\"\n",
      "\n",
      "PMC10135282: \"Dietary Phenolic Compounds: Their Health Benefits and Association with the Gut Microbiota.\"\n",
      "\n",
      "PMC10005405: \"The Role of Phytochemicals and Gut Microbiome in Atherosclerosis in Preclinical Mouse Models.\"\n",
      "\n",
      "PMC10493557: \"Effect of Consumption of Animal Products on the Gut Microbiome Composition and Gut Health.\"\n",
      "\n",
      "PMC10221066: \"Fermented Beverage Benefits: A Comprehensive Review and Comparison of Kombucha and Kefir Microbiome.\"\n",
      "\n"
     ]
    }
   ],
   "source": [
    "for pmcid in many_food_articles_info:\n",
    "    print(pmcid+': \"'+many_food_articles_info[pmcid]['title']+'\"\\n')"
   ]
  },
  {
   "cell_type": "markdown",
   "metadata": {},
   "source": [
    "### Many bact articles"
   ]
  },
  {
   "cell_type": "code",
   "execution_count": 172,
   "metadata": {},
   "outputs": [
    {
     "data": {
      "text/plain": [
       "array(['PMC10052337', 'PMC10437823', 'PMC10003303', 'PMC10030519'],\n",
       "      dtype=object)"
      ]
     },
     "execution_count": 172,
     "metadata": {},
     "output_type": "execute_result"
    }
   ],
   "source": [
    "pmc100.text_id[pmc100['3'] > 300].values"
   ]
  },
  {
   "cell_type": "code",
   "execution_count": 173,
   "metadata": {},
   "outputs": [],
   "source": [
    "many_bact_pmc = ['PMC10052337', 'PMC10437823', 'PMC10003303', 'PMC10030519']\n",
    "many_bact_articles_info = {}\n",
    "for pmcid in many_bact_pmc:# Replace with the actual PMCID\n",
    "    article_info = get_article_data(pmcid)\n",
    "    many_bact_articles_info[pmcid] = article_info"
   ]
  },
  {
   "cell_type": "code",
   "execution_count": 174,
   "metadata": {},
   "outputs": [
    {
     "name": "stdout",
     "output_type": "stream",
     "text": [
      "PMC10052337: \"The Gut Microbiome of an Indigenous Agropastoralist Population in a Remote Area of Colombia with High Rates of Gastrointestinal Infections and Dysbiosis.\"\n",
      "\n",
      "PMC10437823: \"Attention Deficit Hyperactivity Disorder (ADHD) and the gut microbiome: An ecological perspective.\"\n",
      "\n",
      "PMC10003303: \"Key Stratification of Microbiota Taxa and Metabolites in the Host Metabolic Health–Disease Balance.\"\n",
      "\n",
      "PMC10030519: \"Gut and airway microbiota dysbiosis and their role in COVID-19 and long-COVID.\"\n",
      "\n"
     ]
    }
   ],
   "source": [
    "for pmcid in many_bact_articles_info:\n",
    "    print(pmcid+': \"'+many_bact_articles_info[pmcid]['title']+'\"\\n')"
   ]
  },
  {
   "cell_type": "markdown",
   "metadata": {},
   "source": [
    "### Try to find relevant articles"
   ]
  },
  {
   "cell_type": "code",
   "execution_count": 176,
   "metadata": {},
   "outputs": [
    {
     "name": "stdout",
     "output_type": "stream",
     "text": [
      "Length of the 40 bound pmc articles set is 330\n"
     ]
    }
   ],
   "source": [
    "bound = 40\n",
    "pmc100_food_bact_bound = pmc100.text_id[(pmc100['1'] > bound) & (pmc100['3'] > bound)].values\n",
    "print(f\"Length of the {bound} bound pmc articles set is {len(pmc100_food_bact_bound)}\")\n",
    "# pmc100_food_bact_bound"
   ]
  },
  {
   "cell_type": "code",
   "execution_count": 101,
   "metadata": {},
   "outputs": [
    {
     "name": "stderr",
     "output_type": "stream",
     "text": [
      "  0%|                                                                                  | 1/1030 [00:01<21:32,  1.26s/it]"
     ]
    },
    {
     "name": "stdout",
     "output_type": "stream",
     "text": [
      "The Efficacy of Bacteriocins Against Biofilm-Producing Bacteria Causing Bovine Clinical Mastitis in Dairy Farms: A New Strategy.\n"
     ]
    },
    {
     "name": "stderr",
     "output_type": "stream",
     "text": [
      "  0%|▏                                                                                 | 2/1030 [00:02<16:55,  1.01it/s]"
     ]
    },
    {
     "name": "stdout",
     "output_type": "stream",
     "text": [
      "Effects of Mexican Ganoderma lucidum extracts on liver, kidney, and the gut microbiota of Wistar rats: A repeated dose oral toxicity study.\n"
     ]
    },
    {
     "name": "stderr",
     "output_type": "stream",
     "text": [
      "  0%|▏                                                                                 | 3/1030 [00:02<15:24,  1.11it/s]"
     ]
    },
    {
     "name": "stdout",
     "output_type": "stream",
     "text": [
      "Maternal microbe-specific modulation of the offspring microbiome and development  during pregnancy and lactation.\n"
     ]
    },
    {
     "name": "stderr",
     "output_type": "stream",
     "text": [
      "  0%|▎                                                                                 | 4/1030 [00:03<13:51,  1.23it/s]"
     ]
    },
    {
     "name": "stdout",
     "output_type": "stream",
     "text": [
      "bettercallsal: better calling of Salmonella serotypes from enrichment cultures using shotgun metagenomic profiling and its application in an outbreak setting.\n"
     ]
    },
    {
     "name": "stderr",
     "output_type": "stream",
     "text": [
      "  0%|▍                                                                                 | 5/1030 [00:04<12:48,  1.33it/s]"
     ]
    },
    {
     "name": "stdout",
     "output_type": "stream",
     "text": [
      "Immunomodulatory effects of inulin and its intestinal metabolites.\n"
     ]
    },
    {
     "name": "stderr",
     "output_type": "stream",
     "text": [
      "  1%|▍                                                                                 | 6/1030 [00:04<12:41,  1.35it/s]"
     ]
    },
    {
     "name": "stdout",
     "output_type": "stream",
     "text": [
      "Differential Salmonella Typhimurium intracellular replication and host cell responses in caecal and ileal organoids derived from chicken.\n"
     ]
    },
    {
     "name": "stderr",
     "output_type": "stream",
     "text": [
      "  1%|▌                                                                                 | 7/1030 [00:05<12:46,  1.33it/s]"
     ]
    },
    {
     "name": "stdout",
     "output_type": "stream",
     "text": [
      "IgYs: on her majesty’s secret service.\n"
     ]
    },
    {
     "name": "stderr",
     "output_type": "stream",
     "text": [
      "  1%|▋                                                                                 | 8/1030 [00:06<12:07,  1.41it/s]"
     ]
    },
    {
     "name": "stdout",
     "output_type": "stream",
     "text": [
      "Fever integrates antimicrobial defences, inflammation control, and tissue repair  in a cold-blooded vertebrate.\n"
     ]
    },
    {
     "name": "stderr",
     "output_type": "stream",
     "text": [
      "  1%|▋                                                                                 | 9/1030 [00:06<11:47,  1.44it/s]"
     ]
    },
    {
     "name": "stdout",
     "output_type": "stream",
     "text": [
      "Impact of intercropping grass on the soil rhizosphere microbial community and soil ecosystem function in a walnut orchard.\n"
     ]
    },
    {
     "name": "stderr",
     "output_type": "stream",
     "text": [
      "  1%|▊                                                                                | 10/1030 [00:07<12:16,  1.38it/s]"
     ]
    },
    {
     "name": "stdout",
     "output_type": "stream",
     "text": [
      "Biodiversity of Endophytic Microbes in Diverse Tea Chrysanthemum Cultivars and Their Potential Promoting Effects on Plant Growth and Quality.\n"
     ]
    },
    {
     "name": "stderr",
     "output_type": "stream",
     "text": [
      "  1%|▊                                                                                | 11/1030 [00:08<11:48,  1.44it/s]"
     ]
    },
    {
     "name": "stdout",
     "output_type": "stream",
     "text": [
      "Prevalence and Biological Characteristics of Listeria Species Isolated from Livestock and Poultry Meat in Gansu Province, China.\n"
     ]
    },
    {
     "name": "stderr",
     "output_type": "stream",
     "text": [
      "  1%|▉                                                                                | 12/1030 [00:09<12:16,  1.38it/s]"
     ]
    },
    {
     "name": "stdout",
     "output_type": "stream",
     "text": [
      "Alternative approaches to therapeutics and subtherapeutics for sustainable poultry production.\n"
     ]
    },
    {
     "name": "stderr",
     "output_type": "stream",
     "text": [
      "  1%|█                                                                                | 13/1030 [00:09<12:10,  1.39it/s]"
     ]
    },
    {
     "name": "stdout",
     "output_type": "stream",
     "text": [
      "Changes in the gut microbiota of NOD mice in response to an oral Salmonella-based vaccine against type 1 diabetes.\n"
     ]
    },
    {
     "name": "stderr",
     "output_type": "stream",
     "text": [
      "  1%|█                                                                                | 14/1030 [00:10<11:43,  1.44it/s]"
     ]
    },
    {
     "name": "stdout",
     "output_type": "stream",
     "text": [
      "Microbiota Composition during Fermentation of Broomcorn Millet Huangjiu and Their Effects on Flavor Quality.\n"
     ]
    },
    {
     "name": "stderr",
     "output_type": "stream",
     "text": [
      "  1%|█▏                                                                               | 15/1030 [00:11<11:56,  1.42it/s]"
     ]
    },
    {
     "name": "stdout",
     "output_type": "stream",
     "text": [
      "Application and Effect of Pediococcus pentosaceus and Lactiplantibacillus plantarum as Starter Cultures on Bacterial Communities and Volatile Flavor Compounds of Zhayu, a Chinese Traditional Fermented Fish Product.\n"
     ]
    },
    {
     "name": "stderr",
     "output_type": "stream",
     "text": [
      "  2%|█▎                                                                               | 16/1030 [00:12<12:24,  1.36it/s]"
     ]
    },
    {
     "name": "stdout",
     "output_type": "stream",
     "text": [
      "Abundance and prevalence of ESBL coding genes in patients undergoing first line eradication therapy for Helicobacter pylori.\n"
     ]
    },
    {
     "name": "stderr",
     "output_type": "stream",
     "text": [
      "  2%|█▎                                                                               | 17/1030 [00:12<11:59,  1.41it/s]"
     ]
    },
    {
     "name": "stdout",
     "output_type": "stream",
     "text": [
      "Microbiological Survey and Antimicrobial Resistance of Foodborne Bacteria in Select Meat Products and Ethnic Food Products Procured from Food Desert Retail Outlets in Central Virginia, USA.\n"
     ]
    },
    {
     "name": "stderr",
     "output_type": "stream",
     "text": [
      "  2%|█▍                                                                               | 18/1030 [00:13<14:49,  1.14it/s]"
     ]
    },
    {
     "name": "stdout",
     "output_type": "stream",
     "text": [
      "An Integrated Approach to Skeletal Muscle Health in Aging.\n"
     ]
    },
    {
     "name": "stderr",
     "output_type": "stream",
     "text": [
      "  2%|█▍                                                                               | 19/1030 [00:14<13:53,  1.21it/s]"
     ]
    },
    {
     "name": "stdout",
     "output_type": "stream",
     "text": [
      "Feed nutritional composition affects the intestinal microbiota and digestive enzyme activity of black soldier fly larvae.\n"
     ]
    },
    {
     "name": "stderr",
     "output_type": "stream",
     "text": [
      "  2%|█▌                                                                               | 20/1030 [00:15<13:16,  1.27it/s]"
     ]
    },
    {
     "name": "stdout",
     "output_type": "stream",
     "text": [
      "Intramammary Infusion of Micronised Purified Flavonoid Fraction (MPFF) in Mastitis-Diagnosed Dairy Cows Naturally Infected by Staphylococcus spp. in the Late Lactation.\n"
     ]
    },
    {
     "name": "stderr",
     "output_type": "stream",
     "text": [
      "  2%|█▋                                                                               | 21/1030 [00:16<12:38,  1.33it/s]"
     ]
    },
    {
     "name": "stdout",
     "output_type": "stream",
     "text": [
      "Environmental Factors Influencing Occurrence of Vibrio parahaemolyticus and Vibrio vulnificus.\n"
     ]
    },
    {
     "name": "stderr",
     "output_type": "stream",
     "text": [
      "  2%|█▋                                                                               | 22/1030 [00:16<12:12,  1.38it/s]"
     ]
    },
    {
     "name": "stdout",
     "output_type": "stream",
     "text": [
      "Evaluation of the growth-inducing efficacy of various Bacillus species on the salt-stressed tomato (Lycopersicon esculentum Mill.).\n"
     ]
    },
    {
     "name": "stderr",
     "output_type": "stream",
     "text": [
      "  2%|█▊                                                                               | 23/1030 [00:17<11:51,  1.42it/s]"
     ]
    },
    {
     "name": "stdout",
     "output_type": "stream",
     "text": [
      "A Scoping Review of Genus Viscum: Biological and Chemical Aspects of Alcoholic Extracts.\n"
     ]
    },
    {
     "name": "stderr",
     "output_type": "stream",
     "text": [
      "  2%|█▉                                                                               | 24/1030 [00:18<11:51,  1.41it/s]"
     ]
    },
    {
     "name": "stdout",
     "output_type": "stream",
     "text": [
      "Diversity of common bean rhizobia in blackland of northeastern China and their symbiotic compatibility with two host varieties.\n"
     ]
    },
    {
     "name": "stderr",
     "output_type": "stream",
     "text": [
      "  2%|█▉                                                                               | 25/1030 [00:18<11:36,  1.44it/s]"
     ]
    },
    {
     "name": "stdout",
     "output_type": "stream",
     "text": [
      "Combined effect of physico-chemical and microbial quality of breeding habitat water on oviposition of malarial vector Anopheles subpictus.\n"
     ]
    },
    {
     "name": "stderr",
     "output_type": "stream",
     "text": [
      "  3%|██                                                                               | 26/1030 [00:19<14:29,  1.15it/s]"
     ]
    },
    {
     "name": "stdout",
     "output_type": "stream",
     "text": [
      "Together or Alone: Evaluating the Pathogen Inhibition Potential of Bacterial Cocktails against an Amphibian Pathogen.\n"
     ]
    },
    {
     "name": "stderr",
     "output_type": "stream",
     "text": [
      "  3%|██                                                                               | 27/1030 [00:20<13:46,  1.21it/s]"
     ]
    },
    {
     "name": "stdout",
     "output_type": "stream",
     "text": [
      "Microbial community succession and volatile compounds changes during spontaneous  fermentation of Cabernet Sauvignon (Vitis vinifera L.) under rain-shelter cultivation.\n"
     ]
    },
    {
     "name": "stderr",
     "output_type": "stream",
     "text": [
      "  3%|██▏                                                                              | 28/1030 [00:21<13:25,  1.24it/s]"
     ]
    },
    {
     "name": "stdout",
     "output_type": "stream",
     "text": [
      "Use of Shotgun Metagenomics to Assess the Microbial Diversity and Hydrocarbons Degrading Functions of Auto-Mechanic Workshops Soils Polluted with Gasoline and Diesel Fuel.\n"
     ]
    },
    {
     "name": "stderr",
     "output_type": "stream",
     "text": [
      "  3%|██▎                                                                              | 29/1030 [00:22<12:56,  1.29it/s]"
     ]
    },
    {
     "name": "stdout",
     "output_type": "stream",
     "text": [
      "Investigating causal associations among gut microbiota, metabolites, and liver diseases: a Mendelian randomization study.\n"
     ]
    },
    {
     "name": "stderr",
     "output_type": "stream",
     "text": [
      "  3%|██▎                                                                              | 30/1030 [00:22<12:48,  1.30it/s]"
     ]
    },
    {
     "name": "stdout",
     "output_type": "stream",
     "text": [
      "Supplemental Clostridium butyricum modulates lipid metabolism by reshaping the gut microbiota composition and bile acid profile in IUGR suckling piglets.\n"
     ]
    },
    {
     "name": "stderr",
     "output_type": "stream",
     "text": [
      "  3%|██▍                                                                              | 31/1030 [00:23<12:27,  1.34it/s]"
     ]
    },
    {
     "name": "stdout",
     "output_type": "stream",
     "text": [
      "Semi-Quantitative Biosecurity Assessment Framework Targeting Prevention of the Introduction and Establishment of Salmonella Dublin in Dairy Cattle Herds.\n"
     ]
    },
    {
     "name": "stderr",
     "output_type": "stream",
     "text": [
      "  3%|██▌                                                                              | 32/1030 [00:24<12:05,  1.38it/s]"
     ]
    },
    {
     "name": "stdout",
     "output_type": "stream",
     "text": [
      "Genomic features of Klebsiella isolates from artisanal ready-to-eat food production facilities.\n"
     ]
    },
    {
     "name": "stderr",
     "output_type": "stream",
     "text": [
      "  3%|██▌                                                                              | 33/1030 [00:25<12:14,  1.36it/s]"
     ]
    },
    {
     "name": "stdout",
     "output_type": "stream",
     "text": [
      "Nutraceuticals Prepared with Specific Strains of Probiotics for Supplementing Gut Microbiota in Hosts Allergic to Certain Foods or Their Additives.\n"
     ]
    },
    {
     "name": "stderr",
     "output_type": "stream",
     "text": [
      "  3%|██▋                                                                              | 34/1030 [00:26<14:38,  1.13it/s]"
     ]
    },
    {
     "name": "stdout",
     "output_type": "stream",
     "text": [
      "Soybean Oil Regulates the Fatty Acid Synthesis II System of Bacillus amyloliquefaciens LFB112 by Activating Acetyl-CoA Levels.\n"
     ]
    },
    {
     "name": "stderr",
     "output_type": "stream",
     "text": [
      "  3%|██▊                                                                              | 35/1030 [00:26<13:41,  1.21it/s]"
     ]
    },
    {
     "name": "stdout",
     "output_type": "stream",
     "text": [
      "Uncultured Microorganisms and Their Functions in the Fermentation Systems of Traditional Chinese Fermented Foods.\n"
     ]
    },
    {
     "name": "stderr",
     "output_type": "stream",
     "text": [
      "  3%|██▊                                                                              | 36/1030 [00:27<13:38,  1.21it/s]"
     ]
    },
    {
     "name": "stdout",
     "output_type": "stream",
     "text": [
      "Alterations in fecal β-defensin-3 secretion as a marker of instability of the gut microbiota.\n"
     ]
    },
    {
     "name": "stderr",
     "output_type": "stream",
     "text": [
      "  4%|██▉                                                                              | 37/1030 [00:28<13:14,  1.25it/s]"
     ]
    },
    {
     "name": "stdout",
     "output_type": "stream",
     "text": [
      "A non-antibiotic-disrupted gut microbiome associated with clinical responses to CD19-CAR-T cell cancer immunotherapy.\n"
     ]
    },
    {
     "name": "stderr",
     "output_type": "stream",
     "text": [
      "  4%|██▉                                                                              | 38/1030 [00:29<13:07,  1.26it/s]"
     ]
    },
    {
     "name": "stdout",
     "output_type": "stream",
     "text": [
      "The Effect of Exercise Prescription on the Human Gut Microbiota and Comparison between Clinical and Apparently Healthy Populations: A Systematic Review.\n"
     ]
    },
    {
     "name": "stderr",
     "output_type": "stream",
     "text": [
      "  4%|███                                                                              | 39/1030 [00:30<16:13,  1.02it/s]"
     ]
    },
    {
     "name": "stdout",
     "output_type": "stream",
     "text": [
      "Prevalence, antibiotic resistance patterns, and biofilm formation ability of Enterobacterales recovered from food of animal origin in Egypt.\n"
     ]
    },
    {
     "name": "stderr",
     "output_type": "stream",
     "text": [
      "  4%|███▏                                                                             | 40/1030 [00:31<14:52,  1.11it/s]"
     ]
    },
    {
     "name": "stdout",
     "output_type": "stream",
     "text": [
      "Four Novel Caudoviricetes Bacteriophages Isolated from Baltic Sea Water Infect Colonizers of Aurelia aurita.\n"
     ]
    },
    {
     "name": "stderr",
     "output_type": "stream",
     "text": [
      "  4%|███▏                                                                             | 41/1030 [00:32<14:08,  1.17it/s]"
     ]
    },
    {
     "name": "stdout",
     "output_type": "stream",
     "text": [
      "Internalization of Salmonella in Leafy Vegetables during Postharvest Conditions.\n"
     ]
    },
    {
     "name": "stderr",
     "output_type": "stream",
     "text": [
      "  4%|███▎                                                                             | 42/1030 [00:32<13:29,  1.22it/s]"
     ]
    },
    {
     "name": "stdout",
     "output_type": "stream",
     "text": [
      "Microbial and Physico-Chemical Characterization of Cold Smoked Sea Bass (Dicentrarchus labrax), a New Product of Fishery.\n"
     ]
    },
    {
     "name": "stderr",
     "output_type": "stream",
     "text": [
      "  4%|███▍                                                                             | 43/1030 [00:35<23:02,  1.40s/it]"
     ]
    },
    {
     "name": "stdout",
     "output_type": "stream",
     "text": [
      "Gut Microbiome–Brain Alliance: A Landscape View into Mental and Gastrointestinal  Health and Disorders.\n"
     ]
    },
    {
     "name": "stderr",
     "output_type": "stream",
     "text": [
      "  4%|███▍                                                                             | 44/1030 [00:37<23:38,  1.44s/it]"
     ]
    },
    {
     "name": "stdout",
     "output_type": "stream",
     "text": [
      "SARS-CoV-2 and Its Bacterial Co- or Super-Infections Synergize to Trigger COVID-19 Autoimmune Cardiopathies.\n"
     ]
    },
    {
     "name": "stderr",
     "output_type": "stream",
     "text": [
      "  4%|███▌                                                                             | 45/1030 [00:39<27:12,  1.66s/it]"
     ]
    },
    {
     "name": "stdout",
     "output_type": "stream",
     "text": [
      "Ralstonia chuxiongensis sp. nov., Ralstonia mojiangensis sp. nov., and Ralstonia  soli sp. nov., isolated from tobacco fields, are three novel species in the family Burkholderiaceae.\n"
     ]
    },
    {
     "name": "stderr",
     "output_type": "stream",
     "text": [
      "  4%|███▌                                                                             | 46/1030 [00:40<22:57,  1.40s/it]"
     ]
    },
    {
     "name": "stdout",
     "output_type": "stream",
     "text": [
      "Diversity, composition, and networking of saliva microbiota distinguish the severity of COVID-19 episodes as revealed by an analysis of 16S rRNA variable V1-V3 region sequences.\n"
     ]
    },
    {
     "name": "stderr",
     "output_type": "stream",
     "text": [
      "  5%|███▋                                                                             | 47/1030 [00:41<19:59,  1.22s/it]"
     ]
    },
    {
     "name": "stdout",
     "output_type": "stream",
     "text": [
      "Modifications of lung microbiota structure in traumatic brain injury ventilated patients according to time and enteral feeding formulas: a prospective randomized study.\n"
     ]
    },
    {
     "name": "stderr",
     "output_type": "stream",
     "text": [
      "  5%|███▊                                                                             | 48/1030 [00:41<17:44,  1.08s/it]"
     ]
    },
    {
     "name": "stdout",
     "output_type": "stream",
     "text": [
      "Effect of the Types of Starter on Microbiological and Physicochemical Properties  of Dry-Cured Ham.\n"
     ]
    },
    {
     "name": "stderr",
     "output_type": "stream",
     "text": [
      "  5%|███▊                                                                             | 49/1030 [00:42<16:05,  1.02it/s]"
     ]
    },
    {
     "name": "stdout",
     "output_type": "stream",
     "text": [
      "Ecology and resistance to UV light and antibiotics of microbial communities on UV cabins in the dermatology service of a Spanish hospital.\n"
     ]
    },
    {
     "name": "stderr",
     "output_type": "stream",
     "text": [
      "  5%|███▉                                                                             | 50/1030 [00:43<17:07,  1.05s/it]"
     ]
    },
    {
     "name": "stdout",
     "output_type": "stream",
     "text": [
      "A Review of Carbapenem Resistance in Enterobacterales and Its Detection Techniques.\n"
     ]
    },
    {
     "name": "stderr",
     "output_type": "stream",
     "text": [
      "  5%|████                                                                             | 51/1030 [00:44<15:37,  1.04it/s]"
     ]
    },
    {
     "name": "stdout",
     "output_type": "stream",
     "text": [
      "Bacterial ACC deaminase: Insights into enzymology, biochemistry, genetics, and potential role in amelioration of environmental stress in crop plants.\n"
     ]
    },
    {
     "name": "stderr",
     "output_type": "stream",
     "text": [
      "  5%|████                                                                             | 52/1030 [00:45<14:18,  1.14it/s]"
     ]
    },
    {
     "name": "stdout",
     "output_type": "stream",
     "text": [
      "A single bacterial genus maintains root growth in a complex microbiome.\n"
     ]
    },
    {
     "name": "stderr",
     "output_type": "stream",
     "text": [
      "  5%|████▏                                                                            | 53/1030 [00:45<13:26,  1.21it/s]"
     ]
    },
    {
     "name": "stdout",
     "output_type": "stream",
     "text": [
      "Enhanced mitochondrial activity reshapes a gut microbiota profile that delays NASH progression.\n"
     ]
    },
    {
     "name": "stderr",
     "output_type": "stream",
     "text": [
      "  5%|████▏                                                                            | 54/1030 [00:46<12:54,  1.26it/s]"
     ]
    },
    {
     "name": "stdout",
     "output_type": "stream",
     "text": [
      "Dietary fiber during gestation improves lactational feed intake of sows by modulating gut microbiota.\n"
     ]
    },
    {
     "name": "stderr",
     "output_type": "stream",
     "text": [
      "  5%|████▎                                                                            | 55/1030 [00:47<12:39,  1.28it/s]"
     ]
    },
    {
     "name": "stdout",
     "output_type": "stream",
     "text": [
      "Enterobacter asburiae E7, a Novel Potential Probiotic, Enhances Resistance to Aeromonas veronii Infection via Stimulating the Immune Response in Common Carp (Cyprinus carpio).\n"
     ]
    },
    {
     "name": "stderr",
     "output_type": "stream",
     "text": [
      "  5%|████▍                                                                            | 56/1030 [00:48<12:16,  1.32it/s]"
     ]
    },
    {
     "name": "stdout",
     "output_type": "stream",
     "text": [
      "Diversity and characteristics of plant immunity–activating bacteria from Brassicaceae plants.\n"
     ]
    },
    {
     "name": "stderr",
     "output_type": "stream",
     "text": [
      "  6%|████▍                                                                            | 57/1030 [00:48<12:25,  1.31it/s]"
     ]
    },
    {
     "name": "stdout",
     "output_type": "stream",
     "text": [
      "Isolation, Characterization, and Comparative Genomic Analysis of Bacteriophage Ec_MI-02 from Pigeon Feces Infecting Escherichia coli O157:H7.\n"
     ]
    },
    {
     "name": "stderr",
     "output_type": "stream",
     "text": [
      "  6%|████▌                                                                            | 58/1030 [00:49<12:06,  1.34it/s]"
     ]
    },
    {
     "name": "stdout",
     "output_type": "stream",
     "text": [
      "Characterization of trehalolipid biosurfactant produced by the novel marine strain Rhodococcus sp. SP1d and its potential for environmental applications.\n"
     ]
    },
    {
     "name": "stderr",
     "output_type": "stream",
     "text": [
      "  6%|████▋                                                                            | 59/1030 [00:50<12:19,  1.31it/s]"
     ]
    },
    {
     "name": "stdout",
     "output_type": "stream",
     "text": [
      "An agroecological structure model of compost—soil—plant interactions for sustainable organic farming.\n"
     ]
    },
    {
     "name": "stderr",
     "output_type": "stream",
     "text": [
      "  6%|████▋                                                                            | 60/1030 [00:51<12:07,  1.33it/s]"
     ]
    },
    {
     "name": "stdout",
     "output_type": "stream",
     "text": [
      "Microbiome analysis of thai traditional fermented soybeans reveals short-chain fatty acid-associated bacterial taxa.\n"
     ]
    },
    {
     "name": "stderr",
     "output_type": "stream",
     "text": [
      "  6%|████▊                                                                            | 61/1030 [00:51<12:20,  1.31it/s]"
     ]
    },
    {
     "name": "stdout",
     "output_type": "stream",
     "text": [
      "Astragaloside IV ameliorate acute alcohol-induced liver injury in mice via modulating gut microbiota and regulating NLRP3/caspase-1 signaling pathway.\n"
     ]
    },
    {
     "name": "stderr",
     "output_type": "stream",
     "text": [
      "  6%|████▉                                                                            | 62/1030 [00:52<12:15,  1.32it/s]"
     ]
    },
    {
     "name": "stdout",
     "output_type": "stream",
     "text": [
      "A catalog of bacterial reference genomes from cultivated human oral bacteria.\n"
     ]
    },
    {
     "name": "stderr",
     "output_type": "stream",
     "text": [
      "  6%|████▉                                                                            | 63/1030 [00:53<12:23,  1.30it/s]"
     ]
    },
    {
     "name": "stdout",
     "output_type": "stream",
     "text": [
      "Seasonal Shifts in Bacterial Community Structures in the Lateral Root of Sugar Beet Grown in an Andosol Field in Japan.\n"
     ]
    },
    {
     "name": "stderr",
     "output_type": "stream",
     "text": [
      "  6%|█████                                                                            | 64/1030 [00:54<11:50,  1.36it/s]"
     ]
    },
    {
     "name": "stdout",
     "output_type": "stream",
     "text": [
      "Metagenomic and culture-dependent approaches unveil active microbial community and novel functional genes involved in arsenic mobilization and detoxification in groundwater.\n"
     ]
    },
    {
     "name": "stderr",
     "output_type": "stream",
     "text": [
      "  6%|█████                                                                            | 65/1030 [00:54<11:40,  1.38it/s]"
     ]
    },
    {
     "name": "stdout",
     "output_type": "stream",
     "text": [
      "Efficacy of soy protein concentrate replacing animal protein supplements in mucosa-associated microbiota, intestinal health, and growth performance of nursery pigs.\n"
     ]
    },
    {
     "name": "stderr",
     "output_type": "stream",
     "text": [
      "  6%|█████▏                                                                           | 66/1030 [00:55<11:44,  1.37it/s]"
     ]
    },
    {
     "name": "stdout",
     "output_type": "stream",
     "text": [
      "Phytochemicals as Antimicrobials: Prospecting Himalayan Medicinal Plants as Source of Alternate Medicine to Combat Antimicrobial Resistance.\n"
     ]
    },
    {
     "name": "stderr",
     "output_type": "stream",
     "text": [
      "  7%|█████▎                                                                           | 67/1030 [00:56<11:30,  1.39it/s]"
     ]
    },
    {
     "name": "stdout",
     "output_type": "stream",
     "text": [
      "Isolation and characterization of the lactobacillus strain from honey and its probiotic properties.\n"
     ]
    },
    {
     "name": "stderr",
     "output_type": "stream",
     "text": [
      "  7%|█████▎                                                                           | 68/1030 [00:56<11:32,  1.39it/s]"
     ]
    },
    {
     "name": "stdout",
     "output_type": "stream",
     "text": [
      "The Application of Phenolic Acids in The Obtainment of Packaging Materials Based  on Polymers—A Review.\n"
     ]
    },
    {
     "name": "stderr",
     "output_type": "stream",
     "text": [
      "  7%|█████▍                                                                           | 69/1030 [00:57<11:11,  1.43it/s]"
     ]
    },
    {
     "name": "stdout",
     "output_type": "stream",
     "text": [
      "Identification and Characterization of a Potential Probiotic, Clostridium butyricum G13, Isolated from the Intestine of the Mud Crab (Scylla paramamosain).\n"
     ]
    },
    {
     "name": "stderr",
     "output_type": "stream",
     "text": [
      "  7%|█████▌                                                                           | 70/1030 [00:59<15:31,  1.03it/s]"
     ]
    },
    {
     "name": "stdout",
     "output_type": "stream",
     "text": [
      "Probiotic Potential and Safety Assessment of Type Strains of Weissella and Periweissella Species.\n"
     ]
    },
    {
     "name": "stderr",
     "output_type": "stream",
     "text": [
      "  7%|█████▌                                                                           | 71/1030 [01:00<15:01,  1.06it/s]"
     ]
    },
    {
     "name": "stdout",
     "output_type": "stream",
     "text": [
      "Stability of Bacillus and Enterococcus faecium 669 Probiotic Strains When Added to Different Feed Matrices Used in Dairy Production.\n"
     ]
    },
    {
     "name": "stderr",
     "output_type": "stream",
     "text": [
      "  7%|█████▋                                                                           | 72/1030 [01:00<14:23,  1.11it/s]"
     ]
    },
    {
     "name": "stdout",
     "output_type": "stream",
     "text": [
      "Phage Endolysins: Advances in the World of Food Safety.\n"
     ]
    },
    {
     "name": "stderr",
     "output_type": "stream",
     "text": [
      "  7%|█████▋                                                                           | 73/1030 [01:01<13:37,  1.17it/s]"
     ]
    },
    {
     "name": "stdout",
     "output_type": "stream",
     "text": [
      "Effects of grain-based diets on the rumen and fecal bacterial communities of the  North American bison (Bison bison).\n"
     ]
    },
    {
     "name": "stderr",
     "output_type": "stream",
     "text": [
      "  7%|█████▊                                                                           | 74/1030 [01:02<13:05,  1.22it/s]"
     ]
    },
    {
     "name": "stdout",
     "output_type": "stream",
     "text": [
      "Antimicrobial Drug Resistance in Poultry Production: Current Status and Innovative Strategies for Bacterial Control.\n"
     ]
    },
    {
     "name": "stderr",
     "output_type": "stream",
     "text": [
      "  7%|█████▉                                                                           | 75/1030 [01:03<13:46,  1.16it/s]"
     ]
    },
    {
     "name": "stdout",
     "output_type": "stream",
     "text": [
      "Core species and interactions prominent in fish-associated microbiome dynamics.\n"
     ]
    },
    {
     "name": "stderr",
     "output_type": "stream",
     "text": [
      "  7%|█████▉                                                                           | 76/1030 [01:04<13:11,  1.21it/s]"
     ]
    },
    {
     "name": "stdout",
     "output_type": "stream",
     "text": [
      "Biosynthesis of Nanoparticles Using Plant Extracts and Essential Oils.\n"
     ]
    },
    {
     "name": "stderr",
     "output_type": "stream",
     "text": [
      "  7%|██████                                                                           | 77/1030 [01:04<12:30,  1.27it/s]"
     ]
    },
    {
     "name": "stdout",
     "output_type": "stream",
     "text": [
      "Assessment of potential pathogenic bacterial load and multidrug resistance in locally manufactured cosmetics commonly used in Dhaka metropolis.\n"
     ]
    },
    {
     "name": "stderr",
     "output_type": "stream",
     "text": [
      "  8%|██████▏                                                                          | 78/1030 [01:05<12:00,  1.32it/s]"
     ]
    },
    {
     "name": "stdout",
     "output_type": "stream",
     "text": [
      "Sodium Humate-Derived Gut Microbiota Ameliorates Intestinal Dysfunction Induced by Salmonella Typhimurium in Mice.\n"
     ]
    },
    {
     "name": "stderr",
     "output_type": "stream",
     "text": [
      "  8%|██████▏                                                                          | 79/1030 [01:06<11:40,  1.36it/s]"
     ]
    },
    {
     "name": "stdout",
     "output_type": "stream",
     "text": [
      "Development of the intestinal microbiome in cystic fibrosis in early life.\n"
     ]
    },
    {
     "name": "stderr",
     "output_type": "stream",
     "text": [
      "  8%|██████▎                                                                          | 80/1030 [01:06<12:10,  1.30it/s]"
     ]
    },
    {
     "name": "stdout",
     "output_type": "stream",
     "text": [
      "Biocontrol of Soft Rot Dickeya and Pectobacterium Pathogens by Broad-Spectrum Antagonistic Bacteria within Paenibacillus polymyxa Complex.\n"
     ]
    },
    {
     "name": "stderr",
     "output_type": "stream",
     "text": [
      "  8%|██████▎                                                                          | 81/1030 [01:07<11:54,  1.33it/s]"
     ]
    },
    {
     "name": "stdout",
     "output_type": "stream",
     "text": [
      "Antibiotic Resistance, Virulence Gene Detection, and Biofilm Formation in Aeromonas spp. Isolated from Fish and Humans in Egypt.\n"
     ]
    },
    {
     "name": "stderr",
     "output_type": "stream",
     "text": [
      "  8%|██████▍                                                                          | 82/1030 [01:08<11:29,  1.38it/s]"
     ]
    },
    {
     "name": "stdout",
     "output_type": "stream",
     "text": [
      "Characterization of two novel lytic bacteriophages having lysis potential against MDR avian pathogenic Escherichia coli strains of zoonotic potential.\n"
     ]
    },
    {
     "name": "stderr",
     "output_type": "stream",
     "text": [
      "  8%|██████▌                                                                          | 83/1030 [01:08<11:10,  1.41it/s]"
     ]
    },
    {
     "name": "stdout",
     "output_type": "stream",
     "text": [
      "Bacterial Diversity on Historical Audio-Visual Materials and in the Atmosphere of Czech Depositories.\n"
     ]
    },
    {
     "name": "stderr",
     "output_type": "stream",
     "text": [
      "  8%|██████▌                                                                          | 84/1030 [01:09<11:17,  1.40it/s]"
     ]
    },
    {
     "name": "stdout",
     "output_type": "stream",
     "text": [
      "Aquaculture ecosystem microbiome at the water-fish interface: the case-study of rainbow trout fed with Tenebrio molitor novel diets.\n"
     ]
    },
    {
     "name": "stderr",
     "output_type": "stream",
     "text": [
      "  8%|██████▋                                                                          | 85/1030 [01:10<11:32,  1.37it/s]"
     ]
    },
    {
     "name": "stdout",
     "output_type": "stream",
     "text": [
      "Epidemiological characteristics of Vibrio parahaemolyticus outbreaks, Zhejiang, China, 2010–2022.\n"
     ]
    },
    {
     "name": "stderr",
     "output_type": "stream",
     "text": [
      "  8%|██████▊                                                                          | 86/1030 [01:11<11:27,  1.37it/s]"
     ]
    },
    {
     "name": "stdout",
     "output_type": "stream",
     "text": [
      "Epidemiology of Resistance Determinants Identified in Meropenem-Nonsusceptible Enterobacterales Collected as Part of a Global Surveillance Study, 2018 to 2019.\n"
     ]
    },
    {
     "name": "stderr",
     "output_type": "stream",
     "text": [
      "  8%|██████▊                                                                          | 87/1030 [01:11<11:26,  1.37it/s]"
     ]
    },
    {
     "name": "stdout",
     "output_type": "stream",
     "text": [
      "Different Types of Hypericum perforatum cvs. (Elixir, Helos, Topas) In Vitro Cultures: A Rich Source of Bioactive Metabolites and Biological Activities of Biomass Extracts.\n"
     ]
    },
    {
     "name": "stderr",
     "output_type": "stream",
     "text": [
      "  9%|██████▉                                                                          | 88/1030 [01:12<11:13,  1.40it/s]"
     ]
    },
    {
     "name": "stdout",
     "output_type": "stream",
     "text": [
      "Temporal Microbial Dynamics in Feces Discriminate by Nutrition, Fecal Color, Consistency and Sample Type in Suckling and Newly Weaned Piglets.\n"
     ]
    },
    {
     "name": "stderr",
     "output_type": "stream",
     "text": [
      "  9%|██████▉                                                                          | 89/1030 [01:13<11:36,  1.35it/s]"
     ]
    },
    {
     "name": "stdout",
     "output_type": "stream",
     "text": [
      "The emerging role of the small intestinal microbiota in human health and disease.\n"
     ]
    },
    {
     "name": "stderr",
     "output_type": "stream",
     "text": [
      "  9%|███████                                                                          | 90/1030 [01:14<11:23,  1.38it/s]"
     ]
    },
    {
     "name": "stdout",
     "output_type": "stream",
     "text": [
      "Cyanobacterial Harmful Algal Bloom Toxin Microcystin and Increased Vibrio Occurrence as Climate-Change-Induced Biological Co-Stressors: Exposure and Disease Outcomes via Their Interaction with Gut–Liver–Brain Axis.\n"
     ]
    },
    {
     "name": "stderr",
     "output_type": "stream",
     "text": [
      "  9%|███████▏                                                                         | 91/1030 [01:14<11:14,  1.39it/s]"
     ]
    },
    {
     "name": "stdout",
     "output_type": "stream",
     "text": [
      "Modulatory Effects of Co-Fermented Pu-erh Tea with Aqueous Corn Silk Extract on Gut Microbes and Fecal Metabolites in Mice Fed High-Fat Diet.\n"
     ]
    },
    {
     "name": "stderr",
     "output_type": "stream",
     "text": [
      "  9%|███████▏                                                                         | 92/1030 [01:15<11:40,  1.34it/s]"
     ]
    },
    {
     "name": "stdout",
     "output_type": "stream",
     "text": [
      "Diversity and composition of gut microbiota in healthy individuals and patients at different stages of hepatitis B virus-related liver disease.\n"
     ]
    },
    {
     "name": "stderr",
     "output_type": "stream",
     "text": [
      "  9%|███████▎                                                                         | 93/1030 [01:16<11:39,  1.34it/s]"
     ]
    },
    {
     "name": "stdout",
     "output_type": "stream",
     "text": [
      "Pathogenic Bacteria and Their Antibiotic Resistance Patterns in Milk, Yoghurt and Milk Contact Surfaces in Debre Berhan Town, Ethiopia.\n"
     ]
    },
    {
     "name": "stderr",
     "output_type": "stream",
     "text": [
      "  9%|███████▍                                                                         | 94/1030 [01:17<11:34,  1.35it/s]"
     ]
    },
    {
     "name": "stdout",
     "output_type": "stream",
     "text": [
      "An intracellular phosphorus-starvation signal activates the PhoB/PhoR two-component system in Salmonella enterica.\n"
     ]
    },
    {
     "name": "stderr",
     "output_type": "stream",
     "text": [
      "  9%|███████▍                                                                         | 95/1030 [01:17<11:25,  1.36it/s]"
     ]
    },
    {
     "name": "stdout",
     "output_type": "stream",
     "text": [
      "Assessing the Prevalence and Potential Risks of Salmonella Infection Associated with Fresh Salad Vegetable Consumption in the United Arab Emirates.\n"
     ]
    },
    {
     "name": "stderr",
     "output_type": "stream",
     "text": [
      "  9%|███████▌                                                                         | 96/1030 [01:18<11:03,  1.41it/s]"
     ]
    },
    {
     "name": "stdout",
     "output_type": "stream",
     "text": [
      "Tea Tree Oil: Properties and the Therapeutic Approach to Acne—A Review.\n"
     ]
    },
    {
     "name": "stderr",
     "output_type": "stream",
     "text": [
      "  9%|███████▋                                                                         | 97/1030 [01:19<13:02,  1.19it/s]"
     ]
    },
    {
     "name": "stdout",
     "output_type": "stream",
     "text": [
      "Design and Synthesis of Novel Antimicrobial Agents.\n"
     ]
    },
    {
     "name": "stderr",
     "output_type": "stream",
     "text": [
      " 10%|███████▋                                                                         | 98/1030 [01:20<12:47,  1.21it/s]"
     ]
    },
    {
     "name": "stdout",
     "output_type": "stream",
     "text": [
      "Comparative Genomic Analysis of a Novel Vibrio sp. Isolated from an Ulcer Disease Event in Atlantic Salmon (Salmo salar).\n"
     ]
    },
    {
     "name": "stderr",
     "output_type": "stream",
     "text": [
      " 10%|███████▊                                                                         | 99/1030 [01:21<12:05,  1.28it/s]"
     ]
    },
    {
     "name": "stdout",
     "output_type": "stream",
     "text": [
      "Medicinal plants of Jordan: Scoping review.\n"
     ]
    },
    {
     "name": "stderr",
     "output_type": "stream",
     "text": [
      " 10%|███████▊                                                                        | 100/1030 [01:21<11:38,  1.33it/s]"
     ]
    },
    {
     "name": "stdout",
     "output_type": "stream",
     "text": [
      "Infant gut microbiota colonization: influence of prenatal and postnatal factors,  focusing on diet.\n"
     ]
    },
    {
     "name": "stderr",
     "output_type": "stream",
     "text": [
      " 10%|███████▊                                                                        | 101/1030 [01:22<11:11,  1.38it/s]"
     ]
    },
    {
     "name": "stdout",
     "output_type": "stream",
     "text": [
      "Moringa oleifera Leaf Powder as New Source of Protein-Based Feedstuff Improves Growth Performance and Cecal Microbial Diversity of Broiler Chicken.\n"
     ]
    },
    {
     "name": "stderr",
     "output_type": "stream",
     "text": [
      " 10%|███████▉                                                                        | 102/1030 [01:23<11:36,  1.33it/s]"
     ]
    },
    {
     "name": "stdout",
     "output_type": "stream",
     "text": [
      "The fermented product of high-yield surfactin strain Bacillus subtilis LYS1 improves the growth performance and intestinal villi morphology in broilers.\n"
     ]
    },
    {
     "name": "stderr",
     "output_type": "stream",
     "text": [
      " 10%|████████                                                                        | 103/1030 [01:24<12:19,  1.25it/s]"
     ]
    },
    {
     "name": "stdout",
     "output_type": "stream",
     "text": [
      "Ultrasound Technology as Inactivation Method for Foodborne Pathogens: A Review.\n"
     ]
    },
    {
     "name": "stderr",
     "output_type": "stream",
     "text": [
      " 10%|████████                                                                        | 104/1030 [01:24<12:05,  1.28it/s]"
     ]
    },
    {
     "name": "stdout",
     "output_type": "stream",
     "text": [
      "Maternal-infant antibiotic resistance genes transference: what do we know?\n"
     ]
    },
    {
     "name": "stderr",
     "output_type": "stream",
     "text": [
      " 10%|████████▏                                                                       | 105/1030 [01:25<13:13,  1.17it/s]"
     ]
    },
    {
     "name": "stdout",
     "output_type": "stream",
     "text": [
      "A Narrative Review of Human Clinical Trials to Improve Lactose Digestion and Tolerance by Feeding Bifidobacteria or Galacto-Oligosacharides.\n"
     ]
    },
    {
     "name": "stderr",
     "output_type": "stream",
     "text": [
      " 10%|████████▏                                                                       | 106/1030 [01:26<12:22,  1.24it/s]"
     ]
    },
    {
     "name": "stdout",
     "output_type": "stream",
     "text": [
      "In Situ Inactivation of Selected Bacillus Strains in Brewer’s Spent Grain during  Fermentation by Lactococcus lactis ATCC 11454—The Possibility of Post-Production Residues Management.\n"
     ]
    },
    {
     "name": "stderr",
     "output_type": "stream",
     "text": [
      " 10%|████████▎                                                                       | 107/1030 [01:27<11:54,  1.29it/s]"
     ]
    },
    {
     "name": "stdout",
     "output_type": "stream",
     "text": [
      "Silicate solubilizing and plant growth promoting bacteria interact with biogenic  silica to impart heat stress tolerance in rice by modulating physiology and gene expression.\n"
     ]
    },
    {
     "name": "stderr",
     "output_type": "stream",
     "text": [
      " 10%|████████▍                                                                       | 108/1030 [01:28<14:23,  1.07it/s]"
     ]
    },
    {
     "name": "stdout",
     "output_type": "stream",
     "text": [
      "Prebiotics for depression: how does the gut microbiota play a role?\n"
     ]
    },
    {
     "name": "stderr",
     "output_type": "stream",
     "text": [
      " 11%|████████▍                                                                       | 109/1030 [01:29<13:33,  1.13it/s]"
     ]
    },
    {
     "name": "stdout",
     "output_type": "stream",
     "text": [
      "Plant-Based Dietary Fibers and Polysaccharides as Modulators of Gut Microbiota in Intestinal and Lung Inflammation: Current State and Challenges.\n"
     ]
    },
    {
     "name": "stderr",
     "output_type": "stream",
     "text": [
      " 11%|████████▌                                                                       | 110/1030 [01:30<14:11,  1.08it/s]"
     ]
    },
    {
     "name": "stdout",
     "output_type": "stream",
     "text": [
      "Cinnamaldehyde Restores Ceftriaxone Susceptibility against Multidrug-Resistant Salmonella.\n"
     ]
    },
    {
     "name": "stderr",
     "output_type": "stream",
     "text": [
      " 11%|████████▌                                                                       | 111/1030 [01:31<13:36,  1.13it/s]"
     ]
    },
    {
     "name": "stdout",
     "output_type": "stream",
     "text": [
      "A cross-sectional study observing the association of psychosocial stress and dietary intake with gut microbiota genera and alpha diversity among a young adult cohort of black and white women in Birmingham, Alabama.\n"
     ]
    },
    {
     "name": "stderr",
     "output_type": "stream",
     "text": [
      " 11%|████████▋                                                                       | 112/1030 [01:32<13:12,  1.16it/s]"
     ]
    },
    {
     "name": "stdout",
     "output_type": "stream",
     "text": [
      "Deciphering the mechanism of jujube vinegar on hyperlipoidemia through gut microbiome based on 16S rRNA, BugBase analysis, and the stamp analysis of KEEG.\n"
     ]
    },
    {
     "name": "stderr",
     "output_type": "stream",
     "text": [
      " 11%|████████▊                                                                       | 113/1030 [01:32<12:33,  1.22it/s]"
     ]
    },
    {
     "name": "stdout",
     "output_type": "stream",
     "text": [
      "Freshwater transfer affected intestinal microbiota with correlation to cytokine gene expression in Asian sea bass.\n"
     ]
    },
    {
     "name": "stderr",
     "output_type": "stream",
     "text": [
      " 11%|████████▊                                                                       | 114/1030 [01:33<12:20,  1.24it/s]"
     ]
    },
    {
     "name": "stdout",
     "output_type": "stream",
     "text": [
      "Morphological and physiological adaptations of psychrophilic Pseudarthrobacter psychrotolerans YJ56 under temperature stress.\n"
     ]
    },
    {
     "name": "stderr",
     "output_type": "stream",
     "text": [
      " 11%|████████▉                                                                       | 115/1030 [01:34<12:09,  1.25it/s]"
     ]
    },
    {
     "name": "stdout",
     "output_type": "stream",
     "text": [
      "Egyptian propolis extract for functionalization of cellulose nanofiber/poly(vinyl alcohol) porous hydrogel along with characterization and biological applications.\n"
     ]
    },
    {
     "name": "stderr",
     "output_type": "stream",
     "text": [
      " 11%|█████████                                                                       | 116/1030 [01:35<12:18,  1.24it/s]"
     ]
    },
    {
     "name": "stdout",
     "output_type": "stream",
     "text": [
      "Seed endophytic bacterial profiling from wheat varieties of contrasting heat sensitivity.\n"
     ]
    },
    {
     "name": "stderr",
     "output_type": "stream",
     "text": [
      " 11%|█████████                                                                       | 117/1030 [01:35<11:34,  1.31it/s]"
     ]
    },
    {
     "name": "stdout",
     "output_type": "stream",
     "text": [
      "The Microbiota–Gut–Brain Axis: Psychoneuroimmunological Insights.\n"
     ]
    },
    {
     "name": "stderr",
     "output_type": "stream",
     "text": [
      " 11%|█████████▏                                                                      | 118/1030 [01:36<11:30,  1.32it/s]"
     ]
    },
    {
     "name": "stdout",
     "output_type": "stream",
     "text": [
      "Correlating the succession of microbial communities from Nigerian soils to petroleum biodegradation.\n"
     ]
    },
    {
     "name": "stderr",
     "output_type": "stream",
     "text": [
      " 12%|█████████▏                                                                      | 119/1030 [01:37<11:23,  1.33it/s]"
     ]
    },
    {
     "name": "stdout",
     "output_type": "stream",
     "text": [
      "A multiomic approach to defining the essential genome of the globally important pathogen Corynebacterium diphtheriae.\n"
     ]
    },
    {
     "name": "stderr",
     "output_type": "stream",
     "text": [
      " 12%|█████████▎                                                                      | 120/1030 [01:38<11:36,  1.31it/s]"
     ]
    },
    {
     "name": "stdout",
     "output_type": "stream",
     "text": [
      "The Role of Carbohydrate Intake on the Gut Microbiome: A Weight of Evidence Systematic Review.\n"
     ]
    },
    {
     "name": "stderr",
     "output_type": "stream",
     "text": [
      " 12%|█████████▍                                                                      | 121/1030 [01:38<11:25,  1.33it/s]"
     ]
    },
    {
     "name": "stdout",
     "output_type": "stream",
     "text": [
      "Effects of adding Sophora alopecuroides to high concentrate diet on rumen fermentation parameters and microbial diversity of sheep.\n"
     ]
    },
    {
     "name": "stderr",
     "output_type": "stream",
     "text": [
      " 12%|█████████▍                                                                      | 122/1030 [01:39<11:25,  1.32it/s]"
     ]
    },
    {
     "name": "stdout",
     "output_type": "stream",
     "text": [
      "A Review of Gut Microbiota‐Derived Metabolites in Tumor Progression and Cancer Therapy.\n"
     ]
    },
    {
     "name": "stderr",
     "output_type": "stream",
     "text": [
      " 12%|█████████▌                                                                      | 123/1030 [01:40<11:16,  1.34it/s]"
     ]
    },
    {
     "name": "stdout",
     "output_type": "stream",
     "text": [
      "Comprehensive Insights into Medicinal Research on Imidazole-Based Supramolecular  Complexes.\n"
     ]
    },
    {
     "name": "stderr",
     "output_type": "stream",
     "text": [
      " 12%|█████████▋                                                                      | 124/1030 [01:41<11:26,  1.32it/s]"
     ]
    },
    {
     "name": "stdout",
     "output_type": "stream",
     "text": [
      "Human gut microbiome: A primer for the clinician.\n"
     ]
    },
    {
     "name": "stderr",
     "output_type": "stream",
     "text": [
      " 12%|█████████▋                                                                      | 125/1030 [01:41<11:15,  1.34it/s]"
     ]
    },
    {
     "name": "stdout",
     "output_type": "stream",
     "text": [
      "Multi-omics reveals the mechanisms underlying Lactiplantibacillus plantarum P8-mediated attenuation of oxidative stress in broilers challenged with dexamethasone.\n"
     ]
    },
    {
     "name": "stderr",
     "output_type": "stream",
     "text": [
      " 12%|█████████▊                                                                      | 126/1030 [01:42<13:10,  1.14it/s]"
     ]
    },
    {
     "name": "stdout",
     "output_type": "stream",
     "text": [
      "Long-term fertilization coupled with rhizobium inoculation promotes soybean yield and alters soil bacterial community composition.\n"
     ]
    },
    {
     "name": "stderr",
     "output_type": "stream",
     "text": [
      " 12%|█████████▊                                                                      | 127/1030 [01:43<12:07,  1.24it/s]"
     ]
    },
    {
     "name": "stdout",
     "output_type": "stream",
     "text": [
      "Lung Microbiota: Its Relationship to Respiratory System Diseases and Approaches for Lung-Targeted Probiotic Bacteria Delivery.\n"
     ]
    },
    {
     "name": "stderr",
     "output_type": "stream",
     "text": [
      " 12%|█████████▉                                                                      | 128/1030 [01:44<11:34,  1.30it/s]"
     ]
    },
    {
     "name": "stdout",
     "output_type": "stream",
     "text": [
      "Probiotics to prevent necrotizing enterocolitis in very low birth weight infants: A network meta-analysis.\n"
     ]
    },
    {
     "name": "stderr",
     "output_type": "stream",
     "text": [
      " 13%|██████████                                                                      | 129/1030 [01:44<11:07,  1.35it/s]"
     ]
    },
    {
     "name": "stdout",
     "output_type": "stream",
     "text": [
      "Exploring the prevalence of antibiotic resistance patterns and drivers of antibiotics resistance of Salmonella in livestock and poultry-derived foods: a systematic review and meta-analysis in Bangladesh from 2000 to 2022.\n"
     ]
    },
    {
     "name": "stderr",
     "output_type": "stream",
     "text": [
      " 13%|██████████                                                                      | 130/1030 [01:45<11:03,  1.36it/s]"
     ]
    },
    {
     "name": "stdout",
     "output_type": "stream",
     "text": [
      "Concomitant Campylobacteriosis in a Puppy and in Its Caregiver: A One Health Perspective Paradigm in Human-Pet Relationship.\n"
     ]
    },
    {
     "name": "stderr",
     "output_type": "stream",
     "text": [
      " 13%|██████████▏                                                                     | 131/1030 [01:46<11:30,  1.30it/s]"
     ]
    },
    {
     "name": "stdout",
     "output_type": "stream",
     "text": [
      "The microbiota knows: handling-stress and diet transform the microbial landscape  in the gut content of rainbow trout in RAS.\n"
     ]
    },
    {
     "name": "stderr",
     "output_type": "stream",
     "text": [
      " 13%|██████████▎                                                                     | 132/1030 [01:47<11:47,  1.27it/s]"
     ]
    },
    {
     "name": "stdout",
     "output_type": "stream",
     "text": [
      "Biological nitrogen fixation in cereal crops: Progress, strategies, and perspectives.\n"
     ]
    },
    {
     "name": "stderr",
     "output_type": "stream",
     "text": [
      " 13%|██████████▎                                                                     | 133/1030 [01:48<12:52,  1.16it/s]"
     ]
    },
    {
     "name": "stdout",
     "output_type": "stream",
     "text": [
      "Campylobacter vaccination reduces diarrheal disease and infant growth stunting among rhesus macaques.\n"
     ]
    },
    {
     "name": "stderr",
     "output_type": "stream",
     "text": [
      " 13%|██████████▍                                                                     | 134/1030 [01:50<19:45,  1.32s/it]"
     ]
    },
    {
     "name": "stdout",
     "output_type": "stream",
     "text": [
      "Proposal to classify Ralstonia solanacearum phylotype I strains as Ralstonia nicotianae sp. nov., and a genomic comparison between members of the genus Ralstonia.\n"
     ]
    },
    {
     "name": "stderr",
     "output_type": "stream",
     "text": [
      " 13%|██████████▍                                                                     | 135/1030 [01:51<17:21,  1.16s/it]"
     ]
    },
    {
     "name": "stdout",
     "output_type": "stream",
     "text": [
      "Antimicrobial Usage, Susceptibility Profiles, and Resistance Genes in Campylobacter Isolated from Cattle, Chicken, and Water Samples in Kajiado County, Kenya.\n"
     ]
    },
    {
     "name": "stderr",
     "output_type": "stream",
     "text": [
      " 13%|██████████▌                                                                     | 136/1030 [01:52<15:34,  1.05s/it]"
     ]
    },
    {
     "name": "stdout",
     "output_type": "stream",
     "text": [
      "Natural Products and Biological Activity from Actinomycetes Associated with Marine Algae.\n"
     ]
    },
    {
     "name": "stderr",
     "output_type": "stream",
     "text": [
      " 13%|██████████▋                                                                     | 137/1030 [01:53<14:58,  1.01s/it]"
     ]
    },
    {
     "name": "stdout",
     "output_type": "stream",
     "text": [
      "Evaluation of Flathead Grey Mullets (Mugil cephalus) Immunization and Long-Term Protection against Vibrio harveyi Infection Using Three Different Vaccine Preparations.\n"
     ]
    },
    {
     "name": "stderr",
     "output_type": "stream",
     "text": [
      " 13%|██████████▋                                                                     | 138/1030 [01:53<13:28,  1.10it/s]"
     ]
    },
    {
     "name": "stdout",
     "output_type": "stream",
     "text": [
      "Characterization of a novel Jerseyvirus phage T102 and its inhibition effect on biofilms of multidrug-resistant Salmonella.\n"
     ]
    },
    {
     "name": "stderr",
     "output_type": "stream",
     "text": [
      " 13%|██████████▊                                                                     | 139/1030 [01:54<12:50,  1.16it/s]"
     ]
    },
    {
     "name": "stdout",
     "output_type": "stream",
     "text": [
      "Campylobacter prevalence from food, animals, human and environmental samples in Iran: a systematic review and meta-analysis.\n"
     ]
    },
    {
     "name": "stderr",
     "output_type": "stream",
     "text": [
      " 14%|██████████▊                                                                     | 140/1030 [01:55<12:10,  1.22it/s]"
     ]
    },
    {
     "name": "stdout",
     "output_type": "stream",
     "text": [
      "Role of human milk oligosaccharide metabolizing bacteria in the development of atopic dermatitis/eczema.\n"
     ]
    },
    {
     "name": "stderr",
     "output_type": "stream",
     "text": [
      " 14%|██████████▉                                                                     | 141/1030 [01:56<11:29,  1.29it/s]"
     ]
    },
    {
     "name": "stdout",
     "output_type": "stream",
     "text": [
      "Overexpression of human alpha-Synuclein leads to dysregulated microbiome/metabolites with ageing in a rat model of Parkinson disease.\n"
     ]
    },
    {
     "name": "stderr",
     "output_type": "stream",
     "text": [
      " 14%|███████████                                                                     | 142/1030 [01:56<11:18,  1.31it/s]"
     ]
    },
    {
     "name": "stdout",
     "output_type": "stream",
     "text": [
      "Ancient Clostridium DNA and variants of tetanus neurotoxins associated with human archaeological remains.\n"
     ]
    },
    {
     "name": "stderr",
     "output_type": "stream",
     "text": [
      " 14%|███████████                                                                     | 143/1030 [01:57<10:59,  1.34it/s]"
     ]
    },
    {
     "name": "stdout",
     "output_type": "stream",
     "text": [
      "Meat Consumption and Gut Microbiota: a Scoping Review of Literature and Systematic Review of Randomized Controlled Trials in Adults.\n"
     ]
    },
    {
     "name": "stderr",
     "output_type": "stream",
     "text": [
      " 14%|███████████▏                                                                    | 144/1030 [01:58<11:02,  1.34it/s]"
     ]
    },
    {
     "name": "stdout",
     "output_type": "stream",
     "text": [
      "Gegen-Qinlian decoction alleviates anxiety-like behaviors in methamphetamine-withdrawn mice by regulating Akkermansia and metabolism in the colon.\n"
     ]
    },
    {
     "name": "stderr",
     "output_type": "stream",
     "text": [
      " 14%|███████████▎                                                                    | 145/1030 [01:58<10:44,  1.37it/s]"
     ]
    },
    {
     "name": "stdout",
     "output_type": "stream",
     "text": [
      "Bacteria in the oral cavity of individuals consuming intoxicating substances.\n"
     ]
    },
    {
     "name": "stderr",
     "output_type": "stream",
     "text": [
      " 14%|███████████▎                                                                    | 146/1030 [01:59<10:31,  1.40it/s]"
     ]
    },
    {
     "name": "stdout",
     "output_type": "stream",
     "text": [
      "Mendelian randomization analyses reveal causal relationships between the human microbiome and longevity.\n"
     ]
    },
    {
     "name": "stderr",
     "output_type": "stream",
     "text": [
      " 14%|███████████▍                                                                    | 147/1030 [02:00<10:33,  1.39it/s]"
     ]
    },
    {
     "name": "stdout",
     "output_type": "stream",
     "text": [
      "Probiotic Escherichia coli Nissle 1917 protect chicks from damage caused by Salmonella enterica serovar Enteritidis colonization.\n"
     ]
    },
    {
     "name": "stderr",
     "output_type": "stream",
     "text": [
      " 14%|███████████▍                                                                    | 148/1030 [02:01<10:31,  1.40it/s]"
     ]
    },
    {
     "name": "stdout",
     "output_type": "stream",
     "text": [
      "Role of the Gut–Liver Axis in the Pathobiology of Cholangiopathies: Basic and Clinical Evidence.\n"
     ]
    },
    {
     "name": "stderr",
     "output_type": "stream",
     "text": [
      " 14%|███████████▌                                                                    | 149/1030 [02:01<10:45,  1.37it/s]"
     ]
    },
    {
     "name": "stdout",
     "output_type": "stream",
     "text": [
      "Microbial exopolysaccharides in the biomedical and pharmaceutical industries.\n"
     ]
    },
    {
     "name": "stderr",
     "output_type": "stream",
     "text": [
      " 15%|███████████▋                                                                    | 150/1030 [02:02<10:37,  1.38it/s]"
     ]
    },
    {
     "name": "stdout",
     "output_type": "stream",
     "text": [
      "Metagenomic analysis reveals specific BTEX degrading microorganisms of a bacterial consortium.\n"
     ]
    },
    {
     "name": "stderr",
     "output_type": "stream",
     "text": [
      " 15%|███████████▋                                                                    | 151/1030 [02:03<10:24,  1.41it/s]"
     ]
    },
    {
     "name": "stdout",
     "output_type": "stream",
     "text": [
      "ShlA toxin of Serratia induces P2Y2- and α5β1-dependent autophagy and bacterial clearance from host cells.\n"
     ]
    },
    {
     "name": "stderr",
     "output_type": "stream",
     "text": [
      " 15%|███████████▊                                                                    | 152/1030 [02:03<10:17,  1.42it/s]"
     ]
    },
    {
     "name": "stdout",
     "output_type": "stream",
     "text": [
      "Effects of Sodium Nitrate and Coated Methionine on Lactation Performance, Rumen Fermentation Characteristics, Amino Acid Metabolism, and Microbial Communities in Lactating Buffaloes.\n"
     ]
    },
    {
     "name": "stderr",
     "output_type": "stream",
     "text": [
      " 15%|███████████▉                                                                    | 153/1030 [02:04<10:40,  1.37it/s]"
     ]
    },
    {
     "name": "stdout",
     "output_type": "stream",
     "text": [
      "Bacteriological Quality and Biotoxin Profile of Ready-to-Eat Foods Vended in Lagos, Nigeria.\n"
     ]
    },
    {
     "name": "stderr",
     "output_type": "stream",
     "text": [
      " 15%|███████████▉                                                                    | 154/1030 [02:05<10:29,  1.39it/s]"
     ]
    },
    {
     "name": "stdout",
     "output_type": "stream",
     "text": [
      "Herbal medicine and its impact on the gut microbiota in colorectal cancer.\n"
     ]
    },
    {
     "name": "stderr",
     "output_type": "stream",
     "text": [
      " 15%|████████████                                                                    | 155/1030 [02:06<10:32,  1.38it/s]"
     ]
    },
    {
     "name": "stdout",
     "output_type": "stream",
     "text": [
      "Synergistic Fermentation with Functional Microorganisms Improves Safety and Quality of Traditional Chinese Fermented Foods.\n"
     ]
    },
    {
     "name": "stderr",
     "output_type": "stream",
     "text": [
      " 15%|████████████                                                                    | 156/1030 [02:06<10:12,  1.43it/s]"
     ]
    },
    {
     "name": "stdout",
     "output_type": "stream",
     "text": [
      "Babies, bugs and brains: How the early microbiome associates with infant brain and behavior development.\n"
     ]
    },
    {
     "name": "stderr",
     "output_type": "stream",
     "text": [
      " 15%|████████████▏                                                                   | 157/1030 [02:07<10:10,  1.43it/s]"
     ]
    },
    {
     "name": "stdout",
     "output_type": "stream",
     "text": [
      "Antibacterial activity of exopolysaccharide produced by bee gut-resident Enterococcus sp. BE11 against marine fish pathogens.\n"
     ]
    },
    {
     "name": "stderr",
     "output_type": "stream",
     "text": [
      " 15%|████████████▎                                                                   | 158/1030 [02:08<10:10,  1.43it/s]"
     ]
    },
    {
     "name": "stdout",
     "output_type": "stream",
     "text": [
      "Endophytic Bacillus atrophaeus CHGP13 and salicylic acid inhibit blue mold of lemon by regulating defense enzymes.\n"
     ]
    },
    {
     "name": "stderr",
     "output_type": "stream",
     "text": [
      " 15%|████████████▎                                                                   | 159/1030 [02:08<10:32,  1.38it/s]"
     ]
    },
    {
     "name": "stdout",
     "output_type": "stream",
     "text": [
      "Effect of High Hydrostatic Pressure Processing on the Microbiological Quality and Bacterial Diversity of Sous-Vide-Cooked Cod.\n"
     ]
    },
    {
     "name": "stderr",
     "output_type": "stream",
     "text": [
      " 16%|████████████▍                                                                   | 160/1030 [02:09<10:28,  1.38it/s]"
     ]
    },
    {
     "name": "stdout",
     "output_type": "stream",
     "text": [
      "Human milk oligosaccharides modulate the intestinal microbiome of healthy adults.\n"
     ]
    },
    {
     "name": "stderr",
     "output_type": "stream",
     "text": [
      " 16%|████████████▌                                                                   | 161/1030 [02:10<10:29,  1.38it/s]"
     ]
    },
    {
     "name": "stdout",
     "output_type": "stream",
     "text": [
      "Antimicrobial Resistance Profiles and Co-Existence of Multiple Antimicrobial Resistance Genes in mcr-Harbouring Colistin-Resistant Enterobacteriaceae Isolates Recovered from Poultry and Poultry Meats in Malaysia.\n"
     ]
    },
    {
     "name": "stderr",
     "output_type": "stream",
     "text": [
      " 16%|████████████▌                                                                   | 162/1030 [02:11<10:18,  1.40it/s]"
     ]
    },
    {
     "name": "stdout",
     "output_type": "stream",
     "text": [
      "The Caulobacter NtrB-NtrC two-component system bridges nitrogen assimilation and  cell development.\n"
     ]
    },
    {
     "name": "stderr",
     "output_type": "stream",
     "text": [
      " 16%|████████████▋                                                                   | 163/1030 [02:12<12:17,  1.18it/s]"
     ]
    },
    {
     "name": "stdout",
     "output_type": "stream",
     "text": [
      "Prevalence and antimicrobial resistance of Salmonella enterica serovars Enteritidis and Typhimurium isolated from retail chicken meat in Wasit markets, Iraq.\n"
     ]
    },
    {
     "name": "stderr",
     "output_type": "stream",
     "text": [
      " 16%|████████████▋                                                                   | 164/1030 [02:13<11:52,  1.21it/s]"
     ]
    },
    {
     "name": "stdout",
     "output_type": "stream",
     "text": [
      "Immunogenicity and Efficacy of a Feed-Based Bivalent Vaccine against Streptococcosis and Motile Aeromonad Septicemia in Red Hybrid Tilapia (Oreochromis sp.).\n"
     ]
    },
    {
     "name": "stderr",
     "output_type": "stream",
     "text": [
      " 16%|████████████▊                                                                   | 165/1030 [02:13<11:32,  1.25it/s]"
     ]
    },
    {
     "name": "stdout",
     "output_type": "stream",
     "text": [
      "Dynamic analysis of volatile metabolites and microbial community and their correlations during the fermentation process of traditional Huangjiu (Chinese rice wine) produced around Winter Solstice.\n"
     ]
    },
    {
     "name": "stderr",
     "output_type": "stream",
     "text": [
      " 16%|████████████▉                                                                   | 166/1030 [02:14<11:45,  1.22it/s]"
     ]
    },
    {
     "name": "stdout",
     "output_type": "stream",
     "text": [
      "SPI-1 virulence gene expression modulates motility of Salmonella Typhimurium in a proton motive force- and adhesins-dependent manner.\n"
     ]
    },
    {
     "name": "stderr",
     "output_type": "stream",
     "text": [
      " 16%|████████████▉                                                                   | 167/1030 [02:15<11:18,  1.27it/s]"
     ]
    },
    {
     "name": "stdout",
     "output_type": "stream",
     "text": [
      "Antioxidant Activity, Metabolism, and Bioavailability of Polyphenols in the Diet  of Animals.\n"
     ]
    },
    {
     "name": "stderr",
     "output_type": "stream",
     "text": [
      " 16%|█████████████                                                                   | 168/1030 [02:16<10:56,  1.31it/s]"
     ]
    },
    {
     "name": "stdout",
     "output_type": "stream",
     "text": [
      "Gut microbiota characteristics of Mongolian and Han populations in anti-tuberculosis drug-induced liver injury: a population-based case–control study.\n"
     ]
    },
    {
     "name": "stderr",
     "output_type": "stream",
     "text": [
      " 16%|█████████████▏                                                                  | 169/1030 [02:17<13:05,  1.10it/s]"
     ]
    },
    {
     "name": "stdout",
     "output_type": "stream",
     "text": [
      "In situ snapshots along a mammalian selective autophagy pathway.\n"
     ]
    },
    {
     "name": "stderr",
     "output_type": "stream",
     "text": [
      " 17%|█████████████▏                                                                  | 170/1030 [02:18<12:37,  1.14it/s]"
     ]
    },
    {
     "name": "stdout",
     "output_type": "stream",
     "text": [
      "Association between Mastitis Occurrence in Dairy Cows and Bedding Characteristics of Compost-Bedded Pack Barns.\n"
     ]
    },
    {
     "name": "stderr",
     "output_type": "stream",
     "text": [
      " 17%|█████████████▎                                                                  | 171/1030 [02:18<12:01,  1.19it/s]"
     ]
    },
    {
     "name": "stdout",
     "output_type": "stream",
     "text": [
      "Microbiological quality assessment of fresh produce: Potential health risk to children and urgent need for improved food safety in school feeding schemes.\n"
     ]
    },
    {
     "name": "stderr",
     "output_type": "stream",
     "text": [
      " 17%|█████████████▎                                                                  | 172/1030 [02:19<11:24,  1.25it/s]"
     ]
    },
    {
     "name": "stdout",
     "output_type": "stream",
     "text": [
      "Discovering the Potential Mechanisms of Medicinal Mushrooms Antidepressant Activity: A Review.\n"
     ]
    },
    {
     "name": "stderr",
     "output_type": "stream",
     "text": [
      " 17%|█████████████▍                                                                  | 173/1030 [02:20<11:02,  1.29it/s]"
     ]
    },
    {
     "name": "stdout",
     "output_type": "stream",
     "text": [
      "Nanomedicine for drug resistant pathogens and COVID-19 using mushroom nanocomposite inspired with bacteriocin – A review.\n"
     ]
    },
    {
     "name": "stderr",
     "output_type": "stream",
     "text": [
      " 17%|█████████████▌                                                                  | 174/1030 [02:21<10:52,  1.31it/s]"
     ]
    },
    {
     "name": "stdout",
     "output_type": "stream",
     "text": [
      "The integrated analysis of digestive physiology and gastrointestinal microbiota structure in Changle goose.\n"
     ]
    },
    {
     "name": "stderr",
     "output_type": "stream",
     "text": [
      " 17%|█████████████▌                                                                  | 175/1030 [02:21<11:00,  1.30it/s]"
     ]
    },
    {
     "name": "stdout",
     "output_type": "stream",
     "text": [
      "Recent Trends in Antimicrobial Resistance among Anaerobic Clinical Isolates.\n"
     ]
    },
    {
     "name": "stderr",
     "output_type": "stream",
     "text": [
      " 17%|█████████████▋                                                                  | 176/1030 [02:22<11:01,  1.29it/s]"
     ]
    },
    {
     "name": "stdout",
     "output_type": "stream",
     "text": [
      "Comprehensive insights on environmental adaptation strategies in Antarctic bacteria and biotechnological applications of cold adapted molecules.\n"
     ]
    },
    {
     "name": "stderr",
     "output_type": "stream",
     "text": [
      " 17%|█████████████▋                                                                  | 177/1030 [02:23<11:05,  1.28it/s]"
     ]
    },
    {
     "name": "stdout",
     "output_type": "stream",
     "text": [
      "Hybridization altered the gut microbiota of pigs.\n"
     ]
    },
    {
     "name": "stderr",
     "output_type": "stream",
     "text": [
      " 17%|█████████████▊                                                                  | 178/1030 [02:24<10:42,  1.33it/s]"
     ]
    },
    {
     "name": "stdout",
     "output_type": "stream",
     "text": [
      "Type I interferons drive MAIT cell functions against bacterial pneumonia.\n"
     ]
    },
    {
     "name": "stderr",
     "output_type": "stream",
     "text": [
      " 17%|█████████████▉                                                                  | 179/1030 [02:24<10:48,  1.31it/s]"
     ]
    },
    {
     "name": "stdout",
     "output_type": "stream",
     "text": [
      "A comprehensive review on production of bio-surfactants by bio-degradation of waste carbohydrate feedstocks: an approach towards sustainable development.\n"
     ]
    },
    {
     "name": "stderr",
     "output_type": "stream",
     "text": [
      " 17%|█████████████▉                                                                  | 180/1030 [02:25<10:45,  1.32it/s]"
     ]
    },
    {
     "name": "stdout",
     "output_type": "stream",
     "text": [
      "In Vivo Functional Properties of Dairy Bacteria.\n"
     ]
    },
    {
     "name": "stderr",
     "output_type": "stream",
     "text": [
      " 18%|██████████████                                                                  | 181/1030 [02:26<10:26,  1.35it/s]"
     ]
    },
    {
     "name": "stdout",
     "output_type": "stream",
     "text": [
      "Natural Antimicrobials for Listeria monocytogenes in Ready-to-Eat Meats: Current  Challenges and Future Prospects.\n"
     ]
    },
    {
     "name": "stderr",
     "output_type": "stream",
     "text": [
      " 18%|██████████████▏                                                                 | 182/1030 [02:27<12:17,  1.15it/s]"
     ]
    },
    {
     "name": "stdout",
     "output_type": "stream",
     "text": [
      "Bacteriological quality and safety of bottle food and associated factors among bottle-fed babies attending pediatric outpatient clinics of Government Health Institutions in Arba Minch, southern Ethiopia.\n"
     ]
    },
    {
     "name": "stderr",
     "output_type": "stream",
     "text": [
      " 18%|██████████████▏                                                                 | 183/1030 [02:28<11:40,  1.21it/s]"
     ]
    },
    {
     "name": "stdout",
     "output_type": "stream",
     "text": [
      "The global profile of antibiotic resistance in bacteria isolated from goats and sheep: A systematic review.\n"
     ]
    },
    {
     "name": "stderr",
     "output_type": "stream",
     "text": [
      " 18%|██████████████▎                                                                 | 184/1030 [02:29<14:04,  1.00it/s]"
     ]
    },
    {
     "name": "stdout",
     "output_type": "stream",
     "text": [
      "Whole genome sequence analysis of Aeromonas spp. isolated from ready-to-eat seafood: antimicrobial resistance and virulence factors.\n"
     ]
    },
    {
     "name": "stderr",
     "output_type": "stream",
     "text": [
      " 18%|██████████████▎                                                                 | 185/1030 [02:30<12:50,  1.10it/s]"
     ]
    },
    {
     "name": "stdout",
     "output_type": "stream",
     "text": [
      "Impact of Intestinal Microbiota on Growth Performance of Suckling and Weaned Piglets.\n"
     ]
    },
    {
     "name": "stderr",
     "output_type": "stream",
     "text": [
      " 18%|██████████████▍                                                                 | 186/1030 [02:31<12:55,  1.09it/s]"
     ]
    },
    {
     "name": "stdout",
     "output_type": "stream",
     "text": [
      "Screening for Multifarious Plant Growth Promoting and Biocontrol Attributes in Bacillus Strains Isolated from Indo Gangetic Soil for Enhancing Growth of Rice Crops.\n"
     ]
    },
    {
     "name": "stderr",
     "output_type": "stream",
     "text": [
      " 18%|██████████████▌                                                                 | 187/1030 [02:32<12:25,  1.13it/s]"
     ]
    },
    {
     "name": "stdout",
     "output_type": "stream",
     "text": [
      "Analysis of the microbial community structure and flavor components succession during salt‐reducing pickling process of zhacai (preserved mustard tuber).\n"
     ]
    },
    {
     "name": "stderr",
     "output_type": "stream",
     "text": [
      " 18%|██████████████▌                                                                 | 188/1030 [02:32<11:25,  1.23it/s]"
     ]
    },
    {
     "name": "stdout",
     "output_type": "stream",
     "text": [
      "Gastrointestinal symptoms of long COVID-19 related to the ectopic colonization of specific bacteria that move between the upper and lower alimentary tract and alterations in serum metabolites.\n"
     ]
    },
    {
     "name": "stderr",
     "output_type": "stream",
     "text": [
      " 18%|██████████████▋                                                                 | 189/1030 [02:33<13:25,  1.04it/s]"
     ]
    },
    {
     "name": "stdout",
     "output_type": "stream",
     "text": [
      "Analysis of the Antibacterial Properties of Compound Essential Oil and the Main Antibacterial Components of Unilateral Essential Oils.\n"
     ]
    },
    {
     "name": "stderr",
     "output_type": "stream",
     "text": [
      " 18%|██████████████▊                                                                 | 190/1030 [02:34<12:38,  1.11it/s]"
     ]
    },
    {
     "name": "stdout",
     "output_type": "stream",
     "text": [
      "Coffee-Associated Endophytes: Plant Growth Promotion and Crop Protection.\n"
     ]
    },
    {
     "name": "stderr",
     "output_type": "stream",
     "text": [
      " 19%|██████████████▊                                                                 | 191/1030 [02:35<11:38,  1.20it/s]"
     ]
    },
    {
     "name": "stdout",
     "output_type": "stream",
     "text": [
      "Isolation, identification, and screening of biosurfactant-producing and hydrocarbon-degrading bacteria from oil and gas industrial waste.\n"
     ]
    },
    {
     "name": "stderr",
     "output_type": "stream",
     "text": [
      " 19%|██████████████▉                                                                 | 192/1030 [02:36<10:49,  1.29it/s]"
     ]
    },
    {
     "name": "stdout",
     "output_type": "stream",
     "text": [
      "Evaluation of Phytochemical Screening, Pigment Content, In Vitro Antioxidant, Antibacterial Potential and GC-MS Metabolite Profiling of Green Seaweed Caulerpa racemosa.\n"
     ]
    },
    {
     "name": "stderr",
     "output_type": "stream",
     "text": [
      " 19%|██████████████▉                                                                 | 193/1030 [02:36<10:27,  1.33it/s]"
     ]
    },
    {
     "name": "stdout",
     "output_type": "stream",
     "text": [
      "Time-restricted feeding affects colonic nutrient substrates and modulates the diurnal fluctuation of microbiota in pigs.\n"
     ]
    },
    {
     "name": "stderr",
     "output_type": "stream",
     "text": [
      " 19%|███████████████                                                                 | 194/1030 [02:37<10:06,  1.38it/s]"
     ]
    },
    {
     "name": "stdout",
     "output_type": "stream",
     "text": [
      "Evolutionary investigations of the biosynthetic diversity in the skin microbiome  using lsaBGC.\n"
     ]
    },
    {
     "name": "stderr",
     "output_type": "stream",
     "text": [
      " 19%|███████████████▏                                                                | 195/1030 [02:38<09:57,  1.40it/s]"
     ]
    },
    {
     "name": "stdout",
     "output_type": "stream",
     "text": [
      "Therapeutic possibilities of gut microbiota modulation in acute decompensation of liver cirrhosis.\n"
     ]
    },
    {
     "name": "stderr",
     "output_type": "stream",
     "text": [
      " 19%|███████████████▏                                                                | 196/1030 [02:38<09:41,  1.44it/s]"
     ]
    },
    {
     "name": "stdout",
     "output_type": "stream",
     "text": [
      "Dynamic Changes of the Microbial Community and Volatile Organic Compounds of the  Northern Pike (Esox lucius) during Storage.\n"
     ]
    },
    {
     "name": "stderr",
     "output_type": "stream",
     "text": [
      " 19%|███████████████▎                                                                | 197/1030 [02:39<09:39,  1.44it/s]"
     ]
    },
    {
     "name": "stdout",
     "output_type": "stream",
     "text": [
      "Microbiome-liver crosstalk: A multihit therapeutic target for liver disease.\n"
     ]
    },
    {
     "name": "stderr",
     "output_type": "stream",
     "text": [
      " 19%|███████████████▍                                                                | 198/1030 [02:40<09:32,  1.45it/s]"
     ]
    },
    {
     "name": "stdout",
     "output_type": "stream",
     "text": [
      "Comparative safety analysis of newly prepackaged backed food products and those approaching the expiry date in Bangladesh.\n"
     ]
    },
    {
     "name": "stderr",
     "output_type": "stream",
     "text": [
      " 19%|███████████████▍                                                                | 199/1030 [02:40<09:31,  1.45it/s]"
     ]
    },
    {
     "name": "stdout",
     "output_type": "stream",
     "text": [
      "The association between oral and gut microbiota in male patients with alcohol dependence.\n"
     ]
    },
    {
     "name": "stderr",
     "output_type": "stream",
     "text": [
      " 19%|███████████████▌                                                                | 200/1030 [02:41<09:46,  1.41it/s]"
     ]
    },
    {
     "name": "stdout",
     "output_type": "stream",
     "text": [
      "Antibiotic-induced gut microbiota dysbiosis has a functional impact on purine metabolism.\n"
     ]
    },
    {
     "name": "stderr",
     "output_type": "stream",
     "text": [
      " 20%|███████████████▌                                                                | 201/1030 [02:42<10:02,  1.38it/s]"
     ]
    },
    {
     "name": "stdout",
     "output_type": "stream",
     "text": [
      "Characteristic Gut Bacteria in High Barley Consuming Japanese Individuals without Hypertension.\n"
     ]
    },
    {
     "name": "stderr",
     "output_type": "stream",
     "text": [
      " 20%|███████████████▋                                                                | 202/1030 [02:43<10:06,  1.37it/s]"
     ]
    },
    {
     "name": "stdout",
     "output_type": "stream",
     "text": [
      "Screening, Identification and Physiological Characteristics of Lactobacillus rhamnosus M3 (1) against Intestinal Inflammation.\n"
     ]
    },
    {
     "name": "stderr",
     "output_type": "stream",
     "text": [
      " 20%|███████████████▊                                                                | 203/1030 [02:43<09:51,  1.40it/s]"
     ]
    },
    {
     "name": "stdout",
     "output_type": "stream",
     "text": [
      "BopN is a Gatekeeper of the Bordetella Type III Secretion System.\n"
     ]
    },
    {
     "name": "stderr",
     "output_type": "stream",
     "text": [
      " 20%|███████████████▊                                                                | 204/1030 [02:44<09:51,  1.40it/s]"
     ]
    },
    {
     "name": "stdout",
     "output_type": "stream",
     "text": [
      "Whole genome characterization of thermophilic Campylobacter species isolated from dairy manure in small specialty crop farms of Northeast Ohio.\n"
     ]
    },
    {
     "name": "stderr",
     "output_type": "stream",
     "text": [
      " 20%|███████████████▉                                                                | 205/1030 [02:45<09:46,  1.41it/s]"
     ]
    },
    {
     "name": "stdout",
     "output_type": "stream",
     "text": [
      "Characterization of vB_ValM_PVA8, a broad-host-range bacteriophage infecting Vibrio alginolyticus and Vibrio parahaemolyticus.\n"
     ]
    },
    {
     "name": "stderr",
     "output_type": "stream",
     "text": [
      " 20%|████████████████                                                                | 206/1030 [02:45<09:48,  1.40it/s]"
     ]
    },
    {
     "name": "stdout",
     "output_type": "stream",
     "text": [
      "Evaluation of Bacillus aryabhattai B8W22 peroxidase for phenol removal in waste water effluents.\n"
     ]
    },
    {
     "name": "stderr",
     "output_type": "stream",
     "text": [
      " 20%|████████████████                                                                | 207/1030 [02:46<10:05,  1.36it/s]"
     ]
    },
    {
     "name": "stdout",
     "output_type": "stream",
     "text": [
      "Biochemical and structural basis of sialic acid utilization by gut microbes.\n"
     ]
    },
    {
     "name": "stderr",
     "output_type": "stream",
     "text": [
      " 20%|████████████████▏                                                               | 208/1030 [02:47<10:04,  1.36it/s]"
     ]
    },
    {
     "name": "stdout",
     "output_type": "stream",
     "text": [
      "Application of starch degrading bacteria from tobacco leaves in improving the flavor of flue-cured tobacco.\n"
     ]
    },
    {
     "name": "stderr",
     "output_type": "stream",
     "text": [
      " 20%|████████████████▏                                                               | 209/1030 [02:48<10:47,  1.27it/s]"
     ]
    },
    {
     "name": "stdout",
     "output_type": "stream",
     "text": [
      "Complete genome sequence and characterization of a novel Enterococcus faecium with probiotic potential isolated from the gut of Litopenaeus vannamei.\n"
     ]
    },
    {
     "name": "stderr",
     "output_type": "stream",
     "text": [
      " 20%|████████████████▎                                                               | 210/1030 [02:49<10:19,  1.32it/s]"
     ]
    },
    {
     "name": "stdout",
     "output_type": "stream",
     "text": [
      "Effects of Glucosinolate-Enriched Red Radish (Raphanus sativus) on In Vitro Models of Intestinal Microbiota and Metabolic Syndrome-Related Functionalities.\n"
     ]
    },
    {
     "name": "stderr",
     "output_type": "stream",
     "text": [
      " 20%|████████████████▍                                                               | 211/1030 [02:49<10:09,  1.34it/s]"
     ]
    },
    {
     "name": "stdout",
     "output_type": "stream",
     "text": [
      "Microgravity and evasion of plant innate immunity by human bacterial pathogens.\n"
     ]
    },
    {
     "name": "stderr",
     "output_type": "stream",
     "text": [
      " 21%|████████████████▍                                                               | 212/1030 [02:50<09:48,  1.39it/s]"
     ]
    },
    {
     "name": "stdout",
     "output_type": "stream",
     "text": [
      "Beneficial Effects of Bacillus amyloliquefaciens D1 Soy Milk Supplementation on Serum Biochemical Indexes and Intestinal Health of Bearded Chickens.\n"
     ]
    },
    {
     "name": "stderr",
     "output_type": "stream",
     "text": [
      " 21%|████████████████▌                                                               | 213/1030 [02:51<09:30,  1.43it/s]"
     ]
    },
    {
     "name": "stdout",
     "output_type": "stream",
     "text": [
      "Identification and characterization of opportunistic pathogen Pectobacterium polonicum causing potato blackleg in China.\n"
     ]
    },
    {
     "name": "stderr",
     "output_type": "stream",
     "text": [
      " 21%|████████████████▌                                                               | 214/1030 [02:51<09:20,  1.46it/s]"
     ]
    },
    {
     "name": "stdout",
     "output_type": "stream",
     "text": [
      "Antibiotic Resistance in Selected Emerging Bacterial Foodborne Pathogens—An Issue of Concern?\n"
     ]
    },
    {
     "name": "stderr",
     "output_type": "stream",
     "text": [
      " 21%|████████████████▋                                                               | 215/1030 [02:52<09:24,  1.44it/s]"
     ]
    },
    {
     "name": "stdout",
     "output_type": "stream",
     "text": [
      "Reprocessing of side-streams towards obtaining valuable bacterial metabolites.\n"
     ]
    },
    {
     "name": "stderr",
     "output_type": "stream",
     "text": [
      " 21%|████████████████▊                                                               | 216/1030 [02:53<09:11,  1.48it/s]"
     ]
    },
    {
     "name": "stdout",
     "output_type": "stream",
     "text": [
      "Advanced Organotypic In Vitro Model Systems for Host–Microbial Coculture.\n"
     ]
    },
    {
     "name": "stderr",
     "output_type": "stream",
     "text": [
      " 21%|████████████████▊                                                               | 217/1030 [02:53<09:16,  1.46it/s]"
     ]
    },
    {
     "name": "stdout",
     "output_type": "stream",
     "text": [
      "Microbiome modulation in the prevention and management of colorectal cancer: a systematic review of clinical interventions.\n"
     ]
    },
    {
     "name": "stderr",
     "output_type": "stream",
     "text": [
      " 21%|████████████████▉                                                               | 218/1030 [02:54<09:15,  1.46it/s]"
     ]
    },
    {
     "name": "stdout",
     "output_type": "stream",
     "text": [
      "Trichoderma species from plant and soil: An excellent resource for biosynthesis of terpenoids with versatile bioactivities.\n"
     ]
    },
    {
     "name": "stderr",
     "output_type": "stream",
     "text": [
      " 21%|█████████████████                                                               | 219/1030 [02:55<09:03,  1.49it/s]"
     ]
    },
    {
     "name": "stdout",
     "output_type": "stream",
     "text": [
      "The Gut–Liver Axis in Pediatric Liver Health and Disease.\n"
     ]
    },
    {
     "name": "stderr",
     "output_type": "stream",
     "text": [
      " 21%|█████████████████                                                               | 220/1030 [02:55<08:58,  1.50it/s]"
     ]
    },
    {
     "name": "stdout",
     "output_type": "stream",
     "text": [
      "Comprehensive Analysis of Bacteriocins Produced by the Hypermucoviscous Klebsiella pneumoniae Species Complex.\n"
     ]
    },
    {
     "name": "stderr",
     "output_type": "stream",
     "text": [
      " 21%|█████████████████▏                                                              | 221/1030 [02:56<08:54,  1.51it/s]"
     ]
    },
    {
     "name": "stdout",
     "output_type": "stream",
     "text": [
      "Ginger essential oil and citral ameliorates atherosclerosis in ApoE−/− mice by modulating trimethylamine-N-oxide and gut microbiota.\n"
     ]
    },
    {
     "name": "stderr",
     "output_type": "stream",
     "text": [
      " 22%|█████████████████▏                                                              | 222/1030 [02:57<08:53,  1.52it/s]"
     ]
    },
    {
     "name": "stdout",
     "output_type": "stream",
     "text": [
      "Newly Isolated Virulent Salmophages for Biocontrol of Multidrug-Resistant Salmonella in Ready-to-Eat Plant-Based Food.\n"
     ]
    },
    {
     "name": "stderr",
     "output_type": "stream",
     "text": [
      " 22%|█████████████████▎                                                              | 223/1030 [02:58<12:01,  1.12it/s]"
     ]
    },
    {
     "name": "stdout",
     "output_type": "stream",
     "text": [
      "Bacterial Pigments and Their Multifaceted Roles in Contemporary Biotechnology and Pharmacological Applications.\n"
     ]
    },
    {
     "name": "stderr",
     "output_type": "stream",
     "text": [
      " 22%|█████████████████▍                                                              | 224/1030 [02:59<11:40,  1.15it/s]"
     ]
    },
    {
     "name": "stdout",
     "output_type": "stream",
     "text": [
      "Characteristic flavor metabolic network of fish sauce microbiota with different fermentation processes based on metagenomics.\n"
     ]
    },
    {
     "name": "stderr",
     "output_type": "stream",
     "text": [
      " 22%|█████████████████▍                                                              | 225/1030 [03:00<11:02,  1.22it/s]"
     ]
    },
    {
     "name": "stdout",
     "output_type": "stream",
     "text": [
      "The role of intestine in metabolic dysregulation in murine Wilson disease.\n"
     ]
    },
    {
     "name": "stderr",
     "output_type": "stream",
     "text": [
      " 22%|█████████████████▌                                                              | 226/1030 [03:00<10:40,  1.26it/s]"
     ]
    },
    {
     "name": "stdout",
     "output_type": "stream",
     "text": [
      "Integrating current analyses of the breast cancer microbiome.\n"
     ]
    },
    {
     "name": "stderr",
     "output_type": "stream",
     "text": [
      " 22%|█████████████████▋                                                              | 227/1030 [03:01<10:01,  1.33it/s]"
     ]
    },
    {
     "name": "stdout",
     "output_type": "stream",
     "text": [
      "Multidrug resistant and multivirulent avian bacterial pathogens: tackling experimental leg disorders using phytobiotics and antibiotics alone or in combination.\n"
     ]
    },
    {
     "name": "stderr",
     "output_type": "stream",
     "text": [
      " 22%|█████████████████▋                                                              | 228/1030 [03:02<10:23,  1.29it/s]"
     ]
    },
    {
     "name": "stdout",
     "output_type": "stream",
     "text": [
      "Sustainable Ornamental Fish Aquaculture: The Implication of Microbial Feed Additives.\n"
     ]
    },
    {
     "name": "stderr",
     "output_type": "stream",
     "text": [
      " 22%|█████████████████▊                                                              | 229/1030 [03:02<10:01,  1.33it/s]"
     ]
    },
    {
     "name": "stdout",
     "output_type": "stream",
     "text": [
      "Virulence Factors of the Gut Microbiome Are Associated with BMI and Metabolic Blood Parameters in Children with Obesity.\n"
     ]
    },
    {
     "name": "stderr",
     "output_type": "stream",
     "text": [
      " 22%|█████████████████▊                                                              | 230/1030 [03:03<09:43,  1.37it/s]"
     ]
    },
    {
     "name": "stdout",
     "output_type": "stream",
     "text": [
      "A global data-driven census of Salmonella small proteins and their potential functions in bacterial virulence.\n"
     ]
    },
    {
     "name": "stderr",
     "output_type": "stream",
     "text": [
      " 22%|█████████████████▉                                                              | 231/1030 [03:04<09:33,  1.39it/s]"
     ]
    },
    {
     "name": "stdout",
     "output_type": "stream",
     "text": [
      "Review of Antimicrobial Nanocoatings in Medicine and Dentistry: Mechanisms of Action, Biocompatibility Performance, Safety, and Benefits Compared to Antibiotics.\n"
     ]
    },
    {
     "name": "stderr",
     "output_type": "stream",
     "text": [
      " 23%|██████████████████                                                              | 232/1030 [03:04<09:12,  1.44it/s]"
     ]
    },
    {
     "name": "stdout",
     "output_type": "stream",
     "text": [
      "Antimicrobial-Resistant Bacteria from Free-Living Green Turtles (Chelonia mydas).\n"
     ]
    },
    {
     "name": "stderr",
     "output_type": "stream",
     "text": [
      " 23%|██████████████████                                                              | 233/1030 [03:05<08:58,  1.48it/s]"
     ]
    },
    {
     "name": "stdout",
     "output_type": "stream",
     "text": [
      "Alterations in the gut microbiota and the efficacy of adjuvant probiotic therapy  in liver cirrhosis.\n"
     ]
    },
    {
     "name": "stderr",
     "output_type": "stream",
     "text": [
      " 23%|██████████████████▏                                                             | 234/1030 [03:06<09:06,  1.46it/s]"
     ]
    },
    {
     "name": "stdout",
     "output_type": "stream",
     "text": [
      "Prevalence and Types of Extended-Spectrum β-Lactamase-Producing Bacteria in Retail Seafood.\n"
     ]
    },
    {
     "name": "stderr",
     "output_type": "stream",
     "text": [
      " 23%|██████████████████▎                                                             | 235/1030 [03:06<09:04,  1.46it/s]"
     ]
    },
    {
     "name": "stdout",
     "output_type": "stream",
     "text": [
      "Effects of Ramadan intermittent fasting on gut microbiome: is the diet key?\n"
     ]
    },
    {
     "name": "stderr",
     "output_type": "stream",
     "text": [
      " 23%|██████████████████▎                                                             | 236/1030 [03:07<08:52,  1.49it/s]"
     ]
    },
    {
     "name": "stdout",
     "output_type": "stream",
     "text": [
      "Actinobacteria from Arctic and Atlantic deep-sea sediments—Biodiversity and bioactive potential.\n"
     ]
    },
    {
     "name": "stderr",
     "output_type": "stream",
     "text": [
      " 23%|██████████████████▍                                                             | 237/1030 [03:08<08:57,  1.48it/s]"
     ]
    },
    {
     "name": "stdout",
     "output_type": "stream",
     "text": [
      "Role of microbial inoculants as bio fertilizers for improving crop productivity:  A review.\n"
     ]
    },
    {
     "name": "stderr",
     "output_type": "stream",
     "text": [
      " 23%|██████████████████▍                                                             | 238/1030 [03:09<09:39,  1.37it/s]"
     ]
    },
    {
     "name": "stdout",
     "output_type": "stream",
     "text": [
      "Revisiting ESKAPE Pathogens: virulence, resistance, and combating strategies focusing on quorum sensing.\n"
     ]
    },
    {
     "name": "stderr",
     "output_type": "stream",
     "text": [
      " 23%|██████████████████▌                                                             | 239/1030 [03:09<09:19,  1.41it/s]"
     ]
    },
    {
     "name": "stdout",
     "output_type": "stream",
     "text": [
      "Protective effects of yeast extract against alcohol-induced liver injury in rats.\n"
     ]
    },
    {
     "name": "stderr",
     "output_type": "stream",
     "text": [
      " 23%|██████████████████▋                                                             | 240/1030 [03:10<09:18,  1.41it/s]"
     ]
    },
    {
     "name": "stdout",
     "output_type": "stream",
     "text": [
      "Clostridium butyricum and Chitooligosaccharides in Synbiotic Combination Ameliorate Symptoms in a DSS-Induced Ulcerative Colitis Mouse Model by Modulating Gut Microbiota and Enhancing Intestinal Barrier Function.\n"
     ]
    },
    {
     "name": "stderr",
     "output_type": "stream",
     "text": [
      " 23%|██████████████████▋                                                             | 241/1030 [03:11<09:12,  1.43it/s]"
     ]
    },
    {
     "name": "stdout",
     "output_type": "stream",
     "text": [
      "Benefits of Gut Microbiota Reconstitution by Beta 1,3–1,6 Glucans in Subjects with Autism Spectrum Disorder and Other Neurodegenerative Diseases.\n"
     ]
    },
    {
     "name": "stderr",
     "output_type": "stream",
     "text": [
      " 23%|██████████████████▊                                                             | 242/1030 [03:11<09:17,  1.41it/s]"
     ]
    },
    {
     "name": "stdout",
     "output_type": "stream",
     "text": [
      "The microbiota of Mozzarella di Bufala Campana PDO cheese: a study across the manufacturing process.\n"
     ]
    },
    {
     "name": "stderr",
     "output_type": "stream",
     "text": [
      " 24%|██████████████████▊                                                             | 243/1030 [03:12<09:13,  1.42it/s]"
     ]
    },
    {
     "name": "stdout",
     "output_type": "stream",
     "text": [
      "Three Klebsiella species as potential pathobionts generating endogenous ethanol in a clinical cohort of patients with auto-brewery syndrome: a case control study.\n"
     ]
    },
    {
     "name": "stderr",
     "output_type": "stream",
     "text": [
      " 24%|██████████████████▉                                                             | 244/1030 [03:13<09:41,  1.35it/s]"
     ]
    },
    {
     "name": "stdout",
     "output_type": "stream",
     "text": [
      "An insight on sources and biodegradation of bioplastics: a review.\n"
     ]
    },
    {
     "name": "stderr",
     "output_type": "stream",
     "text": [
      " 24%|███████████████████                                                             | 245/1030 [03:14<09:41,  1.35it/s]"
     ]
    },
    {
     "name": "stdout",
     "output_type": "stream",
     "text": [
      "Microbiome and virome on indoor surfaces of an Antarctic research ship.\n"
     ]
    },
    {
     "name": "stderr",
     "output_type": "stream",
     "text": [
      " 24%|███████████████████                                                             | 246/1030 [03:14<09:49,  1.33it/s]"
     ]
    },
    {
     "name": "stdout",
     "output_type": "stream",
     "text": [
      "Metaproteomics profiling of the microbial communities in fermentation starters (Daqu) during multi-round production of Chinese liquor.\n"
     ]
    },
    {
     "name": "stderr",
     "output_type": "stream",
     "text": [
      " 24%|███████████████████▏                                                            | 247/1030 [03:15<09:49,  1.33it/s]"
     ]
    },
    {
     "name": "stdout",
     "output_type": "stream",
     "text": [
      "Interaction and Metabolic Function of Microbiota during the Washed Processing of  Coffea arabica.\n"
     ]
    },
    {
     "name": "stderr",
     "output_type": "stream",
     "text": [
      " 24%|███████████████████▎                                                            | 248/1030 [03:16<09:51,  1.32it/s]"
     ]
    },
    {
     "name": "stdout",
     "output_type": "stream",
     "text": [
      "Assessing the Risk of Seasonal Effects of Campylobacter Contaminated Broiler Meat Prepared In-Home in the United States.\n"
     ]
    },
    {
     "name": "stderr",
     "output_type": "stream",
     "text": [
      " 24%|███████████████████▎                                                            | 249/1030 [03:17<09:51,  1.32it/s]"
     ]
    },
    {
     "name": "stdout",
     "output_type": "stream",
     "text": [
      "Linking microbial contamination to food spoilage and food waste: the role of smart packaging, spoilage risk assessments, and date labeling.\n"
     ]
    },
    {
     "name": "stderr",
     "output_type": "stream",
     "text": [
      " 24%|███████████████████▍                                                            | 250/1030 [03:17<09:37,  1.35it/s]"
     ]
    },
    {
     "name": "stdout",
     "output_type": "stream",
     "text": [
      "Modulation of the Gut Microbiota by Tomato Flours Obtained after Conventional and Ohmic Heating Extraction and Its Prebiotic Properties †.\n"
     ]
    },
    {
     "name": "stderr",
     "output_type": "stream",
     "text": [
      " 24%|███████████████████▍                                                            | 251/1030 [03:18<09:42,  1.34it/s]"
     ]
    },
    {
     "name": "stdout",
     "output_type": "stream",
     "text": [
      "Abrupt perturbation and delayed recovery of the vaginal ecosystem following childbirth.\n"
     ]
    },
    {
     "name": "stderr",
     "output_type": "stream",
     "text": [
      " 24%|███████████████████▌                                                            | 252/1030 [03:19<10:31,  1.23it/s]"
     ]
    },
    {
     "name": "stdout",
     "output_type": "stream",
     "text": [
      "Faecal Microbiota Transplantation, Paving the Way to Treat Non-Alcoholic Fatty Liver Disease.\n"
     ]
    },
    {
     "name": "stderr",
     "output_type": "stream",
     "text": [
      " 25%|███████████████████▋                                                            | 253/1030 [03:20<09:55,  1.30it/s]"
     ]
    },
    {
     "name": "stdout",
     "output_type": "stream",
     "text": [
      "Beneficial Bacteria Isolated from Food in Relation to the Next Generation of Probiotics.\n"
     ]
    },
    {
     "name": "stderr",
     "output_type": "stream",
     "text": [
      " 25%|███████████████████▋                                                            | 254/1030 [03:20<09:26,  1.37it/s]"
     ]
    },
    {
     "name": "stdout",
     "output_type": "stream",
     "text": [
      "A probiotic nanozyme hydrogel regulates vaginal microenvironment for Candida vaginitis therapy.\n"
     ]
    },
    {
     "name": "stderr",
     "output_type": "stream",
     "text": [
      " 25%|███████████████████▊                                                            | 255/1030 [03:21<09:22,  1.38it/s]"
     ]
    },
    {
     "name": "stdout",
     "output_type": "stream",
     "text": [
      "A Meta-Analysis of Bacterial Communities in Food Processing Facilities: Driving Forces for Assembly of Core and Accessory Microbiomes across Different Food Commodities.\n"
     ]
    },
    {
     "name": "stderr",
     "output_type": "stream",
     "text": [
      " 25%|███████████████████▉                                                            | 256/1030 [03:22<09:11,  1.40it/s]"
     ]
    },
    {
     "name": "stdout",
     "output_type": "stream",
     "text": [
      "Drug‑resistant Acinetobacter baumannii: From molecular mechanisms to potential therapeutics (Review).\n"
     ]
    },
    {
     "name": "stderr",
     "output_type": "stream",
     "text": [
      " 25%|███████████████████▉                                                            | 257/1030 [03:23<09:10,  1.40it/s]"
     ]
    },
    {
     "name": "stdout",
     "output_type": "stream",
     "text": [
      "A Review of the Antibacterial, Fungicidal and Antiviral Properties of Selenium Nanoparticles.\n"
     ]
    },
    {
     "name": "stderr",
     "output_type": "stream",
     "text": [
      " 25%|████████████████████                                                            | 258/1030 [03:23<08:58,  1.43it/s]"
     ]
    },
    {
     "name": "stdout",
     "output_type": "stream",
     "text": [
      "Application and Acceptability of Microbiomes in the Production Process of Nigerian Indigenous Foods: Drive towards Responsible Production and Consumption.\n"
     ]
    },
    {
     "name": "stderr",
     "output_type": "stream",
     "text": [
      " 25%|████████████████████                                                            | 259/1030 [03:24<08:49,  1.46it/s]"
     ]
    },
    {
     "name": "stdout",
     "output_type": "stream",
     "text": [
      "Regulation Transcriptional of Antibiotic Resistance Genes (ARGs) in Bacteria Isolated from WWTP.\n"
     ]
    },
    {
     "name": "stderr",
     "output_type": "stream",
     "text": [
      " 25%|████████████████████▏                                                           | 260/1030 [03:25<08:46,  1.46it/s]"
     ]
    },
    {
     "name": "stdout",
     "output_type": "stream",
     "text": [
      "Chicken cecal microbiota reduces abdominal fat deposition by regulating fat metabolism.\n"
     ]
    },
    {
     "name": "stderr",
     "output_type": "stream",
     "text": [
      " 25%|████████████████████▎                                                           | 261/1030 [03:25<08:33,  1.50it/s]"
     ]
    },
    {
     "name": "stdout",
     "output_type": "stream",
     "text": [
      "Sole microbiome progression in a hatchery life cycle, from egg to juvenile.\n"
     ]
    },
    {
     "name": "stderr",
     "output_type": "stream",
     "text": [
      " 25%|████████████████████▎                                                           | 262/1030 [03:26<08:31,  1.50it/s]"
     ]
    },
    {
     "name": "stdout",
     "output_type": "stream",
     "text": [
      "A systematic review and meta-analysis of the sources of Campylobacter in poultry  production (preharvest) and their relative contributions to the microbial risk of poultry meat.\n"
     ]
    },
    {
     "name": "stderr",
     "output_type": "stream",
     "text": [
      " 26%|████████████████████▍                                                           | 263/1030 [03:27<08:35,  1.49it/s]"
     ]
    },
    {
     "name": "stdout",
     "output_type": "stream",
     "text": [
      "Intestinal flora: A new target for traditional Chinese medicine to improve lipid  metabolism disorders.\n"
     ]
    },
    {
     "name": "stderr",
     "output_type": "stream",
     "text": [
      " 26%|████████████████████▌                                                           | 264/1030 [03:27<08:36,  1.48it/s]"
     ]
    },
    {
     "name": "stdout",
     "output_type": "stream",
     "text": [
      "Atypical flavobacteria recovered from diseased fish in the Western United States.\n"
     ]
    },
    {
     "name": "stderr",
     "output_type": "stream",
     "text": [
      " 26%|████████████████████▌                                                           | 265/1030 [03:28<08:36,  1.48it/s]"
     ]
    },
    {
     "name": "stdout",
     "output_type": "stream",
     "text": [
      "Growth improvement of wheat (Triticum aestivum) and zinc biofortification using potent zinc-solubilizing bacteria.\n"
     ]
    },
    {
     "name": "stderr",
     "output_type": "stream",
     "text": [
      " 26%|████████████████████▋                                                           | 266/1030 [03:29<08:41,  1.47it/s]"
     ]
    },
    {
     "name": "stdout",
     "output_type": "stream",
     "text": [
      "Effect of synbiotics on growth performance, gut health, and immunity status in pre-ruminant buffalo calves.\n"
     ]
    },
    {
     "name": "stderr",
     "output_type": "stream",
     "text": [
      " 26%|████████████████████▋                                                           | 267/1030 [03:29<08:56,  1.42it/s]"
     ]
    },
    {
     "name": "stdout",
     "output_type": "stream",
     "text": [
      "Effects of a complex probiotic preparation, Fengqiang Shengtai and coccidiosis vaccine on the performance and intestinal microbiota of broilers challenged with Eimeria spp.\n"
     ]
    },
    {
     "name": "stderr",
     "output_type": "stream",
     "text": [
      " 26%|████████████████████▊                                                           | 268/1030 [03:30<08:59,  1.41it/s]"
     ]
    },
    {
     "name": "stdout",
     "output_type": "stream",
     "text": [
      "Research Note: Changes in pathogenic characteristics and drug resistance of Salmonella in poultry meat in Jiading District, Shanghai from 2019 to 2021.\n"
     ]
    },
    {
     "name": "stderr",
     "output_type": "stream",
     "text": [
      " 26%|████████████████████▉                                                           | 269/1030 [03:31<08:47,  1.44it/s]"
     ]
    },
    {
     "name": "stdout",
     "output_type": "stream",
     "text": [
      "Gut microbiota composition and gene expression changes induced in the Apis cerana exposed to acetamiprid and difenoconazole at environmentally realistic concentrations alone or combined.\n"
     ]
    },
    {
     "name": "stderr",
     "output_type": "stream",
     "text": [
      " 26%|████████████████████▉                                                           | 270/1030 [03:31<08:40,  1.46it/s]"
     ]
    },
    {
     "name": "stdout",
     "output_type": "stream",
     "text": [
      "Dysbiosis of the gut microbiome in elderly patients with hepatocellular carcinoma.\n"
     ]
    },
    {
     "name": "stderr",
     "output_type": "stream",
     "text": [
      " 26%|█████████████████████                                                           | 271/1030 [03:32<08:44,  1.45it/s]"
     ]
    },
    {
     "name": "stdout",
     "output_type": "stream",
     "text": [
      "The Interplay between Medical Plants and Gut Microbiota in Cancer.\n"
     ]
    },
    {
     "name": "stderr",
     "output_type": "stream",
     "text": [
      " 26%|█████████████████████▏                                                          | 272/1030 [03:33<10:10,  1.24it/s]"
     ]
    },
    {
     "name": "stdout",
     "output_type": "stream",
     "text": [
      "Effects of microbial interspecies relationships and physicochemical parameters on volatile flavors in sorghum‐based fermented grains during the fermentation of Shanxi light‐flavored liquor.\n"
     ]
    },
    {
     "name": "stderr",
     "output_type": "stream",
     "text": [
      " 27%|█████████████████████▏                                                          | 273/1030 [03:34<09:41,  1.30it/s]"
     ]
    },
    {
     "name": "stdout",
     "output_type": "stream",
     "text": [
      "Beneficial Microorganisms Improve Agricultural Sustainability under Climatic Extremes.\n"
     ]
    },
    {
     "name": "stderr",
     "output_type": "stream",
     "text": [
      " 27%|█████████████████████▎                                                          | 274/1030 [03:35<09:26,  1.34it/s]"
     ]
    },
    {
     "name": "stdout",
     "output_type": "stream",
     "text": [
      "Clinical Studies on the Supplementation of Manufactured Human Milk Oligosaccharides: A Systematic Review.\n"
     ]
    },
    {
     "name": "stderr",
     "output_type": "stream",
     "text": [
      " 27%|█████████████████████▎                                                          | 275/1030 [03:35<09:15,  1.36it/s]"
     ]
    },
    {
     "name": "stdout",
     "output_type": "stream",
     "text": [
      "Biocontrol of Rhizoctonia solani in basmati rice by the application of Lactobacillus and Weissella spp.\n"
     ]
    },
    {
     "name": "stderr",
     "output_type": "stream",
     "text": [
      " 27%|█████████████████████▍                                                          | 276/1030 [03:36<09:17,  1.35it/s]"
     ]
    },
    {
     "name": "stdout",
     "output_type": "stream",
     "text": [
      "Characterization of Growth-Promoting Activities of Consortia of Chlorpyrifos Mineralizing Endophytic Bacteria Naturally Harboring in Rice Plants—A Potential Bio-Stimulant to Develop a Safe and Sustainable Agriculture.\n"
     ]
    },
    {
     "name": "stderr",
     "output_type": "stream",
     "text": [
      " 27%|█████████████████████▌                                                          | 277/1030 [03:37<09:08,  1.37it/s]"
     ]
    },
    {
     "name": "stdout",
     "output_type": "stream",
     "text": [
      "Hadza Prevotella Require Diet-derived Microbiota Accessible Carbohydrates to Persist in Mice.\n"
     ]
    },
    {
     "name": "stderr",
     "output_type": "stream",
     "text": [
      " 27%|█████████████████████▌                                                          | 278/1030 [03:37<08:56,  1.40it/s]"
     ]
    },
    {
     "name": "stdout",
     "output_type": "stream",
     "text": [
      "Maternal and/or post-weaning supplementation with Bacillus altitudinis spores modulates the microbial composition of colostrum, digesta and faeces in pigs.\n"
     ]
    },
    {
     "name": "stderr",
     "output_type": "stream",
     "text": [
      " 27%|█████████████████████▋                                                          | 279/1030 [03:38<08:45,  1.43it/s]"
     ]
    },
    {
     "name": "stdout",
     "output_type": "stream",
     "text": [
      "Effects of sugarcane variety and nitrogen application level on the quality and aerobic stability of sugarcane tops silage.\n"
     ]
    },
    {
     "name": "stderr",
     "output_type": "stream",
     "text": [
      " 27%|█████████████████████▋                                                          | 280/1030 [03:39<08:32,  1.46it/s]"
     ]
    },
    {
     "name": "stdout",
     "output_type": "stream",
     "text": [
      "Screening of compound-formulated Bacillus and its effect on plant growth promotion.\n"
     ]
    },
    {
     "name": "stderr",
     "output_type": "stream",
     "text": [
      " 27%|█████████████████████▊                                                          | 281/1030 [03:39<08:30,  1.47it/s]"
     ]
    },
    {
     "name": "stdout",
     "output_type": "stream",
     "text": [
      "The Biosynthesis and Functions of Polyamines in the Interaction of Plant Growth-Promoting Rhizobacteria with Plants.\n"
     ]
    },
    {
     "name": "stderr",
     "output_type": "stream",
     "text": [
      " 27%|█████████████████████▉                                                          | 282/1030 [03:40<08:22,  1.49it/s]"
     ]
    },
    {
     "name": "stdout",
     "output_type": "stream",
     "text": [
      "Diversity and function of soybean rhizosphere microbiome under nature farming.\n"
     ]
    },
    {
     "name": "stderr",
     "output_type": "stream",
     "text": [
      " 27%|█████████████████████▉                                                          | 283/1030 [03:41<08:47,  1.42it/s]"
     ]
    },
    {
     "name": "stdout",
     "output_type": "stream",
     "text": [
      "Azithromycin Exposure Induces Transient Microbial Composition Shifts and Decreases the Airway Microbiota Resilience from Outdoor PM2.5 Stress in Healthy Adults: a Randomized, Double-Blind, Placebo-Controlled Trial.\n"
     ]
    },
    {
     "name": "stderr",
     "output_type": "stream",
     "text": [
      " 28%|██████████████████████                                                          | 284/1030 [03:42<08:42,  1.43it/s]"
     ]
    },
    {
     "name": "stdout",
     "output_type": "stream",
     "text": [
      "Orally delivered Bacillus subtilis expressing chicken NK-2 peptide stabilizes gut microbiota and enhances intestinal health and local immunity in coccidiosis-infected broiler chickens1.\n"
     ]
    },
    {
     "name": "stderr",
     "output_type": "stream",
     "text": [
      " 28%|██████████████████████▏                                                         | 285/1030 [03:42<08:31,  1.46it/s]"
     ]
    },
    {
     "name": "stdout",
     "output_type": "stream",
     "text": [
      "Impact of HIV on the Oral Microbiome of Children Living in Sub-Saharan Africa, Determined by Using an rpoC Gene Fragment Metataxonomic Approach.\n"
     ]
    },
    {
     "name": "stderr",
     "output_type": "stream",
     "text": [
      " 28%|██████████████████████▏                                                         | 286/1030 [03:43<08:22,  1.48it/s]"
     ]
    },
    {
     "name": "stdout",
     "output_type": "stream",
     "text": [
      "Antibacterial Potency of an Active Compound from Sansevieria trifasciata Prain: An Integrated In Vitro and In Silico Study.\n"
     ]
    },
    {
     "name": "stderr",
     "output_type": "stream",
     "text": [
      " 28%|██████████████████████▎                                                         | 287/1030 [03:44<10:13,  1.21it/s]"
     ]
    },
    {
     "name": "stdout",
     "output_type": "stream",
     "text": [
      "GPR35‐mediated kynurenic acid sensing contributes to maintenance of gut microbiota homeostasis in ulcerative colitis.\n"
     ]
    },
    {
     "name": "stderr",
     "output_type": "stream",
     "text": [
      " 28%|██████████████████████▎                                                         | 288/1030 [03:45<09:37,  1.29it/s]"
     ]
    },
    {
     "name": "stdout",
     "output_type": "stream",
     "text": [
      "Gut Microbiome and Small RNA Integrative-Omic Perspective of Meconium and Milk-FED Infant Stool Samples.\n"
     ]
    },
    {
     "name": "stderr",
     "output_type": "stream",
     "text": [
      " 28%|██████████████████████▍                                                         | 289/1030 [03:45<09:46,  1.26it/s]"
     ]
    },
    {
     "name": "stdout",
     "output_type": "stream",
     "text": [
      "A systematic review of experimental studies on Salmonella persistence in insects.\n"
     ]
    },
    {
     "name": "stderr",
     "output_type": "stream",
     "text": [
      " 28%|██████████████████████▌                                                         | 290/1030 [03:46<09:41,  1.27it/s]"
     ]
    },
    {
     "name": "stdout",
     "output_type": "stream",
     "text": [
      "Tryptophan metabolite norharman secreted by cultivated Lactobacillus attenuates acute pancreatitis as an antagonist of histone deacetylases.\n"
     ]
    },
    {
     "name": "stderr",
     "output_type": "stream",
     "text": [
      " 28%|██████████████████████▌                                                         | 291/1030 [03:47<10:00,  1.23it/s]"
     ]
    },
    {
     "name": "stdout",
     "output_type": "stream",
     "text": [
      "Valuable effects of lactobacillus and citicoline on steatohepatitis: role of Nrf2/HO-1 and gut microbiota.\n"
     ]
    },
    {
     "name": "stderr",
     "output_type": "stream",
     "text": [
      " 28%|██████████████████████▋                                                         | 292/1030 [03:48<10:01,  1.23it/s]"
     ]
    },
    {
     "name": "stdout",
     "output_type": "stream",
     "text": [
      "Effects of Steaming on Sweet Potato Soluble Dietary Fiber: Content, Structure, and Lactobacillus Proliferation In Vitro.\n"
     ]
    },
    {
     "name": "stderr",
     "output_type": "stream",
     "text": [
      " 28%|██████████████████████▊                                                         | 293/1030 [03:49<09:47,  1.26it/s]"
     ]
    },
    {
     "name": "stdout",
     "output_type": "stream",
     "text": [
      "Regulation of type VI secretion systems at the transcriptional, posttranscriptional and posttranslational level.\n"
     ]
    },
    {
     "name": "stderr",
     "output_type": "stream",
     "text": [
      " 29%|██████████████████████▊                                                         | 294/1030 [03:49<09:44,  1.26it/s]"
     ]
    },
    {
     "name": "stdout",
     "output_type": "stream",
     "text": [
      "Nutritional benefits of sourdoughs: A systematic review.\n"
     ]
    },
    {
     "name": "stderr",
     "output_type": "stream",
     "text": [
      " 29%|██████████████████████▉                                                         | 295/1030 [03:50<09:48,  1.25it/s]"
     ]
    },
    {
     "name": "stdout",
     "output_type": "stream",
     "text": [
      "Associations among Milk Microbiota, Milk Fatty Acids, Milk Glycans, and Inflammation from Lactating Holstein Cows.\n"
     ]
    },
    {
     "name": "stderr",
     "output_type": "stream",
     "text": [
      " 29%|██████████████████████▉                                                         | 296/1030 [03:51<09:35,  1.27it/s]"
     ]
    },
    {
     "name": "stdout",
     "output_type": "stream",
     "text": [
      "The Role of Microbiota in Liver Transplantation and Liver Transplantation-Related Biliary Complications.\n"
     ]
    },
    {
     "name": "stderr",
     "output_type": "stream",
     "text": [
      " 29%|███████████████████████                                                         | 297/1030 [03:52<09:16,  1.32it/s]"
     ]
    },
    {
     "name": "stdout",
     "output_type": "stream",
     "text": [
      "High-fat diet-induced gut microbiota alteration promotes lipogenesis by butyric acid/miR-204/ACSS2 axis in chickens.\n"
     ]
    },
    {
     "name": "stderr",
     "output_type": "stream",
     "text": [
      " 29%|███████████████████████▏                                                        | 298/1030 [03:53<09:14,  1.32it/s]"
     ]
    },
    {
     "name": "stdout",
     "output_type": "stream",
     "text": [
      "Antimicrobial resistance, Extended-Spectrum β-Lactamase production and virulence  genes in Salmonella enterica and Escherichia coli isolates from estuarine environment.\n"
     ]
    },
    {
     "name": "stderr",
     "output_type": "stream",
     "text": [
      " 29%|███████████████████████▏                                                        | 299/1030 [03:53<09:20,  1.30it/s]"
     ]
    },
    {
     "name": "stdout",
     "output_type": "stream",
     "text": [
      "Effects of rye inclusion in dog food on fecal microbiota and short-chain fatty acids.\n"
     ]
    },
    {
     "name": "stderr",
     "output_type": "stream",
     "text": [
      " 29%|███████████████████████▎                                                        | 300/1030 [03:54<09:16,  1.31it/s]"
     ]
    },
    {
     "name": "stdout",
     "output_type": "stream",
     "text": [
      "Bacteriophages and food safety: An updated overview.\n"
     ]
    },
    {
     "name": "stderr",
     "output_type": "stream",
     "text": [
      " 29%|███████████████████████▍                                                        | 301/1030 [03:55<08:48,  1.38it/s]"
     ]
    },
    {
     "name": "stdout",
     "output_type": "stream",
     "text": [
      "Bioaffinity Nanoprobes for Foodborne Pathogen Sensing.\n"
     ]
    },
    {
     "name": "stderr",
     "output_type": "stream",
     "text": [
      " 29%|███████████████████████▍                                                        | 302/1030 [03:55<08:43,  1.39it/s]"
     ]
    },
    {
     "name": "stdout",
     "output_type": "stream",
     "text": [
      "Resistance of Argopecten purpuratus scallop larvae to vibriosis is associated with the front-loading of immune genes and enhanced antimicrobial response.\n"
     ]
    },
    {
     "name": "stderr",
     "output_type": "stream",
     "text": [
      " 29%|███████████████████████▌                                                        | 303/1030 [03:56<09:06,  1.33it/s]"
     ]
    },
    {
     "name": "stdout",
     "output_type": "stream",
     "text": [
      "Intestinal flora in the constipation patients before versus after lactulose intervention.\n"
     ]
    },
    {
     "name": "stderr",
     "output_type": "stream",
     "text": [
      " 30%|███████████████████████▌                                                        | 304/1030 [03:57<08:56,  1.35it/s]"
     ]
    },
    {
     "name": "stdout",
     "output_type": "stream",
     "text": [
      "Early gut microbiota intervention in premature infants: Application perspectives.\n"
     ]
    },
    {
     "name": "stderr",
     "output_type": "stream",
     "text": [
      " 30%|███████████████████████▋                                                        | 305/1030 [03:58<08:38,  1.40it/s]"
     ]
    },
    {
     "name": "stdout",
     "output_type": "stream",
     "text": [
      "Microbiota perturbation by anti-microbiota vaccine reduces the colonization of Borrelia afzelii in Ixodes ricinus.\n"
     ]
    },
    {
     "name": "stderr",
     "output_type": "stream",
     "text": [
      " 30%|███████████████████████▊                                                        | 306/1030 [03:58<08:38,  1.40it/s]"
     ]
    },
    {
     "name": "stdout",
     "output_type": "stream",
     "text": [
      "Paper Abstracts.\n"
     ]
    },
    {
     "name": "stderr",
     "output_type": "stream",
     "text": [
      " 30%|███████████████████████▊                                                        | 307/1030 [03:59<08:30,  1.42it/s]"
     ]
    },
    {
     "name": "stdout",
     "output_type": "stream",
     "text": [
      "Postbiotics against Obesity: Perception and Overview Based on Pre-Clinical and Clinical Studies.\n"
     ]
    },
    {
     "name": "stderr",
     "output_type": "stream",
     "text": [
      " 30%|███████████████████████▉                                                        | 308/1030 [04:00<08:24,  1.43it/s]"
     ]
    },
    {
     "name": "stdout",
     "output_type": "stream",
     "text": [
      "Omega-3-Supplemented Fat Diet Drives Immune Metabolic Response in Visceral Adipose Tissue by Modulating Gut Microbiota in a Mouse Model of Obesity.\n"
     ]
    },
    {
     "name": "stderr",
     "output_type": "stream",
     "text": [
      " 30%|████████████████████████                                                        | 309/1030 [04:00<08:36,  1.40it/s]"
     ]
    },
    {
     "name": "stdout",
     "output_type": "stream",
     "text": [
      "Bacterial Communities in Lanna Fermented Soybeans from Three Different Ethnolinguistic Groups in Northern Thailand.\n"
     ]
    },
    {
     "name": "stderr",
     "output_type": "stream",
     "text": [
      " 30%|████████████████████████                                                        | 310/1030 [04:01<08:34,  1.40it/s]"
     ]
    },
    {
     "name": "stdout",
     "output_type": "stream",
     "text": [
      "Influence of Live Attenuated Salmonella Vaccines on Cecal Microbiome Composition  and Microbiota Abundances in Young Broiler Chickens.\n"
     ]
    },
    {
     "name": "stderr",
     "output_type": "stream",
     "text": [
      " 30%|████████████████████████▏                                                       | 311/1030 [04:02<08:37,  1.39it/s]"
     ]
    },
    {
     "name": "stdout",
     "output_type": "stream",
     "text": [
      "Emerging Roles of Gut Microbial Modulation of Bile Acid Composition in the Etiology of Cardiovascular Diseases.\n"
     ]
    },
    {
     "name": "stderr",
     "output_type": "stream",
     "text": [
      " 30%|████████████████████████▏                                                       | 312/1030 [04:03<08:36,  1.39it/s]"
     ]
    },
    {
     "name": "stdout",
     "output_type": "stream",
     "text": [
      "Elucidation of the Bovine Intramammary Bacteriome and Resistome from healthy cows of Swiss dairy farms in the Canton Tessin.\n"
     ]
    },
    {
     "name": "stderr",
     "output_type": "stream",
     "text": [
      " 30%|████████████████████████▎                                                       | 313/1030 [04:03<08:47,  1.36it/s]"
     ]
    },
    {
     "name": "stdout",
     "output_type": "stream",
     "text": [
      "Biodegradable Polymers and Polymer Composites with Antibacterial Properties.\n"
     ]
    },
    {
     "name": "stderr",
     "output_type": "stream",
     "text": [
      " 30%|████████████████████████▍                                                       | 314/1030 [04:04<08:36,  1.39it/s]"
     ]
    },
    {
     "name": "stdout",
     "output_type": "stream",
     "text": [
      "Microbial diversity and community composition of fecal microbiota in dual-purpose and egg type ducks.\n"
     ]
    },
    {
     "name": "stderr",
     "output_type": "stream",
     "text": [
      " 31%|████████████████████████▍                                                       | 315/1030 [04:05<08:46,  1.36it/s]"
     ]
    },
    {
     "name": "stdout",
     "output_type": "stream",
     "text": [
      "Effects of diet and castration on fatty acid composition and volatile compounds in the meat of Korean native black goats.\n"
     ]
    },
    {
     "name": "stderr",
     "output_type": "stream",
     "text": [
      " 31%|████████████████████████▌                                                       | 316/1030 [04:05<08:32,  1.39it/s]"
     ]
    },
    {
     "name": "stdout",
     "output_type": "stream",
     "text": [
      "Microbial Hyaluronic Acid Production: A Review.\n"
     ]
    },
    {
     "name": "stderr",
     "output_type": "stream",
     "text": [
      " 31%|████████████████████████▌                                                       | 317/1030 [04:06<08:20,  1.42it/s]"
     ]
    },
    {
     "name": "stdout",
     "output_type": "stream",
     "text": [
      "Bio-organic fertilizers promote yield, chemical composition, and antioxidant and  antimicrobial activities of essential oil in fennel (Foeniculum vulgare) seeds.\n"
     ]
    },
    {
     "name": "stderr",
     "output_type": "stream",
     "text": [
      " 31%|████████████████████████▋                                                       | 318/1030 [04:07<08:15,  1.44it/s]"
     ]
    },
    {
     "name": "stdout",
     "output_type": "stream",
     "text": [
      "Gut microbiota promoting propionic acid production accompanies diet-induced intentional weight loss in cats.\n"
     ]
    },
    {
     "name": "stderr",
     "output_type": "stream",
     "text": [
      " 31%|████████████████████████▊                                                       | 319/1030 [04:08<08:17,  1.43it/s]"
     ]
    },
    {
     "name": "stdout",
     "output_type": "stream",
     "text": [
      "Prevalence and Antibiotic Resistance of Bacillus sp. Isolated from Raw Milk.\n"
     ]
    },
    {
     "name": "stderr",
     "output_type": "stream",
     "text": [
      " 31%|████████████████████████▊                                                       | 320/1030 [04:08<08:10,  1.45it/s]"
     ]
    },
    {
     "name": "stdout",
     "output_type": "stream",
     "text": [
      "Exploring the correlation of metabolites changes and microbial succession in solid-state fermentation of Sichuan Sun-dried vinegar.\n"
     ]
    },
    {
     "name": "stderr",
     "output_type": "stream",
     "text": [
      " 31%|████████████████████████▉                                                       | 321/1030 [04:09<08:02,  1.47it/s]"
     ]
    },
    {
     "name": "stdout",
     "output_type": "stream",
     "text": [
      "Delving into Agri-Food Waste Composition for Antibacterial Phytochemicals.\n"
     ]
    },
    {
     "name": "stderr",
     "output_type": "stream",
     "text": [
      " 31%|█████████████████████████                                                       | 322/1030 [04:10<07:59,  1.48it/s]"
     ]
    },
    {
     "name": "stdout",
     "output_type": "stream",
     "text": [
      "Foodborne Microbial Communities as Potential Reservoirs of Antimicrobial Resistance Genes for Pathogens: A Critical Review of the Recent Literature.\n"
     ]
    },
    {
     "name": "stderr",
     "output_type": "stream",
     "text": [
      " 31%|█████████████████████████                                                       | 323/1030 [04:10<08:04,  1.46it/s]"
     ]
    },
    {
     "name": "stdout",
     "output_type": "stream",
     "text": [
      "Bacillus VOCs in the Context of Biological Control.\n"
     ]
    },
    {
     "name": "stderr",
     "output_type": "stream",
     "text": [
      " 31%|█████████████████████████▏                                                      | 324/1030 [04:11<07:59,  1.47it/s]"
     ]
    },
    {
     "name": "stdout",
     "output_type": "stream",
     "text": [
      "Effect of Non-Nutritive Sweeteners on the Gut Microbiota.\n"
     ]
    },
    {
     "name": "stderr",
     "output_type": "stream",
     "text": [
      " 32%|█████████████████████████▏                                                      | 325/1030 [04:12<08:06,  1.45it/s]"
     ]
    },
    {
     "name": "stdout",
     "output_type": "stream",
     "text": [
      "Metapangenomics of wild and cultivated banana microbiome reveals a plethora of host-associated protective functions.\n"
     ]
    },
    {
     "name": "stderr",
     "output_type": "stream",
     "text": [
      " 32%|█████████████████████████▎                                                      | 326/1030 [04:12<08:34,  1.37it/s]"
     ]
    },
    {
     "name": "stdout",
     "output_type": "stream",
     "text": [
      "A Comparative Study of the Effects of Whole Cereals and Refined Cereals on Intestinal Microbiota.\n"
     ]
    },
    {
     "name": "stderr",
     "output_type": "stream",
     "text": [
      " 32%|█████████████████████████▍                                                      | 327/1030 [04:14<09:46,  1.20it/s]"
     ]
    },
    {
     "name": "stdout",
     "output_type": "stream",
     "text": [
      "Gut microbiota changes in insect-fed monogastric species: state-of-the-art and future perspectives.\n"
     ]
    },
    {
     "name": "stderr",
     "output_type": "stream",
     "text": [
      " 32%|█████████████████████████▍                                                      | 328/1030 [04:14<09:32,  1.23it/s]"
     ]
    },
    {
     "name": "stdout",
     "output_type": "stream",
     "text": [
      "Role of Dietary Fiber and Energy Intake on Gut Microbiome in Vegans, Vegetarians, and Flexitarians in Comparison to Omnivores—Insights from the Nutritional Evaluation (NuEva) Study.\n"
     ]
    },
    {
     "name": "stderr",
     "output_type": "stream",
     "text": [
      " 32%|█████████████████████████▌                                                      | 329/1030 [04:15<09:03,  1.29it/s]"
     ]
    },
    {
     "name": "stdout",
     "output_type": "stream",
     "text": [
      "Molecular epidemiology and antimicrobial susceptibility of diarrheagenic Escherichia coli isolated from children under age five with and without diarrhea in Central Ethiopia.\n"
     ]
    },
    {
     "name": "stderr",
     "output_type": "stream",
     "text": [
      " 32%|█████████████████████████▋                                                      | 330/1030 [04:16<10:56,  1.07it/s]"
     ]
    },
    {
     "name": "stdout",
     "output_type": "stream",
     "text": [
      "Characterization, genome analysis and antibiofilm efficacy of lytic Proteus phages RP6 and RP7 isolated from university hospital sewage.\n"
     ]
    },
    {
     "name": "stderr",
     "output_type": "stream",
     "text": [
      " 32%|█████████████████████████▋                                                      | 331/1030 [04:17<10:08,  1.15it/s]"
     ]
    },
    {
     "name": "stdout",
     "output_type": "stream",
     "text": [
      "Current Status of Probiotics in European Sea Bass Aquaculture as One Important Mediterranean and Atlantic Commercial Species: A Review.\n"
     ]
    },
    {
     "name": "stderr",
     "output_type": "stream",
     "text": [
      " 32%|█████████████████████████▊                                                      | 332/1030 [04:18<09:43,  1.20it/s]"
     ]
    },
    {
     "name": "stdout",
     "output_type": "stream",
     "text": [
      "The Behavior of Some Bacterial Strains Isolated from Fallow Deer Compared to Antimicrobial Substances in Western Romania.\n"
     ]
    },
    {
     "name": "stderr",
     "output_type": "stream",
     "text": [
      " 32%|█████████████████████████▊                                                      | 333/1030 [04:18<09:05,  1.28it/s]"
     ]
    },
    {
     "name": "stdout",
     "output_type": "stream",
     "text": [
      "Feeding citrus flavonoid extracts decreases bacterial endotoxin and systemic inflammation and improves immunometabolic status by modulating hindgut microbiome and metabolome in lactating dairy cows.\n"
     ]
    },
    {
     "name": "stderr",
     "output_type": "stream",
     "text": [
      " 32%|█████████████████████████▉                                                      | 334/1030 [04:19<08:41,  1.33it/s]"
     ]
    },
    {
     "name": "stdout",
     "output_type": "stream",
     "text": [
      "The influence of curcumin additives on the viability of probiotic bacteria, antibacterial activity against pathogenic microorganisms, and quality indicators of low-fat yogurt.\n"
     ]
    },
    {
     "name": "stderr",
     "output_type": "stream",
     "text": [
      " 33%|██████████████████████████                                                      | 335/1030 [04:20<08:18,  1.39it/s]"
     ]
    },
    {
     "name": "stdout",
     "output_type": "stream",
     "text": [
      "Diverse Virulence Attributes of Pantoea alfalfae sp. nov. CQ10 Responsible for Bacterial Leaf Blight in Alfalfa Revealed by Genomic Analysis.\n"
     ]
    },
    {
     "name": "stderr",
     "output_type": "stream",
     "text": [
      " 33%|██████████████████████████                                                      | 336/1030 [04:20<07:59,  1.45it/s]"
     ]
    },
    {
     "name": "stdout",
     "output_type": "stream",
     "text": [
      "Taxonomy, Sequence Variance and Functional Profiling of the Microbial Community of Long-Ripened Cheddar Cheese Using Shotgun Metagenomics.\n"
     ]
    },
    {
     "name": "stderr",
     "output_type": "stream",
     "text": [
      " 33%|██████████████████████████▏                                                     | 337/1030 [04:21<07:52,  1.47it/s]"
     ]
    },
    {
     "name": "stdout",
     "output_type": "stream",
     "text": [
      "Antimicrobial susceptibility of western Canadian Brachyspira isolates: Development and standardization of an agar dilution susceptibility test method.\n"
     ]
    },
    {
     "name": "stderr",
     "output_type": "stream",
     "text": [
      " 33%|██████████████████████████▎                                                     | 338/1030 [04:22<07:56,  1.45it/s]"
     ]
    },
    {
     "name": "stdout",
     "output_type": "stream",
     "text": [
      "Relationship between Oat Consumption, Gut Microbiota Modulation, and Short-Chain  Fatty Acid Synthesis: An Integrative Review.\n"
     ]
    },
    {
     "name": "stderr",
     "output_type": "stream",
     "text": [
      " 33%|██████████████████████████▎                                                     | 339/1030 [04:22<08:01,  1.43it/s]"
     ]
    },
    {
     "name": "stdout",
     "output_type": "stream",
     "text": [
      "Cronobacter spp. Isolated from Quick-Frozen Foods in China: Incidence, Genetic Characteristics, and Antibiotic Resistance.\n"
     ]
    },
    {
     "name": "stderr",
     "output_type": "stream",
     "text": [
      " 33%|██████████████████████████▍                                                     | 340/1030 [04:23<08:04,  1.42it/s]"
     ]
    },
    {
     "name": "stdout",
     "output_type": "stream",
     "text": [
      "Dietary Patterns, Gut Microbiota Remodeling, and Cardiometabolic Disease.\n"
     ]
    },
    {
     "name": "stderr",
     "output_type": "stream",
     "text": [
      " 33%|██████████████████████████▍                                                     | 341/1030 [04:24<08:21,  1.37it/s]"
     ]
    },
    {
     "name": "stdout",
     "output_type": "stream",
     "text": [
      "Shigella induces epigenetic reprogramming of zebrafish neutrophils.\n"
     ]
    },
    {
     "name": "stderr",
     "output_type": "stream",
     "text": [
      " 33%|██████████████████████████▌                                                     | 342/1030 [04:25<08:07,  1.41it/s]"
     ]
    },
    {
     "name": "stdout",
     "output_type": "stream",
     "text": [
      "Use of Blood Powder (Ground and Irradiated) for the Manufacture of Chocolate Agar.\n"
     ]
    },
    {
     "name": "stderr",
     "output_type": "stream",
     "text": [
      " 33%|██████████████████████████▋                                                     | 343/1030 [04:25<08:00,  1.43it/s]"
     ]
    },
    {
     "name": "stdout",
     "output_type": "stream",
     "text": [
      "The occurrence and molecular detection of mcr-1 and mcr-5 genes in Enterobacteriaceae isolated from poultry and poultry meats in Malaysia.\n"
     ]
    },
    {
     "name": "stderr",
     "output_type": "stream",
     "text": [
      " 33%|██████████████████████████▋                                                     | 344/1030 [04:26<08:12,  1.39it/s]"
     ]
    },
    {
     "name": "stdout",
     "output_type": "stream",
     "text": [
      "Changes in the Gut Microbiome Associated with Intussusception in Patients with Peutz-Jeghers Syndrome.\n"
     ]
    },
    {
     "name": "stderr",
     "output_type": "stream",
     "text": [
      " 33%|██████████████████████████▊                                                     | 345/1030 [04:27<08:19,  1.37it/s]"
     ]
    },
    {
     "name": "stdout",
     "output_type": "stream",
     "text": [
      "Is there a placental microbiota? A critical review and re-analysis of published placental microbiota datasets.\n"
     ]
    },
    {
     "name": "stderr",
     "output_type": "stream",
     "text": [
      " 34%|██████████████████████████▊                                                     | 346/1030 [04:28<08:26,  1.35it/s]"
     ]
    },
    {
     "name": "stdout",
     "output_type": "stream",
     "text": [
      "Breastfeeding patterns are associated with human milk microbiome composition: The Mother-Infant Microbiomes, Behavior, and Ecology Study (MIMBES).\n"
     ]
    },
    {
     "name": "stderr",
     "output_type": "stream",
     "text": [
      " 34%|██████████████████████████▉                                                     | 347/1030 [04:28<08:22,  1.36it/s]"
     ]
    },
    {
     "name": "stdout",
     "output_type": "stream",
     "text": [
      "Dietary protein levels modulate the gut microbiome composition through fecal samples derived from lactating ewes.\n"
     ]
    },
    {
     "name": "stderr",
     "output_type": "stream",
     "text": [
      " 34%|███████████████████████████                                                     | 348/1030 [04:29<08:08,  1.39it/s]"
     ]
    },
    {
     "name": "stdout",
     "output_type": "stream",
     "text": [
      "Drug resistance and extended-spectrum β-lactamase (ESBLs) - producing Enterobacteriaceae, Acinetobacter and Pseudomonas species from the views of one-health approach in Ethiopia: a systematic review and meta-analysis.\n"
     ]
    },
    {
     "name": "stderr",
     "output_type": "stream",
     "text": [
      " 34%|███████████████████████████                                                     | 349/1030 [04:30<08:06,  1.40it/s]"
     ]
    },
    {
     "name": "stdout",
     "output_type": "stream",
     "text": [
      "The synergistic ramification of insoluble dietary fiber and associated non-extractable polyphenols on gut microbial population escorting alleviation of lifestyle diseases.\n"
     ]
    },
    {
     "name": "stderr",
     "output_type": "stream",
     "text": [
      " 34%|███████████████████████████▏                                                    | 350/1030 [04:30<07:53,  1.44it/s]"
     ]
    },
    {
     "name": "stdout",
     "output_type": "stream",
     "text": [
      "The phenotypic and genotypic antimicrobial resistance patterns of Salmonella isolated from chickens and meat at poultry slaughterhouses in Japan and Thailand.\n"
     ]
    },
    {
     "name": "stderr",
     "output_type": "stream",
     "text": [
      " 34%|███████████████████████████▎                                                    | 351/1030 [04:31<08:20,  1.36it/s]"
     ]
    },
    {
     "name": "stdout",
     "output_type": "stream",
     "text": [
      "Modulation of the Gut Microbiota with Prebiotics and Antimicrobial Agents from Pleurotus ostreatus Mushroom.\n"
     ]
    },
    {
     "name": "stderr",
     "output_type": "stream",
     "text": [
      " 34%|███████████████████████████▎                                                    | 352/1030 [04:32<09:45,  1.16it/s]"
     ]
    },
    {
     "name": "stdout",
     "output_type": "stream",
     "text": [
      "An Overview on Antimicrobial Potential of Edible Terrestrial Plants and Marine Macroalgae Rhodophyta and Chlorophyta Extracts.\n"
     ]
    },
    {
     "name": "stderr",
     "output_type": "stream",
     "text": [
      " 34%|███████████████████████████▍                                                    | 353/1030 [04:33<09:19,  1.21it/s]"
     ]
    },
    {
     "name": "stdout",
     "output_type": "stream",
     "text": [
      "Application of Electrochemical Biosensors for Determination of Food Spoilage.\n"
     ]
    },
    {
     "name": "stderr",
     "output_type": "stream",
     "text": [
      " 34%|███████████████████████████▍                                                    | 354/1030 [04:34<09:15,  1.22it/s]"
     ]
    },
    {
     "name": "stdout",
     "output_type": "stream",
     "text": [
      "A TNF-IL-1 circuit controls Yersinia within intestinal granulomas.\n"
     ]
    },
    {
     "name": "stderr",
     "output_type": "stream",
     "text": [
      " 34%|███████████████████████████▌                                                    | 355/1030 [04:35<09:25,  1.19it/s]"
     ]
    },
    {
     "name": "stdout",
     "output_type": "stream",
     "text": [
      "Exploring the Phytobeneficial and Biocontrol Capacities of Endophytic Bacteria Isolated from Hybrid Vanilla Pods.\n"
     ]
    },
    {
     "name": "stderr",
     "output_type": "stream",
     "text": [
      " 35%|███████████████████████████▋                                                    | 356/1030 [04:35<08:51,  1.27it/s]"
     ]
    },
    {
     "name": "stdout",
     "output_type": "stream",
     "text": [
      "Plant Disease Resistance-Related Pathways Recruit Beneficial Bacteria by Remodeling Root Exudates upon Bacillus cereus AR156 Treatment.\n"
     ]
    },
    {
     "name": "stderr",
     "output_type": "stream",
     "text": [
      " 35%|███████████████████████████▋                                                    | 357/1030 [04:36<08:25,  1.33it/s]"
     ]
    },
    {
     "name": "stdout",
     "output_type": "stream",
     "text": [
      "Gut microbiome diversity, variability, and latent community types compared with shifts in body weight during the freshman year of college in dormitory-housed adolescents.\n"
     ]
    },
    {
     "name": "stderr",
     "output_type": "stream",
     "text": [
      " 35%|███████████████████████████▊                                                    | 358/1030 [04:37<08:20,  1.34it/s]"
     ]
    },
    {
     "name": "stdout",
     "output_type": "stream",
     "text": [
      "A review on synthesis and antibacterial potential of bio-selenium nanoparticles in the food industry.\n"
     ]
    },
    {
     "name": "stderr",
     "output_type": "stream",
     "text": [
      " 35%|███████████████████████████▉                                                    | 359/1030 [04:38<08:09,  1.37it/s]"
     ]
    },
    {
     "name": "stdout",
     "output_type": "stream",
     "text": [
      "Dynamics of Phyllosphere Microbiota and Chemical Parameters at Various Growth Stages and Their Contribution to Anaerobic Fermentation of Pennisetum giganteum.\n"
     ]
    },
    {
     "name": "stderr",
     "output_type": "stream",
     "text": [
      " 35%|███████████████████████████▉                                                    | 360/1030 [04:38<08:47,  1.27it/s]"
     ]
    },
    {
     "name": "stdout",
     "output_type": "stream",
     "text": [
      "The benefits of edible mushroom polysaccharides for health and their influence on gut microbiota: a review.\n"
     ]
    },
    {
     "name": "stderr",
     "output_type": "stream",
     "text": [
      " 35%|████████████████████████████                                                    | 361/1030 [04:39<08:28,  1.32it/s]"
     ]
    },
    {
     "name": "stdout",
     "output_type": "stream",
     "text": [
      "Bioengineering for the Microbial Degradation of Petroleum Hydrocarbon Contaminants.\n"
     ]
    },
    {
     "name": "stderr",
     "output_type": "stream",
     "text": [
      " 35%|████████████████████████████                                                    | 362/1030 [04:40<08:14,  1.35it/s]"
     ]
    },
    {
     "name": "stdout",
     "output_type": "stream",
     "text": [
      "Probiotics and vitamins modulate the cecal microbiota of laying hens submitted to induced molting.\n"
     ]
    },
    {
     "name": "stderr",
     "output_type": "stream",
     "text": [
      " 35%|████████████████████████████▏                                                   | 363/1030 [04:40<07:54,  1.41it/s]"
     ]
    },
    {
     "name": "stdout",
     "output_type": "stream",
     "text": [
      "The Influence of Polyphenols on Atherosclerosis Development.\n"
     ]
    },
    {
     "name": "stderr",
     "output_type": "stream",
     "text": [
      " 35%|████████████████████████████▎                                                   | 364/1030 [04:41<07:39,  1.45it/s]"
     ]
    },
    {
     "name": "stdout",
     "output_type": "stream",
     "text": [
      "Effects of Bacillus coagulans and Lactobacillus plantarum on the Fermentation Characteristics, Microbial Community, and Functional Shifts during Alfalfa Silage Fermentation.\n"
     ]
    },
    {
     "name": "stderr",
     "output_type": "stream",
     "text": [
      " 35%|████████████████████████████▎                                                   | 365/1030 [04:42<07:45,  1.43it/s]"
     ]
    },
    {
     "name": "stdout",
     "output_type": "stream",
     "text": [
      "Influence of gut microecology in the development of malignant tumors and its potential therapeutic application: A review.\n"
     ]
    },
    {
     "name": "stderr",
     "output_type": "stream",
     "text": [
      " 36%|████████████████████████████▍                                                   | 366/1030 [04:43<07:46,  1.42it/s]"
     ]
    },
    {
     "name": "stdout",
     "output_type": "stream",
     "text": [
      "Probiotics to improve the gut microbiome in premature infants: are we there yet?\n"
     ]
    },
    {
     "name": "stderr",
     "output_type": "stream",
     "text": [
      " 36%|████████████████████████████▌                                                   | 367/1030 [04:43<07:49,  1.41it/s]"
     ]
    },
    {
     "name": "stdout",
     "output_type": "stream",
     "text": [
      "Changes in the Human Gut Microbiome during Dietary Supplementation with Modified  Rice Bran Arabinoxylan Compound.\n"
     ]
    },
    {
     "name": "stderr",
     "output_type": "stream",
     "text": [
      " 36%|████████████████████████████▌                                                   | 368/1030 [04:44<07:42,  1.43it/s]"
     ]
    },
    {
     "name": "stdout",
     "output_type": "stream",
     "text": [
      "Identifying Bacteria with Public Health Significance from Farmed Nile Tilapia (Oreochromis niloticus), Zambia.\n"
     ]
    },
    {
     "name": "stderr",
     "output_type": "stream",
     "text": [
      " 36%|████████████████████████████▋                                                   | 369/1030 [04:45<07:50,  1.41it/s]"
     ]
    },
    {
     "name": "stdout",
     "output_type": "stream",
     "text": [
      "Wound Dressing Modifications for Accelerated Healing of Infected Wounds.\n"
     ]
    },
    {
     "name": "stderr",
     "output_type": "stream",
     "text": [
      " 36%|████████████████████████████▋                                                   | 370/1030 [04:45<08:01,  1.37it/s]"
     ]
    },
    {
     "name": "stdout",
     "output_type": "stream",
     "text": [
      "Shaping the Physicochemical, Functional, Microbiological and Sensory Properties of Yoghurts Using Plant Additives.\n"
     ]
    },
    {
     "name": "stderr",
     "output_type": "stream",
     "text": [
      " 36%|████████████████████████████▊                                                   | 371/1030 [04:46<08:04,  1.36it/s]"
     ]
    },
    {
     "name": "stdout",
     "output_type": "stream",
     "text": [
      "Antimicrobial Resistance in Romania: Updates on Gram-Negative ESCAPE Pathogens in the Clinical, Veterinary, and Aquatic Sectors.\n"
     ]
    },
    {
     "name": "stderr",
     "output_type": "stream",
     "text": [
      " 36%|████████████████████████████▉                                                   | 372/1030 [04:47<07:52,  1.39it/s]"
     ]
    },
    {
     "name": "stdout",
     "output_type": "stream",
     "text": [
      "Mobile Colistin Resistance (mcr) Gene-Containing Organisms in Poultry Sector in Low- and Middle-Income Countries: Epidemiology, Characteristics, and One Health Control Strategies.\n"
     ]
    },
    {
     "name": "stderr",
     "output_type": "stream",
     "text": [
      " 36%|████████████████████████████▉                                                   | 373/1030 [04:48<07:43,  1.42it/s]"
     ]
    },
    {
     "name": "stdout",
     "output_type": "stream",
     "text": [
      "Microbial Succession in the Cheese Ripening Process—Competition of the Starter Cultures and the Microbiota of the Cheese Plant Environment.\n"
     ]
    },
    {
     "name": "stderr",
     "output_type": "stream",
     "text": [
      " 36%|█████████████████████████████                                                   | 374/1030 [04:48<08:05,  1.35it/s]"
     ]
    },
    {
     "name": "stdout",
     "output_type": "stream",
     "text": [
      "Intratumoral Microbiota Changes with Tumor Stage and Influences the Immune Signature of Oral Squamous Cell Carcinoma.\n"
     ]
    },
    {
     "name": "stderr",
     "output_type": "stream",
     "text": [
      " 36%|█████████████████████████████▏                                                  | 375/1030 [04:49<08:02,  1.36it/s]"
     ]
    },
    {
     "name": "stdout",
     "output_type": "stream",
     "text": [
      "Green Tea Extract Alters Gut Microbiota and their Metabolism of Adults with Metabolic Syndrome in a Host-free Human Colonic Model.\n"
     ]
    },
    {
     "name": "stderr",
     "output_type": "stream",
     "text": [
      " 37%|█████████████████████████████▏                                                  | 376/1030 [04:50<08:03,  1.35it/s]"
     ]
    },
    {
     "name": "stdout",
     "output_type": "stream",
     "text": [
      "The Evaluation of Activity of Selected Lactic Acid Bacteria for Bioconversion of  Milk and Whey from Goat Milk to Release Biomolecules with Antibacterial Activity.\n"
     ]
    },
    {
     "name": "stderr",
     "output_type": "stream",
     "text": [
      " 37%|█████████████████████████████▎                                                  | 377/1030 [04:51<07:56,  1.37it/s]"
     ]
    },
    {
     "name": "stdout",
     "output_type": "stream",
     "text": [
      "Comparisons of Physicochemical Properties, Bacterial Diversities, Isoflavone Profiles and Antioxidant Activities on Household and Commercial doenjang.\n"
     ]
    },
    {
     "name": "stderr",
     "output_type": "stream",
     "text": [
      " 37%|█████████████████████████████▎                                                  | 378/1030 [04:51<07:54,  1.37it/s]"
     ]
    },
    {
     "name": "stdout",
     "output_type": "stream",
     "text": [
      "Investigating the antidepressant effect of Ziyan green tea on chronic unpredictable mild stress mice through fecal metabolomics.\n"
     ]
    },
    {
     "name": "stderr",
     "output_type": "stream",
     "text": [
      " 37%|█████████████████████████████▍                                                  | 379/1030 [04:52<07:57,  1.36it/s]"
     ]
    },
    {
     "name": "stdout",
     "output_type": "stream",
     "text": [
      "A comprehensive history of motility and Archaellation in Archaea.\n"
     ]
    },
    {
     "name": "stderr",
     "output_type": "stream",
     "text": [
      " 37%|█████████████████████████████▌                                                  | 380/1030 [04:53<07:44,  1.40it/s]"
     ]
    },
    {
     "name": "stdout",
     "output_type": "stream",
     "text": [
      "Effects from supplementary feeding of bamboo powder in perinatal period on farrowing process, serum biochemical indexes, and fecal microbes of sows and offspring piglets.\n"
     ]
    },
    {
     "name": "stderr",
     "output_type": "stream",
     "text": [
      " 37%|█████████████████████████████▌                                                  | 381/1030 [04:53<07:55,  1.36it/s]"
     ]
    },
    {
     "name": "stdout",
     "output_type": "stream",
     "text": [
      "Food, gut barrier dysfunction, and related diseases: A new target for future individualized disease prevention and management.\n"
     ]
    },
    {
     "name": "stderr",
     "output_type": "stream",
     "text": [
      " 37%|█████████████████████████████▋                                                  | 382/1030 [04:54<07:56,  1.36it/s]"
     ]
    },
    {
     "name": "stdout",
     "output_type": "stream",
     "text": [
      "Peracetic acid application as an antimicrobial and its residual (HEDP): a holistic approach on the technological characteristics of chicken meat.\n"
     ]
    },
    {
     "name": "stderr",
     "output_type": "stream",
     "text": [
      " 37%|█████████████████████████████▋                                                  | 383/1030 [04:55<08:07,  1.33it/s]"
     ]
    },
    {
     "name": "stdout",
     "output_type": "stream",
     "text": [
      "The Role of Lactoferrin in Intestinal Health.\n"
     ]
    },
    {
     "name": "stderr",
     "output_type": "stream",
     "text": [
      " 37%|█████████████████████████████▊                                                  | 384/1030 [04:56<08:20,  1.29it/s]"
     ]
    },
    {
     "name": "stdout",
     "output_type": "stream",
     "text": [
      "Screening microbial inoculants and their interventions for cross-kingdom management of wilt disease of solanaceous crops- a step toward sustainable agriculture.\n"
     ]
    },
    {
     "name": "stderr",
     "output_type": "stream",
     "text": [
      " 37%|█████████████████████████████▉                                                  | 385/1030 [04:57<07:58,  1.35it/s]"
     ]
    },
    {
     "name": "stdout",
     "output_type": "stream",
     "text": [
      "Dietary-Derived Exosome-like Nanoparticles as Bacterial Modulators: Beyond MicroRNAs.\n"
     ]
    },
    {
     "name": "stderr",
     "output_type": "stream",
     "text": [
      " 37%|█████████████████████████████▉                                                  | 386/1030 [04:57<07:43,  1.39it/s]"
     ]
    },
    {
     "name": "stdout",
     "output_type": "stream",
     "text": [
      "Microbiota and Cyanotoxin Content of Retail Spirulina Supplements and Spirulina Supplemented Foods.\n"
     ]
    },
    {
     "name": "stderr",
     "output_type": "stream",
     "text": [
      " 38%|██████████████████████████████                                                  | 387/1030 [04:58<08:31,  1.26it/s]"
     ]
    },
    {
     "name": "stdout",
     "output_type": "stream",
     "text": [
      "Whole genomes of deep-sea sponge-associated bacteria exhibit high novel natural product potential.\n"
     ]
    },
    {
     "name": "stderr",
     "output_type": "stream",
     "text": [
      " 38%|██████████████████████████████▏                                                 | 388/1030 [04:59<08:24,  1.27it/s]"
     ]
    },
    {
     "name": "stdout",
     "output_type": "stream",
     "text": [
      "Bioactivity Screening and Genomic Analysis Reveals Deep-Sea Fish Microbiome Isolates as Sources of Novel Antimicrobials.\n"
     ]
    },
    {
     "name": "stderr",
     "output_type": "stream",
     "text": [
      " 38%|██████████████████████████████▏                                                 | 389/1030 [05:00<08:11,  1.30it/s]"
     ]
    },
    {
     "name": "stdout",
     "output_type": "stream",
     "text": [
      "The role of intestinal microbiota and microRNAs in the anti-inflammatory effects  of cranberry: from pre-clinical to clinical studies.\n"
     ]
    },
    {
     "name": "stderr",
     "output_type": "stream",
     "text": [
      " 38%|██████████████████████████████▎                                                 | 390/1030 [05:01<09:10,  1.16it/s]"
     ]
    },
    {
     "name": "stdout",
     "output_type": "stream",
     "text": [
      "Evaluation of Bacillus paramycoides Strains Isolated from Channa Fish sp. on Growth Performance of Labeo rohita Fingerlings Challenged by Fish Pathogen Aeromonas hydrophila MTCC 12301.\n"
     ]
    },
    {
     "name": "stderr",
     "output_type": "stream",
     "text": [
      " 38%|██████████████████████████████▎                                                 | 391/1030 [05:02<09:38,  1.11it/s]"
     ]
    },
    {
     "name": "stdout",
     "output_type": "stream",
     "text": [
      "Feasibility insights into the application of Paenibacillus pabuli E1 in animal feed to eliminate non-starch polysaccharides.\n"
     ]
    },
    {
     "name": "stderr",
     "output_type": "stream",
     "text": [
      " 38%|██████████████████████████████▍                                                 | 392/1030 [05:02<08:54,  1.19it/s]"
     ]
    },
    {
     "name": "stdout",
     "output_type": "stream",
     "text": [
      "Side Streams of Vegetable Processing and Its Bioactive Compounds Support Microbiota, Intestine Milieu, and Immune System.\n"
     ]
    },
    {
     "name": "stderr",
     "output_type": "stream",
     "text": [
      " 38%|██████████████████████████████▌                                                 | 393/1030 [05:03<08:32,  1.24it/s]"
     ]
    },
    {
     "name": "stdout",
     "output_type": "stream",
     "text": [
      "Strategies for the Development of Bioprotective Cultures in Food Preservation.\n"
     ]
    },
    {
     "name": "stderr",
     "output_type": "stream",
     "text": [
      " 38%|██████████████████████████████▌                                                 | 394/1030 [05:04<08:22,  1.26it/s]"
     ]
    },
    {
     "name": "stdout",
     "output_type": "stream",
     "text": [
      "A comprehensive review on infant formula: nutritional and functional constituents, recent trends in processing and its impact on infants’ gut microbiota.\n"
     ]
    },
    {
     "name": "stderr",
     "output_type": "stream",
     "text": [
      " 38%|██████████████████████████████▋                                                 | 395/1030 [05:05<08:13,  1.29it/s]"
     ]
    },
    {
     "name": "stdout",
     "output_type": "stream",
     "text": [
      "Rhizobacterial mediated interactions in Curcuma longa for plant growth and enhanced crop productivity: a systematic review.\n"
     ]
    },
    {
     "name": "stderr",
     "output_type": "stream",
     "text": [
      " 38%|██████████████████████████████▊                                                 | 396/1030 [05:06<08:45,  1.21it/s]"
     ]
    },
    {
     "name": "stdout",
     "output_type": "stream",
     "text": [
      "Culture-Dependent and Metabarcoding Characterization of the Sugar Beet (Beta vulgaris L.) Microbiome for High-Yield Isolation of Bacteria with Plant Growth-Promoting Traits.\n"
     ]
    },
    {
     "name": "stderr",
     "output_type": "stream",
     "text": [
      " 39%|██████████████████████████████▊                                                 | 397/1030 [05:07<09:28,  1.11it/s]"
     ]
    },
    {
     "name": "stdout",
     "output_type": "stream",
     "text": [
      "Cronobacter Species in the Built Food Production Environment: A Review on Persistence, Pathogenicity, Regulation and Detection Methods.\n"
     ]
    },
    {
     "name": "stderr",
     "output_type": "stream",
     "text": [
      " 39%|██████████████████████████████▉                                                 | 398/1030 [05:07<09:13,  1.14it/s]"
     ]
    },
    {
     "name": "stdout",
     "output_type": "stream",
     "text": [
      "Growth of Gram-Negative Bacteria in Antiseptics, Disinfectants and Hand Hygiene Products in Two Tertiary Care Hospitals in West Africa—A Cross-Sectional Survey.\n"
     ]
    },
    {
     "name": "stderr",
     "output_type": "stream",
     "text": [
      " 39%|██████████████████████████████▉                                                 | 399/1030 [05:08<08:43,  1.21it/s]"
     ]
    },
    {
     "name": "stdout",
     "output_type": "stream",
     "text": [
      "Improvement of growth, yield and associated bacteriome of rice by the application of probiotic Paraburkholderia and Delftia.\n"
     ]
    },
    {
     "name": "stderr",
     "output_type": "stream",
     "text": [
      " 39%|███████████████████████████████                                                 | 400/1030 [05:09<08:59,  1.17it/s]"
     ]
    },
    {
     "name": "stdout",
     "output_type": "stream",
     "text": [
      "Lifestyle patterns influence the composition of the gut microbiome in a healthy Chinese population.\n"
     ]
    },
    {
     "name": "stderr",
     "output_type": "stream",
     "text": [
      " 39%|███████████████████████████████▏                                                | 401/1030 [05:10<08:24,  1.25it/s]"
     ]
    },
    {
     "name": "stdout",
     "output_type": "stream",
     "text": [
      "Unraveling the role of type 1 fimbriae in Salmonella pathogenesis: insights from  a comparative analysis of Salmonella Enteritidis and Salmonella Gallinarum.\n"
     ]
    },
    {
     "name": "stderr",
     "output_type": "stream",
     "text": [
      " 39%|███████████████████████████████▏                                                | 402/1030 [05:11<08:13,  1.27it/s]"
     ]
    },
    {
     "name": "stdout",
     "output_type": "stream",
     "text": [
      "Diversity and Co-Occurrence Pattern Analysis of Cecal and Jejunal Microbiota in Two Rabbit Breeds.\n"
     ]
    },
    {
     "name": "stderr",
     "output_type": "stream",
     "text": [
      " 39%|███████████████████████████████▎                                                | 403/1030 [05:11<08:38,  1.21it/s]"
     ]
    },
    {
     "name": "stdout",
     "output_type": "stream",
     "text": [
      "Cysteine dependence of Lactobacillus iners is a potential therapeutic target for  vaginal microbiota modulation.\n"
     ]
    },
    {
     "name": "stderr",
     "output_type": "stream",
     "text": [
      " 39%|███████████████████████████████▍                                                | 404/1030 [05:12<08:09,  1.28it/s]"
     ]
    },
    {
     "name": "stdout",
     "output_type": "stream",
     "text": [
      "Phytochemicals as Invaluable Sources of Potent Antimicrobial Agents to Combat Antibiotic Resistance.\n"
     ]
    },
    {
     "name": "stderr",
     "output_type": "stream",
     "text": [
      " 39%|███████████████████████████████▍                                                | 405/1030 [05:13<08:11,  1.27it/s]"
     ]
    },
    {
     "name": "stdout",
     "output_type": "stream",
     "text": [
      "Current State of Knowledge Regarding WHO High Priority Pathogens—Resistance Mechanisms and Proposed Solutions through Candidates Such as Essential Oils: A Systematic Review.\n"
     ]
    },
    {
     "name": "stderr",
     "output_type": "stream",
     "text": [
      " 39%|███████████████████████████████▌                                                | 406/1030 [05:14<07:52,  1.32it/s]"
     ]
    },
    {
     "name": "stdout",
     "output_type": "stream",
     "text": [
      "Gut pathogen colonization precedes bloodstream infection in the neonatal intensive care unit.\n"
     ]
    },
    {
     "name": "stderr",
     "output_type": "stream",
     "text": [
      " 40%|███████████████████████████████▌                                                | 407/1030 [05:14<07:41,  1.35it/s]"
     ]
    },
    {
     "name": "stdout",
     "output_type": "stream",
     "text": [
      "Mechanism of Metabolic Response to Hepatectomy by Integrated Analysis of Gut Microbiota, Metabolomics, and Proteomics.\n"
     ]
    },
    {
     "name": "stderr",
     "output_type": "stream",
     "text": [
      " 40%|███████████████████████████████▋                                                | 408/1030 [05:15<07:39,  1.35it/s]"
     ]
    },
    {
     "name": "stdout",
     "output_type": "stream",
     "text": [
      "Influence of Maternal Breast Milk and Vaginal Microbiome on Neonatal Gut Microbiome: a Longitudinal Study during the First Year.\n"
     ]
    },
    {
     "name": "stderr",
     "output_type": "stream",
     "text": [
      " 40%|███████████████████████████████▊                                                | 409/1030 [05:16<07:29,  1.38it/s]"
     ]
    },
    {
     "name": "stdout",
     "output_type": "stream",
     "text": [
      "Heavy metal, microbial and pesticides residue contaminations are limiting the potential consumption of green leafy vegetables in Ghana: An overview.\n"
     ]
    },
    {
     "name": "stderr",
     "output_type": "stream",
     "text": [
      " 40%|███████████████████████████████▊                                                | 410/1030 [05:16<07:24,  1.40it/s]"
     ]
    },
    {
     "name": "stdout",
     "output_type": "stream",
     "text": [
      "The temporal dynamics of antimicrobial-resistant Salmonella enterica and predominant serovars in China.\n"
     ]
    },
    {
     "name": "stderr",
     "output_type": "stream",
     "text": [
      " 40%|███████████████████████████████▉                                                | 411/1030 [05:17<07:32,  1.37it/s]"
     ]
    },
    {
     "name": "stdout",
     "output_type": "stream",
     "text": [
      "A Study on Differential Biomarkers in the Milk of Holstein Cows with Different Somatic Cells Count Levels.\n"
     ]
    },
    {
     "name": "stderr",
     "output_type": "stream",
     "text": [
      " 40%|████████████████████████████████                                                | 412/1030 [05:18<07:38,  1.35it/s]"
     ]
    },
    {
     "name": "stdout",
     "output_type": "stream",
     "text": [
      "Microalgae, Seaweeds and Aquatic Bacteria, Archaea, and Yeasts: Sources of Carotenoids with Potential Antioxidant and Anti-Inflammatory Health-Promoting Actions in the Sustainability Era.\n"
     ]
    },
    {
     "name": "stderr",
     "output_type": "stream",
     "text": [
      " 40%|████████████████████████████████                                                | 413/1030 [05:19<07:20,  1.40it/s]"
     ]
    },
    {
     "name": "stdout",
     "output_type": "stream",
     "text": [
      "Effect of short‐term consumption of yellow peas as noodles on the intestinal environment: A single‐armed pre‐post comparative pilot study.\n"
     ]
    },
    {
     "name": "stderr",
     "output_type": "stream",
     "text": [
      " 40%|████████████████████████████████▏                                               | 414/1030 [05:19<07:12,  1.42it/s]"
     ]
    },
    {
     "name": "stdout",
     "output_type": "stream",
     "text": [
      "Occurrence, molecular characterization and antibiotic resistance of Cronobacter spp. isolated from wet rice and flour products in Guangdong, China.\n"
     ]
    },
    {
     "name": "stderr",
     "output_type": "stream",
     "text": [
      " 40%|████████████████████████████████▏                                               | 415/1030 [05:20<07:04,  1.45it/s]"
     ]
    },
    {
     "name": "stdout",
     "output_type": "stream",
     "text": [
      "Exploring the Milk Microbiota of Healthy and Mastitic Nili Ravi Buffalo Using 16S rRNA Gene Base Metagenomic Analysis.\n"
     ]
    },
    {
     "name": "stderr",
     "output_type": "stream",
     "text": [
      " 40%|████████████████████████████████▎                                               | 416/1030 [05:21<06:59,  1.46it/s]"
     ]
    },
    {
     "name": "stdout",
     "output_type": "stream",
     "text": [
      "Lactiplantibacillus plantarum, lactiplantibacillus pentosus and inulin meal inclusion boost the metagenomic function of broiler chickens.\n"
     ]
    },
    {
     "name": "stderr",
     "output_type": "stream",
     "text": [
      " 40%|████████████████████████████████▍                                               | 417/1030 [05:21<06:58,  1.46it/s]"
     ]
    },
    {
     "name": "stdout",
     "output_type": "stream",
     "text": [
      "Polyhydroxybutyrate production by recombinant Escherichia coli based on genes related to synthesis pathway of PHB from Massilia sp. UMI-21.\n"
     ]
    },
    {
     "name": "stderr",
     "output_type": "stream",
     "text": [
      " 41%|████████████████████████████████▍                                               | 418/1030 [05:22<06:51,  1.49it/s]"
     ]
    },
    {
     "name": "stdout",
     "output_type": "stream",
     "text": [
      "Disclosing the native blueberry rhizosphere community in Portugal—an integrated metagenomic and isolation approach.\n"
     ]
    },
    {
     "name": "stderr",
     "output_type": "stream",
     "text": [
      " 41%|████████████████████████████████▌                                               | 419/1030 [05:23<07:07,  1.43it/s]"
     ]
    },
    {
     "name": "stdout",
     "output_type": "stream",
     "text": [
      "Genomic Characterization of Antibiotic-Resistant Campylobacterales Isolated from  Chilean Poultry Meat.\n"
     ]
    },
    {
     "name": "stderr",
     "output_type": "stream",
     "text": [
      " 41%|████████████████████████████████▌                                               | 420/1030 [05:24<08:23,  1.21it/s]"
     ]
    },
    {
     "name": "stdout",
     "output_type": "stream",
     "text": [
      "Rothia from the Human Nose Inhibit Moraxella catarrhalis Colonization with a Secreted Peptidoglycan Endopeptidase.\n"
     ]
    },
    {
     "name": "stderr",
     "output_type": "stream",
     "text": [
      " 41%|████████████████████████████████▋                                               | 421/1030 [05:25<08:17,  1.22it/s]"
     ]
    },
    {
     "name": "stdout",
     "output_type": "stream",
     "text": [
      "Fermented Bamboo Fiber Improves Productive Performance by Regulating Gut Microbiota and Inhibiting Chronic Inflammation of Sows and Piglets during Late Gestation and Lactation.\n"
     ]
    },
    {
     "name": "stderr",
     "output_type": "stream",
     "text": [
      " 41%|████████████████████████████████▊                                               | 422/1030 [05:25<08:18,  1.22it/s]"
     ]
    },
    {
     "name": "stdout",
     "output_type": "stream",
     "text": [
      "Evaluation of microbial communities of Chinese Feng-flavor Daqu with effects of environmental factors using traceability analysis.\n"
     ]
    },
    {
     "name": "stderr",
     "output_type": "stream",
     "text": [
      " 41%|████████████████████████████████▊                                               | 423/1030 [05:26<07:55,  1.28it/s]"
     ]
    },
    {
     "name": "stdout",
     "output_type": "stream",
     "text": [
      "Population Dynamics of Intestinal Enterococcus Modulate Galleria mellonella Metamorphosis.\n"
     ]
    },
    {
     "name": "stderr",
     "output_type": "stream",
     "text": [
      " 41%|████████████████████████████████▉                                               | 424/1030 [05:27<07:45,  1.30it/s]"
     ]
    },
    {
     "name": "stdout",
     "output_type": "stream",
     "text": [
      "Physiological effects of in ovo delivery of bioactive substances in broiler chickens.\n"
     ]
    },
    {
     "name": "stderr",
     "output_type": "stream",
     "text": [
      " 41%|█████████████████████████████████                                               | 425/1030 [05:28<07:39,  1.32it/s]"
     ]
    },
    {
     "name": "stdout",
     "output_type": "stream",
     "text": [
      "Natural fermentation quality, bacteria, and functional profiles of three cuttings of alfalfa silage in a year in Inner Mongolia, China.\n"
     ]
    },
    {
     "name": "stderr",
     "output_type": "stream",
     "text": [
      " 41%|█████████████████████████████████                                               | 426/1030 [05:28<07:26,  1.35it/s]"
     ]
    },
    {
     "name": "stdout",
     "output_type": "stream",
     "text": [
      "Antibiotic Resistance Profiles and ARG Detection from Isolated Bacteria in a Culture-Dependent Study at the Codfish Industry Level.\n"
     ]
    },
    {
     "name": "stderr",
     "output_type": "stream",
     "text": [
      " 41%|█████████████████████████████████▏                                              | 427/1030 [05:29<07:38,  1.31it/s]"
     ]
    },
    {
     "name": "stdout",
     "output_type": "stream",
     "text": [
      "Fishmeal Protein Replacement by Defatted and Full-Fat Black Soldier Fly Larvae Meal in Juvenile Turbot Diet: Effects on the Growth Performance and Intestinal Microbiota.\n"
     ]
    },
    {
     "name": "stderr",
     "output_type": "stream",
     "text": [
      " 42%|█████████████████████████████████▏                                              | 428/1030 [05:30<07:24,  1.35it/s]"
     ]
    },
    {
     "name": "stdout",
     "output_type": "stream",
     "text": [
      "Recent Perspective of Lactobacillus in Reducing Oxidative Stress to Prevent Disease.\n"
     ]
    },
    {
     "name": "stderr",
     "output_type": "stream",
     "text": [
      " 42%|█████████████████████████████████▎                                              | 429/1030 [05:31<07:20,  1.37it/s]"
     ]
    },
    {
     "name": "stdout",
     "output_type": "stream",
     "text": [
      "Suppressive Effects of Volatile Compounds from Bacillus spp. on Magnaporthe oryzae Triticum (MoT) Pathotype, Causal Agent of Wheat Blast.\n"
     ]
    },
    {
     "name": "stderr",
     "output_type": "stream",
     "text": [
      " 42%|█████████████████████████████████▍                                              | 430/1030 [05:31<07:04,  1.41it/s]"
     ]
    },
    {
     "name": "stdout",
     "output_type": "stream",
     "text": [
      "Microbiological safety and quality of ceviche, poke, and sushi dishes sold at retail outlets in Orange County, CA.\n"
     ]
    },
    {
     "name": "stderr",
     "output_type": "stream",
     "text": [
      " 42%|█████████████████████████████████▍                                              | 431/1030 [05:32<06:51,  1.46it/s]"
     ]
    },
    {
     "name": "stdout",
     "output_type": "stream",
     "text": [
      "Effects of Shenling Baizhu powder on intestinal microflora metabolites and liver  mitochondrial energy metabolism in nonalcoholic fatty liver mice.\n"
     ]
    },
    {
     "name": "stderr",
     "output_type": "stream",
     "text": [
      " 42%|█████████████████████████████████▌                                              | 432/1030 [05:32<06:45,  1.48it/s]"
     ]
    },
    {
     "name": "stdout",
     "output_type": "stream",
     "text": [
      "Effects of Sodium Butyrate Supplementation in Milk on the Growth Performance and  Intestinal Microbiota of Preweaning Holstein Calves.\n"
     ]
    },
    {
     "name": "stderr",
     "output_type": "stream",
     "text": [
      " 42%|█████████████████████████████████▋                                              | 433/1030 [05:34<08:06,  1.23it/s]"
     ]
    },
    {
     "name": "stdout",
     "output_type": "stream",
     "text": [
      "Sugar Concentration, Nitrogen Availability, and Phylogenetic Factors Determine the Ability of Acinetobacter spp. and Rosenbergiella spp. to Grow in Floral Nectar.\n"
     ]
    },
    {
     "name": "stderr",
     "output_type": "stream",
     "text": [
      " 42%|█████████████████████████████████▋                                              | 434/1030 [05:34<07:55,  1.25it/s]"
     ]
    },
    {
     "name": "stdout",
     "output_type": "stream",
     "text": [
      "Aquaculture bacterial pathogen database: Pathogen monitoring and screening in coastal waters using environmental DNA.\n"
     ]
    },
    {
     "name": "stderr",
     "output_type": "stream",
     "text": [
      " 42%|█████████████████████████████████▊                                              | 435/1030 [05:35<07:41,  1.29it/s]"
     ]
    },
    {
     "name": "stdout",
     "output_type": "stream",
     "text": [
      "Study on the quality formation mechanism of Zao chili with enhanced fermentation  by Lactipllantbacillus plantarum 5-1.\n"
     ]
    },
    {
     "name": "stderr",
     "output_type": "stream",
     "text": [
      " 42%|█████████████████████████████████▊                                              | 436/1030 [05:36<07:52,  1.26it/s]"
     ]
    },
    {
     "name": "stdout",
     "output_type": "stream",
     "text": [
      "Periodontitis salivary microbiota exacerbates nonalcoholic fatty liver disease in high-fat diet-induced obese mice.\n"
     ]
    },
    {
     "name": "stderr",
     "output_type": "stream",
     "text": [
      " 42%|█████████████████████████████████▉                                              | 437/1030 [05:37<07:24,  1.33it/s]"
     ]
    },
    {
     "name": "stdout",
     "output_type": "stream",
     "text": [
      "Resistant starches from dietary pulses modulate the gut metabolome in association with microbiome in a humanized murine model of ageing.\n"
     ]
    },
    {
     "name": "stderr",
     "output_type": "stream",
     "text": [
      " 43%|██████████████████████████████████                                              | 438/1030 [05:37<07:06,  1.39it/s]"
     ]
    },
    {
     "name": "stdout",
     "output_type": "stream",
     "text": [
      "Divergent endophytic viromes and phage genome repertoires among banana (Musa) species.\n"
     ]
    },
    {
     "name": "stderr",
     "output_type": "stream",
     "text": [
      " 43%|██████████████████████████████████                                              | 439/1030 [05:38<06:59,  1.41it/s]"
     ]
    },
    {
     "name": "stdout",
     "output_type": "stream",
     "text": [
      "Limosilactobacillus mucosae-derived extracellular vesicles modulates macrophage phenotype and orchestrates gut homeostasis in a diarrheal piglet model.\n"
     ]
    },
    {
     "name": "stderr",
     "output_type": "stream",
     "text": [
      " 43%|██████████████████████████████████▏                                             | 440/1030 [05:39<07:00,  1.40it/s]"
     ]
    },
    {
     "name": "stdout",
     "output_type": "stream",
     "text": [
      "Bacterial-Mediated Salinity Stress Tolerance in Maize (Zea mays L.): A Fortunate  Way toward Sustainable Agriculture.\n"
     ]
    },
    {
     "name": "stderr",
     "output_type": "stream",
     "text": [
      " 43%|██████████████████████████████████▎                                             | 441/1030 [05:39<06:48,  1.44it/s]"
     ]
    },
    {
     "name": "stdout",
     "output_type": "stream",
     "text": [
      "Systematic Microbiome Dysbiosis Is Associated with IgA Nephropathy.\n"
     ]
    },
    {
     "name": "stderr",
     "output_type": "stream",
     "text": [
      " 43%|██████████████████████████████████▎                                             | 442/1030 [05:40<06:52,  1.42it/s]"
     ]
    },
    {
     "name": "stdout",
     "output_type": "stream",
     "text": [
      "Clinical efficacy of Gualou Xiaoyong Decoction and painless lactation manipulation in treating lactation acute mastitis and breast abscess: An observational study.\n"
     ]
    },
    {
     "name": "stderr",
     "output_type": "stream",
     "text": [
      " 43%|██████████████████████████████████▍                                             | 443/1030 [05:41<07:03,  1.38it/s]"
     ]
    },
    {
     "name": "stdout",
     "output_type": "stream",
     "text": [
      "Short-Term Alternate Feeding between Terrestrially Sourced Oil- and Fish Oil-Based Diets Modulates the Intestinal Microecology of Juvenile Turbot.\n"
     ]
    },
    {
     "name": "stderr",
     "output_type": "stream",
     "text": [
      " 43%|██████████████████████████████████▍                                             | 444/1030 [05:41<06:51,  1.43it/s]"
     ]
    },
    {
     "name": "stdout",
     "output_type": "stream",
     "text": [
      "Progress in the application of Enterococcus faecium in animal husbandry.\n"
     ]
    },
    {
     "name": "stderr",
     "output_type": "stream",
     "text": [
      " 43%|██████████████████████████████████▌                                             | 445/1030 [05:42<07:03,  1.38it/s]"
     ]
    },
    {
     "name": "stdout",
     "output_type": "stream",
     "text": [
      "Comparison of bacterial diversity in Bactrocera cucurbitae (Coquillett) ovaries and eggs based on 16S rRNA sequencing.\n"
     ]
    },
    {
     "name": "stderr",
     "output_type": "stream",
     "text": [
      " 43%|██████████████████████████████████▋                                             | 446/1030 [05:43<06:50,  1.42it/s]"
     ]
    },
    {
     "name": "stdout",
     "output_type": "stream",
     "text": [
      "Dynamic Changes in Flavor and Microbiota in Traditionally Fermented Bamboo Shoots (Chimonobambusa szechuanensis (Rendle) Keng f.).\n"
     ]
    },
    {
     "name": "stderr",
     "output_type": "stream",
     "text": [
      " 43%|██████████████████████████████████▋                                             | 447/1030 [05:44<07:22,  1.32it/s]"
     ]
    },
    {
     "name": "stdout",
     "output_type": "stream",
     "text": [
      "Recent trends in the use of bacteriophages as replacement of antimicrobials against food-animal pathogens.\n"
     ]
    },
    {
     "name": "stderr",
     "output_type": "stream",
     "text": [
      " 43%|██████████████████████████████████▊                                             | 448/1030 [05:45<07:25,  1.31it/s]"
     ]
    },
    {
     "name": "stdout",
     "output_type": "stream",
     "text": [
      "The hepatoprotective candidates by synergistic formula of marine and terrestrial  against Acetaminophen toxicity using in-vitro, in-vivo, and in silico screening approach.\n"
     ]
    },
    {
     "name": "stderr",
     "output_type": "stream",
     "text": [
      " 44%|██████████████████████████████████▊                                             | 449/1030 [05:45<07:36,  1.27it/s]"
     ]
    },
    {
     "name": "stdout",
     "output_type": "stream",
     "text": [
      "Widespread Bradyrhizobium distribution of diverse Type III effectors that trigger legume nodulation in the absence of Nod factor.\n"
     ]
    },
    {
     "name": "stderr",
     "output_type": "stream",
     "text": [
      " 44%|██████████████████████████████████▉                                             | 450/1030 [05:46<07:43,  1.25it/s]"
     ]
    },
    {
     "name": "stdout",
     "output_type": "stream",
     "text": [
      "Antimicrobial Efficiency of Pistacia lentiscus L. Derivates against Oral Biofilm-Associated Diseases—A Narrative Review.\n"
     ]
    },
    {
     "name": "stderr",
     "output_type": "stream",
     "text": [
      " 44%|███████████████████████████████████                                             | 451/1030 [05:47<07:21,  1.31it/s]"
     ]
    },
    {
     "name": "stdout",
     "output_type": "stream",
     "text": [
      "Microbial diversity and metabolic function in duodenum, jejunum and ileum of emu  (Dromaius novaehollandiae).\n"
     ]
    },
    {
     "name": "stderr",
     "output_type": "stream",
     "text": [
      " 44%|███████████████████████████████████                                             | 452/1030 [05:48<07:03,  1.37it/s]"
     ]
    },
    {
     "name": "stdout",
     "output_type": "stream",
     "text": [
      "Gut microbiota-derived short-chain fatty acids regulate gastrointestinal tumor immunity: a novel therapeutic strategy?\n"
     ]
    },
    {
     "name": "stderr",
     "output_type": "stream",
     "text": [
      " 44%|███████████████████████████████████▏                                            | 453/1030 [05:48<06:50,  1.41it/s]"
     ]
    },
    {
     "name": "stdout",
     "output_type": "stream",
     "text": [
      "Gut microbiota and fecal short chain fatty acids differ with adiposity and country of origin: the METS-microbiome study.\n"
     ]
    },
    {
     "name": "stderr",
     "output_type": "stream",
     "text": [
      " 44%|███████████████████████████████████▎                                            | 454/1030 [05:50<08:58,  1.07it/s]"
     ]
    },
    {
     "name": "stdout",
     "output_type": "stream",
     "text": [
      "Oil-Contaminated Soil Remediation with Biodegradation by Autochthonous Microorganisms and Phytoremediation by Maize (Zea mays).\n"
     ]
    },
    {
     "name": "stderr",
     "output_type": "stream",
     "text": [
      " 44%|███████████████████████████████████▎                                            | 455/1030 [05:50<08:14,  1.16it/s]"
     ]
    },
    {
     "name": "stdout",
     "output_type": "stream",
     "text": [
      "Role of gut microbiota metabolism and biotransformation on dietary natural products to human health implications with special reference to biochemoinformatics approach.\n"
     ]
    },
    {
     "name": "stderr",
     "output_type": "stream",
     "text": [
      " 44%|███████████████████████████████████▍                                            | 456/1030 [05:51<07:52,  1.21it/s]"
     ]
    },
    {
     "name": "stdout",
     "output_type": "stream",
     "text": [
      "Enzymatically prepared alginate oligosaccharides improve broiler chicken growth performance by modulating the gut microbiota and growth hormone signals.\n"
     ]
    },
    {
     "name": "stderr",
     "output_type": "stream",
     "text": [
      " 44%|███████████████████████████████████▍                                            | 457/1030 [05:52<07:21,  1.30it/s]"
     ]
    },
    {
     "name": "stdout",
     "output_type": "stream",
     "text": [
      "Circulation of thermophilic Campylobacter in pigeons, turkeys, and humans at live bird markets in Egypt.\n"
     ]
    },
    {
     "name": "stderr",
     "output_type": "stream",
     "text": [
      " 44%|███████████████████████████████████▌                                            | 458/1030 [05:52<07:00,  1.36it/s]"
     ]
    },
    {
     "name": "stdout",
     "output_type": "stream",
     "text": [
      "Bacillus subtilis PM5 from Camel Milk Boosts Chicken Immunity and Abrogates Salmonella entertitidis Infections.\n"
     ]
    },
    {
     "name": "stderr",
     "output_type": "stream",
     "text": [
      " 45%|███████████████████████████████████▋                                            | 459/1030 [05:53<07:15,  1.31it/s]"
     ]
    },
    {
     "name": "stdout",
     "output_type": "stream",
     "text": [
      "The occurrence of antibiotic-resistant enteric bacteria in Selected Nigerian traditional dairy products.\n"
     ]
    },
    {
     "name": "stderr",
     "output_type": "stream",
     "text": [
      " 45%|███████████████████████████████████▋                                            | 460/1030 [05:54<06:58,  1.36it/s]"
     ]
    },
    {
     "name": "stdout",
     "output_type": "stream",
     "text": [
      "Antibiotic resistomes in face-mask biofilm along an urban river: Multiple drivers and co-occurrence with human opportunistic pathogens.\n"
     ]
    },
    {
     "name": "stderr",
     "output_type": "stream",
     "text": [
      " 45%|███████████████████████████████████▊                                            | 461/1030 [05:55<08:44,  1.09it/s]"
     ]
    },
    {
     "name": "stdout",
     "output_type": "stream",
     "text": [
      "Bacteriospermia and its antimicrobial resistance in relation to boar sperm quality during short-term storage with or without antibiotics in a tropical environment.\n"
     ]
    },
    {
     "name": "stderr",
     "output_type": "stream",
     "text": [
      " 45%|███████████████████████████████████▉                                            | 462/1030 [05:56<08:04,  1.17it/s]"
     ]
    },
    {
     "name": "stdout",
     "output_type": "stream",
     "text": [
      "Synbiotics as Supplemental Therapy for the Alleviation of Chemotherapy-Associated Symptoms in Patients with Solid Tumours.\n"
     ]
    },
    {
     "name": "stderr",
     "output_type": "stream",
     "text": [
      " 45%|███████████████████████████████████▉                                            | 463/1030 [05:57<07:27,  1.27it/s]"
     ]
    },
    {
     "name": "stdout",
     "output_type": "stream",
     "text": [
      "Insights into the Biocontrol Function of a Burkholderia gladioli Strain against Botrytis cinerea.\n"
     ]
    },
    {
     "name": "stderr",
     "output_type": "stream",
     "text": [
      " 45%|████████████████████████████████████                                            | 464/1030 [05:57<07:04,  1.33it/s]"
     ]
    },
    {
     "name": "stdout",
     "output_type": "stream",
     "text": [
      "Analysis of changes in bacterial diversity in healthy and bacterial wilt mulberry samples using metagenomic sequencing and culture-dependent approaches.\n"
     ]
    },
    {
     "name": "stderr",
     "output_type": "stream",
     "text": [
      " 45%|████████████████████████████████████                                            | 465/1030 [05:58<06:49,  1.38it/s]"
     ]
    },
    {
     "name": "stdout",
     "output_type": "stream",
     "text": [
      "Targeting Lung–Gut Axis for Regulating Pollution Particle–Mediated Inflammation and Metabolic Disorders.\n"
     ]
    },
    {
     "name": "stderr",
     "output_type": "stream",
     "text": [
      " 45%|████████████████████████████████████▏                                           | 466/1030 [05:59<06:37,  1.42it/s]"
     ]
    },
    {
     "name": "stdout",
     "output_type": "stream",
     "text": [
      "Microbiota-Liver-Bile Salts Axis, a Novel Mechanism Involved in the Contrasting Effects of Sodium Selenite and Selenium-Nanoparticle Supplementation on Adipose Tissue Development in Adolescent Rats.\n"
     ]
    },
    {
     "name": "stderr",
     "output_type": "stream",
     "text": [
      " 45%|████████████████████████████████████▎                                           | 467/1030 [05:59<07:00,  1.34it/s]"
     ]
    },
    {
     "name": "stdout",
     "output_type": "stream",
     "text": [
      "The role of complex interactions between the intestinal flora and host in regulating intestinal homeostasis and inflammatory bowel disease.\n"
     ]
    },
    {
     "name": "stderr",
     "output_type": "stream",
     "text": [
      " 45%|████████████████████████████████████▎                                           | 468/1030 [06:00<06:48,  1.38it/s]"
     ]
    },
    {
     "name": "stdout",
     "output_type": "stream",
     "text": [
      "Salmonella enterica subspecies enterica serovar Choleraesuis in a Swedish gilt-producing herd, a case report.\n"
     ]
    },
    {
     "name": "stderr",
     "output_type": "stream",
     "text": [
      " 46%|████████████████████████████████████▍                                           | 469/1030 [06:01<06:32,  1.43it/s]"
     ]
    },
    {
     "name": "stdout",
     "output_type": "stream",
     "text": [
      "Effect of Nuts on Gastrointestinal Health.\n"
     ]
    },
    {
     "name": "stderr",
     "output_type": "stream",
     "text": [
      " 46%|████████████████████████████████████▌                                           | 470/1030 [06:01<06:31,  1.43it/s]"
     ]
    },
    {
     "name": "stdout",
     "output_type": "stream",
     "text": [
      "β-glucans: a potential source for maintaining gut microbiota and the immune system.\n"
     ]
    },
    {
     "name": "stderr",
     "output_type": "stream",
     "text": [
      " 46%|████████████████████████████████████▌                                           | 471/1030 [06:02<06:38,  1.40it/s]"
     ]
    },
    {
     "name": "stdout",
     "output_type": "stream",
     "text": [
      "Novel long-acting brimonidine tartrate loaded-PCL/PVP nanofibers for versatile biomedical applications: fabrication, characterization and antimicrobial evaluation.\n"
     ]
    },
    {
     "name": "stderr",
     "output_type": "stream",
     "text": [
      " 46%|████████████████████████████████████▋                                           | 472/1030 [06:03<06:40,  1.39it/s]"
     ]
    },
    {
     "name": "stdout",
     "output_type": "stream",
     "text": [
      "A-MYB and BRDT-dependent RNA Polymerase II pause release orchestrates transcriptional regulation in mammalian meiosis.\n"
     ]
    },
    {
     "name": "stderr",
     "output_type": "stream",
     "text": [
      " 46%|████████████████████████████████████▋                                           | 473/1030 [06:04<06:39,  1.39it/s]"
     ]
    },
    {
     "name": "stdout",
     "output_type": "stream",
     "text": [
      "Proanthocyanidins: Impact on Gut Microbiota and Intestinal Action Mechanisms in the Prevention and Treatment of Metabolic Syndrome.\n"
     ]
    },
    {
     "name": "stderr",
     "output_type": "stream",
     "text": [
      " 46%|████████████████████████████████████▊                                           | 474/1030 [06:04<06:50,  1.36it/s]"
     ]
    },
    {
     "name": "stdout",
     "output_type": "stream",
     "text": [
      "CXCL10 as a shared specific marker in rheumatoid arthritis and inflammatory bowel disease and a clue involved in the mechanism of intestinal flora in rheumatoid arthritis.\n"
     ]
    },
    {
     "name": "stderr",
     "output_type": "stream",
     "text": [
      " 46%|████████████████████████████████████▉                                           | 475/1030 [06:05<07:01,  1.32it/s]"
     ]
    },
    {
     "name": "stdout",
     "output_type": "stream",
     "text": [
      "Cellulase–lactic acid bacteria synergy action regulates silage fermentation of woody plant.\n"
     ]
    },
    {
     "name": "stderr",
     "output_type": "stream",
     "text": [
      " 46%|████████████████████████████████████▉                                           | 476/1030 [06:06<07:06,  1.30it/s]"
     ]
    },
    {
     "name": "stdout",
     "output_type": "stream",
     "text": [
      "First report on metagenomics and their predictive functional analysis of fermented bamboo shoot food of Tripura, North East India.\n"
     ]
    },
    {
     "name": "stderr",
     "output_type": "stream",
     "text": [
      " 46%|█████████████████████████████████████                                           | 477/1030 [06:07<06:50,  1.35it/s]"
     ]
    },
    {
     "name": "stdout",
     "output_type": "stream",
     "text": [
      "Small protein modules dictate prophage fates during polylysogeny.\n"
     ]
    },
    {
     "name": "stderr",
     "output_type": "stream",
     "text": [
      " 46%|█████████████████████████████████████▏                                          | 478/1030 [06:08<08:54,  1.03it/s]"
     ]
    },
    {
     "name": "stdout",
     "output_type": "stream",
     "text": [
      "Dietary fiber modulates gut microbiome and metabolome in a host sex-specific manner in a murine model of aging.\n"
     ]
    },
    {
     "name": "stderr",
     "output_type": "stream",
     "text": [
      " 47%|█████████████████████████████████████▏                                          | 479/1030 [06:09<09:02,  1.02it/s]"
     ]
    },
    {
     "name": "stdout",
     "output_type": "stream",
     "text": [
      "Antimicrobial resistance and genomic characterization of Salmonella enterica isolates from chicken meat.\n"
     ]
    },
    {
     "name": "stderr",
     "output_type": "stream",
     "text": [
      " 47%|█████████████████████████████████████▎                                          | 480/1030 [06:10<08:20,  1.10it/s]"
     ]
    },
    {
     "name": "stdout",
     "output_type": "stream",
     "text": [
      "Unravelling the potential of insects for medicinal purposes – A comprehensive review.\n"
     ]
    },
    {
     "name": "stderr",
     "output_type": "stream",
     "text": [
      " 47%|█████████████████████████████████████▎                                          | 481/1030 [06:11<07:56,  1.15it/s]"
     ]
    },
    {
     "name": "stdout",
     "output_type": "stream",
     "text": [
      "The Role of Phytochemicals and Gut Microbiome in Atherosclerosis in Preclinical Mouse Models.\n"
     ]
    },
    {
     "name": "stderr",
     "output_type": "stream",
     "text": [
      " 47%|█████████████████████████████████████▍                                          | 482/1030 [06:11<07:31,  1.21it/s]"
     ]
    },
    {
     "name": "stdout",
     "output_type": "stream",
     "text": [
      "Activity of Patchouli and Tea Tree Essential Oils against Staphylococci Isolated  from Pyoderma in Dogs and Their Synergistic Potential with Gentamicin and Enrofloxacin.\n"
     ]
    },
    {
     "name": "stderr",
     "output_type": "stream",
     "text": [
      " 47%|█████████████████████████████████████▌                                          | 483/1030 [06:12<07:21,  1.24it/s]"
     ]
    },
    {
     "name": "stdout",
     "output_type": "stream",
     "text": [
      "Towards the diversification of lactococcal starter and non‐starter species in mesophilic dairy culture systems.\n"
     ]
    },
    {
     "name": "stderr",
     "output_type": "stream",
     "text": [
      " 47%|█████████████████████████████████████▌                                          | 484/1030 [06:13<06:52,  1.32it/s]"
     ]
    },
    {
     "name": "stdout",
     "output_type": "stream",
     "text": [
      "A High-Salt Diet Exacerbates Liver Fibrosis through Enterococcus-Dependent Macrophage Activation.\n"
     ]
    },
    {
     "name": "stderr",
     "output_type": "stream",
     "text": [
      " 47%|█████████████████████████████████████▋                                          | 485/1030 [06:14<07:03,  1.29it/s]"
     ]
    },
    {
     "name": "stdout",
     "output_type": "stream",
     "text": [
      "Efficacy of Bifidobacterium longum alone or in multi-strain probiotic formulations during early life and beyond.\n"
     ]
    },
    {
     "name": "stderr",
     "output_type": "stream",
     "text": [
      " 47%|█████████████████████████████████████▋                                          | 486/1030 [06:14<06:46,  1.34it/s]"
     ]
    },
    {
     "name": "stdout",
     "output_type": "stream",
     "text": [
      "Rye and Rye Bran as Components of Diets in Piglet Production—Effects on Salmonella Prevalence.\n"
     ]
    },
    {
     "name": "stderr",
     "output_type": "stream",
     "text": [
      " 47%|█████████████████████████████████████▊                                          | 487/1030 [06:15<06:32,  1.38it/s]"
     ]
    },
    {
     "name": "stdout",
     "output_type": "stream",
     "text": [
      "The oral microbiota is a reservoir for antimicrobial resistance: resistome and phenotypic resistance characteristics of oral biofilm in health, caries, and periodontitis.\n"
     ]
    },
    {
     "name": "stderr",
     "output_type": "stream",
     "text": [
      " 47%|█████████████████████████████████████▉                                          | 488/1030 [06:16<06:27,  1.40it/s]"
     ]
    },
    {
     "name": "stdout",
     "output_type": "stream",
     "text": [
      "Oral microbiome variations related to ageing: possible implications beyond oral health.\n"
     ]
    },
    {
     "name": "stderr",
     "output_type": "stream",
     "text": [
      " 47%|█████████████████████████████████████▉                                          | 489/1030 [06:16<06:24,  1.41it/s]"
     ]
    },
    {
     "name": "stdout",
     "output_type": "stream",
     "text": [
      "State of the art in research on the gut-liver and gut-brain axis in poultry.\n"
     ]
    },
    {
     "name": "stderr",
     "output_type": "stream",
     "text": [
      " 48%|██████████████████████████████████████                                          | 490/1030 [06:17<06:13,  1.45it/s]"
     ]
    },
    {
     "name": "stdout",
     "output_type": "stream",
     "text": [
      "Community-based mechanisms underlying the root cadmium uptake regulated by Cd-tolerant strains in rice (Oryza sativa. L).\n"
     ]
    },
    {
     "name": "stderr",
     "output_type": "stream",
     "text": [
      " 48%|██████████████████████████████████████▏                                         | 491/1030 [06:18<06:09,  1.46it/s]"
     ]
    },
    {
     "name": "stdout",
     "output_type": "stream",
     "text": [
      "A Scoping Review Evaluating the Current State of Gut Microbiota Research in Africa.\n"
     ]
    },
    {
     "name": "stderr",
     "output_type": "stream",
     "text": [
      " 48%|██████████████████████████████████████▏                                         | 492/1030 [06:18<06:23,  1.40it/s]"
     ]
    },
    {
     "name": "stdout",
     "output_type": "stream",
     "text": [
      "Evidence for wastewaters as environments where mobile antibiotic resistance genes emerge.\n"
     ]
    },
    {
     "name": "stderr",
     "output_type": "stream",
     "text": [
      " 48%|██████████████████████████████████████▎                                         | 493/1030 [06:19<06:26,  1.39it/s]"
     ]
    },
    {
     "name": "stdout",
     "output_type": "stream",
     "text": [
      "Pullulanase: unleashing the power of enzyme with a promising future in the food industry.\n"
     ]
    },
    {
     "name": "stderr",
     "output_type": "stream",
     "text": [
      " 48%|██████████████████████████████████████▎                                         | 494/1030 [06:20<06:51,  1.30it/s]"
     ]
    },
    {
     "name": "stdout",
     "output_type": "stream",
     "text": [
      "Characterization of lactic acid bacteria isolated from street pickles of Dhaka, Bangladesh.\n"
     ]
    },
    {
     "name": "stderr",
     "output_type": "stream",
     "text": [
      " 48%|██████████████████████████████████████▍                                         | 495/1030 [06:21<06:31,  1.37it/s]"
     ]
    },
    {
     "name": "stdout",
     "output_type": "stream",
     "text": [
      "Endophytic bacterial communities in wild rice (Oryza officinalis) and their plant growth-promoting effects on perennial rice.\n"
     ]
    },
    {
     "name": "stderr",
     "output_type": "stream",
     "text": [
      " 48%|██████████████████████████████████████▌                                         | 496/1030 [06:21<06:32,  1.36it/s]"
     ]
    },
    {
     "name": "stdout",
     "output_type": "stream",
     "text": [
      "Probiotics, Prebiotics, and Synbiotics Utilization in Crayfish Aquaculture and Factors Affecting Gut Microbiota.\n"
     ]
    },
    {
     "name": "stderr",
     "output_type": "stream",
     "text": [
      " 48%|██████████████████████████████████████▌                                         | 497/1030 [06:22<06:35,  1.35it/s]"
     ]
    },
    {
     "name": "stdout",
     "output_type": "stream",
     "text": [
      "Post-Harvest Prevention of Fusariotoxin Contamination of Agricultural Products by Irreversible Microbial Biotransformation: Current Status and Prospects.\n"
     ]
    },
    {
     "name": "stderr",
     "output_type": "stream",
     "text": [
      " 48%|██████████████████████████████████████▋                                         | 498/1030 [06:23<06:22,  1.39it/s]"
     ]
    },
    {
     "name": "stdout",
     "output_type": "stream",
     "text": [
      "Rutin alleviates colon lesions and regulates gut microbiota in diabetic mice.\n"
     ]
    },
    {
     "name": "stderr",
     "output_type": "stream",
     "text": [
      " 48%|██████████████████████████████████████▊                                         | 499/1030 [06:24<06:14,  1.42it/s]"
     ]
    },
    {
     "name": "stdout",
     "output_type": "stream",
     "text": [
      "Slight Temperature Deviation during a 56-Day Storage Period Does Not Affect the Microbiota of Fresh Vacuum-Packed Pork Loins.\n"
     ]
    },
    {
     "name": "stderr",
     "output_type": "stream",
     "text": [
      " 49%|██████████████████████████████████████▊                                         | 500/1030 [06:24<06:13,  1.42it/s]"
     ]
    },
    {
     "name": "stdout",
     "output_type": "stream",
     "text": [
      "Effect of Citrus aurantium juice as a disinfecting agent on quality and bacterial communities of striped catfish steaks stored at −20 °C.\n"
     ]
    },
    {
     "name": "stderr",
     "output_type": "stream",
     "text": [
      " 49%|██████████████████████████████████████▉                                         | 501/1030 [06:25<06:04,  1.45it/s]"
     ]
    },
    {
     "name": "stdout",
     "output_type": "stream",
     "text": [
      "Modulation of Fat Deposition–Gut Interactions in Obese Mice by Administrating with Nobiletin.\n"
     ]
    },
    {
     "name": "stderr",
     "output_type": "stream",
     "text": [
      " 49%|██████████████████████████████████████▉                                         | 502/1030 [06:26<06:02,  1.46it/s]"
     ]
    },
    {
     "name": "stdout",
     "output_type": "stream",
     "text": [
      "Bovine Udder Health: From Standard Diagnostic Methods to New Approaches—A Practical Investigation of Various Udder Health Parameters in Combination with 16S rRNA Sequencing.\n"
     ]
    },
    {
     "name": "stderr",
     "output_type": "stream",
     "text": [
      " 49%|███████████████████████████████████████                                         | 503/1030 [06:26<06:07,  1.44it/s]"
     ]
    },
    {
     "name": "stdout",
     "output_type": "stream",
     "text": [
      "Distinct cervical tissue-adherent and luminal microbiome communities correlate with mucosal host gene expression and protein levels in Kenyan sex workers.\n"
     ]
    },
    {
     "name": "stderr",
     "output_type": "stream",
     "text": [
      " 49%|███████████████████████████████████████▏                                        | 504/1030 [06:28<08:29,  1.03it/s]"
     ]
    },
    {
     "name": "stdout",
     "output_type": "stream",
     "text": [
      "Comparative HPLC–DAD–ESI-QTOF/MS/MS Analysis of Bioactive Phenolic Compounds Content in the Methanolic Extracts from Flowering Herbs of Monarda Species and Their Free Radical Scavenging and Antimicrobial Activities.\n"
     ]
    },
    {
     "name": "stderr",
     "output_type": "stream",
     "text": [
      " 49%|███████████████████████████████████████▏                                        | 505/1030 [06:29<07:54,  1.11it/s]"
     ]
    },
    {
     "name": "stdout",
     "output_type": "stream",
     "text": [
      "Effects of six commercially available koji (Chinese Xiaoqu) on the production of  ethyl acetate, ethyl lactate, and higher alcohols in Chinese Baijiu (distilled spirit) brewing.\n"
     ]
    },
    {
     "name": "stderr",
     "output_type": "stream",
     "text": [
      " 49%|███████████████████████████████████████▎                                        | 506/1030 [06:30<08:28,  1.03it/s]"
     ]
    },
    {
     "name": "stdout",
     "output_type": "stream",
     "text": [
      "Phyto-microbiome to mitigate abiotic stress in crop plants.\n"
     ]
    },
    {
     "name": "stderr",
     "output_type": "stream",
     "text": [
      " 49%|███████████████████████████████████████▍                                        | 507/1030 [06:31<07:54,  1.10it/s]"
     ]
    },
    {
     "name": "stdout",
     "output_type": "stream",
     "text": [
      "Chemical and microbiological characterization of two traditional Mongolian high‐fat dairy products produced in Xilin Gol, China.\n"
     ]
    },
    {
     "name": "stderr",
     "output_type": "stream",
     "text": [
      " 49%|███████████████████████████████████████▍                                        | 508/1030 [06:31<07:12,  1.21it/s]"
     ]
    },
    {
     "name": "stdout",
     "output_type": "stream",
     "text": [
      "Acquisition, co-option, and duplication of the rtx toxin system and the emergence of virulence in Kingella.\n"
     ]
    },
    {
     "name": "stderr",
     "output_type": "stream",
     "text": [
      " 49%|███████████████████████████████████████▌                                        | 509/1030 [06:32<06:46,  1.28it/s]"
     ]
    },
    {
     "name": "stdout",
     "output_type": "stream",
     "text": [
      "Mucin-microbiome signatures shape the tumor microenvironment in gastric cancer.\n"
     ]
    },
    {
     "name": "stderr",
     "output_type": "stream",
     "text": [
      " 50%|███████████████████████████████████████▌                                        | 510/1030 [06:33<06:21,  1.36it/s]"
     ]
    },
    {
     "name": "stdout",
     "output_type": "stream",
     "text": [
      "Harnessing diversity and antagonism within the pig skin microbiota to identify novel mediators of colonization resistance to methicillin-resistant Staphylococcus aureus.\n"
     ]
    },
    {
     "name": "stderr",
     "output_type": "stream",
     "text": [
      " 50%|███████████████████████████████████████▋                                        | 511/1030 [06:35<10:06,  1.17s/it]"
     ]
    },
    {
     "name": "stdout",
     "output_type": "stream",
     "text": [
      "A Global Survey of Hypervirulent Aeromonas hydrophila (vAh) Identified vAh Strains in the Lower Mekong River Basin and Diverse Opportunistic Pathogens from Farmed Fish and Other Environmental Sources.\n"
     ]
    },
    {
     "name": "stderr",
     "output_type": "stream",
     "text": [
      " 50%|███████████████████████████████████████▊                                        | 512/1030 [06:35<08:49,  1.02s/it]"
     ]
    },
    {
     "name": "stdout",
     "output_type": "stream",
     "text": [
      "A Look at Plant-Growth-Promoting Bacteria.\n"
     ]
    },
    {
     "name": "stderr",
     "output_type": "stream",
     "text": [
      " 50%|███████████████████████████████████████▊                                        | 513/1030 [06:36<08:03,  1.07it/s]"
     ]
    },
    {
     "name": "stdout",
     "output_type": "stream",
     "text": [
      "Selective Antagonism of Lactiplantibacillus plantarum and Pediococcus acidilactici against Vibrio and Aeromonas in the Bacterial Community of Artemia nauplii.\n"
     ]
    },
    {
     "name": "stderr",
     "output_type": "stream",
     "text": [
      " 50%|███████████████████████████████████████▉                                        | 514/1030 [06:37<08:32,  1.01it/s]"
     ]
    },
    {
     "name": "stdout",
     "output_type": "stream",
     "text": [
      "Dietary Polysaccharides Exert Anti-Fatigue Functions via the Gut-Muscle Axis: Advances and Prospectives.\n"
     ]
    },
    {
     "name": "stderr",
     "output_type": "stream",
     "text": [
      " 50%|████████████████████████████████████████                                        | 515/1030 [06:38<07:43,  1.11it/s]"
     ]
    },
    {
     "name": "stdout",
     "output_type": "stream",
     "text": [
      "Wood fibers are a crucial microhabitat for cellulose- and xylan- degrading bacteria in the hindgut of the wood-feeding beetle Odontotaenius disjunctus.\n"
     ]
    },
    {
     "name": "stderr",
     "output_type": "stream",
     "text": [
      " 50%|████████████████████████████████████████                                        | 516/1030 [06:39<07:05,  1.21it/s]"
     ]
    },
    {
     "name": "stdout",
     "output_type": "stream",
     "text": [
      "Role of the gut microbiota in anticancer therapy: from molecular mechanisms to clinical applications.\n"
     ]
    },
    {
     "name": "stderr",
     "output_type": "stream",
     "text": [
      " 50%|████████████████████████████████████████▏                                       | 517/1030 [06:39<06:57,  1.23it/s]"
     ]
    },
    {
     "name": "stdout",
     "output_type": "stream",
     "text": [
      "Rosemary extract improves egg quality by altering gut barrier function, intestinal microbiota and oviductal gene expressions in late-phase laying hens.\n"
     ]
    },
    {
     "name": "stderr",
     "output_type": "stream",
     "text": [
      " 50%|████████████████████████████████████████▏                                       | 518/1030 [06:40<06:44,  1.27it/s]"
     ]
    },
    {
     "name": "stdout",
     "output_type": "stream",
     "text": [
      "Improving the consistency of experimental swine dysentery inoculation strategies.\n"
     ]
    },
    {
     "name": "stderr",
     "output_type": "stream",
     "text": [
      " 50%|████████████████████████████████████████▎                                       | 519/1030 [06:41<06:19,  1.35it/s]"
     ]
    },
    {
     "name": "stdout",
     "output_type": "stream",
     "text": [
      "The Microbial Genetic Diversity and Succession Associated with Processing Waters  at Different Broiler Processing Stages in an Abattoir in Australia.\n"
     ]
    },
    {
     "name": "stderr",
     "output_type": "stream",
     "text": [
      " 50%|████████████████████████████████████████▍                                       | 520/1030 [06:42<06:26,  1.32it/s]"
     ]
    },
    {
     "name": "stdout",
     "output_type": "stream",
     "text": [
      "Host gut-derived Bacillus probiotics supplementation improves growth performance, serum and liver immunity, gut health, and resistive capacity against Vibrio harveyi infection in hybrid grouper (♀Epinephelus fuscoguttatus × ♂Epinephelus lanceolatus).\n"
     ]
    },
    {
     "name": "stderr",
     "output_type": "stream",
     "text": [
      " 51%|████████████████████████████████████████▍                                       | 521/1030 [06:42<06:09,  1.38it/s]"
     ]
    },
    {
     "name": "stdout",
     "output_type": "stream",
     "text": [
      "Prediction of breast cancer using blood microbiome and identification of foods for breast cancer prevention.\n"
     ]
    },
    {
     "name": "stderr",
     "output_type": "stream",
     "text": [
      " 51%|████████████████████████████████████████▌                                       | 522/1030 [06:43<05:56,  1.42it/s]"
     ]
    },
    {
     "name": "stdout",
     "output_type": "stream",
     "text": [
      "Mining the nanotube-forming Bacillus amyloliquefaciens MR14M3 genome for determining anti-Candida auris and anti-Candida albicans potential by pathogenicity and comparative genomics analysis.\n"
     ]
    },
    {
     "name": "stderr",
     "output_type": "stream",
     "text": [
      " 51%|████████████████████████████████████████▌                                       | 523/1030 [06:43<05:52,  1.44it/s]"
     ]
    },
    {
     "name": "stdout",
     "output_type": "stream",
     "text": [
      "Current Scenario and Future Prospects of Endophytic Microbes: Promising Candidates for Abiotic and Biotic Stress Management for Agricultural and Environmental Sustainability.\n"
     ]
    },
    {
     "name": "stderr",
     "output_type": "stream",
     "text": [
      " 51%|████████████████████████████████████████▋                                       | 524/1030 [06:44<05:48,  1.45it/s]"
     ]
    },
    {
     "name": "stdout",
     "output_type": "stream",
     "text": [
      "The Intestinal Microbiome after Traumatic Injury.\n"
     ]
    },
    {
     "name": "stderr",
     "output_type": "stream",
     "text": [
      " 51%|████████████████████████████████████████▊                                       | 525/1030 [06:45<05:42,  1.48it/s]"
     ]
    },
    {
     "name": "stdout",
     "output_type": "stream",
     "text": [
      "Could Gut Microbiota Composition Be a Useful Indicator of a Long-Term Dietary Pattern?\n"
     ]
    },
    {
     "name": "stderr",
     "output_type": "stream",
     "text": [
      " 51%|████████████████████████████████████████▊                                       | 526/1030 [06:45<05:37,  1.49it/s]"
     ]
    },
    {
     "name": "stdout",
     "output_type": "stream",
     "text": [
      "Metagenomic Insights into the Regulatory Effects of Microbial Community on the Formation of Biogenic Amines and Volatile Flavor Components during the Brewing of Hongqu Rice Wine.\n"
     ]
    },
    {
     "name": "stderr",
     "output_type": "stream",
     "text": [
      " 51%|████████████████████████████████████████▉                                       | 527/1030 [06:46<05:53,  1.42it/s]"
     ]
    },
    {
     "name": "stdout",
     "output_type": "stream",
     "text": [
      "Gut microbiome and Parkinson's disease: Perspective on pathogenesis and treatment.\n"
     ]
    },
    {
     "name": "stderr",
     "output_type": "stream",
     "text": [
      " 51%|█████████████████████████████████████████                                       | 528/1030 [06:47<05:41,  1.47it/s]"
     ]
    },
    {
     "name": "stdout",
     "output_type": "stream",
     "text": [
      "Liposomal Epigallocatechin-3-Gallate for the Treatment of Intestinal Dysbiosis in Children with Autism Spectrum Disorder: A Comprehensive Review.\n"
     ]
    },
    {
     "name": "stderr",
     "output_type": "stream",
     "text": [
      " 51%|█████████████████████████████████████████                                       | 529/1030 [06:48<05:36,  1.49it/s]"
     ]
    },
    {
     "name": "stdout",
     "output_type": "stream",
     "text": [
      "The Development of Gut Microbiota and Its Changes Following C. jejuni Infection in Broilers.\n"
     ]
    },
    {
     "name": "stderr",
     "output_type": "stream",
     "text": [
      " 51%|█████████████████████████████████████████▏                                      | 530/1030 [06:48<05:38,  1.48it/s]"
     ]
    },
    {
     "name": "stdout",
     "output_type": "stream",
     "text": [
      "Chemistry and Bioactivity of Croton Essential Oils: Literature Survey and Croton  hirtus from Vietnam.\n"
     ]
    },
    {
     "name": "stderr",
     "output_type": "stream",
     "text": [
      " 52%|█████████████████████████████████████████▏                                      | 531/1030 [06:49<05:34,  1.49it/s]"
     ]
    },
    {
     "name": "stdout",
     "output_type": "stream",
     "text": [
      "Isolation and Characterization of Bacterial Endophytes from Small Nodules of Field-Grown Peanut.\n"
     ]
    },
    {
     "name": "stderr",
     "output_type": "stream",
     "text": [
      " 52%|█████████████████████████████████████████▎                                      | 532/1030 [06:50<05:33,  1.49it/s]"
     ]
    },
    {
     "name": "stdout",
     "output_type": "stream",
     "text": [
      "Short-chain fatty acids in diseases.\n"
     ]
    },
    {
     "name": "stderr",
     "output_type": "stream",
     "text": [
      " 52%|█████████████████████████████████████████▍                                      | 533/1030 [06:50<06:03,  1.37it/s]"
     ]
    },
    {
     "name": "stdout",
     "output_type": "stream",
     "text": [
      "Inactivation of Salmonella using ultrasound in combination with Litsea cubeba essential oil nanoemulsion and its bactericidal application on cherry tomatoes.\n"
     ]
    },
    {
     "name": "stderr",
     "output_type": "stream",
     "text": [
      " 52%|█████████████████████████████████████████▍                                      | 534/1030 [06:51<05:50,  1.42it/s]"
     ]
    },
    {
     "name": "stdout",
     "output_type": "stream",
     "text": [
      "Penthorum chinense Pursh improves type 2 diabetes mellitus via modulating gut microbiota in db/db mice.\n"
     ]
    },
    {
     "name": "stderr",
     "output_type": "stream",
     "text": [
      " 52%|█████████████████████████████████████████▌                                      | 535/1030 [06:52<05:42,  1.44it/s]"
     ]
    },
    {
     "name": "stdout",
     "output_type": "stream",
     "text": [
      "Effect of two insect meals on the gut commensal microbiome of healthy sea trout (Salmo trutta vr. trutta).\n"
     ]
    },
    {
     "name": "stderr",
     "output_type": "stream",
     "text": [
      " 52%|█████████████████████████████████████████▋                                      | 536/1030 [06:52<05:45,  1.43it/s]"
     ]
    },
    {
     "name": "stdout",
     "output_type": "stream",
     "text": [
      "Ameliorative avian gut environment and bird productivity through the application  of safe antibiotics alternatives: a comprehensive review.\n"
     ]
    },
    {
     "name": "stderr",
     "output_type": "stream",
     "text": [
      " 52%|█████████████████████████████████████████▋                                      | 537/1030 [06:53<05:40,  1.45it/s]"
     ]
    },
    {
     "name": "stdout",
     "output_type": "stream",
     "text": [
      "High-Throughput Screening of Natural Product and Synthetic Molecule Libraries for Antibacterial Drug Discovery.\n"
     ]
    },
    {
     "name": "stderr",
     "output_type": "stream",
     "text": [
      " 52%|█████████████████████████████████████████▊                                      | 538/1030 [06:54<05:32,  1.48it/s]"
     ]
    },
    {
     "name": "stdout",
     "output_type": "stream",
     "text": [
      "Flavonoid Synthesis by Deinococcus sp. 43 Isolated from the Ginkgo Rhizosphere.\n"
     ]
    },
    {
     "name": "stderr",
     "output_type": "stream",
     "text": [
      " 52%|█████████████████████████████████████████▊                                      | 539/1030 [06:54<05:25,  1.51it/s]"
     ]
    },
    {
     "name": "stdout",
     "output_type": "stream",
     "text": [
      "Analysis of Intestinal Microbiota and Metabolic Pathways before and after a 2-Month-Long Hydrolyzed Fish and Rice Starch Hypoallergenic Diet Trial in Pruritic Dogs.\n"
     ]
    },
    {
     "name": "stderr",
     "output_type": "stream",
     "text": [
      " 52%|█████████████████████████████████████████▉                                      | 540/1030 [06:55<05:21,  1.53it/s]"
     ]
    },
    {
     "name": "stdout",
     "output_type": "stream",
     "text": [
      "Analysing the dynamics of the bacterial community in pozol, a Mexican fermented corn dough.\n"
     ]
    },
    {
     "name": "stderr",
     "output_type": "stream",
     "text": [
      " 53%|██████████████████████████████████████████                                      | 541/1030 [06:56<05:20,  1.53it/s]"
     ]
    },
    {
     "name": "stdout",
     "output_type": "stream",
     "text": [
      "Molecular identification, antimicrobial resistance and virulence gene profiling of Staphylococcus spp. associated with bovine sub-clinical mastitis in Bangladesh.\n"
     ]
    },
    {
     "name": "stderr",
     "output_type": "stream",
     "text": [
      " 53%|██████████████████████████████████████████                                      | 542/1030 [06:56<05:18,  1.53it/s]"
     ]
    },
    {
     "name": "stdout",
     "output_type": "stream",
     "text": [
      "Swine gut microbiome associated with non-digestible carbohydrate utilization.\n"
     ]
    },
    {
     "name": "stderr",
     "output_type": "stream",
     "text": [
      " 53%|██████████████████████████████████████████▏                                     | 543/1030 [06:57<05:42,  1.42it/s]"
     ]
    },
    {
     "name": "stdout",
     "output_type": "stream",
     "text": [
      "Diversity of the type VI secretion systems in the Neisseria spp.\n"
     ]
    },
    {
     "name": "stderr",
     "output_type": "stream",
     "text": [
      " 53%|██████████████████████████████████████████▎                                     | 544/1030 [06:58<05:34,  1.45it/s]"
     ]
    },
    {
     "name": "stdout",
     "output_type": "stream",
     "text": [
      "The Antioxidant Effect of Dietary Bioactives Arises from the Interplay between the Physiology of the Host and the Gut Microbiota: Involvement of Short-Chain Fatty Acids.\n"
     ]
    },
    {
     "name": "stderr",
     "output_type": "stream",
     "text": [
      " 53%|██████████████████████████████████████████▎                                     | 545/1030 [06:58<05:33,  1.46it/s]"
     ]
    },
    {
     "name": "stdout",
     "output_type": "stream",
     "text": [
      "The balanced unsaturated fatty acid supplement constituted by woody edible oils improved lipid metabolism and gut microbiota in high-fat diet mice.\n"
     ]
    },
    {
     "name": "stderr",
     "output_type": "stream",
     "text": [
      " 53%|██████████████████████████████████████████▍                                     | 546/1030 [06:59<05:26,  1.48it/s]"
     ]
    },
    {
     "name": "stdout",
     "output_type": "stream",
     "text": [
      "Weighted Gene Co-Expression Network Analysis Identifies a Functional Guild and Metabolite Cluster Mediating the Relationship between Mucosal Inflammation and Adherence to the Mediterranean Diet in Ulcerative Colitis.\n"
     ]
    },
    {
     "name": "stderr",
     "output_type": "stream",
     "text": [
      " 53%|██████████████████████████████████████████▍                                     | 547/1030 [07:00<05:37,  1.43it/s]"
     ]
    },
    {
     "name": "stdout",
     "output_type": "stream",
     "text": [
      "Antibiotic resistance and virulence genes profiling of Vibrio cholerae and Vibrio mimicus isolates from some seafood collected at the aquatic environment and wet markets in Eastern Cape Province, South Africa.\n"
     ]
    },
    {
     "name": "stderr",
     "output_type": "stream",
     "text": [
      " 53%|██████████████████████████████████████████▌                                     | 548/1030 [07:01<05:39,  1.42it/s]"
     ]
    },
    {
     "name": "stdout",
     "output_type": "stream",
     "text": [
      "The Colonization of Rumen Microbiota and Intervention in Pre-Weaned Ruminants.\n"
     ]
    },
    {
     "name": "stderr",
     "output_type": "stream",
     "text": [
      " 53%|██████████████████████████████████████████▋                                     | 549/1030 [07:01<05:39,  1.42it/s]"
     ]
    },
    {
     "name": "stdout",
     "output_type": "stream",
     "text": [
      "Lavandula x intermedia—A Bastard Lavender or a Plant of Many Values? Part II. Biological Activities and Applications of Lavandin.\n"
     ]
    },
    {
     "name": "stderr",
     "output_type": "stream",
     "text": [
      " 53%|██████████████████████████████████████████▋                                     | 550/1030 [07:02<05:29,  1.46it/s]"
     ]
    },
    {
     "name": "stdout",
     "output_type": "stream",
     "text": [
      "Endophytic bacteria isolated from Urticadioica L.- preliminary screening for enzyme and polyphenols production.\n"
     ]
    },
    {
     "name": "stderr",
     "output_type": "stream",
     "text": [
      " 53%|██████████████████████████████████████████▊                                     | 551/1030 [07:03<05:36,  1.42it/s]"
     ]
    },
    {
     "name": "stdout",
     "output_type": "stream",
     "text": [
      "Modulation of bone remodeling by the gut microbiota: a new therapy for osteoporosis.\n"
     ]
    },
    {
     "name": "stderr",
     "output_type": "stream",
     "text": [
      " 54%|██████████████████████████████████████████▊                                     | 552/1030 [07:03<05:26,  1.46it/s]"
     ]
    },
    {
     "name": "stdout",
     "output_type": "stream",
     "text": [
      "Age-related effects on the modulation of gut microbiota by pectins and their derivatives: an in vitro study.\n"
     ]
    },
    {
     "name": "stderr",
     "output_type": "stream",
     "text": [
      " 54%|██████████████████████████████████████████▉                                     | 553/1030 [07:04<05:27,  1.46it/s]"
     ]
    },
    {
     "name": "stdout",
     "output_type": "stream",
     "text": [
      "Shotgun Proteomics Analysis, Functional Networks, and Peptide Biomarkers for Seafood-Originating Biogenic-Amine-Producing Bacteria.\n"
     ]
    },
    {
     "name": "stderr",
     "output_type": "stream",
     "text": [
      " 54%|███████████████████████████████████████████                                     | 554/1030 [07:05<05:35,  1.42it/s]"
     ]
    },
    {
     "name": "stdout",
     "output_type": "stream",
     "text": [
      "Unveiling the Antibiotic Susceptibility and Antimicrobial Potential of Bacteria from Human Breast Milk of Pakistani Women: An Exploratory Study.\n"
     ]
    },
    {
     "name": "stderr",
     "output_type": "stream",
     "text": [
      " 54%|███████████████████████████████████████████                                     | 555/1030 [07:05<05:32,  1.43it/s]"
     ]
    },
    {
     "name": "stdout",
     "output_type": "stream",
     "text": [
      "Fermentation for Designing Innovative Plant-Based Meat and Dairy Alternatives.\n"
     ]
    },
    {
     "name": "stderr",
     "output_type": "stream",
     "text": [
      " 54%|███████████████████████████████████████████▏                                    | 556/1030 [07:06<05:24,  1.46it/s]"
     ]
    },
    {
     "name": "stdout",
     "output_type": "stream",
     "text": [
      "Maternal and food microbial sources shape the infant microbiome of a rural Ethiopian population.\n"
     ]
    },
    {
     "name": "stderr",
     "output_type": "stream",
     "text": [
      " 54%|███████████████████████████████████████████▎                                    | 557/1030 [07:07<05:18,  1.48it/s]"
     ]
    },
    {
     "name": "stdout",
     "output_type": "stream",
     "text": [
      "The role of plant growth promoting rhizobacteria in plant drought stress responses.\n"
     ]
    },
    {
     "name": "stderr",
     "output_type": "stream",
     "text": [
      " 54%|███████████████████████████████████████████▎                                    | 558/1030 [07:07<05:22,  1.46it/s]"
     ]
    },
    {
     "name": "stdout",
     "output_type": "stream",
     "text": [
      "Guar gum as galactomannan source induces dysbiosis and reduces performance in broiler chickens and dietary β-mannanase restores the gut homeostasis.\n"
     ]
    },
    {
     "name": "stderr",
     "output_type": "stream",
     "text": [
      " 54%|███████████████████████████████████████████▍                                    | 559/1030 [07:08<05:17,  1.49it/s]"
     ]
    },
    {
     "name": "stdout",
     "output_type": "stream",
     "text": [
      "Prevalence of Antibiotic-Resistant Seafood-Borne Pathogens in Retail Seafood Sold in Malaysia: A Systematic Review and Meta-Analysis.\n"
     ]
    },
    {
     "name": "stderr",
     "output_type": "stream",
     "text": [
      " 54%|███████████████████████████████████████████▍                                    | 560/1030 [07:09<05:18,  1.47it/s]"
     ]
    },
    {
     "name": "stdout",
     "output_type": "stream",
     "text": [
      "Vibrio type III secretion system 2 is not restricted to the Vibrionaceae and encodes differentially distributed repertoires of effector proteins.\n"
     ]
    },
    {
     "name": "stderr",
     "output_type": "stream",
     "text": [
      " 54%|███████████████████████████████████████████▌                                    | 561/1030 [07:09<05:13,  1.49it/s]"
     ]
    },
    {
     "name": "stdout",
     "output_type": "stream",
     "text": [
      "A Systematic Review of Culture-Based Methods for Monitoring Antibiotic-Resistant  Acinetobacter, Aeromonas, and Pseudomonas as Environmentally Relevant Pathogens in Wastewater and Surface Water.\n"
     ]
    },
    {
     "name": "stderr",
     "output_type": "stream",
     "text": [
      " 55%|███████████████████████████████████████████▋                                    | 562/1030 [07:10<05:23,  1.45it/s]"
     ]
    },
    {
     "name": "stdout",
     "output_type": "stream",
     "text": [
      "Analysis of Bacterial Phosphorylcholine-Related Genes Reveals an Association between Type-Specific Biosynthesis Pathways and Biomolecules Targeted for Phosphorylcholine Modification.\n"
     ]
    },
    {
     "name": "stderr",
     "output_type": "stream",
     "text": [
      " 55%|███████████████████████████████████████████▋                                    | 563/1030 [07:12<08:37,  1.11s/it]"
     ]
    },
    {
     "name": "stdout",
     "output_type": "stream",
     "text": [
      "Uncovering Genomic Features and Biosynthetic Gene Clusters in Endophytic Bacteria from Roots of the Medicinal Plant Alkanna tinctoria Tausch as a Strategy To Identify Novel Biocontrol Bacteria.\n"
     ]
    },
    {
     "name": "stderr",
     "output_type": "stream",
     "text": [
      " 55%|███████████████████████████████████████████▊                                    | 564/1030 [07:13<07:50,  1.01s/it]"
     ]
    },
    {
     "name": "stdout",
     "output_type": "stream",
     "text": [
      "Research progress on anti-stress nutrition strategies in swine.\n"
     ]
    },
    {
     "name": "stderr",
     "output_type": "stream",
     "text": [
      " 55%|███████████████████████████████████████████▉                                    | 565/1030 [07:14<07:04,  1.10it/s]"
     ]
    },
    {
     "name": "stdout",
     "output_type": "stream",
     "text": [
      "Contribution of the microbiome for better phenotyping of people living with obesity.\n"
     ]
    },
    {
     "name": "stderr",
     "output_type": "stream",
     "text": [
      " 55%|███████████████████████████████████████████▉                                    | 566/1030 [07:14<06:23,  1.21it/s]"
     ]
    },
    {
     "name": "stdout",
     "output_type": "stream",
     "text": [
      "Comparison of peroxyacetic acid and acidified sodium chlorite at reducing natural microbial contamination on chicken meat pieces.\n"
     ]
    },
    {
     "name": "stderr",
     "output_type": "stream",
     "text": [
      " 55%|████████████████████████████████████████████                                    | 567/1030 [07:15<05:57,  1.29it/s]"
     ]
    },
    {
     "name": "stdout",
     "output_type": "stream",
     "text": [
      "Featured Prebiotic Agent: The Roles and Mechanisms of Direct and Indirect Prebiotic Activities of Lactoferrin and Its Application in Disease Control.\n"
     ]
    },
    {
     "name": "stderr",
     "output_type": "stream",
     "text": [
      " 55%|████████████████████████████████████████████                                    | 568/1030 [07:16<05:42,  1.35it/s]"
     ]
    },
    {
     "name": "stdout",
     "output_type": "stream",
     "text": [
      "Modulation of gut microbiota by foods and herbs to prevent cardiovascular diseases.\n"
     ]
    },
    {
     "name": "stderr",
     "output_type": "stream",
     "text": [
      " 55%|████████████████████████████████████████████▏                                   | 569/1030 [07:16<05:37,  1.37it/s]"
     ]
    },
    {
     "name": "stdout",
     "output_type": "stream",
     "text": [
      "Dietary bile acid supplementation in weaned piglets with intrauterine growth retardation improves colonic microbiota, metabolic activity, and epithelial function.\n"
     ]
    },
    {
     "name": "stderr",
     "output_type": "stream",
     "text": [
      " 55%|████████████████████████████████████████████▎                                   | 570/1030 [07:17<05:33,  1.38it/s]"
     ]
    },
    {
     "name": "stdout",
     "output_type": "stream",
     "text": [
      "The effects of protease, xylanase, and xylo-oligosaccharides on growth performance, nutrient utilization, short-chain fatty acids, and microbiota in Eimeria-challenged broiler chickens fed low-protein diet.\n"
     ]
    },
    {
     "name": "stderr",
     "output_type": "stream",
     "text": [
      " 55%|████████████████████████████████████████████▎                                   | 571/1030 [07:18<05:30,  1.39it/s]"
     ]
    },
    {
     "name": "stdout",
     "output_type": "stream",
     "text": [
      "Probiotics for Neurodegenerative Diseases: A Systemic Review.\n"
     ]
    },
    {
     "name": "stderr",
     "output_type": "stream",
     "text": [
      " 56%|████████████████████████████████████████████▍                                   | 572/1030 [07:18<05:19,  1.43it/s]"
     ]
    },
    {
     "name": "stdout",
     "output_type": "stream",
     "text": [
      "Association between Gut Microbiota and Digestive System Cancers: A Bidirectional  Two-Sample Mendelian Randomization Study.\n"
     ]
    },
    {
     "name": "stderr",
     "output_type": "stream",
     "text": [
      " 56%|████████████████████████████████████████████▌                                   | 573/1030 [07:19<05:31,  1.38it/s]"
     ]
    },
    {
     "name": "stdout",
     "output_type": "stream",
     "text": [
      "Conditions Necessary for the Transfer of Antimicrobial Resistance in Poultry Litter.\n"
     ]
    },
    {
     "name": "stderr",
     "output_type": "stream",
     "text": [
      " 56%|████████████████████████████████████████████▌                                   | 574/1030 [07:20<05:29,  1.39it/s]"
     ]
    },
    {
     "name": "stdout",
     "output_type": "stream",
     "text": [
      "Genetic Characterization of Listeria from Food of Non-Animal Origin Products and  from Producing and Processing Companies in Bavaria, Germany.\n"
     ]
    },
    {
     "name": "stderr",
     "output_type": "stream",
     "text": [
      " 56%|████████████████████████████████████████████▋                                   | 575/1030 [07:21<06:10,  1.23it/s]"
     ]
    },
    {
     "name": "stdout",
     "output_type": "stream",
     "text": [
      "Bifidobacterium-derived short-chain fatty acids and indole compounds attenuate nonalcoholic fatty liver disease by modulating gut-liver axis.\n"
     ]
    },
    {
     "name": "stderr",
     "output_type": "stream",
     "text": [
      " 56%|████████████████████████████████████████████▋                                   | 576/1030 [07:22<06:15,  1.21it/s]"
     ]
    },
    {
     "name": "stdout",
     "output_type": "stream",
     "text": [
      "Dietary Supplementation of Microbial Dextran and Inulin Exerts Hypocholesterolemic Effects and Modulates Gut Microbiota in BALB/c Mice Models.\n"
     ]
    },
    {
     "name": "stderr",
     "output_type": "stream",
     "text": [
      " 56%|████████████████████████████████████████████▊                                   | 577/1030 [07:23<05:53,  1.28it/s]"
     ]
    },
    {
     "name": "stdout",
     "output_type": "stream",
     "text": [
      "Identification, proteolytic activity quantification and biofilm-forming characterization of Gram-positive, proteolytic, psychrotrophic bacteria isolated from cold raw milk.\n"
     ]
    },
    {
     "name": "stderr",
     "output_type": "stream",
     "text": [
      " 56%|████████████████████████████████████████████▉                                   | 578/1030 [07:23<05:44,  1.31it/s]"
     ]
    },
    {
     "name": "stdout",
     "output_type": "stream",
     "text": [
      "Integrative analysis of the gut microbiota and faecal and serum short-chain fatty acids and tryptophan metabolites in patients with cirrhosis and hepatic encephalopathy.\n"
     ]
    },
    {
     "name": "stderr",
     "output_type": "stream",
     "text": [
      " 56%|████████████████████████████████████████████▉                                   | 579/1030 [07:24<06:31,  1.15it/s]"
     ]
    },
    {
     "name": "stdout",
     "output_type": "stream",
     "text": [
      "Bacteria of Zoonotic Interest Identified on Edible Freshwater Fish Imported to Australia.\n"
     ]
    },
    {
     "name": "stderr",
     "output_type": "stream",
     "text": [
      " 56%|█████████████████████████████████████████████                                   | 580/1030 [07:25<05:59,  1.25it/s]"
     ]
    },
    {
     "name": "stdout",
     "output_type": "stream",
     "text": [
      "RG-I Domain Matters to the In Vitro Fermentation Characteristics of Pectic Polysaccharides Recycled from Citrus Canning Processing Water.\n"
     ]
    },
    {
     "name": "stderr",
     "output_type": "stream",
     "text": [
      " 56%|█████████████████████████████████████████████▏                                  | 581/1030 [07:26<05:47,  1.29it/s]"
     ]
    },
    {
     "name": "stdout",
     "output_type": "stream",
     "text": [
      "The Intersection of COVID-19 and Metabolic-Associated Fatty Liver Disease: An Overview of the Current Evidence.\n"
     ]
    },
    {
     "name": "stderr",
     "output_type": "stream",
     "text": [
      " 57%|█████████████████████████████████████████████▏                                  | 582/1030 [07:26<05:29,  1.36it/s]"
     ]
    },
    {
     "name": "stdout",
     "output_type": "stream",
     "text": [
      "The upper respiratory tract microbiota of healthy adults is affected by Streptococcus pneumoniae carriage, smoking habits, and contact with children.\n"
     ]
    },
    {
     "name": "stderr",
     "output_type": "stream",
     "text": [
      " 57%|█████████████████████████████████████████████▎                                  | 583/1030 [07:27<05:17,  1.41it/s]"
     ]
    },
    {
     "name": "stdout",
     "output_type": "stream",
     "text": [
      "The gut microbiota contributes to the pathogenesis of anorexia nervosa in humans  and mice.\n"
     ]
    },
    {
     "name": "stderr",
     "output_type": "stream",
     "text": [
      " 57%|█████████████████████████████████████████████▎                                  | 584/1030 [07:28<05:14,  1.42it/s]"
     ]
    },
    {
     "name": "stdout",
     "output_type": "stream",
     "text": [
      "Composition, Microbiota, Mechanisms, and Anti-Obesity Properties of Rice Bran.\n"
     ]
    },
    {
     "name": "stderr",
     "output_type": "stream",
     "text": [
      " 57%|█████████████████████████████████████████████▍                                  | 585/1030 [07:28<05:06,  1.45it/s]"
     ]
    },
    {
     "name": "stdout",
     "output_type": "stream",
     "text": [
      "The Novel Role of Phage Particles in Chronic Liver Diseases.\n"
     ]
    },
    {
     "name": "stderr",
     "output_type": "stream",
     "text": [
      " 57%|█████████████████████████████████████████████▌                                  | 586/1030 [07:29<05:21,  1.38it/s]"
     ]
    },
    {
     "name": "stdout",
     "output_type": "stream",
     "text": [
      "Attention Deficit Hyperactivity Disorder (ADHD) and the gut microbiome: An ecological perspective.\n"
     ]
    },
    {
     "name": "stderr",
     "output_type": "stream",
     "text": [
      " 57%|█████████████████████████████████████████████▌                                  | 587/1030 [07:30<05:24,  1.36it/s]"
     ]
    },
    {
     "name": "stdout",
     "output_type": "stream",
     "text": [
      "Deconstructed Plastic Substrate Preferences of Microbial Populations from the Natural Environment.\n"
     ]
    },
    {
     "name": "stderr",
     "output_type": "stream",
     "text": [
      " 57%|█████████████████████████████████████████████▋                                  | 588/1030 [07:31<05:17,  1.39it/s]"
     ]
    },
    {
     "name": "stdout",
     "output_type": "stream",
     "text": [
      "Tumorigenesis in Inflammatory Bowel Disease: Microbiota-Environment Interconnections.\n"
     ]
    },
    {
     "name": "stderr",
     "output_type": "stream",
     "text": [
      " 57%|█████████████████████████████████████████████▋                                  | 589/1030 [07:31<05:04,  1.45it/s]"
     ]
    },
    {
     "name": "stdout",
     "output_type": "stream",
     "text": [
      "Comparative genomics unveils extensive genomic variation between populations of Listeria species in natural and food-associated environments.\n"
     ]
    },
    {
     "name": "stderr",
     "output_type": "stream",
     "text": [
      " 57%|█████████████████████████████████████████████▊                                  | 590/1030 [07:32<04:58,  1.47it/s]"
     ]
    },
    {
     "name": "stdout",
     "output_type": "stream",
     "text": [
      "Gram-negative bacteria resist antimicrobial agents by a DzrR-mediated envelope stress response.\n"
     ]
    },
    {
     "name": "stderr",
     "output_type": "stream",
     "text": [
      " 57%|█████████████████████████████████████████████▉                                  | 591/1030 [07:33<04:54,  1.49it/s]"
     ]
    },
    {
     "name": "stdout",
     "output_type": "stream",
     "text": [
      "Host-Specific Diversity of Culturable Bacteria in the Gut Systems of Fungus-Growing Termites and Their Potential Functions towards Lignocellulose Bioconversion.\n"
     ]
    },
    {
     "name": "stderr",
     "output_type": "stream",
     "text": [
      " 57%|█████████████████████████████████████████████▉                                  | 592/1030 [07:33<04:51,  1.50it/s]"
     ]
    },
    {
     "name": "stdout",
     "output_type": "stream",
     "text": [
      "Resistance Profile of Bovine Mastitis Isolates, Presence of the mecA Gene and Identification of ESBL Producing Strains from Small Rural Dairy Properties.\n"
     ]
    },
    {
     "name": "stderr",
     "output_type": "stream",
     "text": [
      " 58%|██████████████████████████████████████████████                                  | 593/1030 [07:34<04:54,  1.48it/s]"
     ]
    },
    {
     "name": "stdout",
     "output_type": "stream",
     "text": [
      "Rapid and Simple Detection of Burkholderia gladioli in Food Matrices Using RPA-CRISPR/Cas12a Method.\n"
     ]
    },
    {
     "name": "stderr",
     "output_type": "stream",
     "text": [
      " 58%|██████████████████████████████████████████████▏                                 | 594/1030 [07:35<04:54,  1.48it/s]"
     ]
    },
    {
     "name": "stdout",
     "output_type": "stream",
     "text": [
      "Exopolysaccharides Producing Bacteria: A Review.\n"
     ]
    },
    {
     "name": "stderr",
     "output_type": "stream",
     "text": [
      " 58%|██████████████████████████████████████████████▏                                 | 595/1030 [07:35<05:09,  1.40it/s]"
     ]
    },
    {
     "name": "stdout",
     "output_type": "stream",
     "text": [
      "Prevalence and antimicrobial resistance profiles of Vibrio spp. and Enterococcus  spp. in retail shrimp in Northern California.\n"
     ]
    },
    {
     "name": "stderr",
     "output_type": "stream",
     "text": [
      " 58%|██████████████████████████████████████████████▎                                 | 596/1030 [07:36<05:00,  1.45it/s]"
     ]
    },
    {
     "name": "stdout",
     "output_type": "stream",
     "text": [
      "Exploring the biodiversity of Bifidobacterium asteroides among honey bee microbiomes.\n"
     ]
    },
    {
     "name": "stderr",
     "output_type": "stream",
     "text": [
      " 58%|██████████████████████████████████████████████▎                                 | 597/1030 [07:37<04:55,  1.46it/s]"
     ]
    },
    {
     "name": "stdout",
     "output_type": "stream",
     "text": [
      "Bacillus licheniformis: A Producer of Antimicrobial Substances, including Antimycobacterials, Which Are Feasible for Medical Applications.\n"
     ]
    },
    {
     "name": "stderr",
     "output_type": "stream",
     "text": [
      " 58%|██████████████████████████████████████████████▍                                 | 598/1030 [07:37<04:52,  1.48it/s]"
     ]
    },
    {
     "name": "stdout",
     "output_type": "stream",
     "text": [
      "Prevalence and risk factors of Klebsiella spp. in milk samples from dairy cows with mastitis—A global systematic review.\n"
     ]
    },
    {
     "name": "stderr",
     "output_type": "stream",
     "text": [
      " 58%|██████████████████████████████████████████████▌                                 | 599/1030 [07:38<04:55,  1.46it/s]"
     ]
    },
    {
     "name": "stdout",
     "output_type": "stream",
     "text": [
      "Metabolic profiling of Chimonanthus grammatus via UHPLC-HRMS-MS with computer-assisted structure elucidation and its antimicrobial activity.\n"
     ]
    },
    {
     "name": "stderr",
     "output_type": "stream",
     "text": [
      " 58%|██████████████████████████████████████████████▌                                 | 600/1030 [07:39<04:48,  1.49it/s]"
     ]
    },
    {
     "name": "stdout",
     "output_type": "stream",
     "text": [
      "Application of a novel lytic Jerseyvirus phage LPSent1 for the biological control of the multidrug-resistant Salmonella Enteritidis in foods.\n"
     ]
    },
    {
     "name": "stderr",
     "output_type": "stream",
     "text": [
      " 58%|██████████████████████████████████████████████▋                                 | 601/1030 [07:39<04:43,  1.51it/s]"
     ]
    },
    {
     "name": "stdout",
     "output_type": "stream",
     "text": [
      "NMR-Based Metabolomic Study on Phaseolus vulgaris Flour Fermented by Lactic Acid  Bacteria and Yeasts.\n"
     ]
    },
    {
     "name": "stderr",
     "output_type": "stream",
     "text": [
      " 58%|██████████████████████████████████████████████▊                                 | 602/1030 [07:40<04:51,  1.47it/s]"
     ]
    },
    {
     "name": "stdout",
     "output_type": "stream",
     "text": [
      "Paraburkholderia sabiae Uses One Type VI Secretion System (T6SS-1) as a Powerful  Weapon against Notorious Plant Pathogens.\n"
     ]
    },
    {
     "name": "stderr",
     "output_type": "stream",
     "text": [
      " 59%|██████████████████████████████████████████████▊                                 | 603/1030 [07:41<05:03,  1.41it/s]"
     ]
    },
    {
     "name": "stdout",
     "output_type": "stream",
     "text": [
      "Maternal gut microbiota in the postpartum Period: A Systematic review.\n"
     ]
    },
    {
     "name": "stderr",
     "output_type": "stream",
     "text": [
      " 59%|██████████████████████████████████████████████▉                                 | 604/1030 [07:41<04:57,  1.43it/s]"
     ]
    },
    {
     "name": "stdout",
     "output_type": "stream",
     "text": [
      "Microbial Dysbiosis Tunes the Immune Response Towards Allergic Disease Outcomes.\n"
     ]
    },
    {
     "name": "stderr",
     "output_type": "stream",
     "text": [
      " 59%|██████████████████████████████████████████████▉                                 | 605/1030 [07:42<04:48,  1.48it/s]"
     ]
    },
    {
     "name": "stdout",
     "output_type": "stream",
     "text": [
      "Consumption of Solnul™ Resistant Potato Starch Produces a Prebiotic Effect in a Randomized, Placebo-Controlled Clinical Trial.\n"
     ]
    },
    {
     "name": "stderr",
     "output_type": "stream",
     "text": [
      " 59%|███████████████████████████████████████████████                                 | 606/1030 [07:43<04:46,  1.48it/s]"
     ]
    },
    {
     "name": "stdout",
     "output_type": "stream",
     "text": [
      "Fermented Stevia Improves Alcohol Poisoning Symptoms Associated with Changes in Mouse Gut Microbiota.\n"
     ]
    },
    {
     "name": "stderr",
     "output_type": "stream",
     "text": [
      " 59%|███████████████████████████████████████████████▏                                | 607/1030 [07:43<04:48,  1.46it/s]"
     ]
    },
    {
     "name": "stdout",
     "output_type": "stream",
     "text": [
      "Electrophysiological and Behavioral Responses of Virgin Female Bactrocera tryoni  to Microbial Volatiles from Enterobacteriaceae.\n"
     ]
    },
    {
     "name": "stderr",
     "output_type": "stream",
     "text": [
      " 59%|███████████████████████████████████████████████▏                                | 608/1030 [07:44<04:46,  1.48it/s]"
     ]
    },
    {
     "name": "stdout",
     "output_type": "stream",
     "text": [
      "Microflora, Contents of Polyamines, Biogenic Amines, and TVB-N in Bovine Offal and Game Meat for the Raw-Feeding of Adult Dogs.\n"
     ]
    },
    {
     "name": "stderr",
     "output_type": "stream",
     "text": [
      " 59%|███████████████████████████████████████████████▎                                | 609/1030 [07:45<04:39,  1.51it/s]"
     ]
    },
    {
     "name": "stdout",
     "output_type": "stream",
     "text": [
      "Inflammatory Bowel Sugar Disease: A Pause From New Pharmacological Agents and an  Embrace of Natural Therapy.\n"
     ]
    },
    {
     "name": "stderr",
     "output_type": "stream",
     "text": [
      " 59%|███████████████████████████████████████████████▍                                | 610/1030 [07:45<04:41,  1.49it/s]"
     ]
    },
    {
     "name": "stdout",
     "output_type": "stream",
     "text": [
      "Shift in vacuolar to cytosolic regime of infecting Salmonella from a dual proteome perspective.\n"
     ]
    },
    {
     "name": "stderr",
     "output_type": "stream",
     "text": [
      " 59%|███████████████████████████████████████████████▍                                | 611/1030 [07:46<04:52,  1.43it/s]"
     ]
    },
    {
     "name": "stdout",
     "output_type": "stream",
     "text": [
      "Ruminococcus gnavus: friend or foe for human health.\n"
     ]
    },
    {
     "name": "stderr",
     "output_type": "stream",
     "text": [
      " 59%|███████████████████████████████████████████████▌                                | 612/1030 [07:47<04:51,  1.44it/s]"
     ]
    },
    {
     "name": "stdout",
     "output_type": "stream",
     "text": [
      "Long-term continuous cultivation of Kenyan infant fecal microbiota using the host adapted PolyFermS model.\n"
     ]
    },
    {
     "name": "stderr",
     "output_type": "stream",
     "text": [
      " 60%|███████████████████████████████████████████████▌                                | 613/1030 [07:48<04:44,  1.47it/s]"
     ]
    },
    {
     "name": "stdout",
     "output_type": "stream",
     "text": [
      "Study on the Hepatoprotective Effect Mechanism of Polysaccharides from Charred Angelica sinensis on the Layer Chickens Based on the Detection of the Intestinal Floras and Short-Chain Fatty Acids of Cecal Contents and Association Analysis.\n"
     ]
    },
    {
     "name": "stderr",
     "output_type": "stream",
     "text": [
      " 60%|███████████████████████████████████████████████▋                                | 614/1030 [07:48<04:37,  1.50it/s]"
     ]
    },
    {
     "name": "stdout",
     "output_type": "stream",
     "text": [
      "Gut microbial beta-glucuronidase: a vital regulator in female estrogen metabolism.\n"
     ]
    },
    {
     "name": "stderr",
     "output_type": "stream",
     "text": [
      " 60%|███████████████████████████████████████████████▊                                | 615/1030 [07:49<04:33,  1.52it/s]"
     ]
    },
    {
     "name": "stdout",
     "output_type": "stream",
     "text": [
      "Analysis of the Effect of Various Potential Antimicrobial Agents on the Quality of the Unpasteurized Carrot Juice.\n"
     ]
    },
    {
     "name": "stderr",
     "output_type": "stream",
     "text": [
      " 60%|███████████████████████████████████████████████▊                                | 616/1030 [07:49<04:31,  1.53it/s]"
     ]
    },
    {
     "name": "stdout",
     "output_type": "stream",
     "text": [
      "Gut Microbiota and its Metabolites: Bridge of Dietary Nutrients and Alzheimer’s Disease.\n"
     ]
    },
    {
     "name": "stderr",
     "output_type": "stream",
     "text": [
      " 60%|███████████████████████████████████████████████▉                                | 617/1030 [07:50<04:40,  1.47it/s]"
     ]
    },
    {
     "name": "stdout",
     "output_type": "stream",
     "text": [
      "Impaired flux of bile acids from the liver to the gut reveals microbiome-immune interactions associated with liver damage.\n"
     ]
    },
    {
     "name": "stderr",
     "output_type": "stream",
     "text": [
      " 60%|████████████████████████████████████████████████                                | 618/1030 [07:51<04:36,  1.49it/s]"
     ]
    },
    {
     "name": "stdout",
     "output_type": "stream",
     "text": [
      "Comparative effects of soy protein concentrate, enzyme-treated soybean meal, and  fermented soybean meal replacing animal protein supplements in feeds on growth performance and intestinal health of nursery pigs.\n"
     ]
    },
    {
     "name": "stderr",
     "output_type": "stream",
     "text": [
      " 60%|████████████████████████████████████████████████                                | 619/1030 [07:52<04:40,  1.47it/s]"
     ]
    },
    {
     "name": "stdout",
     "output_type": "stream",
     "text": [
      "Understanding the link between gut microbiota, dietary intake, and nutritional status in children with autism and typical development.\n"
     ]
    },
    {
     "name": "stderr",
     "output_type": "stream",
     "text": [
      " 60%|████████████████████████████████████████████████▏                               | 620/1030 [07:53<07:01,  1.03s/it]"
     ]
    },
    {
     "name": "stdout",
     "output_type": "stream",
     "text": [
      "Fecal Microbiota, Forage Nutrients, and Metabolic Responses of Horses Grazing Warm- and Cool-Season Grass Pastures.\n"
     ]
    },
    {
     "name": "stderr",
     "output_type": "stream",
     "text": [
      " 60%|████████████████████████████████████████████████▏                               | 621/1030 [07:54<06:14,  1.09it/s]"
     ]
    },
    {
     "name": "stdout",
     "output_type": "stream",
     "text": [
      "Potential Source and Transmission Pathway of Gut Bacteria in the Diamondback Moth, Plutella xylostella.\n"
     ]
    },
    {
     "name": "stderr",
     "output_type": "stream",
     "text": [
      " 60%|████████████████████████████████████████████████▎                               | 622/1030 [07:55<05:53,  1.15it/s]"
     ]
    },
    {
     "name": "stdout",
     "output_type": "stream",
     "text": [
      "Diet-derived metabolites and mucus link the gut microbiome to fever after cytotoxic cancer treatment.\n"
     ]
    },
    {
     "name": "stderr",
     "output_type": "stream",
     "text": [
      " 60%|████████████████████████████████████████████████▍                               | 623/1030 [07:55<05:25,  1.25it/s]"
     ]
    },
    {
     "name": "stdout",
     "output_type": "stream",
     "text": [
      "Gut dysbiosis is associated with aortic aneurysm formation and progression in Takayasu arteritis.\n"
     ]
    },
    {
     "name": "stderr",
     "output_type": "stream",
     "text": [
      " 61%|████████████████████████████████████████████████▍                               | 624/1030 [07:56<05:07,  1.32it/s]"
     ]
    },
    {
     "name": "stdout",
     "output_type": "stream",
     "text": [
      "High Levels of Multidrug-Resistant and Beta-Lactamase-Producing Bacteria in Meat  and Meat Contact Surfaces, Debre Berhan Town, Ethiopia.\n"
     ]
    },
    {
     "name": "stderr",
     "output_type": "stream",
     "text": [
      " 61%|████████████████████████████████████████████████▌                               | 625/1030 [07:57<04:52,  1.38it/s]"
     ]
    },
    {
     "name": "stdout",
     "output_type": "stream",
     "text": [
      "Phytochemical profiling, antimicrobial, and antioxidant activities of hydroethanolic extracts of prickly pear (Opuntia ficus indica) fruit and pulp.\n"
     ]
    },
    {
     "name": "stderr",
     "output_type": "stream",
     "text": [
      " 61%|████████████████████████████████████████████████▌                               | 626/1030 [07:57<04:46,  1.41it/s]"
     ]
    },
    {
     "name": "stdout",
     "output_type": "stream",
     "text": [
      "Presence of Foodborne Bacteria in Wild Boar and Wild Boar Meat—A Literature Survey for the Period 2012–2022.\n"
     ]
    },
    {
     "name": "stderr",
     "output_type": "stream",
     "text": [
      " 61%|████████████████████████████████████████████████▋                               | 627/1030 [07:58<04:43,  1.42it/s]"
     ]
    },
    {
     "name": "stdout",
     "output_type": "stream",
     "text": [
      "Red Meat Intake, Indole-3-Acetate, and Dorea longicatena Together Affect Insulin  Resistance after Gastric Bypass.\n"
     ]
    },
    {
     "name": "stderr",
     "output_type": "stream",
     "text": [
      " 61%|████████████████████████████████████████████████▊                               | 628/1030 [07:59<04:50,  1.38it/s]"
     ]
    },
    {
     "name": "stdout",
     "output_type": "stream",
     "text": [
      "Exploring the Plasticity of Diet on Gut Microbiota and Its Correlation with Gut Health.\n"
     ]
    },
    {
     "name": "stderr",
     "output_type": "stream",
     "text": [
      " 61%|████████████████████████████████████████████████▊                               | 629/1030 [08:00<04:39,  1.43it/s]"
     ]
    },
    {
     "name": "stdout",
     "output_type": "stream",
     "text": [
      "Insect-based agri-food waste valorization: Agricultural applications and roles of insect gut microbiota.\n"
     ]
    },
    {
     "name": "stderr",
     "output_type": "stream",
     "text": [
      " 61%|████████████████████████████████████████████████▉                               | 630/1030 [08:00<04:30,  1.48it/s]"
     ]
    },
    {
     "name": "stdout",
     "output_type": "stream",
     "text": [
      "Bioactive Potential of Aqueous Phenolic Extracts of Spices for Their Use in the Food Industry—A Systematic Review.\n"
     ]
    },
    {
     "name": "stderr",
     "output_type": "stream",
     "text": [
      " 61%|█████████████████████████████████████████████████                               | 631/1030 [08:01<04:28,  1.48it/s]"
     ]
    },
    {
     "name": "stdout",
     "output_type": "stream",
     "text": [
      "Maltooligosaccharides: Properties, Production and Applications.\n"
     ]
    },
    {
     "name": "stderr",
     "output_type": "stream",
     "text": [
      " 61%|█████████████████████████████████████████████████                               | 632/1030 [08:01<04:25,  1.50it/s]"
     ]
    },
    {
     "name": "stdout",
     "output_type": "stream",
     "text": [
      "The metabolome and bacterial composition of high-moisture Italian ryegrass silage inoculated with lactic acid bacteria during ensiling.\n"
     ]
    },
    {
     "name": "stderr",
     "output_type": "stream",
     "text": [
      " 61%|█████████████████████████████████████████████████▏                              | 633/1030 [08:02<04:21,  1.52it/s]"
     ]
    },
    {
     "name": "stdout",
     "output_type": "stream",
     "text": [
      "Vibrio-Sequins - dPCR-traceable DNA standards for quantitative genomics of Vibrio spp.\n"
     ]
    },
    {
     "name": "stderr",
     "output_type": "stream",
     "text": [
      " 62%|█████████████████████████████████████████████████▏                              | 634/1030 [08:03<04:31,  1.46it/s]"
     ]
    },
    {
     "name": "stdout",
     "output_type": "stream",
     "text": [
      "Interplay between Phytochemicals and the Colonic Microbiota.\n"
     ]
    },
    {
     "name": "stderr",
     "output_type": "stream",
     "text": [
      " 62%|█████████████████████████████████████████████████▎                              | 635/1030 [08:04<04:26,  1.48it/s]"
     ]
    },
    {
     "name": "stdout",
     "output_type": "stream",
     "text": [
      "Microbial metabolites as modulators of the infant gut microbiome and host-microbial interactions in early life.\n"
     ]
    },
    {
     "name": "stderr",
     "output_type": "stream",
     "text": [
      " 62%|█████████████████████████████████████████████████▍                              | 636/1030 [08:04<04:35,  1.43it/s]"
     ]
    },
    {
     "name": "stdout",
     "output_type": "stream",
     "text": [
      "A Comprehensive Review of Bioactive Compounds from Lactic Acid Bacteria: Potential Functions as Functional Food in Dietetics and the Food Industry.\n"
     ]
    },
    {
     "name": "stderr",
     "output_type": "stream",
     "text": [
      " 62%|█████████████████████████████████████████████████▍                              | 637/1030 [08:05<04:32,  1.44it/s]"
     ]
    },
    {
     "name": "stdout",
     "output_type": "stream",
     "text": [
      "Comprehensive Genome Analysis of Cellulose and Xylan-Active CAZymes from the Genus Paenibacillus: Special Emphasis on the Novel Xylanolytic Paenibacillus sp. LS1.\n"
     ]
    },
    {
     "name": "stderr",
     "output_type": "stream",
     "text": [
      " 62%|█████████████████████████████████████████████████▌                              | 638/1030 [08:06<04:26,  1.47it/s]"
     ]
    },
    {
     "name": "stdout",
     "output_type": "stream",
     "text": [
      "Comparison of the effects of probiotics, rifaximin, and lactulose in the treatment of minimal hepatic encephalopathy and gut microbiota.\n"
     ]
    },
    {
     "name": "stderr",
     "output_type": "stream",
     "text": [
      " 62%|█████████████████████████████████████████████████▋                              | 639/1030 [08:07<04:55,  1.33it/s]"
     ]
    },
    {
     "name": "stdout",
     "output_type": "stream",
     "text": [
      "Effect of Consumption of Animal Products on the Gut Microbiome Composition and Gut Health.\n"
     ]
    },
    {
     "name": "stderr",
     "output_type": "stream",
     "text": [
      " 62%|█████████████████████████████████████████████████▋                              | 640/1030 [08:07<04:40,  1.39it/s]"
     ]
    },
    {
     "name": "stdout",
     "output_type": "stream",
     "text": [
      "Optimal generation of hepatic tissue-resident memory CD4 T cells requires IL-1 and IL-2.\n"
     ]
    },
    {
     "name": "stderr",
     "output_type": "stream",
     "text": [
      " 62%|█████████████████████████████████████████████████▊                              | 641/1030 [08:08<04:32,  1.43it/s]"
     ]
    },
    {
     "name": "stdout",
     "output_type": "stream",
     "text": [
      "Probiotic powder ameliorates colorectal cancer by regulating Bifidobacterium animalis, Clostridium cocleatum, and immune cell composition.\n"
     ]
    },
    {
     "name": "stderr",
     "output_type": "stream",
     "text": [
      " 62%|█████████████████████████████████████████████████▊                              | 642/1030 [08:08<04:26,  1.46it/s]"
     ]
    },
    {
     "name": "stdout",
     "output_type": "stream",
     "text": [
      "Potential of Bifidobacteriumlactis IDCC 4301 isolated from breast milk‐fed infant feces as a probiotic and functional ingredient.\n"
     ]
    },
    {
     "name": "stderr",
     "output_type": "stream",
     "text": [
      " 62%|█████████████████████████████████████████████████▉                              | 643/1030 [08:09<04:23,  1.47it/s]"
     ]
    },
    {
     "name": "stdout",
     "output_type": "stream",
     "text": [
      "Compliance with Nutritional Recommendations and Gut Microbiota Profile in Galician Overweight/Obese and Normal-Weight Individuals.\n"
     ]
    },
    {
     "name": "stderr",
     "output_type": "stream",
     "text": [
      " 63%|██████████████████████████████████████████████████                              | 644/1030 [08:10<04:27,  1.44it/s]"
     ]
    },
    {
     "name": "stdout",
     "output_type": "stream",
     "text": [
      "Microbial and Biochemical Profile of Different Types of Greek Table Olives.\n"
     ]
    },
    {
     "name": "stderr",
     "output_type": "stream",
     "text": [
      " 63%|██████████████████████████████████████████████████                              | 645/1030 [08:11<04:21,  1.47it/s]"
     ]
    },
    {
     "name": "stdout",
     "output_type": "stream",
     "text": [
      "Future Modulation of Gut Microbiota: From Eubiotics to FMT, Engineered Bacteria,  and Phage Therapy.\n"
     ]
    },
    {
     "name": "stderr",
     "output_type": "stream",
     "text": [
      " 63%|██████████████████████████████████████████████████▏                             | 646/1030 [08:11<04:24,  1.45it/s]"
     ]
    },
    {
     "name": "stdout",
     "output_type": "stream",
     "text": [
      "Regulatory Effects of the Probiotic Clostridium butyricum on Gut Microbes, Intestinal Health, and Growth Performance of Chickens.\n"
     ]
    },
    {
     "name": "stderr",
     "output_type": "stream",
     "text": [
      " 63%|██████████████████████████████████████████████████▎                             | 647/1030 [08:12<04:48,  1.33it/s]"
     ]
    },
    {
     "name": "stdout",
     "output_type": "stream",
     "text": [
      "Pre-, pro-, syn-, and Postbiotics in Infant Formulas: What Are the Immune Benefits for Infants?\n"
     ]
    },
    {
     "name": "stderr",
     "output_type": "stream",
     "text": [
      " 63%|██████████████████████████████████████████████████▎                             | 648/1030 [08:13<04:34,  1.39it/s]"
     ]
    },
    {
     "name": "stdout",
     "output_type": "stream",
     "text": [
      "Viability of Probiotic Microorganisms and the Effect of Their Addition to Fruit and Vegetable Juices.\n"
     ]
    },
    {
     "name": "stderr",
     "output_type": "stream",
     "text": [
      " 63%|██████████████████████████████████████████████████▍                             | 649/1030 [08:13<04:26,  1.43it/s]"
     ]
    },
    {
     "name": "stdout",
     "output_type": "stream",
     "text": [
      "Microbial Communities and Correlation between Microbiota and Volatile Compounds in Fermentation Starters of Chinese Sweet Rice Wine from Different Regions.\n"
     ]
    },
    {
     "name": "stderr",
     "output_type": "stream",
     "text": [
      " 63%|██████████████████████████████████████████████████▍                             | 650/1030 [08:14<04:18,  1.47it/s]"
     ]
    },
    {
     "name": "stdout",
     "output_type": "stream",
     "text": [
      "Application of Acidulants to Control Salmonella spp. in Rendered Animal Fats and  Oils with Different Levels of Unsaturation.\n"
     ]
    },
    {
     "name": "stderr",
     "output_type": "stream",
     "text": [
      " 63%|██████████████████████████████████████████████████▌                             | 651/1030 [08:15<04:35,  1.38it/s]"
     ]
    },
    {
     "name": "stdout",
     "output_type": "stream",
     "text": [
      "Synthetic and natural antimicrobials as a control against food borne pathogens: A review.\n"
     ]
    },
    {
     "name": "stderr",
     "output_type": "stream",
     "text": [
      " 63%|██████████████████████████████████████████████████▋                             | 652/1030 [08:16<04:46,  1.32it/s]"
     ]
    },
    {
     "name": "stdout",
     "output_type": "stream",
     "text": [
      "Physicochemical, sensory and microbiological characteristics of coriander seed powder yogurt.\n"
     ]
    },
    {
     "name": "stderr",
     "output_type": "stream",
     "text": [
      " 63%|██████████████████████████████████████████████████▋                             | 653/1030 [08:16<04:41,  1.34it/s]"
     ]
    },
    {
     "name": "stdout",
     "output_type": "stream",
     "text": [
      "﻿A review of Eupholidoptera (Orthoptera, Tettigoniidae) from Crete, Gavdos, Gavdopoula, and Andikithira.\n"
     ]
    },
    {
     "name": "stderr",
     "output_type": "stream",
     "text": [
      " 63%|██████████████████████████████████████████████████▊                             | 654/1030 [08:17<04:29,  1.39it/s]"
     ]
    },
    {
     "name": "stdout",
     "output_type": "stream",
     "text": [
      "Seed bio-priming with phosphate-solubilizing bacteria strains to improve rice (Oryza sativa L. var. FARO 44) growth under ferruginous ultisol conditions.\n"
     ]
    },
    {
     "name": "stderr",
     "output_type": "stream",
     "text": [
      " 64%|██████████████████████████████████████████████████▊                             | 655/1030 [08:18<04:23,  1.42it/s]"
     ]
    },
    {
     "name": "stdout",
     "output_type": "stream",
     "text": [
      "Use of Organic Acid Mixtures Containing 2-Hydroxy-4-(Methylthio) Butanoic Acid (HMTBa) to Mitigate Salmonella enterica, Shiga Toxin-Producing Escherichia coli (STEC) and Aspergillus flavus in Pet Food Kibbles.\n"
     ]
    },
    {
     "name": "stderr",
     "output_type": "stream",
     "text": [
      " 64%|██████████████████████████████████████████████████▉                             | 656/1030 [08:19<04:27,  1.40it/s]"
     ]
    },
    {
     "name": "stdout",
     "output_type": "stream",
     "text": [
      "Global branches and local states of the human gut microbiome define associations  with environmental and intrinsic factors.\n"
     ]
    },
    {
     "name": "stderr",
     "output_type": "stream",
     "text": [
      " 64%|███████████████████████████████████████████████████                             | 657/1030 [08:19<04:31,  1.37it/s]"
     ]
    },
    {
     "name": "stdout",
     "output_type": "stream",
     "text": [
      "Antibiotics and Bacterial Resistance—A Short Story of an Endless Arms Race.\n"
     ]
    },
    {
     "name": "stderr",
     "output_type": "stream",
     "text": [
      " 64%|███████████████████████████████████████████████████                             | 658/1030 [08:20<04:40,  1.33it/s]"
     ]
    },
    {
     "name": "stdout",
     "output_type": "stream",
     "text": [
      "Antibiotic Resistance among Gastrointestinal Bacteria in Broilers: A Review Focused on Enterococcus spp. and Escherichia coli.\n"
     ]
    },
    {
     "name": "stderr",
     "output_type": "stream",
     "text": [
      " 64%|███████████████████████████████████████████████████▏                            | 659/1030 [08:21<04:31,  1.36it/s]"
     ]
    },
    {
     "name": "stdout",
     "output_type": "stream",
     "text": [
      "Effect of Two-Step Sous Vide Cooking and Storage on Microbiological and Oxidative Stability of Chicken Breast.\n"
     ]
    },
    {
     "name": "stderr",
     "output_type": "stream",
     "text": [
      " 64%|███████████████████████████████████████████████████▎                            | 660/1030 [08:21<04:30,  1.37it/s]"
     ]
    },
    {
     "name": "stdout",
     "output_type": "stream",
     "text": [
      "Shigella IpaH9.8 limits GBP1-dependent LPS release from intracytosolic bacteria to suppress caspase-4 activation.\n"
     ]
    },
    {
     "name": "stderr",
     "output_type": "stream",
     "text": [
      " 64%|███████████████████████████████████████████████████▎                            | 661/1030 [08:22<04:18,  1.43it/s]"
     ]
    },
    {
     "name": "stdout",
     "output_type": "stream",
     "text": [
      "Microbial food safety of lettuce produced under irrigated wastewater from Onyasia River in Ghana.\n"
     ]
    },
    {
     "name": "stderr",
     "output_type": "stream",
     "text": [
      " 64%|███████████████████████████████████████████████████▍                            | 662/1030 [08:23<04:10,  1.47it/s]"
     ]
    },
    {
     "name": "stdout",
     "output_type": "stream",
     "text": [
      "Microbial Diversity and Correlation between Breast Milk and the Infant Gut.\n"
     ]
    },
    {
     "name": "stderr",
     "output_type": "stream",
     "text": [
      " 64%|███████████████████████████████████████████████████▍                            | 663/1030 [08:23<04:08,  1.48it/s]"
     ]
    },
    {
     "name": "stdout",
     "output_type": "stream",
     "text": [
      "Factors associated with antimicrobial resistant enterococci in Canadian beef cattle: A scoping review.\n"
     ]
    },
    {
     "name": "stderr",
     "output_type": "stream",
     "text": [
      " 64%|███████████████████████████████████████████████████▌                            | 664/1030 [08:24<04:09,  1.47it/s]"
     ]
    },
    {
     "name": "stdout",
     "output_type": "stream",
     "text": [
      "Gut-on-a-Chip for the Analysis of Bacteria–Bacteria Interactions in Gut Microbial Community: What Would Be Needed for Bacterial Co-Culture Study to Explore the Diet–Microbiota Relationship?\n"
     ]
    },
    {
     "name": "stderr",
     "output_type": "stream",
     "text": [
      " 65%|███████████████████████████████████████████████████▋                            | 665/1030 [08:25<04:04,  1.49it/s]"
     ]
    },
    {
     "name": "stdout",
     "output_type": "stream",
     "text": [
      "Lactococcus lactis endocarditis and liver abscess in an immunocompetent patient:  a case report and review of the literature.\n"
     ]
    },
    {
     "name": "stderr",
     "output_type": "stream",
     "text": [
      " 65%|███████████████████████████████████████████████████▋                            | 666/1030 [08:25<03:59,  1.52it/s]"
     ]
    },
    {
     "name": "stdout",
     "output_type": "stream",
     "text": [
      "Exploring potential correlations between bacterial communities, organic acids, and volatile metabolites of traditional fermented sauerkraut collected from different regions of Heilongjiang Province in Northeast China.\n"
     ]
    },
    {
     "name": "stderr",
     "output_type": "stream",
     "text": [
      " 65%|███████████████████████████████████████████████████▊                            | 667/1030 [08:26<04:02,  1.50it/s]"
     ]
    },
    {
     "name": "stdout",
     "output_type": "stream",
     "text": [
      "Plant Growth Promotion Using Bacillus cereus.\n"
     ]
    },
    {
     "name": "stderr",
     "output_type": "stream",
     "text": [
      " 65%|███████████████████████████████████████████████████▉                            | 668/1030 [08:27<03:56,  1.53it/s]"
     ]
    },
    {
     "name": "stdout",
     "output_type": "stream",
     "text": [
      "Gastrointestinal tract involvement in systemic sclerosis: The roles of diet and the microbiome.\n"
     ]
    },
    {
     "name": "stderr",
     "output_type": "stream",
     "text": [
      " 65%|███████████████████████████████████████████████████▉                            | 669/1030 [08:27<03:54,  1.54it/s]"
     ]
    },
    {
     "name": "stdout",
     "output_type": "stream",
     "text": [
      "Resistance, Tolerance, Virulence and Bacterial Pathogen Fitness—Current State and Envisioned Solutions for the Near Future.\n"
     ]
    },
    {
     "name": "stderr",
     "output_type": "stream",
     "text": [
      " 65%|████████████████████████████████████████████████████                            | 670/1030 [08:28<03:51,  1.55it/s]"
     ]
    },
    {
     "name": "stdout",
     "output_type": "stream",
     "text": [
      "Emerging Paradigms in Inflammatory Disease Management: Exploring Bioactive Compounds and the Gut Microbiota.\n"
     ]
    },
    {
     "name": "stderr",
     "output_type": "stream",
     "text": [
      " 65%|████████████████████████████████████████████████████                            | 671/1030 [08:29<03:50,  1.55it/s]"
     ]
    },
    {
     "name": "stdout",
     "output_type": "stream",
     "text": [
      "Present Status, Limitations, and Prospects of Using Streptomyces Bacteria as a Potential Probiotic Agent in Aquaculture.\n"
     ]
    },
    {
     "name": "stderr",
     "output_type": "stream",
     "text": [
      " 65%|████████████████████████████████████████████████████▏                           | 672/1030 [08:29<03:50,  1.56it/s]"
     ]
    },
    {
     "name": "stdout",
     "output_type": "stream",
     "text": [
      "Constipation-Predominant Irritable Bowel Syndrome (IBS-C): Effects of Different Nutritional Patterns on Intestinal Dysbiosis and Symptoms.\n"
     ]
    },
    {
     "name": "stderr",
     "output_type": "stream",
     "text": [
      " 65%|████████████████████████████████████████████████████▎                           | 673/1030 [08:30<03:49,  1.55it/s]"
     ]
    },
    {
     "name": "stdout",
     "output_type": "stream",
     "text": [
      "Plant–Microbes Interaction: Exploring the Impact of Cold-Tolerant Bacillus Strains RJGP41 and GBAC46 Volatiles on Tomato Growth Promotion through Different Mechanisms.\n"
     ]
    },
    {
     "name": "stderr",
     "output_type": "stream",
     "text": [
      " 65%|████████████████████████████████████████████████████▎                           | 674/1030 [08:31<03:51,  1.54it/s]"
     ]
    },
    {
     "name": "stdout",
     "output_type": "stream",
     "text": [
      "The gut-cardiovascular connection: new era for cardiovascular therapy.\n"
     ]
    },
    {
     "name": "stderr",
     "output_type": "stream",
     "text": [
      " 66%|████████████████████████████████████████████████████▍                           | 675/1030 [08:31<03:55,  1.51it/s]"
     ]
    },
    {
     "name": "stdout",
     "output_type": "stream",
     "text": [
      "The Role of Dietary Antioxidants and Their Potential Mechanisms in Alzheimer’s Disease Treatment.\n"
     ]
    },
    {
     "name": "stderr",
     "output_type": "stream",
     "text": [
      " 66%|████████████████████████████████████████████████████▌                           | 676/1030 [08:32<03:57,  1.49it/s]"
     ]
    },
    {
     "name": "stdout",
     "output_type": "stream",
     "text": [
      "Multi-omics reveals that the host-microbiome metabolism crosstalk of differential rumen bacterial enterotypes can regulate the milk protein synthesis of dairy cows.\n"
     ]
    },
    {
     "name": "stderr",
     "output_type": "stream",
     "text": [
      " 66%|████████████████████████████████████████████████████▌                           | 677/1030 [08:33<03:54,  1.51it/s]"
     ]
    },
    {
     "name": "stdout",
     "output_type": "stream",
     "text": [
      "On the use of antibiotics to control plant pathogenic bacteria: a genetic and genomic perspective.\n"
     ]
    },
    {
     "name": "stderr",
     "output_type": "stream",
     "text": [
      " 66%|████████████████████████████████████████████████████▋                           | 678/1030 [08:33<03:50,  1.53it/s]"
     ]
    },
    {
     "name": "stdout",
     "output_type": "stream",
     "text": [
      "Feature architecture aware phylogenetic profiling indicates a functional diversification of type IVa pili in the nosocomial pathogen Acinetobacter baumannii.\n"
     ]
    },
    {
     "name": "stderr",
     "output_type": "stream",
     "text": [
      " 66%|████████████████████████████████████████████████████▋                           | 679/1030 [08:34<04:03,  1.44it/s]"
     ]
    },
    {
     "name": "stdout",
     "output_type": "stream",
     "text": [
      "Recent advances in the biological activities of microbial exopolysaccharides.\n"
     ]
    },
    {
     "name": "stderr",
     "output_type": "stream",
     "text": [
      " 66%|████████████████████████████████████████████████████▊                           | 680/1030 [08:35<04:02,  1.44it/s]"
     ]
    },
    {
     "name": "stdout",
     "output_type": "stream",
     "text": [
      "Effects of different cultivation media on root bacterial community characteristics of greenhouse tomatoes.\n"
     ]
    },
    {
     "name": "stderr",
     "output_type": "stream",
     "text": [
      " 66%|████████████████████████████████████████████████████▉                           | 681/1030 [08:35<04:06,  1.42it/s]"
     ]
    },
    {
     "name": "stdout",
     "output_type": "stream",
     "text": [
      "Recent advances and opportunities related to the use of bee products in food processing.\n"
     ]
    },
    {
     "name": "stderr",
     "output_type": "stream",
     "text": [
      " 66%|████████████████████████████████████████████████████▉                           | 682/1030 [08:36<04:10,  1.39it/s]"
     ]
    },
    {
     "name": "stdout",
     "output_type": "stream",
     "text": [
      "Paraburkholderia phytofirmans PsJN colonization of rice endosphere triggers an atypical transcriptomic response compared to rice native Burkholderia s.l. endophytes.\n"
     ]
    },
    {
     "name": "stderr",
     "output_type": "stream",
     "text": [
      " 66%|█████████████████████████████████████████████████████                           | 683/1030 [08:37<04:00,  1.44it/s]"
     ]
    },
    {
     "name": "stdout",
     "output_type": "stream",
     "text": [
      "Protein Content in the Diet Influences Growth and Diarrhea in Weaning Piglets.\n"
     ]
    },
    {
     "name": "stderr",
     "output_type": "stream",
     "text": [
      " 66%|█████████████████████████████████████████████████████▏                          | 684/1030 [08:38<03:59,  1.44it/s]"
     ]
    },
    {
     "name": "stdout",
     "output_type": "stream",
     "text": [
      "Microbial Contamination and Antibiotic Resistance in Marketed Food in Bangladesh: Current Situation and Possible Improvements.\n"
     ]
    },
    {
     "name": "stderr",
     "output_type": "stream",
     "text": [
      " 67%|█████████████████████████████████████████████████████▏                          | 685/1030 [08:38<03:56,  1.46it/s]"
     ]
    },
    {
     "name": "stdout",
     "output_type": "stream",
     "text": [
      "A 3D Bioprinted Gut Anaerobic Model for Studying Bacteria–Host Interactions.\n"
     ]
    },
    {
     "name": "stderr",
     "output_type": "stream",
     "text": [
      " 67%|█████████████████████████████████████████████████████▎                          | 686/1030 [08:39<03:58,  1.44it/s]"
     ]
    },
    {
     "name": "stdout",
     "output_type": "stream",
     "text": [
      "Synergistic Effect of Combination of Various Microbial Hurdles in the Biopreservation of Meat and Meat Products—Systematic Review.\n"
     ]
    },
    {
     "name": "stderr",
     "output_type": "stream",
     "text": [
      " 67%|█████████████████████████████████████████████████████▎                          | 687/1030 [08:40<03:51,  1.48it/s]"
     ]
    },
    {
     "name": "stdout",
     "output_type": "stream",
     "text": [
      "Antimicrobial resistance in bacteria isolated from peridomestic Rattus species: A scoping literature review.\n"
     ]
    },
    {
     "name": "stderr",
     "output_type": "stream",
     "text": [
      " 67%|█████████████████████████████████████████████████████▍                          | 688/1030 [08:40<03:46,  1.51it/s]"
     ]
    },
    {
     "name": "stdout",
     "output_type": "stream",
     "text": [
      "Bacteremia in Severe Mastitis of Dairy Cows.\n"
     ]
    },
    {
     "name": "stderr",
     "output_type": "stream",
     "text": [
      " 67%|█████████████████████████████████████████████████████▌                          | 689/1030 [08:41<03:43,  1.53it/s]"
     ]
    },
    {
     "name": "stdout",
     "output_type": "stream",
     "text": [
      "Bioactive Antimicrobial Peptides from Food Proteins: Perspectives and Challenges  for Controlling Foodborne Pathogens.\n"
     ]
    },
    {
     "name": "stderr",
     "output_type": "stream",
     "text": [
      " 67%|█████████████████████████████████████████████████████▌                          | 690/1030 [08:41<03:40,  1.54it/s]"
     ]
    },
    {
     "name": "stdout",
     "output_type": "stream",
     "text": [
      "Isolation of Potential Probiotic Bacillus spp. from the Intestine of Nile Tilapia to Construct Recombinant Probiotic Expressing CC Chemokine and Its Effectiveness on Innate Immune Responses in Nile Tilapia.\n"
     ]
    },
    {
     "name": "stderr",
     "output_type": "stream",
     "text": [
      " 67%|█████████████████████████████████████████████████████▋                          | 691/1030 [08:42<03:38,  1.55it/s]"
     ]
    },
    {
     "name": "stdout",
     "output_type": "stream",
     "text": [
      "A new member of the flavodoxin superfamily from Fusobacterium nucleatum that functions in heme trafficking and reduction of anaerobilin.\n"
     ]
    },
    {
     "name": "stderr",
     "output_type": "stream",
     "text": [
      " 67%|█████████████████████████████████████████████████████▋                          | 692/1030 [08:43<03:39,  1.54it/s]"
     ]
    },
    {
     "name": "stdout",
     "output_type": "stream",
     "text": [
      "Vitamin B12 produced by Cetobacterium somerae improves host resistance against pathogen infection through strengthening the interactions within gut microbiota.\n"
     ]
    },
    {
     "name": "stderr",
     "output_type": "stream",
     "text": [
      " 67%|█████████████████████████████████████████████████████▊                          | 693/1030 [08:43<03:40,  1.53it/s]"
     ]
    },
    {
     "name": "stdout",
     "output_type": "stream",
     "text": [
      "Deep Divergence and Genomic Diversification of Gut Symbionts of Neotropical Stingless Bees.\n"
     ]
    },
    {
     "name": "stderr",
     "output_type": "stream",
     "text": [
      " 67%|█████████████████████████████████████████████████████▉                          | 694/1030 [08:44<03:38,  1.54it/s]"
     ]
    },
    {
     "name": "stdout",
     "output_type": "stream",
     "text": [
      "Probiotics and Human Milk Differentially Influence the Gut Microbiome and NEC Incidence in Preterm Pigs.\n"
     ]
    },
    {
     "name": "stderr",
     "output_type": "stream",
     "text": [
      " 67%|█████████████████████████████████████████████████████▉                          | 695/1030 [08:45<03:43,  1.50it/s]"
     ]
    },
    {
     "name": "stdout",
     "output_type": "stream",
     "text": [
      "Effects of Animal and Vegetable Proteins on Gut Microbiota in Subjects with Overweight or Obesity.\n"
     ]
    },
    {
     "name": "stderr",
     "output_type": "stream",
     "text": [
      " 68%|██████████████████████████████████████████████████████                          | 696/1030 [08:45<03:49,  1.45it/s]"
     ]
    },
    {
     "name": "stdout",
     "output_type": "stream",
     "text": [
      "Robust cross-cohort gut microbiome associations with COVID-19 severity.\n"
     ]
    },
    {
     "name": "stderr",
     "output_type": "stream",
     "text": [
      " 68%|██████████████████████████████████████████████████████▏                         | 697/1030 [08:46<03:51,  1.44it/s]"
     ]
    },
    {
     "name": "stdout",
     "output_type": "stream",
     "text": [
      "Effect of Probiotics in Breast Cancer: A Systematic Review and Meta-Analysis.\n"
     ]
    },
    {
     "name": "stderr",
     "output_type": "stream",
     "text": [
      " 68%|██████████████████████████████████████████████████████▏                         | 698/1030 [08:47<03:46,  1.47it/s]"
     ]
    },
    {
     "name": "stdout",
     "output_type": "stream",
     "text": [
      "Two novel Planococcus species isolated from baijiu pit mud with potential application in brewing.\n"
     ]
    },
    {
     "name": "stderr",
     "output_type": "stream",
     "text": [
      " 68%|██████████████████████████████████████████████████████▎                         | 699/1030 [08:48<03:50,  1.44it/s]"
     ]
    },
    {
     "name": "stdout",
     "output_type": "stream",
     "text": [
      "A Longitudinal Characterization of the Seminal Microbiota and Antibiotic Resistance in Yearling Beef Bulls Subjected to Different Rates of Gain.\n"
     ]
    },
    {
     "name": "stderr",
     "output_type": "stream",
     "text": [
      " 68%|██████████████████████████████████████████████████████▎                         | 700/1030 [08:48<03:45,  1.47it/s]"
     ]
    },
    {
     "name": "stdout",
     "output_type": "stream",
     "text": [
      "Soy and Gastrointestinal Health: A Review.\n"
     ]
    },
    {
     "name": "stderr",
     "output_type": "stream",
     "text": [
      " 68%|██████████████████████████████████████████████████████▍                         | 701/1030 [08:49<03:45,  1.46it/s]"
     ]
    },
    {
     "name": "stdout",
     "output_type": "stream",
     "text": [
      "Evidence of horizontal gene transfer within porB in 19 018 whole-genome Neisseria spp. isolates: a global phylogenetic analysis.\n"
     ]
    },
    {
     "name": "stderr",
     "output_type": "stream",
     "text": [
      " 68%|██████████████████████████████████████████████████████▌                         | 702/1030 [08:50<03:42,  1.47it/s]"
     ]
    },
    {
     "name": "stdout",
     "output_type": "stream",
     "text": [
      "Bacterial Changes in Boiled Crayfish between Different Storage Periods and Characterizations of the Specific Spoilage Bacteria.\n"
     ]
    },
    {
     "name": "stderr",
     "output_type": "stream",
     "text": [
      " 68%|██████████████████████████████████████████████████████▌                         | 703/1030 [08:50<03:43,  1.47it/s]"
     ]
    },
    {
     "name": "stdout",
     "output_type": "stream",
     "text": [
      "Gut microbiota in a mouse model of obesity and peripheral neuropathy associated with plasma and nerve lipidomics and nerve transcriptomics.\n"
     ]
    },
    {
     "name": "stderr",
     "output_type": "stream",
     "text": [
      " 68%|██████████████████████████████████████████████████████▋                         | 704/1030 [08:51<03:37,  1.50it/s]"
     ]
    },
    {
     "name": "stdout",
     "output_type": "stream",
     "text": [
      "Global diversity of enterococci and description of 18 novel species.\n"
     ]
    },
    {
     "name": "stderr",
     "output_type": "stream",
     "text": [
      " 68%|██████████████████████████████████████████████████████▊                         | 705/1030 [08:52<03:38,  1.49it/s]"
     ]
    },
    {
     "name": "stdout",
     "output_type": "stream",
     "text": [
      "Biologically Active Compounds from Probiotic Microorganisms and Plant Extracts Used as Biopreservatives.\n"
     ]
    },
    {
     "name": "stderr",
     "output_type": "stream",
     "text": [
      " 69%|██████████████████████████████████████████████████████▊                         | 706/1030 [08:52<03:34,  1.51it/s]"
     ]
    },
    {
     "name": "stdout",
     "output_type": "stream",
     "text": [
      "Toward an improved definition of a healthy microbiome for healthy aging.\n"
     ]
    },
    {
     "name": "stderr",
     "output_type": "stream",
     "text": [
      " 69%|██████████████████████████████████████████████████████▉                         | 707/1030 [08:53<03:33,  1.51it/s]"
     ]
    },
    {
     "name": "stdout",
     "output_type": "stream",
     "text": [
      "Antimicrobial activity in Asterceae: The selected genera characterization and against multidrug resistance bacteria.\n"
     ]
    },
    {
     "name": "stderr",
     "output_type": "stream",
     "text": [
      " 69%|██████████████████████████████████████████████████████▉                         | 708/1030 [08:54<03:31,  1.52it/s]"
     ]
    },
    {
     "name": "stdout",
     "output_type": "stream",
     "text": [
      "After a century of nisin research - where are we now?\n"
     ]
    },
    {
     "name": "stderr",
     "output_type": "stream",
     "text": [
      " 69%|███████████████████████████████████████████████████████                         | 709/1030 [08:54<03:31,  1.52it/s]"
     ]
    },
    {
     "name": "stdout",
     "output_type": "stream",
     "text": [
      "Characterization of Leuconostoc carnosum and Latilactobacillus sakei during Cooked Pork Ham Processing.\n"
     ]
    },
    {
     "name": "stderr",
     "output_type": "stream",
     "text": [
      " 69%|███████████████████████████████████████████████████████▏                        | 710/1030 [08:55<03:27,  1.54it/s]"
     ]
    },
    {
     "name": "stdout",
     "output_type": "stream",
     "text": [
      "Probiotic and technological characterization of selected Lactobacillus strains isolated from different egyptian cheeses.\n"
     ]
    },
    {
     "name": "stderr",
     "output_type": "stream",
     "text": [
      " 69%|███████████████████████████████████████████████████████▏                        | 711/1030 [08:56<03:35,  1.48it/s]"
     ]
    },
    {
     "name": "stdout",
     "output_type": "stream",
     "text": [
      "Food Safety Monitoring of Salmonella spp. in Northern Italy 2019–2021.\n"
     ]
    },
    {
     "name": "stderr",
     "output_type": "stream",
     "text": [
      " 69%|███████████████████████████████████████████████████████▎                        | 712/1030 [08:56<03:38,  1.45it/s]"
     ]
    },
    {
     "name": "stdout",
     "output_type": "stream",
     "text": [
      "Metagenomic Sequencing Reveals the Taxonomic and Functional Characteristics of Rumen Micro-organisms in Gayals.\n"
     ]
    },
    {
     "name": "stderr",
     "output_type": "stream",
     "text": [
      " 69%|███████████████████████████████████████████████████████▍                        | 713/1030 [08:57<03:37,  1.45it/s]"
     ]
    },
    {
     "name": "stdout",
     "output_type": "stream",
     "text": [
      "Characterization of the Rhizosphere Bacterial Microbiome and Coffee Bean Fermentation in the Castillo-Tambo and Bourbon Varieties in the Popayán-Colombia Plateau.\n"
     ]
    },
    {
     "name": "stderr",
     "output_type": "stream",
     "text": [
      " 69%|███████████████████████████████████████████████████████▍                        | 714/1030 [08:58<03:36,  1.46it/s]"
     ]
    },
    {
     "name": "stdout",
     "output_type": "stream",
     "text": [
      "Tenebrio molitor (Linnaeus, 1758): Microbiological Screening of Feed for a Safe Food Choice.\n"
     ]
    },
    {
     "name": "stderr",
     "output_type": "stream",
     "text": [
      " 69%|███████████████████████████████████████████████████████▌                        | 715/1030 [08:58<03:32,  1.48it/s]"
     ]
    },
    {
     "name": "stdout",
     "output_type": "stream",
     "text": [
      "The impact of protein source and grain inclusion on digestibility, fecal metabolites, and fecal microbiome in adult canines.\n"
     ]
    },
    {
     "name": "stderr",
     "output_type": "stream",
     "text": [
      " 70%|███████████████████████████████████████████████████████▌                        | 716/1030 [08:59<03:39,  1.43it/s]"
     ]
    },
    {
     "name": "stdout",
     "output_type": "stream",
     "text": [
      "Distinguishing Natural Infections of the Bovine Mammary Gland by Staphylococcus from Streptococcus spp. Using Quantitative Milk Proteomics.\n"
     ]
    },
    {
     "name": "stderr",
     "output_type": "stream",
     "text": [
      " 70%|███████████████████████████████████████████████████████▋                        | 717/1030 [09:00<03:34,  1.46it/s]"
     ]
    },
    {
     "name": "stdout",
     "output_type": "stream",
     "text": [
      "A systematic assessment of matrix-assisted laser desorption/ionization time of flight mass spectrometry (MALDI-TOF MS) application for rapid identification of pathogenic microbes that affect food crops: delivered and future deliverables.\n"
     ]
    },
    {
     "name": "stderr",
     "output_type": "stream",
     "text": [
      " 70%|███████████████████████████████████████████████████████▊                        | 718/1030 [09:00<03:28,  1.49it/s]"
     ]
    },
    {
     "name": "stdout",
     "output_type": "stream",
     "text": [
      "The Gut Microbiome Responds Progressively to Fat and/or Sugar-Rich Diets and Is Differentially Modified by Dietary Fat and Sugar.\n"
     ]
    },
    {
     "name": "stderr",
     "output_type": "stream",
     "text": [
      " 70%|███████████████████████████████████████████████████████▊                        | 719/1030 [09:01<03:28,  1.49it/s]"
     ]
    },
    {
     "name": "stdout",
     "output_type": "stream",
     "text": [
      "Microbiological Quality and Safety of Fresh Turkey Meat at Retail Level, Including the Presence of ESBL-Producing Enterobacteriaceae and Methicillin-Resistant S. aureus.\n"
     ]
    },
    {
     "name": "stderr",
     "output_type": "stream",
     "text": [
      " 70%|███████████████████████████████████████████████████████▉                        | 720/1030 [09:02<03:29,  1.48it/s]"
     ]
    },
    {
     "name": "stdout",
     "output_type": "stream",
     "text": [
      "The role of probiotics in vannamei shrimp aquaculture performance – A review.\n"
     ]
    },
    {
     "name": "stderr",
     "output_type": "stream",
     "text": [
      " 70%|████████████████████████████████████████████████████████                        | 721/1030 [09:02<03:25,  1.50it/s]"
     ]
    },
    {
     "name": "stdout",
     "output_type": "stream",
     "text": [
      "Gut microbiota Turicibacter strains differentially modify bile acids and host lipids.\n"
     ]
    },
    {
     "name": "stderr",
     "output_type": "stream",
     "text": [
      " 70%|████████████████████████████████████████████████████████                        | 722/1030 [09:03<03:22,  1.52it/s]"
     ]
    },
    {
     "name": "stdout",
     "output_type": "stream",
     "text": [
      "Bioprospection of the bacterial β-myrcene-biotransforming trait in the rhizosphere.\n"
     ]
    },
    {
     "name": "stderr",
     "output_type": "stream",
     "text": [
      " 70%|████████████████████████████████████████████████████████▏                       | 723/1030 [09:04<03:34,  1.43it/s]"
     ]
    },
    {
     "name": "stdout",
     "output_type": "stream",
     "text": [
      "Longitudinal Study for the Detection and Quantification of Campylobacter spp. in  Dairy Cows during Milking and in the Dairy Farm Environment.\n"
     ]
    },
    {
     "name": "stderr",
     "output_type": "stream",
     "text": [
      " 70%|████████████████████████████████████████████████████████▏                       | 724/1030 [09:05<03:37,  1.41it/s]"
     ]
    },
    {
     "name": "stdout",
     "output_type": "stream",
     "text": [
      "Yak Milk: Nutritional Value, Functional Activity, and Current Applications.\n"
     ]
    },
    {
     "name": "stderr",
     "output_type": "stream",
     "text": [
      " 70%|████████████████████████████████████████████████████████▎                       | 725/1030 [09:05<03:55,  1.30it/s]"
     ]
    },
    {
     "name": "stdout",
     "output_type": "stream",
     "text": [
      "Validation of the Thermo Scientific™ SureTect™ Vibrio cholerae, Vibrio parahaemolyticus, and Vibrio vulnificus PCR Assay for the Detection of Vibrio cholerae, Vibrio parahaemolyticus, and Vibrio vulnificus in Seafood Matrixes: AOAC Performance Tested MethodsSM 022301.\n"
     ]
    },
    {
     "name": "stderr",
     "output_type": "stream",
     "text": [
      " 70%|████████████████████████████████████████████████████████▍                       | 726/1030 [09:06<03:43,  1.36it/s]"
     ]
    },
    {
     "name": "stdout",
     "output_type": "stream",
     "text": [
      "Prospecting Plant Extracts and Bioactive Molecules with Antimicrobial Activity in Brazilian Biomes: A Review.\n"
     ]
    },
    {
     "name": "stderr",
     "output_type": "stream",
     "text": [
      " 71%|████████████████████████████████████████████████████████▍                       | 727/1030 [09:07<03:35,  1.41it/s]"
     ]
    },
    {
     "name": "stdout",
     "output_type": "stream",
     "text": [
      "Distinct Bacterial Communities in São Jorge Cheese with Protected Designation of  Origin (PDO).\n"
     ]
    },
    {
     "name": "stderr",
     "output_type": "stream",
     "text": [
      " 71%|████████████████████████████████████████████████████████▌                       | 728/1030 [09:07<03:27,  1.45it/s]"
     ]
    },
    {
     "name": "stdout",
     "output_type": "stream",
     "text": [
      "Dietary micro-fibrillated cellulose improves growth, reduces diarrhea, modulates  gut microbiota, and increases butyrate production in post-weaning piglets.\n"
     ]
    },
    {
     "name": "stderr",
     "output_type": "stream",
     "text": [
      " 71%|████████████████████████████████████████████████████████▌                       | 729/1030 [09:08<03:24,  1.47it/s]"
     ]
    },
    {
     "name": "stdout",
     "output_type": "stream",
     "text": [
      "A Longitudinal Study on the Dynamics of Salmonella enterica Prevalence and Serovar Composition in Beef Cattle Feces and Lymph Nodes and Potential Contributing Sources from the Feedlot Environment.\n"
     ]
    },
    {
     "name": "stderr",
     "output_type": "stream",
     "text": [
      " 71%|████████████████████████████████████████████████████████▋                       | 730/1030 [09:09<03:23,  1.47it/s]"
     ]
    },
    {
     "name": "stdout",
     "output_type": "stream",
     "text": [
      "Different Diet Energy Levels Alter Body Condition, Glucolipid Metabolism, Fecal Microbiota and Metabolites in Adult Beagle Dogs.\n"
     ]
    },
    {
     "name": "stderr",
     "output_type": "stream",
     "text": [
      " 71%|████████████████████████████████████████████████████████▊                       | 731/1030 [09:09<03:20,  1.49it/s]"
     ]
    },
    {
     "name": "stdout",
     "output_type": "stream",
     "text": [
      "Effects of probiotics on non-alcoholic fatty liver disease: a review of human clinical trials.\n"
     ]
    },
    {
     "name": "stderr",
     "output_type": "stream",
     "text": [
      " 71%|████████████████████████████████████████████████████████▊                       | 732/1030 [09:10<03:18,  1.50it/s]"
     ]
    },
    {
     "name": "stdout",
     "output_type": "stream",
     "text": [
      "Role of Dietary Defatted Rice Bran in the Modulation of Gut Microbiota in AOM/DSS-Induced Colitis-Associated Colorectal Cancer Rat Model.\n"
     ]
    },
    {
     "name": "stderr",
     "output_type": "stream",
     "text": [
      " 71%|████████████████████████████████████████████████████████▉                       | 733/1030 [09:11<03:20,  1.48it/s]"
     ]
    },
    {
     "name": "stdout",
     "output_type": "stream",
     "text": [
      "Bacteria‐instructed B cells cross‐prime naïve CD8+ T cells triggering effective cytotoxic responses.\n"
     ]
    },
    {
     "name": "stderr",
     "output_type": "stream",
     "text": [
      " 71%|█████████████████████████████████████████████████████████                       | 734/1030 [09:11<03:21,  1.47it/s]"
     ]
    },
    {
     "name": "stdout",
     "output_type": "stream",
     "text": [
      "Further Interpretation of the Volatile, Microbial Community and Edible Quality of Fresh Fermented Rice Noodles with Different Selected Strains.\n"
     ]
    },
    {
     "name": "stderr",
     "output_type": "stream",
     "text": [
      " 71%|█████████████████████████████████████████████████████████                       | 735/1030 [09:12<03:40,  1.34it/s]"
     ]
    },
    {
     "name": "stdout",
     "output_type": "stream",
     "text": [
      "Bioprospecting and Challenges of Plant Microbiome Research for Sustainable Agriculture, a Review on Soybean Endophytic Bacteria.\n"
     ]
    },
    {
     "name": "stderr",
     "output_type": "stream",
     "text": [
      " 71%|█████████████████████████████████████████████████████████▏                      | 736/1030 [09:13<03:54,  1.26it/s]"
     ]
    },
    {
     "name": "stdout",
     "output_type": "stream",
     "text": [
      "Single-Molecule Approach to 16S rRNA for Vaginal Microbiome Signatures in Response to Metronidazole Treatment.\n"
     ]
    },
    {
     "name": "stderr",
     "output_type": "stream",
     "text": [
      " 72%|█████████████████████████████████████████████████████████▏                      | 737/1030 [09:14<03:50,  1.27it/s]"
     ]
    },
    {
     "name": "stdout",
     "output_type": "stream",
     "text": [
      "Neurodegenerative and Neurodevelopmental Diseases and the Gut-Brain Axis: The Potential of Therapeutic Targeting of the Microbiome.\n"
     ]
    },
    {
     "name": "stderr",
     "output_type": "stream",
     "text": [
      " 72%|█████████████████████████████████████████████████████████▎                      | 738/1030 [09:15<03:37,  1.34it/s]"
     ]
    },
    {
     "name": "stdout",
     "output_type": "stream",
     "text": [
      "Caffeine Consumption Helps Honey Bees Fight a Bacterial Pathogen.\n"
     ]
    },
    {
     "name": "stderr",
     "output_type": "stream",
     "text": [
      " 72%|█████████████████████████████████████████████████████████▍                      | 739/1030 [09:15<03:33,  1.36it/s]"
     ]
    },
    {
     "name": "stdout",
     "output_type": "stream",
     "text": [
      "Regulation of dietary fiber on intestinal microorganisms and its effects on animal health.\n"
     ]
    },
    {
     "name": "stderr",
     "output_type": "stream",
     "text": [
      " 72%|█████████████████████████████████████████████████████████▍                      | 740/1030 [09:16<03:27,  1.40it/s]"
     ]
    },
    {
     "name": "stdout",
     "output_type": "stream",
     "text": [
      "Age-related alterations in metabolome and microbiome provide insights in dietary  transition in giant pandas.\n"
     ]
    },
    {
     "name": "stderr",
     "output_type": "stream",
     "text": [
      " 72%|█████████████████████████████████████████████████████████▌                      | 741/1030 [09:17<03:26,  1.40it/s]"
     ]
    },
    {
     "name": "stdout",
     "output_type": "stream",
     "text": [
      "Isothermal nucleic acid amplification and its uses in modern diagnostic technologies.\n"
     ]
    },
    {
     "name": "stderr",
     "output_type": "stream",
     "text": [
      " 72%|█████████████████████████████████████████████████████████▋                      | 742/1030 [09:17<03:23,  1.41it/s]"
     ]
    },
    {
     "name": "stdout",
     "output_type": "stream",
     "text": [
      "Vitamins as regulators of calcium-containing kidney stones — new perspectives on  the role of the gut microbiome.\n"
     ]
    },
    {
     "name": "stderr",
     "output_type": "stream",
     "text": [
      " 72%|█████████████████████████████████████████████████████████▋                      | 743/1030 [09:18<03:45,  1.27it/s]"
     ]
    },
    {
     "name": "stdout",
     "output_type": "stream",
     "text": [
      "A survey of elastase-producing bacteria and characteristics of the most potent producer, Priestia megaterium gasm32.\n"
     ]
    },
    {
     "name": "stderr",
     "output_type": "stream",
     "text": [
      " 72%|█████████████████████████████████████████████████████████▊                      | 744/1030 [09:19<03:52,  1.23it/s]"
     ]
    },
    {
     "name": "stdout",
     "output_type": "stream",
     "text": [
      "Differences in gut microbiota associated with stress resilience and susceptibility to single prolonged stress in female rodents.\n"
     ]
    },
    {
     "name": "stderr",
     "output_type": "stream",
     "text": [
      " 72%|█████████████████████████████████████████████████████████▊                      | 745/1030 [09:20<03:50,  1.24it/s]"
     ]
    },
    {
     "name": "stdout",
     "output_type": "stream",
     "text": [
      "The Screening of the Protective Antigens of Aeromonas hydrophila Using the Reverse Vaccinology Approach: Potential Candidates for Subunit Vaccine Development.\n"
     ]
    },
    {
     "name": "stderr",
     "output_type": "stream",
     "text": [
      " 72%|█████████████████████████████████████████████████████████▉                      | 746/1030 [09:21<03:41,  1.28it/s]"
     ]
    },
    {
     "name": "stdout",
     "output_type": "stream",
     "text": [
      "Infant Formula Supplemented with Five Human Milk Oligosaccharides Shifts the Fecal Microbiome of Formula-Fed Infants Closer to That of Breastfed Infants.\n"
     ]
    },
    {
     "name": "stderr",
     "output_type": "stream",
     "text": [
      " 73%|██████████████████████████████████████████████████████████                      | 747/1030 [09:21<03:27,  1.36it/s]"
     ]
    },
    {
     "name": "stdout",
     "output_type": "stream",
     "text": [
      "Gut microbiome of mealworms (Tenebrio molitor Larvae) show similar responses to polystyrene and corn straw diets.\n"
     ]
    },
    {
     "name": "stderr",
     "output_type": "stream",
     "text": [
      " 73%|██████████████████████████████████████████████████████████                      | 748/1030 [09:22<03:20,  1.41it/s]"
     ]
    },
    {
     "name": "stdout",
     "output_type": "stream",
     "text": [
      "Novel Antibiotic Resistance Genes Identified by Functional Gene Library Screening in Stenotrophomonas maltophilia and Chryseobacterium spp. Bacteria of Soil Origin.\n"
     ]
    },
    {
     "name": "stderr",
     "output_type": "stream",
     "text": [
      " 73%|██████████████████████████████████████████████████████████▏                     | 749/1030 [09:23<03:14,  1.44it/s]"
     ]
    },
    {
     "name": "stdout",
     "output_type": "stream",
     "text": [
      "A novel variant of the Listeria monocytogenes type VII secretion system EssC component is associated with an Rhs toxin.\n"
     ]
    },
    {
     "name": "stderr",
     "output_type": "stream",
     "text": [
      " 73%|██████████████████████████████████████████████████████████▎                     | 750/1030 [09:23<03:10,  1.47it/s]"
     ]
    },
    {
     "name": "stdout",
     "output_type": "stream",
     "text": [
      "Antifungal mechanisms of the antagonistic bacterium Bacillus mojavensis UTF-33 and its potential as a new biopesticide.\n"
     ]
    },
    {
     "name": "stderr",
     "output_type": "stream",
     "text": [
      " 73%|██████████████████████████████████████████████████████████▎                     | 751/1030 [09:24<03:05,  1.50it/s]"
     ]
    },
    {
     "name": "stdout",
     "output_type": "stream",
     "text": [
      "Clinical Spectrum and Outcomes of Cryptogenic Klebsiella pneumoniae Liver Abscess in the Americas: A Scoping Review.\n"
     ]
    },
    {
     "name": "stderr",
     "output_type": "stream",
     "text": [
      " 73%|██████████████████████████████████████████████████████████▍                     | 752/1030 [09:25<03:06,  1.49it/s]"
     ]
    },
    {
     "name": "stdout",
     "output_type": "stream",
     "text": [
      "Bile Acids and Short-Chain Fatty Acids Are Modulated after Onion and Apple Consumption in Obese Zucker Rats.\n"
     ]
    },
    {
     "name": "stderr",
     "output_type": "stream",
     "text": [
      " 73%|██████████████████████████████████████████████████████████▍                     | 753/1030 [09:25<03:02,  1.52it/s]"
     ]
    },
    {
     "name": "stdout",
     "output_type": "stream",
     "text": [
      "Dendrobium officinale aqueous extract influences the immune response following vaccination against SARS-CoV-2.\n"
     ]
    },
    {
     "name": "stderr",
     "output_type": "stream",
     "text": [
      " 73%|██████████████████████████████████████████████████████████▌                     | 754/1030 [09:26<03:03,  1.50it/s]"
     ]
    },
    {
     "name": "stdout",
     "output_type": "stream",
     "text": [
      "Microbial isolation and characterization from two flex lines from the urine processor assembly onboard the international space station.\n"
     ]
    },
    {
     "name": "stderr",
     "output_type": "stream",
     "text": [
      " 73%|██████████████████████████████████████████████████████████▋                     | 755/1030 [09:27<03:09,  1.45it/s]"
     ]
    },
    {
     "name": "stdout",
     "output_type": "stream",
     "text": [
      "Suspension of oral hygiene practices highlights key bacterial shifts in saliva, tongue, and tooth plaque during gingival inflammation and resolution.\n"
     ]
    },
    {
     "name": "stderr",
     "output_type": "stream",
     "text": [
      " 73%|██████████████████████████████████████████████████████████▋                     | 756/1030 [09:28<04:10,  1.09it/s]"
     ]
    },
    {
     "name": "stdout",
     "output_type": "stream",
     "text": [
      "A Comprehensive Review on Bacterial Vaccines Combating Antimicrobial Resistance in Poultry.\n"
     ]
    },
    {
     "name": "stderr",
     "output_type": "stream",
     "text": [
      " 73%|██████████████████████████████████████████████████████████▊                     | 757/1030 [09:29<03:51,  1.18it/s]"
     ]
    },
    {
     "name": "stdout",
     "output_type": "stream",
     "text": [
      "16S-rRNA-Based Metagenomic Profiling of the Bacterial Communities in Traditional  Bulgarian Sourdoughs.\n"
     ]
    },
    {
     "name": "stderr",
     "output_type": "stream",
     "text": [
      " 74%|██████████████████████████████████████████████████████████▊                     | 758/1030 [09:30<03:40,  1.23it/s]"
     ]
    },
    {
     "name": "stdout",
     "output_type": "stream",
     "text": [
      "Insights into the circulating microbiome of Atlantic and Greenland halibut populations: the role of species-specific and environmental factors.\n"
     ]
    },
    {
     "name": "stderr",
     "output_type": "stream",
     "text": [
      " 74%|██████████████████████████████████████████████████████████▉                     | 759/1030 [09:30<03:31,  1.28it/s]"
     ]
    },
    {
     "name": "stdout",
     "output_type": "stream",
     "text": [
      "Utilization of dietary mixed-linkage β-glucans by the Firmicute Blautia producta.\n"
     ]
    },
    {
     "name": "stderr",
     "output_type": "stream",
     "text": [
      " 74%|███████████████████████████████████████████████████████████                     | 760/1030 [09:31<03:18,  1.36it/s]"
     ]
    },
    {
     "name": "stdout",
     "output_type": "stream",
     "text": [
      "Investigating the Ability of Edwardsiella ictaluri and Flavobacterium covae to Persist within Commercial Catfish Pond Sediments under Laboratory Conditions.\n"
     ]
    },
    {
     "name": "stderr",
     "output_type": "stream",
     "text": [
      " 74%|███████████████████████████████████████████████████████████                     | 761/1030 [09:32<03:17,  1.36it/s]"
     ]
    },
    {
     "name": "stdout",
     "output_type": "stream",
     "text": [
      "Bacillus cabrialesii: Five Years of Research on a Novel Species of Biological Control and Plant Growth-Promoting Bacteria.\n"
     ]
    },
    {
     "name": "stderr",
     "output_type": "stream",
     "text": [
      " 74%|███████████████████████████████████████████████████████████▏                    | 762/1030 [09:32<03:12,  1.39it/s]"
     ]
    },
    {
     "name": "stdout",
     "output_type": "stream",
     "text": [
      "Composition of the intestinal microbiota of infant rhesus macaques at different ages before and after weaning.\n"
     ]
    },
    {
     "name": "stderr",
     "output_type": "stream",
     "text": [
      " 74%|███████████████████████████████████████████████████████████▎                    | 763/1030 [09:33<03:16,  1.36it/s]"
     ]
    },
    {
     "name": "stdout",
     "output_type": "stream",
     "text": [
      "An insight into the role of the organic acids produced by Enterobacter sp. strain 15S in solubilizing tricalcium phosphate: in situ study on cucumber.\n"
     ]
    },
    {
     "name": "stderr",
     "output_type": "stream",
     "text": [
      " 74%|███████████████████████████████████████████████████████████▎                    | 764/1030 [09:34<03:08,  1.41it/s]"
     ]
    },
    {
     "name": "stdout",
     "output_type": "stream",
     "text": [
      "The roles of gut microbiota and its metabolites in diabetic nephropathy.\n"
     ]
    },
    {
     "name": "stderr",
     "output_type": "stream",
     "text": [
      " 74%|███████████████████████████████████████████████████████████▍                    | 765/1030 [09:34<03:08,  1.41it/s]"
     ]
    },
    {
     "name": "stdout",
     "output_type": "stream",
     "text": [
      "The ribonuclease PNPase is a key regulator of biofilm formation in Listeria monocytogenes and affects invasion of host cells.\n"
     ]
    },
    {
     "name": "stderr",
     "output_type": "stream",
     "text": [
      " 74%|███████████████████████████████████████████████████████████▍                    | 766/1030 [09:35<03:02,  1.44it/s]"
     ]
    },
    {
     "name": "stdout",
     "output_type": "stream",
     "text": [
      "Study on the Trend in Microbial Changes during the Fermentation of Black Tea and  Its Effect on the Quality.\n"
     ]
    },
    {
     "name": "stderr",
     "output_type": "stream",
     "text": [
      " 74%|███████████████████████████████████████████████████████████▌                    | 767/1030 [09:36<03:02,  1.44it/s]"
     ]
    },
    {
     "name": "stdout",
     "output_type": "stream",
     "text": [
      "Antimicrobial Resistance, Virulence Properties and Genetic Diversity of Salmonella Typhimurium Recovered from Domestic and Imported Seafood.\n"
     ]
    },
    {
     "name": "stderr",
     "output_type": "stream",
     "text": [
      " 75%|███████████████████████████████████████████████████████████▋                    | 768/1030 [09:37<03:29,  1.25it/s]"
     ]
    },
    {
     "name": "stdout",
     "output_type": "stream",
     "text": [
      "Enhance of tomato production and induction of changes on the organic profile mediated by Rhizobium biofortification.\n"
     ]
    },
    {
     "name": "stderr",
     "output_type": "stream",
     "text": [
      " 75%|███████████████████████████████████████████████████████████▋                    | 769/1030 [09:38<03:17,  1.32it/s]"
     ]
    },
    {
     "name": "stdout",
     "output_type": "stream",
     "text": [
      "Deciphering microbial community dynamics along the fermentation course of soy sauce under different temperatures using metagenomic analysis.\n"
     ]
    },
    {
     "name": "stderr",
     "output_type": "stream",
     "text": [
      " 75%|███████████████████████████████████████████████████████████▊                    | 770/1030 [09:38<03:28,  1.25it/s]"
     ]
    },
    {
     "name": "stdout",
     "output_type": "stream",
     "text": [
      "Innova 2020: A Follow-Up Study of the Fecal Microbiota of Infants Using a Novel Infant Formula between 6 Months and 12 Months of Age.\n"
     ]
    },
    {
     "name": "stderr",
     "output_type": "stream",
     "text": [
      " 75%|███████████████████████████████████████████████████████████▉                    | 771/1030 [09:39<03:15,  1.32it/s]"
     ]
    },
    {
     "name": "stdout",
     "output_type": "stream",
     "text": [
      "Microbial applications for sustainable space exploration beyond low Earth orbit.\n"
     ]
    },
    {
     "name": "stderr",
     "output_type": "stream",
     "text": [
      " 75%|███████████████████████████████████████████████████████████▉                    | 772/1030 [09:40<03:12,  1.34it/s]"
     ]
    },
    {
     "name": "stdout",
     "output_type": "stream",
     "text": [
      "Chinese herbal medicines for treating ulcerative colitis via regulating gut microbiota-intestinal immunity axis.\n"
     ]
    },
    {
     "name": "stderr",
     "output_type": "stream",
     "text": [
      " 75%|████████████████████████████████████████████████████████████                    | 773/1030 [09:41<03:21,  1.28it/s]"
     ]
    },
    {
     "name": "stdout",
     "output_type": "stream",
     "text": [
      "Accounting Gut Microbiota as the Mediator of Beneficial Effects of Dietary (Poly)phenols on Skeletal Muscle in Aging.\n"
     ]
    },
    {
     "name": "stderr",
     "output_type": "stream",
     "text": [
      " 75%|████████████████████████████████████████████████████████████                    | 774/1030 [09:41<03:09,  1.35it/s]"
     ]
    },
    {
     "name": "stdout",
     "output_type": "stream",
     "text": [
      "Plant Growth-Promoting Rhizobacteria for Sustainable Agricultural Production.\n"
     ]
    },
    {
     "name": "stderr",
     "output_type": "stream",
     "text": [
      " 75%|████████████████████████████████████████████████████████████▏                   | 775/1030 [09:42<03:06,  1.37it/s]"
     ]
    },
    {
     "name": "stdout",
     "output_type": "stream",
     "text": [
      "Antibacterial plant combinations prevent postweaning diarrhea in organically raised piglets challenged with enterotoxigenic Escherichia coli F18.\n"
     ]
    },
    {
     "name": "stderr",
     "output_type": "stream",
     "text": [
      " 75%|████████████████████████████████████████████████████████████▎                   | 776/1030 [09:43<03:03,  1.38it/s]"
     ]
    },
    {
     "name": "stdout",
     "output_type": "stream",
     "text": [
      "Relationship of environmental factors in pond water and dynamic changes of gut microbes of sea bass Lateolabrax japonicus.\n"
     ]
    },
    {
     "name": "stderr",
     "output_type": "stream",
     "text": [
      " 75%|████████████████████████████████████████████████████████████▎                   | 777/1030 [09:43<02:57,  1.43it/s]"
     ]
    },
    {
     "name": "stdout",
     "output_type": "stream",
     "text": [
      "Digestibility and Palatability of the Diet and Intestinal Functionality of Dogs Fed a Blend of Yeast Cell Wall and Oregano Essential Oil.\n"
     ]
    },
    {
     "name": "stderr",
     "output_type": "stream",
     "text": [
      " 76%|████████████████████████████████████████████████████████████▍                   | 778/1030 [09:44<02:56,  1.43it/s]"
     ]
    },
    {
     "name": "stdout",
     "output_type": "stream",
     "text": [
      "Microbiota and mycobiota in bronchoalveolar lavage fluid of silicosis patients.\n"
     ]
    },
    {
     "name": "stderr",
     "output_type": "stream",
     "text": [
      " 76%|████████████████████████████████████████████████████████████▌                   | 779/1030 [09:45<02:51,  1.46it/s]"
     ]
    },
    {
     "name": "stdout",
     "output_type": "stream",
     "text": [
      "Effect of Maternal Diet on Maternal Milk and Breastfed Infant Gut Microbiomes: A  Scoping Review.\n"
     ]
    },
    {
     "name": "stderr",
     "output_type": "stream",
     "text": [
      " 76%|████████████████████████████████████████████████████████████▌                   | 780/1030 [09:45<02:48,  1.48it/s]"
     ]
    },
    {
     "name": "stdout",
     "output_type": "stream",
     "text": [
      "Variations of bile bacterial community alongside gallstone disease progression and key taxa involved in poor outcomes after endoscopic surgery.\n"
     ]
    },
    {
     "name": "stderr",
     "output_type": "stream",
     "text": [
      " 76%|████████████████████████████████████████████████████████████▋                   | 781/1030 [09:46<02:51,  1.45it/s]"
     ]
    },
    {
     "name": "stdout",
     "output_type": "stream",
     "text": [
      "Role of Polysaccharides from Marine Seaweed as Feed Additives for Methane Mitigation in Ruminants: A Critical Review.\n"
     ]
    },
    {
     "name": "stderr",
     "output_type": "stream",
     "text": [
      " 76%|████████████████████████████████████████████████████████████▋                   | 782/1030 [09:47<02:48,  1.48it/s]"
     ]
    },
    {
     "name": "stdout",
     "output_type": "stream",
     "text": [
      "Global Epidemiology and Mechanisms of Resistance of Acinetobacter baumannii-calcoaceticus Complex.\n"
     ]
    },
    {
     "name": "stderr",
     "output_type": "stream",
     "text": [
      " 76%|████████████████████████████████████████████████████████████▊                   | 783/1030 [09:47<02:49,  1.46it/s]"
     ]
    },
    {
     "name": "stdout",
     "output_type": "stream",
     "text": [
      "The impact of inpatient bloodstream infections caused by antibiotic-resistant bacteria in low- and middle-income countries: A systematic review and meta-analysis.\n"
     ]
    },
    {
     "name": "stderr",
     "output_type": "stream",
     "text": [
      " 76%|████████████████████████████████████████████████████████████▉                   | 784/1030 [09:48<02:48,  1.46it/s]"
     ]
    },
    {
     "name": "stdout",
     "output_type": "stream",
     "text": [
      "Metabolic response of intestinal microbiota to guar gum consumption.\n"
     ]
    },
    {
     "name": "stderr",
     "output_type": "stream",
     "text": [
      " 76%|████████████████████████████████████████████████████████████▉                   | 785/1030 [09:49<02:44,  1.49it/s]"
     ]
    },
    {
     "name": "stdout",
     "output_type": "stream",
     "text": [
      "The Role of Gut Microbiota in Anxiety, Depression, and Other Mental Disorders as  Well as the Protective Effects of Dietary Components.\n"
     ]
    },
    {
     "name": "stderr",
     "output_type": "stream",
     "text": [
      " 76%|█████████████████████████████████████████████████████████████                   | 786/1030 [09:50<02:49,  1.44it/s]"
     ]
    },
    {
     "name": "stdout",
     "output_type": "stream",
     "text": [
      "Plant Essential Oils as a Tool in the Control of Bovine Mastitis: An Update.\n"
     ]
    },
    {
     "name": "stderr",
     "output_type": "stream",
     "text": [
      " 76%|█████████████████████████████████████████████████████████████▏                  | 787/1030 [09:50<02:45,  1.47it/s]"
     ]
    },
    {
     "name": "stdout",
     "output_type": "stream",
     "text": [
      "Polysaccharides: The Potential Prebiotics for Metabolic Associated Fatty Liver Disease (MAFLD).\n"
     ]
    },
    {
     "name": "stderr",
     "output_type": "stream",
     "text": [
      " 77%|█████████████████████████████████████████████████████████████▏                  | 788/1030 [09:51<02:42,  1.49it/s]"
     ]
    },
    {
     "name": "stdout",
     "output_type": "stream",
     "text": [
      "Efficacy of probiotics in the treatment of minimal hepatic encephalopathy: A systematic review and meta-analysis.\n"
     ]
    },
    {
     "name": "stderr",
     "output_type": "stream",
     "text": [
      " 77%|█████████████████████████████████████████████████████████████▎                  | 789/1030 [09:51<02:40,  1.51it/s]"
     ]
    },
    {
     "name": "stdout",
     "output_type": "stream",
     "text": [
      "A systematic review on the impact of gastrointestinal microbiota composition and  function on cognition in healthy infants and children.\n"
     ]
    },
    {
     "name": "stderr",
     "output_type": "stream",
     "text": [
      " 77%|█████████████████████████████████████████████████████████████▎                  | 790/1030 [09:52<02:43,  1.47it/s]"
     ]
    },
    {
     "name": "stdout",
     "output_type": "stream",
     "text": [
      "Genetic diversity of Salmonella enterica isolated over 13 years from raw California almonds and from an almond orchard.\n"
     ]
    },
    {
     "name": "stderr",
     "output_type": "stream",
     "text": [
      " 77%|█████████████████████████████████████████████████████████████▍                  | 791/1030 [09:53<02:41,  1.48it/s]"
     ]
    },
    {
     "name": "stdout",
     "output_type": "stream",
     "text": [
      "Lactobacillus reuteri strain 8008 attenuated the aggravation of depressive-like behavior induced by CUMS in high-fat diet-fed mice through regulating the gut microbiota.\n"
     ]
    },
    {
     "name": "stderr",
     "output_type": "stream",
     "text": [
      " 77%|█████████████████████████████████████████████████████████████▌                  | 792/1030 [09:53<02:37,  1.51it/s]"
     ]
    },
    {
     "name": "stdout",
     "output_type": "stream",
     "text": [
      "Bacterial culture and antimicrobial susceptibility results from bovine milk samples submitted to four veterinary diagnostic laboratories in Australia from 2015 to 2019.\n"
     ]
    },
    {
     "name": "stderr",
     "output_type": "stream",
     "text": [
      " 77%|█████████████████████████████████████████████████████████████▌                  | 793/1030 [09:54<02:37,  1.51it/s]"
     ]
    },
    {
     "name": "stdout",
     "output_type": "stream",
     "text": [
      "Altered human gut virome in patients undergoing antibiotics therapy for Helicobacter pylori.\n"
     ]
    },
    {
     "name": "stderr",
     "output_type": "stream",
     "text": [
      " 77%|█████████████████████████████████████████████████████████████▋                  | 794/1030 [09:55<02:34,  1.52it/s]"
     ]
    },
    {
     "name": "stdout",
     "output_type": "stream",
     "text": [
      "The comparative perspective of phytochemistry and biological properties of the Apiaceae family plants.\n"
     ]
    },
    {
     "name": "stderr",
     "output_type": "stream",
     "text": [
      " 77%|█████████████████████████████████████████████████████████████▋                  | 795/1030 [09:56<02:47,  1.40it/s]"
     ]
    },
    {
     "name": "stdout",
     "output_type": "stream",
     "text": [
      "Recent updates on correlation between reactive oxygen species and synbiotics for  effective management of ulcerative colitis.\n"
     ]
    },
    {
     "name": "stderr",
     "output_type": "stream",
     "text": [
      " 77%|█████████████████████████████████████████████████████████████▊                  | 796/1030 [09:56<02:43,  1.43it/s]"
     ]
    },
    {
     "name": "stdout",
     "output_type": "stream",
     "text": [
      "Isolation and Characterization of Lactobacillus crispatus, Lactococcus lactis, and Carnobacterium divergens as Potential Probiotic Bacteria from Fermented Black and Green Olives (Olea europaea): An Exploratory Study.\n"
     ]
    },
    {
     "name": "stderr",
     "output_type": "stream",
     "text": [
      " 77%|█████████████████████████████████████████████████████████████▉                  | 797/1030 [09:57<02:39,  1.46it/s]"
     ]
    },
    {
     "name": "stdout",
     "output_type": "stream",
     "text": [
      "The Relationship between the Source of Dietary Animal Fats and Proteins and the Gut Microbiota Condition and Obesity in Humans.\n"
     ]
    },
    {
     "name": "stderr",
     "output_type": "stream",
     "text": [
      " 77%|█████████████████████████████████████████████████████████████▉                  | 798/1030 [09:58<02:51,  1.35it/s]"
     ]
    },
    {
     "name": "stdout",
     "output_type": "stream",
     "text": [
      "Gene Co-Expression Network Analysis Reveals the Hub Genes and Key Pathways Associated with Resistance to Salmonella Enteritidis Colonization in Chicken.\n"
     ]
    },
    {
     "name": "stderr",
     "output_type": "stream",
     "text": [
      " 78%|██████████████████████████████████████████████████████████████                  | 799/1030 [09:58<02:44,  1.41it/s]"
     ]
    },
    {
     "name": "stdout",
     "output_type": "stream",
     "text": [
      "Combined analysis of 16S rDNA sequencing and metabolomics to find biomarkers of drug-induced liver injury.\n"
     ]
    },
    {
     "name": "stderr",
     "output_type": "stream",
     "text": [
      " 78%|██████████████████████████████████████████████████████████████▏                 | 800/1030 [09:59<02:49,  1.36it/s]"
     ]
    },
    {
     "name": "stdout",
     "output_type": "stream",
     "text": [
      "An overview of carbapenem-resistant organisms from food-producing animals, seafood, aquaculture, companion animals, and wildlife.\n"
     ]
    },
    {
     "name": "stderr",
     "output_type": "stream",
     "text": [
      " 78%|██████████████████████████████████████████████████████████████▏                 | 801/1030 [10:00<02:44,  1.39it/s]"
     ]
    },
    {
     "name": "stdout",
     "output_type": "stream",
     "text": [
      "Probiotic potential of Lactobacillus plantarum DMR14 for preserving and extending shelf life of fruits and fruit juice.\n"
     ]
    },
    {
     "name": "stderr",
     "output_type": "stream",
     "text": [
      " 78%|██████████████████████████████████████████████████████████████▎                 | 802/1030 [10:01<02:48,  1.35it/s]"
     ]
    },
    {
     "name": "stdout",
     "output_type": "stream",
     "text": [
      "Contamination of pulse oximeter probes before and after decontamination in two intensive care units.\n"
     ]
    },
    {
     "name": "stderr",
     "output_type": "stream",
     "text": [
      " 78%|██████████████████████████████████████████████████████████████▎                 | 803/1030 [10:01<02:44,  1.38it/s]"
     ]
    },
    {
     "name": "stdout",
     "output_type": "stream",
     "text": [
      "Assessment on the efficacy of methods 2 to 5 and method 7 set out in Commission Regulation (EU) No 142/2011 to inactivate relevant pathogens when producing processed animal protein of porcine origin intended to feed poultry and aquaculture animals.\n"
     ]
    },
    {
     "name": "stderr",
     "output_type": "stream",
     "text": [
      " 78%|██████████████████████████████████████████████████████████████▍                 | 804/1030 [10:02<02:37,  1.43it/s]"
     ]
    },
    {
     "name": "stdout",
     "output_type": "stream",
     "text": [
      "Intestinal flora plays a role in the progression of hepatitis-cirrhosis-liver cancer.\n"
     ]
    },
    {
     "name": "stderr",
     "output_type": "stream",
     "text": [
      " 78%|██████████████████████████████████████████████████████████████▌                 | 805/1030 [10:03<02:43,  1.38it/s]"
     ]
    },
    {
     "name": "stdout",
     "output_type": "stream",
     "text": [
      "Advances in Diagnostic Approaches and Therapeutic Management in Bovine Mastitis.\n"
     ]
    },
    {
     "name": "stderr",
     "output_type": "stream",
     "text": [
      " 78%|██████████████████████████████████████████████████████████████▌                 | 806/1030 [10:04<03:22,  1.11it/s]"
     ]
    },
    {
     "name": "stdout",
     "output_type": "stream",
     "text": [
      "Effects of OsomeFood Clean Label plant-based meals on the gut microbiome.\n"
     ]
    },
    {
     "name": "stderr",
     "output_type": "stream",
     "text": [
      " 78%|██████████████████████████████████████████████████████████████▋                 | 807/1030 [10:05<03:04,  1.21it/s]"
     ]
    },
    {
     "name": "stdout",
     "output_type": "stream",
     "text": [
      "Effects of Phytochemicals from Fermented Food Sources in Alzheimer’s Disease In Vivo Experimental Models: A Systematic Review.\n"
     ]
    },
    {
     "name": "stderr",
     "output_type": "stream",
     "text": [
      " 78%|██████████████████████████████████████████████████████████████▊                 | 808/1030 [10:05<02:53,  1.28it/s]"
     ]
    },
    {
     "name": "stdout",
     "output_type": "stream",
     "text": [
      "“Cross-talk” between gut microbiome dysbiosis and osteoarthritis progression: a systematic review.\n"
     ]
    },
    {
     "name": "stderr",
     "output_type": "stream",
     "text": [
      " 79%|██████████████████████████████████████████████████████████████▊                 | 809/1030 [10:06<02:43,  1.35it/s]"
     ]
    },
    {
     "name": "stdout",
     "output_type": "stream",
     "text": [
      "Quantification of diversity sampling bias resulting from rice root bacterial isolation on popular and nitrogen-free culture media using 16S amplicon barcoding.\n"
     ]
    },
    {
     "name": "stderr",
     "output_type": "stream",
     "text": [
      " 79%|██████████████████████████████████████████████████████████████▉                 | 810/1030 [10:07<02:35,  1.41it/s]"
     ]
    },
    {
     "name": "stdout",
     "output_type": "stream",
     "text": [
      "Characterization of Host-Associated Microbiota and Isolation of Antagonistic Bacteria from Greater Amberjack (Seriola dumerili, Risso, 1810) Larvae.\n"
     ]
    },
    {
     "name": "stderr",
     "output_type": "stream",
     "text": [
      " 79%|██████████████████████████████████████████████████████████████▉                 | 811/1030 [10:07<02:34,  1.42it/s]"
     ]
    },
    {
     "name": "stdout",
     "output_type": "stream",
     "text": [
      "Effect of heat treatment on microbiological safety of supermarket food waste as substrate for black soldier fly larvae (Hermetia illucens).\n"
     ]
    },
    {
     "name": "stderr",
     "output_type": "stream",
     "text": [
      " 79%|███████████████████████████████████████████████████████████████                 | 812/1030 [10:08<02:45,  1.32it/s]"
     ]
    },
    {
     "name": "stdout",
     "output_type": "stream",
     "text": [
      "The infant gut microbiota: in pursuit of non-protein nitrogen.\n"
     ]
    },
    {
     "name": "stderr",
     "output_type": "stream",
     "text": [
      " 79%|███████████████████████████████████████████████████████████████▏                | 813/1030 [10:09<02:37,  1.37it/s]"
     ]
    },
    {
     "name": "stdout",
     "output_type": "stream",
     "text": [
      "Lactic acid bacteria biofilms and their antimicrobial potential against pathogenic microorganisms.\n"
     ]
    },
    {
     "name": "stderr",
     "output_type": "stream",
     "text": [
      " 79%|███████████████████████████████████████████████████████████████▏                | 814/1030 [10:10<02:33,  1.41it/s]"
     ]
    },
    {
     "name": "stdout",
     "output_type": "stream",
     "text": [
      "Speaking the host language: how Salmonella effector proteins manipulate the host.\n"
     ]
    },
    {
     "name": "stderr",
     "output_type": "stream",
     "text": [
      " 79%|███████████████████████████████████████████████████████████████▎                | 815/1030 [10:10<02:30,  1.42it/s]"
     ]
    },
    {
     "name": "stdout",
     "output_type": "stream",
     "text": [
      "Effect of yeast species and processing on intestinal microbiota of Atlantic salmon (Salmo salar) fed soybean meal-based diets in seawater.\n"
     ]
    },
    {
     "name": "stderr",
     "output_type": "stream",
     "text": [
      " 79%|███████████████████████████████████████████████████████████████▍                | 816/1030 [10:11<02:49,  1.26it/s]"
     ]
    },
    {
     "name": "stdout",
     "output_type": "stream",
     "text": [
      "A systematic review of associations between gut microbiota composition and growth failure in preterm neonates.\n"
     ]
    },
    {
     "name": "stderr",
     "output_type": "stream",
     "text": [
      " 79%|███████████████████████████████████████████████████████████████▍                | 817/1030 [10:12<02:40,  1.32it/s]"
     ]
    },
    {
     "name": "stdout",
     "output_type": "stream",
     "text": [
      "Dietary Macleaya cordata extract supplementation improves the growth performance  and gut health of broiler chickens with necrotic enteritis.\n"
     ]
    },
    {
     "name": "stderr",
     "output_type": "stream",
     "text": [
      " 79%|███████████████████████████████████████████████████████████████▌                | 818/1030 [10:13<03:20,  1.06it/s]"
     ]
    },
    {
     "name": "stdout",
     "output_type": "stream",
     "text": [
      "Biopolymers Produced by Lactic Acid Bacteria: Characterization and Food Application.\n"
     ]
    },
    {
     "name": "stderr",
     "output_type": "stream",
     "text": [
      " 80%|███████████████████████████████████████████████████████████████▌                | 819/1030 [10:14<03:01,  1.16it/s]"
     ]
    },
    {
     "name": "stdout",
     "output_type": "stream",
     "text": [
      "Occurrence of Carbapenemases, Extended-Spectrum Beta-Lactamases and AmpCs among Beta-Lactamase-Producing Gram-Negative Bacteria from Clinical Sources in Accra, Ghana.\n"
     ]
    },
    {
     "name": "stderr",
     "output_type": "stream",
     "text": [
      " 80%|███████████████████████████████████████████████████████████████▋                | 820/1030 [10:15<02:50,  1.23it/s]"
     ]
    },
    {
     "name": "stdout",
     "output_type": "stream",
     "text": [
      "Evolutionary analysis and structure modelling of the Rcs-repressor IgaA unveil a  functional role of two cytoplasmic small β-barrel (SBB) domains.\n"
     ]
    },
    {
     "name": "stderr",
     "output_type": "stream",
     "text": [
      " 80%|███████████████████████████████████████████████████████████████▊                | 821/1030 [10:15<02:41,  1.29it/s]"
     ]
    },
    {
     "name": "stdout",
     "output_type": "stream",
     "text": [
      "Validation of N-Light™ Salmonella Risk Test Kit for Detection of Salmonella spp.  on Environmental Surfaces: AOAC Performance Tested MethodSM 072204.\n"
     ]
    },
    {
     "name": "stderr",
     "output_type": "stream",
     "text": [
      " 80%|███████████████████████████████████████████████████████████████▊                | 822/1030 [10:16<02:37,  1.32it/s]"
     ]
    },
    {
     "name": "stdout",
     "output_type": "stream",
     "text": [
      "Antibiotic Therapy Strategies for Treating Gram-Negative Severe Infections in the Critically Ill: A Narrative Review.\n"
     ]
    },
    {
     "name": "stderr",
     "output_type": "stream",
     "text": [
      " 80%|███████████████████████████████████████████████████████████████▉                | 823/1030 [10:17<02:30,  1.38it/s]"
     ]
    },
    {
     "name": "stdout",
     "output_type": "stream",
     "text": [
      "Benefits of Biotics for Cardiovascular Diseases.\n"
     ]
    },
    {
     "name": "stderr",
     "output_type": "stream",
     "text": [
      " 80%|████████████████████████████████████████████████████████████████                | 824/1030 [10:17<02:25,  1.42it/s]"
     ]
    },
    {
     "name": "stdout",
     "output_type": "stream",
     "text": [
      "Oligofructose improves small intestinal lipid-sensing mechanisms via alterations  to the small intestinal microbiota.\n"
     ]
    },
    {
     "name": "stderr",
     "output_type": "stream",
     "text": [
      " 80%|████████████████████████████████████████████████████████████████                | 825/1030 [10:18<02:22,  1.44it/s]"
     ]
    },
    {
     "name": "stdout",
     "output_type": "stream",
     "text": [
      "Essential Oils and Their Combination with Lactic Acid Bacteria and Bacteriocins to Improve the Safety and Shelf Life of Foods: A Review.\n"
     ]
    },
    {
     "name": "stderr",
     "output_type": "stream",
     "text": [
      " 80%|████████████████████████████████████████████████████████████████▏               | 826/1030 [10:19<02:18,  1.47it/s]"
     ]
    },
    {
     "name": "stdout",
     "output_type": "stream",
     "text": [
      "Anaerobic fermentation featuring wheat bran and rice bran realizes the clean transformation of Chinese cabbage waste into livestock feed.\n"
     ]
    },
    {
     "name": "stderr",
     "output_type": "stream",
     "text": [
      " 80%|████████████████████████████████████████████████████████████████▏               | 827/1030 [10:19<02:16,  1.49it/s]"
     ]
    },
    {
     "name": "stdout",
     "output_type": "stream",
     "text": [
      "Bacillus-Loaded Biochar as Soil Amendment for Improved Germination of Maize Seeds.\n"
     ]
    },
    {
     "name": "stderr",
     "output_type": "stream",
     "text": [
      " 80%|████████████████████████████████████████████████████████████████▎               | 828/1030 [10:20<02:19,  1.45it/s]"
     ]
    },
    {
     "name": "stdout",
     "output_type": "stream",
     "text": [
      "Aluminum-Immobilizing Rhizobacteria Modulate Root Exudation and Nutrient Uptake and Increase Aluminum Tolerance of Pea Mutant E107 (brz).\n"
     ]
    },
    {
     "name": "stderr",
     "output_type": "stream",
     "text": [
      " 80%|████████████████████████████████████████████████████████████████▍               | 829/1030 [10:21<02:20,  1.43it/s]"
     ]
    },
    {
     "name": "stdout",
     "output_type": "stream",
     "text": [
      "Gut microbiota and Autism Spectrum Disorder: From pathogenesis to potential therapeutic perspectives.\n"
     ]
    },
    {
     "name": "stderr",
     "output_type": "stream",
     "text": [
      " 81%|████████████████████████████████████████████████████████████████▍               | 830/1030 [10:22<02:20,  1.43it/s]"
     ]
    },
    {
     "name": "stdout",
     "output_type": "stream",
     "text": [
      "The composition of environmental microbiota in three tree fruit packing facilities changed over seasons and contained taxa indicative of L. monocytogenes contamination.\n"
     ]
    },
    {
     "name": "stderr",
     "output_type": "stream",
     "text": [
      " 81%|████████████████████████████████████████████████████████████████▌               | 831/1030 [10:22<02:25,  1.37it/s]"
     ]
    },
    {
     "name": "stdout",
     "output_type": "stream",
     "text": [
      "Dynamics of bacterial and archaeal communities during horse bedding and green waste composting.\n"
     ]
    },
    {
     "name": "stderr",
     "output_type": "stream",
     "text": [
      " 81%|████████████████████████████████████████████████████████████████▌               | 832/1030 [10:23<02:23,  1.38it/s]"
     ]
    },
    {
     "name": "stdout",
     "output_type": "stream",
     "text": [
      "Gre factors help Salmonella adapt to oxidative stress by improving transcription  elongation and fidelity of metabolic genes.\n"
     ]
    },
    {
     "name": "stderr",
     "output_type": "stream",
     "text": [
      " 81%|████████████████████████████████████████████████████████████████▋               | 833/1030 [10:24<02:19,  1.41it/s]"
     ]
    },
    {
     "name": "stdout",
     "output_type": "stream",
     "text": [
      "Lonicera japonica Thunb. as a promising antibacterial agent for Bacillus cereus ATCC14579 based on network pharmacology, metabolomics, and in vitro experiments†.\n"
     ]
    },
    {
     "name": "stderr",
     "output_type": "stream",
     "text": [
      " 81%|████████████████████████████████████████████████████████████████▊               | 834/1030 [10:25<02:19,  1.41it/s]"
     ]
    },
    {
     "name": "stdout",
     "output_type": "stream",
     "text": [
      "Comparison of bacterial profiles in human milk from mothers of term and preterm infants.\n"
     ]
    },
    {
     "name": "stderr",
     "output_type": "stream",
     "text": [
      " 81%|████████████████████████████████████████████████████████████████▊               | 835/1030 [10:25<02:28,  1.31it/s]"
     ]
    },
    {
     "name": "stdout",
     "output_type": "stream",
     "text": [
      "Prevalence and Antibiotic Resistance of Salmonella and Campylobacter Isolates from Raw Chicken Breasts in Retail Markets in the United States and Comparison to Data from the Plant Level.\n"
     ]
    },
    {
     "name": "stderr",
     "output_type": "stream",
     "text": [
      " 81%|████████████████████████████████████████████████████████████████▉               | 836/1030 [10:26<02:20,  1.38it/s]"
     ]
    },
    {
     "name": "stdout",
     "output_type": "stream",
     "text": [
      "Dietary Fat Modulation of Gut Microbiota and Impact on Regulatory Pathways Controlling Food Intake.\n"
     ]
    },
    {
     "name": "stderr",
     "output_type": "stream",
     "text": [
      " 81%|█████████████████████████████████████████████████████████████████               | 837/1030 [10:27<02:19,  1.38it/s]"
     ]
    },
    {
     "name": "stdout",
     "output_type": "stream",
     "text": [
      "BlaTEM-positive Salmonella enterica serovars Agona and Derby are prevalent among  food-producing animals in Chongqing, China.\n"
     ]
    },
    {
     "name": "stderr",
     "output_type": "stream",
     "text": [
      " 81%|█████████████████████████████████████████████████████████████████               | 838/1030 [10:27<02:17,  1.39it/s]"
     ]
    },
    {
     "name": "stdout",
     "output_type": "stream",
     "text": [
      "Investigation of the Genus Flavobacterium as a Reservoir for Fish-Pathogenic Bacterial Species: the Case of Flavobacterium collinsii.\n"
     ]
    },
    {
     "name": "stderr",
     "output_type": "stream",
     "text": [
      " 81%|█████████████████████████████████████████████████████████████████▏              | 839/1030 [10:28<02:12,  1.44it/s]"
     ]
    },
    {
     "name": "stdout",
     "output_type": "stream",
     "text": [
      "Characterization of Functional Microorganisms in Representative Traditional Fermented Dongcai from Different Regions of China.\n"
     ]
    },
    {
     "name": "stderr",
     "output_type": "stream",
     "text": [
      " 82%|█████████████████████████████████████████████████████████████████▏              | 840/1030 [10:29<02:10,  1.45it/s]"
     ]
    },
    {
     "name": "stdout",
     "output_type": "stream",
     "text": [
      "Identification and characterization of inulinases by bioinformatics analysis of bacterial glycoside hydrolases family 32 (GH32).\n"
     ]
    },
    {
     "name": "stderr",
     "output_type": "stream",
     "text": [
      " 82%|█████████████████████████████████████████████████████████████████▎              | 841/1030 [10:29<02:11,  1.44it/s]"
     ]
    },
    {
     "name": "stdout",
     "output_type": "stream",
     "text": [
      "Characterization of the Culturable Sporobiota of Spanish Olive Groves and Its Tolerance toward Environmental Challenges.\n"
     ]
    },
    {
     "name": "stderr",
     "output_type": "stream",
     "text": [
      " 82%|█████████████████████████████████████████████████████████████████▍              | 842/1030 [10:30<02:10,  1.44it/s]"
     ]
    },
    {
     "name": "stdout",
     "output_type": "stream",
     "text": [
      "Bioaccessibility of Maillard Reaction Products from Biscuits Formulated from Buckwheat Flours Fermented by Selected Lactic Acid Bacteria.\n"
     ]
    },
    {
     "name": "stderr",
     "output_type": "stream",
     "text": [
      " 82%|█████████████████████████████████████████████████████████████████▍              | 843/1030 [10:31<02:07,  1.46it/s]"
     ]
    },
    {
     "name": "stdout",
     "output_type": "stream",
     "text": [
      "Whole-Genome Analysis of Antimicrobial-Resistant Salmonella enterica Isolated from Duck Carcasses in Hanoi, Vietnam.\n"
     ]
    },
    {
     "name": "stderr",
     "output_type": "stream",
     "text": [
      " 82%|█████████████████████████████████████████████████████████████████▌              | 844/1030 [10:31<02:04,  1.49it/s]"
     ]
    },
    {
     "name": "stdout",
     "output_type": "stream",
     "text": [
      "Microbial Community Dynamics and the Correlation between Specific Bacterial Strains and Higher Alcohols Production in Tartary Buckwheat Huangjiu Fermentation.\n"
     ]
    },
    {
     "name": "stderr",
     "output_type": "stream",
     "text": [
      " 82%|█████████████████████████████████████████████████████████████████▋              | 845/1030 [10:32<02:07,  1.45it/s]"
     ]
    },
    {
     "name": "stdout",
     "output_type": "stream",
     "text": [
      "Effect of Microencapsulated Basil Extract on Cream Cheese Quality and Stability.\n"
     ]
    },
    {
     "name": "stderr",
     "output_type": "stream",
     "text": [
      " 82%|█████████████████████████████████████████████████████████████████▋              | 846/1030 [10:33<02:06,  1.45it/s]"
     ]
    },
    {
     "name": "stdout",
     "output_type": "stream",
     "text": [
      "The Use of Ozone Technology: An Eco–Friendly Method for the Sanitization of the Dairy Supply Chain.\n"
     ]
    },
    {
     "name": "stderr",
     "output_type": "stream",
     "text": [
      " 82%|█████████████████████████████████████████████████████████████████▊              | 847/1030 [10:34<02:07,  1.44it/s]"
     ]
    },
    {
     "name": "stdout",
     "output_type": "stream",
     "text": [
      "Prevalence of Salmonella Typhimurium and Salmonella Enteritidis isolated from poultry meat: virulence and antimicrobial-resistant genes.\n"
     ]
    },
    {
     "name": "stderr",
     "output_type": "stream",
     "text": [
      " 82%|█████████████████████████████████████████████████████████████████▊              | 848/1030 [10:34<02:04,  1.46it/s]"
     ]
    },
    {
     "name": "stdout",
     "output_type": "stream",
     "text": [
      "Case Studies of Small-Medium Food Enterprises around the World: Major Constraints and Benefits from the Implementation of Food Safety Management Systems.\n"
     ]
    },
    {
     "name": "stderr",
     "output_type": "stream",
     "text": [
      " 82%|█████████████████████████████████████████████████████████████████▉              | 849/1030 [10:35<02:05,  1.45it/s]"
     ]
    },
    {
     "name": "stdout",
     "output_type": "stream",
     "text": [
      "Effects of Fermentation on Bioactivity and the Composition of Polyphenols Contained in Polyphenol-Rich Foods: A Review.\n"
     ]
    },
    {
     "name": "stderr",
     "output_type": "stream",
     "text": [
      " 83%|██████████████████████████████████████████████████████████████████              | 850/1030 [10:36<02:02,  1.47it/s]"
     ]
    },
    {
     "name": "stdout",
     "output_type": "stream",
     "text": [
      "Characterization of SARS-CoV-2 Distribution and Microbial Succession in a Clinical Microbiology Testing Facility during the SARS-CoV-2 Pandemic.\n"
     ]
    },
    {
     "name": "stderr",
     "output_type": "stream",
     "text": [
      " 83%|██████████████████████████████████████████████████████████████████              | 851/1030 [10:36<02:00,  1.49it/s]"
     ]
    },
    {
     "name": "stdout",
     "output_type": "stream",
     "text": [
      "Impact of disposable mask microplastics pollution on the aquatic environment and  microalgae growth.\n"
     ]
    },
    {
     "name": "stderr",
     "output_type": "stream",
     "text": [
      " 83%|██████████████████████████████████████████████████████████████████▏             | 852/1030 [10:37<02:01,  1.46it/s]"
     ]
    },
    {
     "name": "stdout",
     "output_type": "stream",
     "text": [
      "Identification and characterization of gut-associated lactic acid bacteria isolated from the bean bug, Riptortus pedestris (Hemiptera: Alydidae).\n"
     ]
    },
    {
     "name": "stderr",
     "output_type": "stream",
     "text": [
      " 83%|██████████████████████████████████████████████████████████████████▎             | 853/1030 [10:38<02:02,  1.44it/s]"
     ]
    },
    {
     "name": "stdout",
     "output_type": "stream",
     "text": [
      "Role of prebiotics, probiotics, and synbiotics in management of inflammatory bowel disease: Current perspectives.\n"
     ]
    },
    {
     "name": "stderr",
     "output_type": "stream",
     "text": [
      " 83%|██████████████████████████████████████████████████████████████████▎             | 854/1030 [10:38<02:00,  1.46it/s]"
     ]
    },
    {
     "name": "stdout",
     "output_type": "stream",
     "text": [
      "Dedicated bacterial esterases reverse lipopolysaccharide ubiquitylation to block  immune sensing.\n"
     ]
    },
    {
     "name": "stderr",
     "output_type": "stream",
     "text": [
      " 83%|██████████████████████████████████████████████████████████████████▍             | 855/1030 [10:39<01:58,  1.48it/s]"
     ]
    },
    {
     "name": "stdout",
     "output_type": "stream",
     "text": [
      "Culturing the desert microbiota.\n"
     ]
    },
    {
     "name": "stderr",
     "output_type": "stream",
     "text": [
      " 83%|██████████████████████████████████████████████████████████████████▍             | 856/1030 [10:40<01:57,  1.48it/s]"
     ]
    },
    {
     "name": "stdout",
     "output_type": "stream",
     "text": [
      "Genomic surveillance of multidrug-resistant Klebsiella in Wales reveals persistent spread of Klebsiella pneumoniae ST307 and adaptive evolution of pOXA-48-like plasmids.\n"
     ]
    },
    {
     "name": "stderr",
     "output_type": "stream",
     "text": [
      " 83%|██████████████████████████████████████████████████████████████████▌             | 857/1030 [10:40<02:01,  1.42it/s]"
     ]
    },
    {
     "name": "stdout",
     "output_type": "stream",
     "text": [
      "Exposing new taxonomic variation with inflammation — a murine model-specific genome database for gut microbiome researchers.\n"
     ]
    },
    {
     "name": "stderr",
     "output_type": "stream",
     "text": [
      " 83%|██████████████████████████████████████████████████████████████████▋             | 858/1030 [10:41<01:58,  1.45it/s]"
     ]
    },
    {
     "name": "stdout",
     "output_type": "stream",
     "text": [
      "Molecular Mechanism and Clinical Effects of Probiotics in the Management of Cow’s Milk Protein Allergy.\n"
     ]
    },
    {
     "name": "stderr",
     "output_type": "stream",
     "text": [
      " 83%|██████████████████████████████████████████████████████████████████▋             | 859/1030 [10:42<01:57,  1.46it/s]"
     ]
    },
    {
     "name": "stdout",
     "output_type": "stream",
     "text": [
      "Insight into biodiversity of the recently rearranged genus Dickeya.\n"
     ]
    },
    {
     "name": "stderr",
     "output_type": "stream",
     "text": [
      " 83%|██████████████████████████████████████████████████████████████████▊             | 860/1030 [10:42<01:55,  1.47it/s]"
     ]
    },
    {
     "name": "stdout",
     "output_type": "stream",
     "text": [
      "Characterization and the host specificity of Pet-CM3–4, a new phage infecting Cronobacter and Enterobacter strains.\n"
     ]
    },
    {
     "name": "stderr",
     "output_type": "stream",
     "text": [
      " 84%|██████████████████████████████████████████████████████████████████▊             | 861/1030 [10:43<01:53,  1.50it/s]"
     ]
    },
    {
     "name": "stdout",
     "output_type": "stream",
     "text": [
      "Metagenomic analysis of soybean endosphere microbiome to reveal signatures of microbes for health and disease.\n"
     ]
    },
    {
     "name": "stderr",
     "output_type": "stream",
     "text": [
      " 84%|██████████████████████████████████████████████████████████████████▉             | 862/1030 [10:44<01:53,  1.48it/s]"
     ]
    },
    {
     "name": "stdout",
     "output_type": "stream",
     "text": [
      "Effective combination of arugula vermicompost, chitin and inhibitory bacteria for suppression of the root-knot nematode Meloidogyne javanica and explanation of their beneficial properties based on microbial analysis.\n"
     ]
    },
    {
     "name": "stderr",
     "output_type": "stream",
     "text": [
      " 84%|███████████████████████████████████████████████████████████████████             | 863/1030 [10:45<01:56,  1.43it/s]"
     ]
    },
    {
     "name": "stdout",
     "output_type": "stream",
     "text": [
      "The small intestine: dining table of host–microbiota meetings.\n"
     ]
    },
    {
     "name": "stderr",
     "output_type": "stream",
     "text": [
      " 84%|███████████████████████████████████████████████████████████████████             | 864/1030 [10:45<01:54,  1.45it/s]"
     ]
    },
    {
     "name": "stdout",
     "output_type": "stream",
     "text": [
      "Dietary (poly)phenols mitigate inflammatory bowel disease: Therapeutic targets, mechanisms of action, and clinical observations.\n"
     ]
    },
    {
     "name": "stderr",
     "output_type": "stream",
     "text": [
      " 84%|███████████████████████████████████████████████████████████████████▏            | 865/1030 [10:46<01:51,  1.48it/s]"
     ]
    },
    {
     "name": "stdout",
     "output_type": "stream",
     "text": [
      "Targeting Gut Microbiota for the Treatment of Primary Biliary Cholangitis: From Bench to Bedside.\n"
     ]
    },
    {
     "name": "stderr",
     "output_type": "stream",
     "text": [
      " 84%|███████████████████████████████████████████████████████████████████▎            | 866/1030 [10:47<01:57,  1.39it/s]"
     ]
    },
    {
     "name": "stdout",
     "output_type": "stream",
     "text": [
      "Functional Surface Coatings on Orthodontic Appliances: Reviews of Friction Reduction, Antibacterial Properties, and Corrosion Resistance.\n"
     ]
    },
    {
     "name": "stderr",
     "output_type": "stream",
     "text": [
      " 84%|███████████████████████████████████████████████████████████████████▎            | 867/1030 [10:47<01:57,  1.38it/s]"
     ]
    },
    {
     "name": "stdout",
     "output_type": "stream",
     "text": [
      "Fish Probiotics: Cell Surface Properties of Fish Intestinal Lactobacilli and Escherichia coli.\n"
     ]
    },
    {
     "name": "stderr",
     "output_type": "stream",
     "text": [
      " 84%|███████████████████████████████████████████████████████████████████▍            | 868/1030 [10:48<01:55,  1.41it/s]"
     ]
    },
    {
     "name": "stdout",
     "output_type": "stream",
     "text": [
      "Capsulized Fecal Microbiota Transplantation Induces Remission in Patients with Ulcerative Colitis by Gut Microbial Colonization and Metabolite Regulation.\n"
     ]
    },
    {
     "name": "stderr",
     "output_type": "stream",
     "text": [
      " 84%|███████████████████████████████████████████████████████████████████▍            | 869/1030 [10:49<01:56,  1.39it/s]"
     ]
    },
    {
     "name": "stdout",
     "output_type": "stream",
     "text": [
      "Microbiota and Resistome Analysis of Colostrum and Milk from Dairy Cows Treated with and without Dry Cow Therapies.\n"
     ]
    },
    {
     "name": "stderr",
     "output_type": "stream",
     "text": [
      " 84%|███████████████████████████████████████████████████████████████████▌            | 870/1030 [10:50<01:52,  1.42it/s]"
     ]
    },
    {
     "name": "stdout",
     "output_type": "stream",
     "text": [
      "Altered gut microbiota and microbial metabolism in children with hepatic glycogen storage disease: a case-control study.\n"
     ]
    },
    {
     "name": "stderr",
     "output_type": "stream",
     "text": [
      " 85%|███████████████████████████████████████████████████████████████████▋            | 871/1030 [10:50<01:53,  1.40it/s]"
     ]
    },
    {
     "name": "stdout",
     "output_type": "stream",
     "text": [
      "The Potential of Ginkgo biloba as a Source of Biologically Active Compounds—A Review of the Recent Literature and Patents.\n"
     ]
    },
    {
     "name": "stderr",
     "output_type": "stream",
     "text": [
      " 85%|███████████████████████████████████████████████████████████████████▋            | 872/1030 [10:51<01:50,  1.44it/s]"
     ]
    },
    {
     "name": "stdout",
     "output_type": "stream",
     "text": [
      "Advances in the Metabolic Mechanism and Functional Characteristics of Equol.\n"
     ]
    },
    {
     "name": "stderr",
     "output_type": "stream",
     "text": [
      " 85%|███████████████████████████████████████████████████████████████████▊            | 873/1030 [10:52<01:49,  1.44it/s]"
     ]
    },
    {
     "name": "stdout",
     "output_type": "stream",
     "text": [
      "Lupin, a Unique Legume That Is Nodulated by Multiple Microsymbionts: The Role of  Horizontal Gene Transfer.\n"
     ]
    },
    {
     "name": "stderr",
     "output_type": "stream",
     "text": [
      " 85%|███████████████████████████████████████████████████████████████████▉            | 874/1030 [10:52<01:50,  1.41it/s]"
     ]
    },
    {
     "name": "stdout",
     "output_type": "stream",
     "text": [
      "Metabolic capabilities are highly conserved among human nasal-associated Corynebacterium species in pangenomic analyses.\n"
     ]
    },
    {
     "name": "stderr",
     "output_type": "stream",
     "text": [
      " 85%|███████████████████████████████████████████████████████████████████▉            | 875/1030 [10:53<01:46,  1.45it/s]"
     ]
    },
    {
     "name": "stdout",
     "output_type": "stream",
     "text": [
      "Identifying and ranking causal microbial biomarkers for colorectal cancer at different cancer subsites and stages: a Mendelian randomization study.\n"
     ]
    },
    {
     "name": "stderr",
     "output_type": "stream",
     "text": [
      " 85%|████████████████████████████████████████████████████████████████████            | 876/1030 [10:54<01:43,  1.49it/s]"
     ]
    },
    {
     "name": "stdout",
     "output_type": "stream",
     "text": [
      "Gut microbiome and metabolic-associated fatty liver disease: Current status and potential applications.\n"
     ]
    },
    {
     "name": "stderr",
     "output_type": "stream",
     "text": [
      " 85%|████████████████████████████████████████████████████████████████████            | 877/1030 [10:54<01:44,  1.46it/s]"
     ]
    },
    {
     "name": "stdout",
     "output_type": "stream",
     "text": [
      "A review on pathogenicity of Aeromonas hydrophila and their mitigation through medicinal herbs in aquaculture.\n"
     ]
    },
    {
     "name": "stderr",
     "output_type": "stream",
     "text": [
      " 85%|████████████████████████████████████████████████████████████████████▏           | 878/1030 [10:55<01:42,  1.48it/s]"
     ]
    },
    {
     "name": "stdout",
     "output_type": "stream",
     "text": [
      "Engineered reporter phages for detection of Escherichia coli, Enterococcus, and Klebsiella in urine.\n"
     ]
    },
    {
     "name": "stderr",
     "output_type": "stream",
     "text": [
      " 85%|████████████████████████████████████████████████████████████████████▎           | 879/1030 [10:56<01:41,  1.49it/s]"
     ]
    },
    {
     "name": "stdout",
     "output_type": "stream",
     "text": [
      "Protective Cultures in Food Products: From Science to Market.\n"
     ]
    },
    {
     "name": "stderr",
     "output_type": "stream",
     "text": [
      " 85%|████████████████████████████████████████████████████████████████████▎           | 880/1030 [10:56<01:40,  1.49it/s]"
     ]
    },
    {
     "name": "stdout",
     "output_type": "stream",
     "text": [
      "Wide-genome selection of lactic acid bacteria harboring genes that promote the elimination of antinutritional factors.\n"
     ]
    },
    {
     "name": "stderr",
     "output_type": "stream",
     "text": [
      " 86%|████████████████████████████████████████████████████████████████████▍           | 881/1030 [10:57<01:39,  1.50it/s]"
     ]
    },
    {
     "name": "stdout",
     "output_type": "stream",
     "text": [
      "Understanding the sugar beet holobiont for sustainable agriculture.\n"
     ]
    },
    {
     "name": "stderr",
     "output_type": "stream",
     "text": [
      " 86%|████████████████████████████████████████████████████████████████████▌           | 882/1030 [10:58<01:41,  1.46it/s]"
     ]
    },
    {
     "name": "stdout",
     "output_type": "stream",
     "text": [
      "The Genus Diospyros: A Review of Novel Insights into the Biological Activity and  Species of Mozambican Flora.\n"
     ]
    },
    {
     "name": "stderr",
     "output_type": "stream",
     "text": [
      " 86%|████████████████████████████████████████████████████████████████████▌           | 883/1030 [10:58<01:44,  1.40it/s]"
     ]
    },
    {
     "name": "stdout",
     "output_type": "stream",
     "text": [
      "Dietary and plasma carotenoids are positively associated with alpha diversity in  the fecal microbiota of pregnant women.\n"
     ]
    },
    {
     "name": "stderr",
     "output_type": "stream",
     "text": [
      " 86%|████████████████████████████████████████████████████████████████████▋           | 884/1030 [10:59<01:41,  1.44it/s]"
     ]
    },
    {
     "name": "stdout",
     "output_type": "stream",
     "text": [
      "Salmonella Enteritidis T1SS protein SiiD inhibits NLRP3 inflammasome activation via repressing the mtROS-ASC dependent pathway.\n"
     ]
    },
    {
     "name": "stderr",
     "output_type": "stream",
     "text": [
      " 86%|████████████████████████████████████████████████████████████████████▋           | 885/1030 [11:00<01:38,  1.47it/s]"
     ]
    },
    {
     "name": "stdout",
     "output_type": "stream",
     "text": [
      "Microbial community structure and diversity in fish-flower (mint) symbiosis.\n"
     ]
    },
    {
     "name": "stderr",
     "output_type": "stream",
     "text": [
      " 86%|████████████████████████████████████████████████████████████████████▊           | 886/1030 [11:00<01:36,  1.49it/s]"
     ]
    },
    {
     "name": "stdout",
     "output_type": "stream",
     "text": [
      "Body Metrics and the Gut Microbiome in Response to Macronutrient Limitation in the Zebrafish Danio rerio.\n"
     ]
    },
    {
     "name": "stderr",
     "output_type": "stream",
     "text": [
      " 86%|████████████████████████████████████████████████████████████████████▉           | 887/1030 [11:01<01:35,  1.50it/s]"
     ]
    },
    {
     "name": "stdout",
     "output_type": "stream",
     "text": [
      "Cecal Microbial Succession and Its Apparent Association with Nutrient Metabolism  in Broiler Chickens.\n"
     ]
    },
    {
     "name": "stderr",
     "output_type": "stream",
     "text": [
      " 86%|████████████████████████████████████████████████████████████████████▉           | 888/1030 [11:02<01:35,  1.48it/s]"
     ]
    },
    {
     "name": "stdout",
     "output_type": "stream",
     "text": [
      "Antibacterial Effect of Shrimp By-Products Hydrolysate on Specific Spoilage Organisms of Squid.\n"
     ]
    },
    {
     "name": "stderr",
     "output_type": "stream",
     "text": [
      " 86%|█████████████████████████████████████████████████████████████████████           | 889/1030 [11:02<01:36,  1.45it/s]"
     ]
    },
    {
     "name": "stdout",
     "output_type": "stream",
     "text": [
      "Dynamic Monitoring of Changes in Fecal Flora of Giant Pandas in Mice: Co-Occurrence Network Reconstruction.\n"
     ]
    },
    {
     "name": "stderr",
     "output_type": "stream",
     "text": [
      " 86%|█████████████████████████████████████████████████████████████████████▏          | 890/1030 [11:03<01:40,  1.40it/s]"
     ]
    },
    {
     "name": "stdout",
     "output_type": "stream",
     "text": [
      "Analysis of Multi-Mycotoxins in Commonly Consumed Spices Using the LC-MS/MS Method for Assessing Food Safety Risks.\n"
     ]
    },
    {
     "name": "stderr",
     "output_type": "stream",
     "text": [
      " 87%|█████████████████████████████████████████████████████████████████████▏          | 891/1030 [11:04<01:36,  1.43it/s]"
     ]
    },
    {
     "name": "stdout",
     "output_type": "stream",
     "text": [
      "Gut microbiota-mediated associations of green tea and catechin intakes with glucose metabolism in individuals without type 2 diabetes mellitus: a four-season observational study with mediation analysis.\n"
     ]
    },
    {
     "name": "stderr",
     "output_type": "stream",
     "text": [
      " 87%|█████████████████████████████████████████████████████████████████████▎          | 892/1030 [11:05<01:35,  1.44it/s]"
     ]
    },
    {
     "name": "stdout",
     "output_type": "stream",
     "text": [
      "A molecular study on recombinant pullulanase type I from Metabacillus indicus.\n"
     ]
    },
    {
     "name": "stderr",
     "output_type": "stream",
     "text": [
      " 87%|█████████████████████████████████████████████████████████████████████▎          | 893/1030 [11:05<01:32,  1.48it/s]"
     ]
    },
    {
     "name": "stdout",
     "output_type": "stream",
     "text": [
      "Current Perspectives on Viable but Non-Culturable Foodborne Pathogenic Bacteria:  A Review.\n"
     ]
    },
    {
     "name": "stderr",
     "output_type": "stream",
     "text": [
      " 87%|█████████████████████████████████████████████████████████████████████▍          | 894/1030 [11:06<01:32,  1.47it/s]"
     ]
    },
    {
     "name": "stdout",
     "output_type": "stream",
     "text": [
      "Structural aspects of enzymes involved in prokaryotic Gram-positive heme biosynthesis.\n"
     ]
    },
    {
     "name": "stderr",
     "output_type": "stream",
     "text": [
      " 87%|█████████████████████████████████████████████████████████████████████▌          | 895/1030 [11:07<01:30,  1.49it/s]"
     ]
    },
    {
     "name": "stdout",
     "output_type": "stream",
     "text": [
      "Antifungal activity of compounds from Gordonia sp. WA8-44 isolated from the gut of Periplaneta americana and molecular docking studies.\n"
     ]
    },
    {
     "name": "stderr",
     "output_type": "stream",
     "text": [
      " 87%|█████████████████████████████████████████████████████████████████████▌          | 896/1030 [11:07<01:33,  1.43it/s]"
     ]
    },
    {
     "name": "stdout",
     "output_type": "stream",
     "text": [
      "Practical Preventive Considerations for Reducing the Public Health Burden of Poultry-Related Salmonellosis.\n"
     ]
    },
    {
     "name": "stderr",
     "output_type": "stream",
     "text": [
      " 87%|█████████████████████████████████████████████████████████████████████▋          | 897/1030 [11:08<01:30,  1.47it/s]"
     ]
    },
    {
     "name": "stdout",
     "output_type": "stream",
     "text": [
      "Effect of Fermentation on the Nutritional Quality of the Selected Vegetables and  Legumes and Their Health Effects.\n"
     ]
    },
    {
     "name": "stderr",
     "output_type": "stream",
     "text": [
      " 87%|█████████████████████████████████████████████████████████████████████▋          | 898/1030 [11:09<01:42,  1.29it/s]"
     ]
    },
    {
     "name": "stdout",
     "output_type": "stream",
     "text": [
      "Alien species invasion of deep-sea bacteria into mouse gut microbiota.\n"
     ]
    },
    {
     "name": "stderr",
     "output_type": "stream",
     "text": [
      " 87%|█████████████████████████████████████████████████████████████████████▊          | 899/1030 [11:10<01:36,  1.36it/s]"
     ]
    },
    {
     "name": "stdout",
     "output_type": "stream",
     "text": [
      "Novel Dietary Approach with Probiotics, Prebiotics, and Synbiotics to Mitigate Antimicrobial Resistance and Subsequent Out Marketplace of Antimicrobial Agents: A Review.\n"
     ]
    },
    {
     "name": "stderr",
     "output_type": "stream",
     "text": [
      " 87%|█████████████████████████████████████████████████████████████████████▉          | 900/1030 [11:10<01:32,  1.41it/s]"
     ]
    },
    {
     "name": "stdout",
     "output_type": "stream",
     "text": [
      "Fermented Beverage Benefits: A Comprehensive Review and Comparison of Kombucha and Kefir Microbiome.\n"
     ]
    },
    {
     "name": "stderr",
     "output_type": "stream",
     "text": [
      " 87%|█████████████████████████████████████████████████████████████████████▉          | 901/1030 [11:11<01:31,  1.41it/s]"
     ]
    },
    {
     "name": "stdout",
     "output_type": "stream",
     "text": [
      "Evaluation of Hygiene Practice for Reducing Campylobacter Contamination on Cutting Boards and Risks Associated with Chicken Handling in Kitchen Environment.\n"
     ]
    },
    {
     "name": "stderr",
     "output_type": "stream",
     "text": [
      " 88%|██████████████████████████████████████████████████████████████████████          | 902/1030 [11:12<01:58,  1.08it/s]"
     ]
    },
    {
     "name": "stdout",
     "output_type": "stream",
     "text": [
      "Hacking the Immune Response to Solid Tumors: Harnessing the Anti-Cancer Capacities of Oncolytic Bacteria.\n"
     ]
    },
    {
     "name": "stderr",
     "output_type": "stream",
     "text": [
      " 88%|██████████████████████████████████████████████████████████████████████▏         | 903/1030 [11:13<01:48,  1.17it/s]"
     ]
    },
    {
     "name": "stdout",
     "output_type": "stream",
     "text": [
      "Gut Microbiota and Antibiotic Treatments for the Main Non-Oncologic Hepato-Biliary-Pancreatic Disorders.\n"
     ]
    },
    {
     "name": "stderr",
     "output_type": "stream",
     "text": [
      " 88%|██████████████████████████████████████████████████████████████████████▏         | 904/1030 [11:14<01:41,  1.24it/s]"
     ]
    },
    {
     "name": "stdout",
     "output_type": "stream",
     "text": [
      "Microbiome of Ceca from Broiler Chicken Vaccinated or Not against Coccidiosis and Fed Berry Pomaces.\n"
     ]
    },
    {
     "name": "stderr",
     "output_type": "stream",
     "text": [
      " 88%|██████████████████████████████████████████████████████████████████████▎         | 905/1030 [11:14<01:36,  1.29it/s]"
     ]
    },
    {
     "name": "stdout",
     "output_type": "stream",
     "text": [
      "Bioconversion of Keratin Wastes Using Keratinolytic Microorganisms to Generate Value-Added Products.\n"
     ]
    },
    {
     "name": "stderr",
     "output_type": "stream",
     "text": [
      " 88%|██████████████████████████████████████████████████████████████████████▎         | 906/1030 [11:15<01:31,  1.36it/s]"
     ]
    },
    {
     "name": "stdout",
     "output_type": "stream",
     "text": [
      "Exploring breast tissue microbial composition and the association with breast cancer risk factors.\n"
     ]
    },
    {
     "name": "stderr",
     "output_type": "stream",
     "text": [
      " 88%|██████████████████████████████████████████████████████████████████████▍         | 907/1030 [11:16<01:30,  1.36it/s]"
     ]
    },
    {
     "name": "stdout",
     "output_type": "stream",
     "text": [
      "Bacteriophages for the Targeted Control of Foodborne Pathogens.\n"
     ]
    },
    {
     "name": "stderr",
     "output_type": "stream",
     "text": [
      " 88%|██████████████████████████████████████████████████████████████████████▌         | 908/1030 [11:17<01:28,  1.38it/s]"
     ]
    },
    {
     "name": "stdout",
     "output_type": "stream",
     "text": [
      "Antibiotic Resistance in Campylobacter: A Systematic Review of South American Isolates.\n"
     ]
    },
    {
     "name": "stderr",
     "output_type": "stream",
     "text": [
      " 88%|██████████████████████████████████████████████████████████████████████▌         | 909/1030 [11:17<01:27,  1.38it/s]"
     ]
    },
    {
     "name": "stdout",
     "output_type": "stream",
     "text": [
      "Clostridium perfringens Liver Abscess Disguised as Biliary Disease: A Report of Two Cases and a Review of the Literature.\n"
     ]
    },
    {
     "name": "stderr",
     "output_type": "stream",
     "text": [
      " 88%|██████████████████████████████████████████████████████████████████████▋         | 910/1030 [11:18<01:25,  1.41it/s]"
     ]
    },
    {
     "name": "stdout",
     "output_type": "stream",
     "text": [
      "Research Note: Detection of Campylobacter spp. in chicken meat using culture methods and quantitative PCR with propidium monoazide.\n"
     ]
    },
    {
     "name": "stderr",
     "output_type": "stream",
     "text": [
      " 88%|██████████████████████████████████████████████████████████████████████▊         | 911/1030 [11:19<01:25,  1.40it/s]"
     ]
    },
    {
     "name": "stdout",
     "output_type": "stream",
     "text": [
      "An Insight into Citrus medica Linn.: A Systematic Review on Phytochemical Profile and Biological Activities.\n"
     ]
    },
    {
     "name": "stderr",
     "output_type": "stream",
     "text": [
      " 89%|██████████████████████████████████████████████████████████████████████▊         | 912/1030 [11:19<01:23,  1.42it/s]"
     ]
    },
    {
     "name": "stdout",
     "output_type": "stream",
     "text": [
      "Paraburkholderia tagetis sp. nov., a novel species isolated from roots of Tagetes patula enhances the growth and yield of Solanum lycopersicum L. (tomato).\n"
     ]
    },
    {
     "name": "stderr",
     "output_type": "stream",
     "text": [
      " 89%|██████████████████████████████████████████████████████████████████████▉         | 913/1030 [11:20<01:20,  1.45it/s]"
     ]
    },
    {
     "name": "stdout",
     "output_type": "stream",
     "text": [
      "Clostridia and Enteroviruses as Synergistic Triggers of Type 1 Diabetes Mellitus.\n"
     ]
    },
    {
     "name": "stderr",
     "output_type": "stream",
     "text": [
      " 89%|██████████████████████████████████████████████████████████████████████▉         | 914/1030 [11:21<01:20,  1.44it/s]"
     ]
    },
    {
     "name": "stdout",
     "output_type": "stream",
     "text": [
      "Anthocyanin-rich blue potato meals protect against polychlorinated biphenyl-mediated disruption of short-chain fatty acid production and gut microbiota profiles in a simulated human digestion model.\n"
     ]
    },
    {
     "name": "stderr",
     "output_type": "stream",
     "text": [
      " 89%|███████████████████████████████████████████████████████████████████████         | 915/1030 [11:21<01:18,  1.46it/s]"
     ]
    },
    {
     "name": "stdout",
     "output_type": "stream",
     "text": [
      "Maternal Nutritional Status and the Microbiome across the Pregnancy and the Post-Partum Period.\n"
     ]
    },
    {
     "name": "stderr",
     "output_type": "stream",
     "text": [
      " 89%|███████████████████████████████████████████████████████████████████████▏        | 916/1030 [11:22<01:17,  1.48it/s]"
     ]
    },
    {
     "name": "stdout",
     "output_type": "stream",
     "text": [
      "Biosynthesis of Gold and Silver Nanoparticles Using Phytochemical Compounds.\n"
     ]
    },
    {
     "name": "stderr",
     "output_type": "stream",
     "text": [
      " 89%|███████████████████████████████████████████████████████████████████████▏        | 917/1030 [11:23<01:25,  1.33it/s]"
     ]
    },
    {
     "name": "stdout",
     "output_type": "stream",
     "text": [
      "The Association between Caffeine Intake and the Colonic Mucosa-Associated Gut Microbiota in Humans—A Preliminary Investigation.\n"
     ]
    },
    {
     "name": "stderr",
     "output_type": "stream",
     "text": [
      " 89%|███████████████████████████████████████████████████████████████████████▎        | 918/1030 [11:24<01:34,  1.18it/s]"
     ]
    },
    {
     "name": "stdout",
     "output_type": "stream",
     "text": [
      "Identification of Antibacterial Components and Modes in the Methanol-Phase Extract from a Herbal Plant Potentilla kleiniana Wight et Arn.\n"
     ]
    },
    {
     "name": "stderr",
     "output_type": "stream",
     "text": [
      " 89%|███████████████████████████████████████████████████████████████████████▍        | 919/1030 [11:25<01:29,  1.24it/s]"
     ]
    },
    {
     "name": "stdout",
     "output_type": "stream",
     "text": [
      "BysR, a LysR-Type Pleiotropic Regulator, Controls Production of Occidiofungin by  Activating the LuxR-Type Transcriptional Regulator AmbR1 in Burkholderia sp. Strain JP2-270.\n"
     ]
    },
    {
     "name": "stderr",
     "output_type": "stream",
     "text": [
      " 89%|███████████████████████████████████████████████████████████████████████▍        | 920/1030 [11:25<01:24,  1.31it/s]"
     ]
    },
    {
     "name": "stdout",
     "output_type": "stream",
     "text": [
      "Endofungal Bacterial Microbiota Promotes the Absorption of Chelated Inorganic Phosphorus by Host Pine through the Ectomycorrhizal System.\n"
     ]
    },
    {
     "name": "stderr",
     "output_type": "stream",
     "text": [
      " 89%|███████████████████████████████████████████████████████████████████████▌        | 921/1030 [11:26<01:20,  1.36it/s]"
     ]
    },
    {
     "name": "stdout",
     "output_type": "stream",
     "text": [
      "In vitro studies on the pharmacological potential, anti-tumor, antimicrobial, and acetylcholinesterase inhibitory activity of marine-derived Bacillus velezensis AG6 exopolysaccharide†.\n"
     ]
    },
    {
     "name": "stderr",
     "output_type": "stream",
     "text": [
      " 90%|███████████████████████████████████████████████████████████████████████▌        | 922/1030 [11:27<01:18,  1.38it/s]"
     ]
    },
    {
     "name": "stdout",
     "output_type": "stream",
     "text": [
      "Green label marinades: A solution to salmonella and campylobacter in chicken products?\n"
     ]
    },
    {
     "name": "stderr",
     "output_type": "stream",
     "text": [
      " 90%|███████████████████████████████████████████████████████████████████████▋        | 923/1030 [11:27<01:15,  1.42it/s]"
     ]
    },
    {
     "name": "stdout",
     "output_type": "stream",
     "text": [
      "Evaluation of Legume–Rhizobial Symbiotic Interactions Beyond Nitrogen Fixation That Help the Host Survival and Diversification in Hostile Environments.\n"
     ]
    },
    {
     "name": "stderr",
     "output_type": "stream",
     "text": [
      " 90%|███████████████████████████████████████████████████████████████████████▊        | 924/1030 [11:28<01:12,  1.46it/s]"
     ]
    },
    {
     "name": "stdout",
     "output_type": "stream",
     "text": [
      "Age Rather Than Supplementation with Oat β-Glucan Influences Development of the Intestinal Microbiota and SCFA Concentrations in Suckling Piglets.\n"
     ]
    },
    {
     "name": "stderr",
     "output_type": "stream",
     "text": [
      " 90%|███████████████████████████████████████████████████████████████████████▊        | 925/1030 [11:29<01:11,  1.46it/s]"
     ]
    },
    {
     "name": "stdout",
     "output_type": "stream",
     "text": [
      "Sporulation Activated via σW Protects Bacillus from a Tse1 Peptidoglycan Hydrolase Type VI Secretion System Effector.\n"
     ]
    },
    {
     "name": "stderr",
     "output_type": "stream",
     "text": [
      " 90%|███████████████████████████████████████████████████████████████████████▉        | 926/1030 [11:29<01:10,  1.47it/s]"
     ]
    },
    {
     "name": "stdout",
     "output_type": "stream",
     "text": [
      "The Effect of Direct-Fed Lactobacillus Species on Milk Production and Methane Emissions of Dairy Cows.\n"
     ]
    },
    {
     "name": "stderr",
     "output_type": "stream",
     "text": [
      " 90%|████████████████████████████████████████████████████████████████████████        | 927/1030 [11:30<01:17,  1.33it/s]"
     ]
    },
    {
     "name": "stdout",
     "output_type": "stream",
     "text": [
      "Limited Probiotic Effect of Enterococcus gallinarum L1, Vagococcus fluvialis L21  and Lactobacillus plantarum CLFP3 to Protect Rainbow Trout against Saprolegniosis.\n"
     ]
    },
    {
     "name": "stderr",
     "output_type": "stream",
     "text": [
      " 90%|████████████████████████████████████████████████████████████████████████        | 928/1030 [11:31<01:13,  1.39it/s]"
     ]
    },
    {
     "name": "stdout",
     "output_type": "stream",
     "text": [
      "The Impacts of Acidophilic Lactic Acid Bacteria on Food and Human Health: A Review of the Current Knowledge.\n"
     ]
    },
    {
     "name": "stderr",
     "output_type": "stream",
     "text": [
      " 90%|████████████████████████████████████████████████████████████████████████▏       | 929/1030 [11:32<01:15,  1.35it/s]"
     ]
    },
    {
     "name": "stdout",
     "output_type": "stream",
     "text": [
      "Quinoa Ameliorates Hepatic Steatosis, Oxidative Stress, Inflammation and Regulates the Gut Microbiota in Nonalcoholic Fatty Liver Disease Rats.\n"
     ]
    },
    {
     "name": "stderr",
     "output_type": "stream",
     "text": [
      " 90%|████████████████████████████████████████████████████████████████████████▏       | 930/1030 [11:33<01:12,  1.37it/s]"
     ]
    },
    {
     "name": "stdout",
     "output_type": "stream",
     "text": [
      "Comparative Genomics and Physiological Investigations Supported Multifaceted Plant Growth-Promoting Activities in Two Hypericum perforatum L.-Associated Plant Growth-Promoting Rhizobacteria for Microbe-Assisted Cultivation.\n"
     ]
    },
    {
     "name": "stderr",
     "output_type": "stream",
     "text": [
      " 90%|████████████████████████████████████████████████████████████████████████▎       | 931/1030 [11:33<01:11,  1.38it/s]"
     ]
    },
    {
     "name": "stdout",
     "output_type": "stream",
     "text": [
      "The microbiota conditions a gut milieu that selects for wild-type Salmonella Typhimurium virulence.\n"
     ]
    },
    {
     "name": "stderr",
     "output_type": "stream",
     "text": [
      " 90%|████████████████████████████████████████████████████████████████████████▍       | 932/1030 [11:34<01:10,  1.39it/s]"
     ]
    },
    {
     "name": "stdout",
     "output_type": "stream",
     "text": [
      "Determinants of microbial colonization in the premature gut.\n"
     ]
    },
    {
     "name": "stderr",
     "output_type": "stream",
     "text": [
      " 91%|████████████████████████████████████████████████████████████████████████▍       | 933/1030 [11:35<01:10,  1.38it/s]"
     ]
    },
    {
     "name": "stdout",
     "output_type": "stream",
     "text": [
      "A one health framework to advance food safety and security: An on-farm case study in the Rwandan dairy sector.\n"
     ]
    },
    {
     "name": "stderr",
     "output_type": "stream",
     "text": [
      " 91%|████████████████████████████████████████████████████████████████████████▌       | 934/1030 [11:35<01:07,  1.41it/s]"
     ]
    },
    {
     "name": "stdout",
     "output_type": "stream",
     "text": [
      "Fate of Listeria monocytogenes, Salmonella spp., and Shiga Toxin-Producing Escherichia coli on Slices of an All-Beef Soppressata during Storage.\n"
     ]
    },
    {
     "name": "stderr",
     "output_type": "stream",
     "text": [
      " 91%|████████████████████████████████████████████████████████████████████████▌       | 935/1030 [11:36<01:06,  1.42it/s]"
     ]
    },
    {
     "name": "stdout",
     "output_type": "stream",
     "text": [
      "Anti-infective activities of long-chain fatty acids against foodborne pathogens.\n"
     ]
    },
    {
     "name": "stderr",
     "output_type": "stream",
     "text": [
      " 91%|████████████████████████████████████████████████████████████████████████▋       | 936/1030 [11:37<01:08,  1.36it/s]"
     ]
    },
    {
     "name": "stdout",
     "output_type": "stream",
     "text": [
      "Regulation of Gut Microflora by Lactobacillus casei Zhang Attenuates Liver Injury in Mice Caused by Anti-Tuberculosis Drugs.\n"
     ]
    },
    {
     "name": "stderr",
     "output_type": "stream",
     "text": [
      " 91%|████████████████████████████████████████████████████████████████████████▊       | 937/1030 [11:37<01:05,  1.42it/s]"
     ]
    },
    {
     "name": "stdout",
     "output_type": "stream",
     "text": [
      "Guild and Niche Determination Enable Targeted Alteration of the Microbiome.\n"
     ]
    },
    {
     "name": "stderr",
     "output_type": "stream",
     "text": [
      " 91%|████████████████████████████████████████████████████████████████████████▊       | 938/1030 [11:39<01:25,  1.08it/s]"
     ]
    },
    {
     "name": "stdout",
     "output_type": "stream",
     "text": [
      "Dietary supplemental coated essential oils and organic acids mixture improves growth performance and gut health along with reduces Salmonella load of broiler chickens infected with Salmonella Enteritidis.\n"
     ]
    },
    {
     "name": "stderr",
     "output_type": "stream",
     "text": [
      " 91%|████████████████████████████████████████████████████████████████████████▉       | 939/1030 [11:40<01:20,  1.14it/s]"
     ]
    },
    {
     "name": "stdout",
     "output_type": "stream",
     "text": [
      "Oral and anal microbiome from HIV-exposed individuals: role of host-associated factors in taxa composition and metabolic pathways.\n"
     ]
    },
    {
     "name": "stderr",
     "output_type": "stream",
     "text": [
      " 91%|█████████████████████████████████████████████████████████████████████████       | 940/1030 [11:40<01:13,  1.23it/s]"
     ]
    },
    {
     "name": "stdout",
     "output_type": "stream",
     "text": [
      "Involvement of Versatile Bacteria Belonging to the Genus Arthrobacter in Milk and Dairy Products.\n"
     ]
    },
    {
     "name": "stderr",
     "output_type": "stream",
     "text": [
      " 91%|█████████████████████████████████████████████████████████████████████████       | 941/1030 [11:41<01:09,  1.28it/s]"
     ]
    },
    {
     "name": "stdout",
     "output_type": "stream",
     "text": [
      "Edible exosome-like nanoparticles from portulaca oleracea L mitigate DSS-induced  colitis via facilitating double-positive CD4+CD8+T cells expansion.\n"
     ]
    },
    {
     "name": "stderr",
     "output_type": "stream",
     "text": [
      " 91%|█████████████████████████████████████████████████████████████████████████▏      | 942/1030 [11:42<01:05,  1.35it/s]"
     ]
    },
    {
     "name": "stdout",
     "output_type": "stream",
     "text": [
      "Probiotic therapy, African fermented foods and food-derived bioactive peptides in the management of SARS-CoV-2 cases and other viral infections.\n"
     ]
    },
    {
     "name": "stderr",
     "output_type": "stream",
     "text": [
      " 92%|█████████████████████████████████████████████████████████████████████████▏      | 943/1030 [11:42<01:03,  1.37it/s]"
     ]
    },
    {
     "name": "stdout",
     "output_type": "stream",
     "text": [
      "Formate Metabolism in Shigella flexneri and Its Effect on HeLa Cells at Different Stages during the Infectious Process.\n"
     ]
    },
    {
     "name": "stderr",
     "output_type": "stream",
     "text": [
      " 92%|█████████████████████████████████████████████████████████████████████████▎      | 944/1030 [11:43<01:01,  1.39it/s]"
     ]
    },
    {
     "name": "stdout",
     "output_type": "stream",
     "text": [
      "Cooperative microbial interactions drive spatial segregation in porous environments.\n"
     ]
    },
    {
     "name": "stderr",
     "output_type": "stream",
     "text": [
      " 92%|█████████████████████████████████████████████████████████████████████████▍      | 945/1030 [11:44<01:01,  1.39it/s]"
     ]
    },
    {
     "name": "stdout",
     "output_type": "stream",
     "text": [
      "Biocontrol of Pathogen Microorganisms in Ripened Foods of Animal Origin.\n"
     ]
    },
    {
     "name": "stderr",
     "output_type": "stream",
     "text": [
      " 92%|█████████████████████████████████████████████████████████████████████████▍      | 946/1030 [11:45<01:01,  1.36it/s]"
     ]
    },
    {
     "name": "stdout",
     "output_type": "stream",
     "text": [
      "The occurrence of some foodborne pathogens recovered from poultry meat in Shahrekord, Iran.\n"
     ]
    },
    {
     "name": "stderr",
     "output_type": "stream",
     "text": [
      " 92%|█████████████████████████████████████████████████████████████████████████▌      | 947/1030 [11:45<01:04,  1.28it/s]"
     ]
    },
    {
     "name": "stdout",
     "output_type": "stream",
     "text": [
      "The gut microbiota in breast cancer development and treatment: The good, the bad, and the useful!\n"
     ]
    },
    {
     "name": "stderr",
     "output_type": "stream",
     "text": [
      " 92%|█████████████████████████████████████████████████████████████████████████▋      | 948/1030 [11:46<01:01,  1.33it/s]"
     ]
    },
    {
     "name": "stdout",
     "output_type": "stream",
     "text": [
      "Screening of bacteriocin-producing dairy Enterococcus strains using low-cost culture media.\n"
     ]
    },
    {
     "name": "stderr",
     "output_type": "stream",
     "text": [
      " 92%|█████████████████████████████████████████████████████████████████████████▋      | 949/1030 [11:47<01:01,  1.31it/s]"
     ]
    },
    {
     "name": "stdout",
     "output_type": "stream",
     "text": [
      "Clinical Relevance of Gut Microbiota Alterations under the Influence of Selected  Drugs—Updated Review.\n"
     ]
    },
    {
     "name": "stderr",
     "output_type": "stream",
     "text": [
      " 92%|█████████████████████████████████████████████████████████████████████████▊      | 950/1030 [11:48<01:00,  1.32it/s]"
     ]
    },
    {
     "name": "stdout",
     "output_type": "stream",
     "text": [
      "Characterization and selection of probiotic lactic acid bacteria from different dietary sources for development of functional foods.\n"
     ]
    },
    {
     "name": "stderr",
     "output_type": "stream",
     "text": [
      " 92%|█████████████████████████████████████████████████████████████████████████▊      | 951/1030 [11:48<00:57,  1.38it/s]"
     ]
    },
    {
     "name": "stdout",
     "output_type": "stream",
     "text": [
      "Microbiome of Free-Living Amoebae (FLA) Isolated from Fresh Organic Produce: Potential Risk to Consumers?\n"
     ]
    },
    {
     "name": "stderr",
     "output_type": "stream",
     "text": [
      " 92%|█████████████████████████████████████████████████████████████████████████▉      | 952/1030 [11:49<00:54,  1.42it/s]"
     ]
    },
    {
     "name": "stdout",
     "output_type": "stream",
     "text": [
      "Deciphering the functional diversity of the gut microbiota of the black soldier fly (Hermetia illucens): recent advances and future challenges.\n"
     ]
    },
    {
     "name": "stderr",
     "output_type": "stream",
     "text": [
      " 93%|██████████████████████████████████████████████████████████████████████████      | 953/1030 [11:50<00:54,  1.42it/s]"
     ]
    },
    {
     "name": "stdout",
     "output_type": "stream",
     "text": [
      "Influence of Storage Packaging Type on the Microbiological and Sensory Quality of Free-Range Table Eggs.\n"
     ]
    },
    {
     "name": "stderr",
     "output_type": "stream",
     "text": [
      " 93%|██████████████████████████████████████████████████████████████████████████      | 954/1030 [11:50<00:52,  1.46it/s]"
     ]
    },
    {
     "name": "stdout",
     "output_type": "stream",
     "text": [
      "Maternal Diet May Modulate Breast Milk Microbiota—A Case Study in a Group of Colombian Women.\n"
     ]
    },
    {
     "name": "stderr",
     "output_type": "stream",
     "text": [
      " 93%|██████████████████████████████████████████████████████████████████████████▏     | 955/1030 [11:51<00:50,  1.47it/s]"
     ]
    },
    {
     "name": "stdout",
     "output_type": "stream",
     "text": [
      "Susceptibility of Salmonella serotypes isolated from meat and meat contact surfaces to thermal, acidic, and alkaline treatments and disinfectants.\n"
     ]
    },
    {
     "name": "stderr",
     "output_type": "stream",
     "text": [
      " 93%|██████████████████████████████████████████████████████████████████████████▎     | 956/1030 [11:52<00:50,  1.48it/s]"
     ]
    },
    {
     "name": "stdout",
     "output_type": "stream",
     "text": [
      "Comprehensive analysis of gut microbiome and host transcriptome in chickens after Eimeria tenella infection.\n"
     ]
    },
    {
     "name": "stderr",
     "output_type": "stream",
     "text": [
      " 93%|██████████████████████████████████████████████████████████████████████████▎     | 957/1030 [11:52<00:48,  1.51it/s]"
     ]
    },
    {
     "name": "stdout",
     "output_type": "stream",
     "text": [
      "Effects of plant-derived protein and rapeseed oil on growth performance and gut microbiomes in rainbow trout.\n"
     ]
    },
    {
     "name": "stderr",
     "output_type": "stream",
     "text": [
      " 93%|██████████████████████████████████████████████████████████████████████████▍     | 958/1030 [11:53<00:47,  1.52it/s]"
     ]
    },
    {
     "name": "stdout",
     "output_type": "stream",
     "text": [
      "Effect and Correlation of Rosa roxburghii Tratt Juice Fermented by Lactobacillus  paracasei SR10-1 on Oxidative Stress and Gut Microflora Dysbiosis in Streptozotocin (STZ)-Induced Type 2 Diabetes Mellitus Mice.\n"
     ]
    },
    {
     "name": "stderr",
     "output_type": "stream",
     "text": [
      " 93%|██████████████████████████████████████████████████████████████████████████▍     | 959/1030 [11:54<00:47,  1.48it/s]"
     ]
    },
    {
     "name": "stdout",
     "output_type": "stream",
     "text": [
      "Bamboo Plant Part Preference Affects the Nutrients Digestibility and Intestinal Microbiota of Geriatric Giant Pandas.\n"
     ]
    },
    {
     "name": "stderr",
     "output_type": "stream",
     "text": [
      " 93%|██████████████████████████████████████████████████████████████████████████▌     | 960/1030 [11:54<00:48,  1.43it/s]"
     ]
    },
    {
     "name": "stdout",
     "output_type": "stream",
     "text": [
      "Zooplankton act as cruise ships promoting the survival and pathogenicity of pathogenic bacteria.\n"
     ]
    },
    {
     "name": "stderr",
     "output_type": "stream",
     "text": [
      " 93%|██████████████████████████████████████████████████████████████████████████▋     | 961/1030 [11:55<00:48,  1.42it/s]"
     ]
    },
    {
     "name": "stdout",
     "output_type": "stream",
     "text": [
      "Commonly Consumed Vegetables as a Potential Source of Multidrug-Resistant and β-Lactamase-Producing Bacteria in Debre Berhan Town, Ethiopia.\n"
     ]
    },
    {
     "name": "stderr",
     "output_type": "stream",
     "text": [
      " 93%|██████████████████████████████████████████████████████████████████████████▋     | 962/1030 [11:56<00:47,  1.44it/s]"
     ]
    },
    {
     "name": "stdout",
     "output_type": "stream",
     "text": [
      "Harnessing the potential of probiotics in the treatment of alcoholic liver disorders.\n"
     ]
    },
    {
     "name": "stderr",
     "output_type": "stream",
     "text": [
      " 93%|██████████████████████████████████████████████████████████████████████████▊     | 963/1030 [11:56<00:45,  1.48it/s]"
     ]
    },
    {
     "name": "stdout",
     "output_type": "stream",
     "text": [
      "Clinical NEC prevention practices drive different microbiome profiles and functional responses in the preterm intestine.\n"
     ]
    },
    {
     "name": "stderr",
     "output_type": "stream",
     "text": [
      " 94%|██████████████████████████████████████████████████████████████████████████▊     | 964/1030 [11:57<00:45,  1.45it/s]"
     ]
    },
    {
     "name": "stdout",
     "output_type": "stream",
     "text": [
      "Beneficial effects of seaweed-derived components on metabolic syndrome via gut microbiota modulation.\n"
     ]
    },
    {
     "name": "stderr",
     "output_type": "stream",
     "text": [
      " 94%|██████████████████████████████████████████████████████████████████████████▉     | 965/1030 [11:58<00:43,  1.49it/s]"
     ]
    },
    {
     "name": "stdout",
     "output_type": "stream",
     "text": [
      "Effects of bacterial composition and aquatic habitat metabolites on malaria vector larval availability in irrigated and non-irrigated sites of Homa Bay county, western Kenya.\n"
     ]
    },
    {
     "name": "stderr",
     "output_type": "stream",
     "text": [
      " 94%|███████████████████████████████████████████████████████████████████████████     | 966/1030 [11:58<00:43,  1.48it/s]"
     ]
    },
    {
     "name": "stdout",
     "output_type": "stream",
     "text": [
      "Probiotics for the treatment of depression and its comorbidities: A systemic review.\n"
     ]
    },
    {
     "name": "stderr",
     "output_type": "stream",
     "text": [
      " 94%|███████████████████████████████████████████████████████████████████████████     | 967/1030 [11:59<00:42,  1.47it/s]"
     ]
    },
    {
     "name": "stdout",
     "output_type": "stream",
     "text": [
      "Potential probiotics for regulation of the gut-lung axis to prevent or alleviate  influenza in vulnerable populations.\n"
     ]
    },
    {
     "name": "stderr",
     "output_type": "stream",
     "text": [
      " 94%|███████████████████████████████████████████████████████████████████████████▏    | 968/1030 [12:00<00:41,  1.49it/s]"
     ]
    },
    {
     "name": "stdout",
     "output_type": "stream",
     "text": [
      "Applicable Strains, Processing Techniques and Health Benefits of Fermented Oat Beverages: A Review.\n"
     ]
    },
    {
     "name": "stderr",
     "output_type": "stream",
     "text": [
      " 94%|███████████████████████████████████████████████████████████████████████████▎    | 969/1030 [12:01<00:42,  1.45it/s]"
     ]
    },
    {
     "name": "stdout",
     "output_type": "stream",
     "text": [
      "Detailed mapping of Bifidobacterium strain transmission from mother to infant via a dual culture-based and metagenomic approach.\n"
     ]
    },
    {
     "name": "stderr",
     "output_type": "stream",
     "text": [
      " 94%|███████████████████████████████████████████████████████████████████████████▎    | 970/1030 [12:01<00:42,  1.43it/s]"
     ]
    },
    {
     "name": "stdout",
     "output_type": "stream",
     "text": [
      "Integrated Microbiota and Metabolome Analysis to Assess the Effects of the Solid-State Fermentation of Corn–Soybean Meal Feed Using Compound Strains.\n"
     ]
    },
    {
     "name": "stderr",
     "output_type": "stream",
     "text": [
      " 94%|███████████████████████████████████████████████████████████████████████████▍    | 971/1030 [12:02<00:42,  1.38it/s]"
     ]
    },
    {
     "name": "stdout",
     "output_type": "stream",
     "text": [
      "Avian campylobacteriosis, prevalence, sources, hazards, antibiotic resistance, poultry meat contamination, and control measures: a comprehensive review.\n"
     ]
    },
    {
     "name": "stderr",
     "output_type": "stream",
     "text": [
      " 94%|███████████████████████████████████████████████████████████████████████████▍    | 972/1030 [12:03<00:41,  1.38it/s]"
     ]
    },
    {
     "name": "stdout",
     "output_type": "stream",
     "text": [
      "Effects of cranberry powder on the diversity of microbial communities and quality characteristics of fermented sausage.\n"
     ]
    },
    {
     "name": "stderr",
     "output_type": "stream",
     "text": [
      " 94%|███████████████████████████████████████████████████████████████████████████▌    | 973/1030 [12:03<00:40,  1.42it/s]"
     ]
    },
    {
     "name": "stdout",
     "output_type": "stream",
     "text": [
      "The first detection of two Aeromonas strains in mice of the genus Apodemus.\n"
     ]
    },
    {
     "name": "stderr",
     "output_type": "stream",
     "text": [
      " 95%|███████████████████████████████████████████████████████████████████████████▋    | 974/1030 [12:04<00:38,  1.47it/s]"
     ]
    },
    {
     "name": "stdout",
     "output_type": "stream",
     "text": [
      "Effect of Bacillus subtilis and Oregano Oil on Performance, Gut Microbiome, and Intestinal Morphology in Pullets.\n"
     ]
    },
    {
     "name": "stderr",
     "output_type": "stream",
     "text": [
      " 95%|███████████████████████████████████████████████████████████████████████████▋    | 975/1030 [12:05<00:36,  1.49it/s]"
     ]
    },
    {
     "name": "stdout",
     "output_type": "stream",
     "text": [
      "Response surface methodology based optimization of keratinase from Bacillus velezensis strain ZBE1 and nanoparticle synthesis, biological and molecular characterization.\n"
     ]
    },
    {
     "name": "stderr",
     "output_type": "stream",
     "text": [
      " 95%|███████████████████████████████████████████████████████████████████████████▊    | 976/1030 [12:05<00:35,  1.51it/s]"
     ]
    },
    {
     "name": "stdout",
     "output_type": "stream",
     "text": [
      "Meat Irradiation: A Comprehensive Review of Its Impact on Food Quality and Safety.\n"
     ]
    },
    {
     "name": "stderr",
     "output_type": "stream",
     "text": [
      " 95%|███████████████████████████████████████████████████████████████████████████▉    | 977/1030 [12:06<00:34,  1.53it/s]"
     ]
    },
    {
     "name": "stdout",
     "output_type": "stream",
     "text": [
      "Functional Degeneracy in Paracoccus denitrificans Pd1222 Is Coordinated via RamB, Which Links Expression of the Glyoxylate Cycle to Activity of the Ethylmalonyl-CoA Pathway.\n"
     ]
    },
    {
     "name": "stderr",
     "output_type": "stream",
     "text": [
      " 95%|███████████████████████████████████████████████████████████████████████████▉    | 978/1030 [12:07<00:34,  1.52it/s]"
     ]
    },
    {
     "name": "stdout",
     "output_type": "stream",
     "text": [
      "Impact of transgenerational host switch on gut bacterial assemblage in generalist pest, Spodoptera littoralis (Lepidoptera: Noctuidae).\n"
     ]
    },
    {
     "name": "stderr",
     "output_type": "stream",
     "text": [
      " 95%|████████████████████████████████████████████████████████████████████████████    | 979/1030 [12:08<00:38,  1.33it/s]"
     ]
    },
    {
     "name": "stdout",
     "output_type": "stream",
     "text": [
      "The African Wastewater Resistome: Identifying Knowledge Gaps to Inform Future Research Directions.\n"
     ]
    },
    {
     "name": "stderr",
     "output_type": "stream",
     "text": [
      " 95%|████████████████████████████████████████████████████████████████████████████    | 980/1030 [12:08<00:37,  1.33it/s]"
     ]
    },
    {
     "name": "stdout",
     "output_type": "stream",
     "text": [
      "Identification of Bulgarian Sourdough Microbiota by Metagenomic Approach Using Three Commercially Available DNA Extraction Protocols.\n"
     ]
    },
    {
     "name": "stderr",
     "output_type": "stream",
     "text": [
      " 95%|████████████████████████████████████████████████████████████████████████████▏   | 981/1030 [12:09<00:36,  1.35it/s]"
     ]
    },
    {
     "name": "stdout",
     "output_type": "stream",
     "text": [
      "Growth performance and cecal microbiota of broiler chicks as affected by drinking water disinfection and/or herbal extract blend supplementation.\n"
     ]
    },
    {
     "name": "stderr",
     "output_type": "stream",
     "text": [
      " 95%|████████████████████████████████████████████████████████████████████████████▎   | 982/1030 [12:10<00:34,  1.39it/s]"
     ]
    },
    {
     "name": "stdout",
     "output_type": "stream",
     "text": [
      "Utilization of Algae Extracts as Natural Antibacterial and Antioxidants for Controlling Foodborne Bacteria in Meat Products.\n"
     ]
    },
    {
     "name": "stderr",
     "output_type": "stream",
     "text": [
      " 95%|████████████████████████████████████████████████████████████████████████████▎   | 983/1030 [12:10<00:32,  1.44it/s]"
     ]
    },
    {
     "name": "stdout",
     "output_type": "stream",
     "text": [
      "The functional repertoire of AmpR in the AmpC β-lactamase high expression and decreasing β-lactam and aminoglycosides resistance in ESBL Citrobacter freundii.\n"
     ]
    },
    {
     "name": "stderr",
     "output_type": "stream",
     "text": [
      " 96%|████████████████████████████████████████████████████████████████████████████▍   | 984/1030 [12:11<00:33,  1.39it/s]"
     ]
    },
    {
     "name": "stdout",
     "output_type": "stream",
     "text": [
      "Identification of a New Pathogenic fungi Causing Sorghum Leaf Spot Disease and Its Management Using Natural Product and Microorganisms.\n"
     ]
    },
    {
     "name": "stderr",
     "output_type": "stream",
     "text": [
      " 96%|████████████████████████████████████████████████████████████████████████████▌   | 985/1030 [12:12<00:34,  1.29it/s]"
     ]
    },
    {
     "name": "stdout",
     "output_type": "stream",
     "text": [
      "Complete Genome Sequence and Comparative Genome Analysis of Variovorax sp. Strains PAMC28711, PAMC26660, and PAMC28562 and Trehalose Metabolic Pathways in Antarctica Isolates.\n"
     ]
    },
    {
     "name": "stderr",
     "output_type": "stream",
     "text": [
      " 96%|████████████████████████████████████████████████████████████████████████████▌   | 986/1030 [12:13<00:38,  1.15it/s]"
     ]
    },
    {
     "name": "stdout",
     "output_type": "stream",
     "text": [
      "Nanosilver: An Old Antibacterial Agent with Great Promise in the Fight against Antibiotic Resistance.\n"
     ]
    },
    {
     "name": "stderr",
     "output_type": "stream",
     "text": [
      " 96%|████████████████████████████████████████████████████████████████████████████▋   | 987/1030 [12:14<00:37,  1.15it/s]"
     ]
    },
    {
     "name": "stdout",
     "output_type": "stream",
     "text": [
      "PGPB and/or AM Fungi Consortia Affect Tomato Native Rhizosphere Microbiota.\n"
     ]
    },
    {
     "name": "stderr",
     "output_type": "stream",
     "text": [
      " 96%|████████████████████████████████████████████████████████████████████████████▋   | 988/1030 [12:15<00:34,  1.22it/s]"
     ]
    },
    {
     "name": "stdout",
     "output_type": "stream",
     "text": [
      "Microbiome Analysis of Sugarcane Juices and Biofilms from Louisiana Raw Sugar Factories.\n"
     ]
    },
    {
     "name": "stderr",
     "output_type": "stream",
     "text": [
      " 96%|████████████████████████████████████████████████████████████████████████████▊   | 989/1030 [12:15<00:31,  1.30it/s]"
     ]
    },
    {
     "name": "stdout",
     "output_type": "stream",
     "text": [
      "Exploring the antibacterial potential of plant extracts and essential oils against Bacillus thermophilus in beet sugar for enhanced sucrose retention: a comparative assessment and implications.\n"
     ]
    },
    {
     "name": "stderr",
     "output_type": "stream",
     "text": [
      " 96%|████████████████████████████████████████████████████████████████████████████▉   | 990/1030 [12:16<00:29,  1.36it/s]"
     ]
    },
    {
     "name": "stdout",
     "output_type": "stream",
     "text": [
      "Feeding the gut microbiome: impact on multiple sclerosis.\n"
     ]
    },
    {
     "name": "stderr",
     "output_type": "stream",
     "text": [
      " 96%|████████████████████████████████████████████████████████████████████████████▉   | 991/1030 [12:17<00:28,  1.36it/s]"
     ]
    },
    {
     "name": "stdout",
     "output_type": "stream",
     "text": [
      "A Review on Maternal and Infant Microbiota and Their Implications for the Prevention and Treatment of Allergic Diseases.\n"
     ]
    },
    {
     "name": "stderr",
     "output_type": "stream",
     "text": [
      " 96%|█████████████████████████████████████████████████████████████████████████████   | 992/1030 [12:18<00:28,  1.33it/s]"
     ]
    },
    {
     "name": "stdout",
     "output_type": "stream",
     "text": [
      "Links between Diet, Intestinal Anaerobes, Microbial Metabolites and Health.\n"
     ]
    },
    {
     "name": "stderr",
     "output_type": "stream",
     "text": [
      " 96%|█████████████████████████████████████████████████████████████████████████████▏  | 993/1030 [12:18<00:26,  1.40it/s]"
     ]
    },
    {
     "name": "stdout",
     "output_type": "stream",
     "text": [
      "Epigenetic Modifications Induced by the Gut Microbiota May Result from What We Eat: Should We Talk about Precision Diet in Health and Disease?\n"
     ]
    },
    {
     "name": "stderr",
     "output_type": "stream",
     "text": [
      " 97%|█████████████████████████████████████████████████████████████████████████████▏  | 994/1030 [12:19<00:25,  1.40it/s]"
     ]
    },
    {
     "name": "stdout",
     "output_type": "stream",
     "text": [
      "Acetobacter pasteurianus BP2201 alleviates alcohol‐induced hepatic and neuro‐toxicity and modulate gut microbiota in mice.\n"
     ]
    },
    {
     "name": "stderr",
     "output_type": "stream",
     "text": [
      " 97%|█████████████████████████████████████████████████████████████████████████████▎  | 995/1030 [12:20<00:24,  1.45it/s]"
     ]
    },
    {
     "name": "stdout",
     "output_type": "stream",
     "text": [
      "Towards further understanding the applications of endophytes: enriched source of  bioactive compounds and bio factories for nanoparticles.\n"
     ]
    },
    {
     "name": "stderr",
     "output_type": "stream",
     "text": [
      " 97%|█████████████████████████████████████████████████████████████████████████████▎  | 996/1030 [12:20<00:23,  1.42it/s]"
     ]
    },
    {
     "name": "stdout",
     "output_type": "stream",
     "text": [
      "Phylogenetic affiliations and genomic characterization of novel bacterial species and their abundance in the International Space Station.\n"
     ]
    },
    {
     "name": "stderr",
     "output_type": "stream",
     "text": [
      " 97%|█████████████████████████████████████████████████████████████████████████████▍  | 997/1030 [12:21<00:22,  1.44it/s]"
     ]
    },
    {
     "name": "stdout",
     "output_type": "stream",
     "text": [
      "A Comparative Study of Skimmed Milk and Cassava Flour on the Viability of Freeze-Dried Lactic Acid Bacteria as Starter Cultures for Yogurt Fermentation.\n"
     ]
    },
    {
     "name": "stderr",
     "output_type": "stream",
     "text": [
      " 97%|█████████████████████████████████████████████████████████████████████████████▌  | 998/1030 [12:22<00:25,  1.27it/s]"
     ]
    },
    {
     "name": "stdout",
     "output_type": "stream",
     "text": [
      "Alterations in the Microbiota of Caged Honeybees in the Presence of Nosema ceranae Infection and Related Changes in Functionality.\n"
     ]
    },
    {
     "name": "stderr",
     "output_type": "stream",
     "text": [
      " 97%|█████████████████████████████████████████████████████████████████████████████▌  | 999/1030 [12:23<00:24,  1.27it/s]"
     ]
    },
    {
     "name": "stdout",
     "output_type": "stream",
     "text": [
      "Green Antimicrobials as Therapeutic Agents for Diabetic Foot Ulcers.\n"
     ]
    },
    {
     "name": "stderr",
     "output_type": "stream",
     "text": [
      " 97%|████████████████████████████████████████████████████████████████████████████▋  | 1000/1030 [12:24<00:23,  1.26it/s]"
     ]
    },
    {
     "name": "stdout",
     "output_type": "stream",
     "text": [
      "Effect of veterinary feed directive rule changes on tetracycline-resistant and erythromycin-resistant bacteria (Salmonella, Escherichia, and Campylobacter) in retail meats in the United States.\n"
     ]
    },
    {
     "name": "stderr",
     "output_type": "stream",
     "text": [
      " 97%|████████████████████████████████████████████████████████████████████████████▊  | 1001/1030 [12:24<00:22,  1.27it/s]"
     ]
    },
    {
     "name": "stdout",
     "output_type": "stream",
     "text": [
      "Estradiol-mediated protection against high-fat diet induced anxiety and obesity is associated with changes in the gut microbiota in female mice.\n"
     ]
    },
    {
     "name": "stderr",
     "output_type": "stream",
     "text": [
      " 97%|████████████████████████████████████████████████████████████████████████████▊  | 1002/1030 [12:25<00:21,  1.31it/s]"
     ]
    },
    {
     "name": "stdout",
     "output_type": "stream",
     "text": [
      "The synbiotic mixture of lactulose and Bacillus coagulans protects intestinal barrier dysfunction and apoptosis in weaned piglets challenged with lipopolysaccharide.\n"
     ]
    },
    {
     "name": "stderr",
     "output_type": "stream",
     "text": [
      " 97%|████████████████████████████████████████████████████████████████████████████▉  | 1003/1030 [12:26<00:19,  1.38it/s]"
     ]
    },
    {
     "name": "stdout",
     "output_type": "stream",
     "text": [
      "Liposomal encapsulated oregano, cinnamon, and clove oils enhanced the performance, bacterial metabolites antioxidant potential, and intestinal microbiota of broiler chickens.\n"
     ]
    },
    {
     "name": "stderr",
     "output_type": "stream",
     "text": [
      " 97%|█████████████████████████████████████████████████████████████████████████████  | 1004/1030 [12:26<00:18,  1.42it/s]"
     ]
    },
    {
     "name": "stdout",
     "output_type": "stream",
     "text": [
      "Prevalence and Abundance of Beta-Lactam Resistance Genes in Hospital Wastewater and Enterobacterales Wastewater Isolates.\n"
     ]
    },
    {
     "name": "stderr",
     "output_type": "stream",
     "text": [
      " 98%|█████████████████████████████████████████████████████████████████████████████  | 1005/1030 [12:27<00:17,  1.45it/s]"
     ]
    },
    {
     "name": "stdout",
     "output_type": "stream",
     "text": [
      "Probiotics Mediate Intestinal Microbiome and Microbiota-Derived Metabolites Regulating the Growth and Immunity of Rainbow Trout (Oncorhynchus mykiss).\n"
     ]
    },
    {
     "name": "stderr",
     "output_type": "stream",
     "text": [
      " 98%|█████████████████████████████████████████████████████████████████████████████▏ | 1006/1030 [12:28<00:16,  1.49it/s]"
     ]
    },
    {
     "name": "stdout",
     "output_type": "stream",
     "text": [
      "Characterization of the pig lower respiratory tract antibiotic resistome.\n"
     ]
    },
    {
     "name": "stderr",
     "output_type": "stream",
     "text": [
      " 98%|█████████████████████████████████████████████████████████████████████████████▏ | 1007/1030 [12:30<00:23,  1.04s/it]"
     ]
    },
    {
     "name": "stdout",
     "output_type": "stream",
     "text": [
      "Investigation on the microbiological hazards in an artisanal salami produced in Northern Italy and its production environment in different seasonal periods.\n"
     ]
    },
    {
     "name": "stderr",
     "output_type": "stream",
     "text": [
      " 98%|█████████████████████████████████████████████████████████████████████████████▎ | 1008/1030 [12:30<00:21,  1.03it/s]"
     ]
    },
    {
     "name": "stdout",
     "output_type": "stream",
     "text": [
      "Ocular Bacterial Infections: A Ten-Year Survey and Review of Causative Organisms  Based on the Oklahoma Experience.\n"
     ]
    },
    {
     "name": "stderr",
     "output_type": "stream",
     "text": [
      " 98%|█████████████████████████████████████████████████████████████████████████████▍ | 1009/1030 [12:31<00:18,  1.11it/s]"
     ]
    },
    {
     "name": "stdout",
     "output_type": "stream",
     "text": [
      "Assessment of plasmids for relating the 2020 Salmonella enterica serovar Newport  onion outbreak to farms implicated by the outbreak investigation.\n"
     ]
    },
    {
     "name": "stderr",
     "output_type": "stream",
     "text": [
      " 98%|█████████████████████████████████████████████████████████████████████████████▍ | 1010/1030 [12:32<00:16,  1.19it/s]"
     ]
    },
    {
     "name": "stdout",
     "output_type": "stream",
     "text": [
      "The roles of dietary lipids and lipidomics in gut-brain axis in type 2 diabetes mellitus.\n"
     ]
    },
    {
     "name": "stderr",
     "output_type": "stream",
     "text": [
      " 98%|█████████████████████████████████████████████████████████████████████████████▌ | 1011/1030 [12:32<00:15,  1.25it/s]"
     ]
    },
    {
     "name": "stdout",
     "output_type": "stream",
     "text": [
      "Carotenoids and Their Health Benefits as Derived via Their Interactions with Gut  Microbiota.\n"
     ]
    },
    {
     "name": "stderr",
     "output_type": "stream",
     "text": [
      " 98%|█████████████████████████████████████████████████████████████████████████████▌ | 1012/1030 [12:33<00:13,  1.33it/s]"
     ]
    },
    {
     "name": "stdout",
     "output_type": "stream",
     "text": [
      "Mānuka Oil vs. Rosemary Oil: Antimicrobial Efficacies in Wagyu and Commercial Beef against Selected Pathogenic Microbes.\n"
     ]
    },
    {
     "name": "stderr",
     "output_type": "stream",
     "text": [
      " 98%|█████████████████████████████████████████████████████████████████████████████▋ | 1013/1030 [12:34<00:12,  1.35it/s]"
     ]
    },
    {
     "name": "stdout",
     "output_type": "stream",
     "text": [
      "Multi-omics signatures in new-onset diabetes predict metabolic response to dietary inulin: findings from an observational study followed by an interventional trial.\n"
     ]
    },
    {
     "name": "stderr",
     "output_type": "stream",
     "text": [
      " 98%|█████████████████████████████████████████████████████████████████████████████▊ | 1014/1030 [12:34<00:11,  1.39it/s]"
     ]
    },
    {
     "name": "stdout",
     "output_type": "stream",
     "text": [
      "Antimicrobial activity of cell free supernatants from probiotics inhibits against pathogenic bacteria isolated from fresh boar semen.\n"
     ]
    },
    {
     "name": "stderr",
     "output_type": "stream",
     "text": [
      " 99%|█████████████████████████████████████████████████████████████████████████████▊ | 1015/1030 [12:35<00:10,  1.39it/s]"
     ]
    },
    {
     "name": "stdout",
     "output_type": "stream",
     "text": [
      "Prevalence and resistance to antibacterial agents in Salmonella enterica strains  isolated from poultry products in Northern Kazakhstan.\n"
     ]
    },
    {
     "name": "stderr",
     "output_type": "stream",
     "text": [
      " 99%|█████████████████████████████████████████████████████████████████████████████▉ | 1016/1030 [12:36<00:09,  1.43it/s]"
     ]
    },
    {
     "name": "stdout",
     "output_type": "stream",
     "text": [
      "Zinc-solubilizing Bacillus spp. in conjunction with chemical fertilizers enhance  growth, yield, nutrient content, and zinc biofortification in wheat crop.\n"
     ]
    },
    {
     "name": "stderr",
     "output_type": "stream",
     "text": [
      " 99%|██████████████████████████████████████████████████████████████████████████████ | 1017/1030 [12:37<00:08,  1.46it/s]"
     ]
    },
    {
     "name": "stdout",
     "output_type": "stream",
     "text": [
      "Identification of Gut Microbiome and Metabolites Associated with Acute Diarrhea in Cats.\n"
     ]
    },
    {
     "name": "stderr",
     "output_type": "stream",
     "text": [
      " 99%|██████████████████████████████████████████████████████████████████████████████ | 1018/1030 [12:37<00:08,  1.41it/s]"
     ]
    },
    {
     "name": "stdout",
     "output_type": "stream",
     "text": [
      "Decreased Severity of Acute Hepatopancreatic Necrosis Disease in White Shrimp (Litopenaeus vannamei) by Mixed Culture of Bacillus subtilis, Bacillus licheniformis and Bacillus megaterium.\n"
     ]
    },
    {
     "name": "stderr",
     "output_type": "stream",
     "text": [
      " 99%|██████████████████████████████████████████████████████████████████████████████▏| 1019/1030 [12:38<00:07,  1.44it/s]"
     ]
    },
    {
     "name": "stdout",
     "output_type": "stream",
     "text": [
      "Survey of Colistin Resistance in Commensal Bacteria from Penaeus vannamei Farms in China.\n"
     ]
    },
    {
     "name": "stderr",
     "output_type": "stream",
     "text": [
      " 99%|██████████████████████████████████████████████████████████████████████████████▏| 1020/1030 [12:39<00:06,  1.46it/s]"
     ]
    },
    {
     "name": "stdout",
     "output_type": "stream",
     "text": [
      "CRISPR‑based diagnostic approaches: Implications for rapid management of future pandemics (Review).\n"
     ]
    },
    {
     "name": "stderr",
     "output_type": "stream",
     "text": [
      " 99%|██████████████████████████████████████████████████████████████████████████████▎| 1021/1030 [12:39<00:06,  1.48it/s]"
     ]
    },
    {
     "name": "stdout",
     "output_type": "stream",
     "text": [
      "Whole-body microbiota of newborn calves and their response to prenatal vitamin and mineral supplementation.\n"
     ]
    },
    {
     "name": "stderr",
     "output_type": "stream",
     "text": [
      " 99%|██████████████████████████████████████████████████████████████████████████████▍| 1022/1030 [12:40<00:05,  1.47it/s]"
     ]
    },
    {
     "name": "stdout",
     "output_type": "stream",
     "text": [
      "Prevalence, species diversity, and antimicrobial susceptibility of Campylobacter  strains in patients with diarrhea and poultry meat samples: one-year prospective study.\n"
     ]
    },
    {
     "name": "stderr",
     "output_type": "stream",
     "text": [
      " 99%|██████████████████████████████████████████████████████████████████████████████▍| 1023/1030 [12:41<00:04,  1.49it/s]"
     ]
    },
    {
     "name": "stdout",
     "output_type": "stream",
     "text": [
      "Technological Quality of Sugarcane Inoculated with Plant-Growth-Promoting Bacteria and Residual Effect of Phosphorus Rates.\n"
     ]
    },
    {
     "name": "stderr",
     "output_type": "stream",
     "text": [
      " 99%|██████████████████████████████████████████████████████████████████████████████▌| 1024/1030 [12:41<00:04,  1.48it/s]"
     ]
    },
    {
     "name": "stdout",
     "output_type": "stream",
     "text": [
      "Capsular Polysaccharide Is Essential for the Virulence of the Antimicrobial-Resistant Pathogen Enterobacter hormaechei.\n"
     ]
    },
    {
     "name": "stderr",
     "output_type": "stream",
     "text": [
      "100%|██████████████████████████████████████████████████████████████████████████████▌| 1025/1030 [12:42<00:03,  1.50it/s]"
     ]
    },
    {
     "name": "stdout",
     "output_type": "stream",
     "text": [
      "Bacterial Infections in Sea Turtles.\n"
     ]
    },
    {
     "name": "stderr",
     "output_type": "stream",
     "text": [
      "100%|██████████████████████████████████████████████████████████████████████████████▋| 1026/1030 [12:43<00:02,  1.51it/s]"
     ]
    },
    {
     "name": "stdout",
     "output_type": "stream",
     "text": [
      "Conventional and advanced detection techniques of foodborne pathogens: A comprehensive review.\n"
     ]
    },
    {
     "name": "stderr",
     "output_type": "stream",
     "text": [
      "100%|██████████████████████████████████████████████████████████████████████████████▊| 1027/1030 [12:43<00:01,  1.51it/s]"
     ]
    },
    {
     "name": "stdout",
     "output_type": "stream",
     "text": [
      "Gut microbiome determines therapeutic effects of OCA on NAFLD by modulating bile  acid metabolism.\n"
     ]
    },
    {
     "name": "stderr",
     "output_type": "stream",
     "text": [
      "100%|██████████████████████████████████████████████████████████████████████████████▊| 1028/1030 [12:44<00:01,  1.47it/s]"
     ]
    },
    {
     "name": "stdout",
     "output_type": "stream",
     "text": [
      "Communication between Plants and Rhizosphere Microbiome: Exploring the Root Microbiome for Sustainable Agriculture.\n"
     ]
    },
    {
     "name": "stderr",
     "output_type": "stream",
     "text": [
      "100%|██████████████████████████████████████████████████████████████████████████████▉| 1029/1030 [12:45<00:00,  1.47it/s]"
     ]
    },
    {
     "name": "stdout",
     "output_type": "stream",
     "text": [
      "Longitudinal Changes in Milk Microorganisms in the First Two Months of Lactation  of Primiparous and Multiparous Cows.\n"
     ]
    },
    {
     "name": "stderr",
     "output_type": "stream",
     "text": [
      "100%|███████████████████████████████████████████████████████████████████████████████| 1030/1030 [12:45<00:00,  1.35it/s]"
     ]
    },
    {
     "name": "stdout",
     "output_type": "stream",
     "text": [
      "Biofilm Formation and Control of Foodborne Pathogenic Bacteria.\n"
     ]
    },
    {
     "name": "stderr",
     "output_type": "stream",
     "text": [
      "\n"
     ]
    }
   ],
   "source": [
    "many_bact_articles_info = {}\n",
    "for pmcid in tqdm(pmc100_food_bact_bound):# Replace with the actual PMCID\n",
    "    article_info = get_article_data(pmcid)\n",
    "    many_bact_articles_info[pmcid] = article_info\n",
    "    print(article_info['title'])"
   ]
  },
  {
   "cell_type": "code",
   "execution_count": 107,
   "metadata": {
    "scrolled": true
   },
   "outputs": [
    {
     "name": "stdout",
     "output_type": "stream",
     "text": [
      "PMC10079091 Effects of Mexican Ganoderma lucidum extracts on liver, kidney, and the gut microbiota of Wistar rats: A repeated dose oral toxicity study.\n",
      "PMC10449545 Immunomodulatory effects of inulin and its intestinal metabolites.\n",
      "PMC10391861 Differential Salmonella Typhimurium intracellular replication and host cell responses in caecal and ileal organoids derived from chicken.\n",
      "PMC10291628 IgYs: on her majesty’s secret service.\n",
      "PMC10208495 Changes in the gut microbiota of NOD mice in response to an oral Salmonella-based vaccine against type 1 diabetes.\n",
      "PMC10414638 Abundance and prevalence of ESBL coding genes in patients undergoing first line eradication therapy for Helicobacter pylori.\n",
      "PMC10141535 An Integrated Approach to Skeletal Muscle Health in Aging.\n",
      "PMC10244541 Feed nutritional composition affects the intestinal microbiota and digestive enzyme activity of black soldier fly larvae.\n",
      "PMC10354516 Investigating causal associations among gut microbiota, metabolites, and liver diseases: a Mendelian randomization study.\n",
      "PMC10009951 Supplemental Clostridium butyricum modulates lipid metabolism by reshaping the gut microbiota composition and bile acid profile in IUGR suckling piglets.\n",
      "PMC10347068 Nutraceuticals Prepared with Specific Strains of Probiotics for Supplementing Gut Microbiota in Hosts Allergic to Certain Foods or Their Additives.\n",
      "PMC10355691 Alterations in fecal β-defensin-3 secretion as a marker of instability of the gut microbiota.\n",
      "PMC10121864 A non-antibiotic-disrupted gut microbiome associated with clinical responses to CD19-CAR-T cell cancer immunotherapy.\n",
      "PMC10054511 The Effect of Exercise Prescription on the Human Gut Microbiota and Comparison between Clinical and Apparently Healthy Populations: A Systematic Review.\n",
      "PMC10197139 Gut Microbiome–Brain Alliance: A Landscape View into Mental and Gastrointestinal  Health and Disorders.\n",
      "PMC10113004 Enhanced mitochondrial activity reshapes a gut microbiota profile that delays NASH progression.\n",
      "PMC10161572 Dietary fiber during gestation improves lactational feed intake of sows by modulating gut microbiota.\n",
      "PMC10100819 Enterobacter asburiae E7, a Novel Potential Probiotic, Enhances Resistance to Aeromonas veronii Infection via Stimulating the Immune Response in Common Carp (Cyprinus carpio).\n",
      "PMC10228327 Astragaloside IV ameliorate acute alcohol-induced liver injury in mice via modulating gut microbiota and regulating NLRP3/caspase-1 signaling pathway.\n",
      "PMC10432921 Efficacy of soy protein concentrate replacing animal protein supplements in mucosa-associated microbiota, intestinal health, and growth performance of nursery pigs.\n",
      "PMC10434012 Identification and Characterization of a Potential Probiotic, Clostridium butyricum G13, Isolated from the Intestine of the Mud Crab (Scylla paramamosain).\n",
      "PMC10359189 Effects of grain-based diets on the rumen and fecal bacterial communities of the  North American bison (Bison bison).\n",
      "PMC10269575 Sodium Humate-Derived Gut Microbiota Ameliorates Intestinal Dysfunction Induced by Salmonella Typhimurium in Mice.\n",
      "PMC10449510 Development of the intestinal microbiome in cystic fibrosis in early life.\n",
      "PMC10481543 Aquaculture ecosystem microbiome at the water-fish interface: the case-study of rainbow trout fed with Tenebrio molitor novel diets.\n",
      "PMC10376145 Temporal Microbial Dynamics in Feces Discriminate by Nutrition, Fecal Color, Consistency and Sample Type in Suckling and Newly Weaned Piglets.\n",
      "PMC10120449 The emerging role of the small intestinal microbiota in human health and disease.\n",
      "PMC10144574 Cyanobacterial Harmful Algal Bloom Toxin Microcystin and Increased Vibrio Occurrence as Climate-Change-Induced Biological Co-Stressors: Exposure and Disease Outcomes via Their Interaction with Gut–Liver–Brain Axis.\n",
      "PMC10458734 Modulatory Effects of Co-Fermented Pu-erh Tea with Aqueous Corn Silk Extract on Gut Microbes and Fecal Metabolites in Mice Fed High-Fat Diet.\n",
      "PMC10201741 Diversity and composition of gut microbiota in healthy individuals and patients at different stages of hepatitis B virus-related liver disease.\n",
      "PMC10478010 Infant gut microbiota colonization: influence of prenatal and postnatal factors,  focusing on diet.\n",
      "PMC10044617 Moringa oleifera Leaf Powder as New Source of Protein-Based Feedstuff Improves Growth Performance and Cecal Microbial Diversity of Broiler Chicken.\n",
      "PMC10491725 The fermented product of high-yield surfactin strain Bacillus subtilis LYS1 improves the growth performance and intestinal villi morphology in broilers.\n",
      "PMC10078139 Maternal-infant antibiotic resistance genes transference: what do we know?\n",
      "PMC10459152 A Narrative Review of Human Clinical Trials to Improve Lactose Digestion and Tolerance by Feeding Bifidobacteria or Galacto-Oligosacharides.\n",
      "PMC10358272 Prebiotics for depression: how does the gut microbiota play a role?\n",
      "PMC10420973 Plant-Based Dietary Fibers and Polysaccharides as Modulators of Gut Microbiota in Intestinal and Lung Inflammation: Current State and Challenges.\n",
      "PMC10441481 A cross-sectional study observing the association of psychosocial stress and dietary intake with gut microbiota genera and alpha diversity among a young adult cohort of black and white women in Birmingham, Alabama.\n",
      "PMC10235701 Deciphering the mechanism of jujube vinegar on hyperlipoidemia through gut microbiome based on 16S rRNA, BugBase analysis, and the stamp analysis of KEEG.\n",
      "PMC10117908 Freshwater transfer affected intestinal microbiota with correlation to cytokine gene expression in Asian sea bass.\n",
      "PMC10059722 The Microbiota–Gut–Brain Axis: Psychoneuroimmunological Insights.\n",
      "PMC10385781 The Role of Carbohydrate Intake on the Gut Microbiome: A Weight of Evidence Systematic Review.\n",
      "PMC10214247 A Review of Gut Microbiota‐Derived Metabolites in Tumor Progression and Cancer Therapy.\n",
      "PMC10230107 Human gut microbiome: A primer for the clinician.\n",
      "PMC10432922 Multi-omics reveals the mechanisms underlying Lactiplantibacillus plantarum P8-mediated attenuation of oxidative stress in broilers challenged with dexamethasone.\n",
      "PMC10324390 Lung Microbiota: Its Relationship to Respiratory System Diseases and Approaches for Lung-Targeted Probiotic Bacteria Delivery.\n",
      "PMC10311755 The microbiota knows: handling-stress and diet transform the microbial landscape  in the gut content of rainbow trout in RAS.\n",
      "PMC10069630 Role of human milk oligosaccharide metabolizing bacteria in the development of atopic dermatitis/eczema.\n",
      "PMC10318726 Overexpression of human alpha-Synuclein leads to dysregulated microbiome/metabolites with ageing in a rat model of Parkinson disease.\n",
      "PMC10229385 Meat Consumption and Gut Microbiota: a Scoping Review of Literature and Systematic Review of Randomized Controlled Trials in Adults.\n",
      "PMC10350279 Gegen-Qinlian decoction alleviates anxiety-like behaviors in methamphetamine-withdrawn mice by regulating Akkermansia and metabolism in the colon.\n",
      "PMC10052271 Mendelian randomization analyses reveal causal relationships between the human microbiome and longevity.\n",
      "PMC10463197 Probiotic Escherichia coli Nissle 1917 protect chicks from damage caused by Salmonella enterica serovar Enteritidis colonization.\n",
      "PMC10095354 Role of the Gut–Liver Axis in the Pathobiology of Cholangiopathies: Basic and Clinical Evidence.\n",
      "PMC10352802 Herbal medicine and its impact on the gut microbiota in colorectal cancer.\n",
      "PMC10463787 Antibacterial activity of exopolysaccharide produced by bee gut-resident Enterococcus sp. BE11 against marine fish pathogens.\n",
      "PMC10471580 Human milk oligosaccharides modulate the intestinal microbiome of healthy adults.\n",
      "PMC10135192 Immunogenicity and Efficacy of a Feed-Based Bivalent Vaccine against Streptococcosis and Motile Aeromonad Septicemia in Red Hybrid Tilapia (Oreochromis sp.).\n",
      "PMC10018964 Gut microbiota characteristics of Mongolian and Han populations in anti-tuberculosis drug-induced liver injury: a population-based case–control study.\n",
      "PMC10031540 The integrated analysis of digestive physiology and gastrointestinal microbiota structure in Changle goose.\n",
      "PMC10350513 Hybridization altered the gut microbiota of pigs.\n",
      "PMC10385490 In Vivo Functional Properties of Dairy Bacteria.\n",
      "PMC10269657 Impact of Intestinal Microbiota on Growth Performance of Suckling and Weaned Piglets.\n",
      "PMC10355065 Gastrointestinal symptoms of long COVID-19 related to the ectopic colonization of specific bacteria that move between the upper and lower alimentary tract and alterations in serum metabolites.\n",
      "PMC10235616 Time-restricted feeding affects colonic nutrient substrates and modulates the diurnal fluctuation of microbiota in pigs.\n",
      "PMC10190690 Therapeutic possibilities of gut microbiota modulation in acute decompensation of liver cirrhosis.\n",
      "PMC10107210 Microbiome-liver crosstalk: A multihit therapeutic target for liver disease.\n",
      "PMC10422022 The association between oral and gut microbiota in male patients with alcohol dependence.\n",
      "PMC10339580 Antibiotic-induced gut microbiota dysbiosis has a functional impact on purine metabolism.\n",
      "PMC10223911 Characteristic Gut Bacteria in High Barley Consuming Japanese Individuals without Hypertension.\n",
      "PMC10138118 Screening, Identification and Physiological Characteristics of Lactobacillus rhamnosus M3 (1) against Intestinal Inflammation.\n",
      "PMC10017367 Biochemical and structural basis of sialic acid utilization by gut microbes.\n",
      "PMC10132076 Complete genome sequence and characterization of a novel Enterococcus faecium with probiotic potential isolated from the gut of Litopenaeus vannamei.\n",
      "PMC10324062 Effects of Glucosinolate-Enriched Red Radish (Raphanus sativus) on In Vitro Models of Intestinal Microbiota and Metabolic Syndrome-Related Functionalities.\n",
      "PMC10385625 Beneficial Effects of Bacillus amyloliquefaciens D1 Soy Milk Supplementation on Serum Biochemical Indexes and Intestinal Health of Bearded Chickens.\n",
      "PMC10184528 Microbiome modulation in the prevention and management of colorectal cancer: a systematic review of clinical interventions.\n",
      "PMC10051507 The Gut–Liver Axis in Pediatric Liver Health and Disease.\n",
      "PMC10269471 Comprehensive Analysis of Bacteriocins Produced by the Hypermucoviscous Klebsiella pneumoniae Species Complex.\n",
      "PMC10199921 Ginger essential oil and citral ameliorates atherosclerosis in ApoE−/− mice by modulating trimethylamine-N-oxide and gut microbiota.\n",
      "PMC10497250 The role of intestine in metabolic dysregulation in murine Wilson disease.\n",
      "PMC10101034 Virulence Factors of the Gut Microbiome Are Associated with BMI and Metabolic Blood Parameters in Children with Obesity.\n",
      "PMC10361729 Alterations in the gut microbiota and the efficacy of adjuvant probiotic therapy  in liver cirrhosis.\n",
      "PMC10495574 Effects of Ramadan intermittent fasting on gut microbiome: is the diet key?\n",
      "PMC10399763 Protective effects of yeast extract against alcohol-induced liver injury in rats.\n",
      "PMC10100383 Clostridium butyricum and Chitooligosaccharides in Synbiotic Combination Ameliorate Symptoms in a DSS-Induced Ulcerative Colitis Mouse Model by Modulating Gut Microbiota and Enhancing Intestinal Barrier Function.\n",
      "PMC10473118 Benefits of Gut Microbiota Reconstitution by Beta 1,3–1,6 Glucans in Subjects with Autism Spectrum Disorder and Other Neurodegenerative Diseases.\n",
      "PMC10139882 Three Klebsiella species as potential pathobionts generating endogenous ethanol in a clinical cohort of patients with auto-brewery syndrome: a case control study.\n",
      "PMC10178612 Modulation of the Gut Microbiota by Tomato Flours Obtained after Conventional and Ohmic Heating Extraction and Its Prebiotic Properties †.\n",
      "PMC10094628 Faecal Microbiota Transplantation, Paving the Way to Treat Non-Alcoholic Fatty Liver Disease.\n",
      "PMC10331008 Sole microbiome progression in a hatchery life cycle, from egg to juvenile.\n",
      "PMC10014879 Intestinal flora: A new target for traditional Chinese medicine to improve lipid  metabolism disorders.\n",
      "PMC10287688 Effect of synbiotics on growth performance, gut health, and immunity status in pre-ruminant buffalo calves.\n",
      "PMC10375739 Effects of a complex probiotic preparation, Fengqiang Shengtai and coccidiosis vaccine on the performance and intestinal microbiota of broilers challenged with Eimeria spp.\n",
      "PMC10226273 Gut microbiota composition and gene expression changes induced in the Apis cerana exposed to acetamiprid and difenoconazole at environmentally realistic concentrations alone or combined.\n",
      "PMC10182990 Dysbiosis of the gut microbiome in elderly patients with hepatocellular carcinoma.\n",
      "PMC10421419 The Interplay between Medical Plants and Gut Microbiota in Cancer.\n",
      "PMC10458772 Clinical Studies on the Supplementation of Manufactured Human Milk Oligosaccharides: A Systematic Review.\n",
      "PMC10028851 Hadza Prevotella Require Diet-derived Microbiota Accessible Carbohydrates to Persist in Mice.\n",
      "PMC10233552 Maternal and/or post-weaning supplementation with Bacillus altitudinis spores modulates the microbial composition of colostrum, digesta and faeces in pigs.\n",
      "PMC10033313 Orally delivered Bacillus subtilis expressing chicken NK-2 peptide stabilizes gut microbiota and enhances intestinal health and local immunity in coccidiosis-infected broiler chickens1.\n",
      "PMC10392069 GPR35‐mediated kynurenic acid sensing contributes to maintenance of gut microbiota homeostasis in ulcerative colitis.\n",
      "PMC10179101 Gut Microbiome and Small RNA Integrative-Omic Perspective of Meconium and Milk-FED Infant Stool Samples.\n",
      "PMC10463520 Tryptophan metabolite norharman secreted by cultivated Lactobacillus attenuates acute pancreatitis as an antagonist of histone deacetylases.\n",
      "PMC10250290 Valuable effects of lactobacillus and citicoline on steatohepatitis: role of Nrf2/HO-1 and gut microbiota.\n",
      "PMC10003075 The Role of Microbiota in Liver Transplantation and Liver Transplantation-Related Biliary Complications.\n",
      "PMC10331483 High-fat diet-induced gut microbiota alteration promotes lipogenesis by butyric acid/miR-204/ACSS2 axis in chickens.\n",
      "PMC10170736 Effects of rye inclusion in dog food on fecal microbiota and short-chain fatty acids.\n",
      "PMC10419342 Intestinal flora in the constipation patients before versus after lactulose intervention.\n",
      "PMC10491976 Early gut microbiota intervention in premature infants: Application perspectives.\n",
      "PMC10095054 Postbiotics against Obesity: Perception and Overview Based on Pre-Clinical and Clinical Studies.\n",
      "PMC10054794 Omega-3-Supplemented Fat Diet Drives Immune Metabolic Response in Visceral Adipose Tissue by Modulating Gut Microbiota in a Mouse Model of Obesity.\n",
      "PMC10305530 Influence of Live Attenuated Salmonella Vaccines on Cecal Microbiome Composition  and Microbiota Abundances in Young Broiler Chickens.\n",
      "PMC10141989 Emerging Roles of Gut Microbial Modulation of Bile Acid Composition in the Etiology of Cardiovascular Diseases.\n",
      "PMC10102352 Microbial diversity and community composition of fecal microbiota in dual-purpose and egg type ducks.\n",
      "PMC10491335 Gut microbiota promoting propionic acid production accompanies diet-induced intentional weight loss in cats.\n",
      "PMC10143217 Prevalence and Antibiotic Resistance of Bacillus sp. Isolated from Raw Milk.\n",
      "PMC10144565 Effect of Non-Nutritive Sweeteners on the Gut Microbiota.\n",
      "PMC10418403 A Comparative Study of the Effects of Whole Cereals and Refined Cereals on Intestinal Microbiota.\n",
      "PMC10459712 Relationship between Oat Consumption, Gut Microbiota Modulation, and Short-Chain  Fatty Acid Synthesis: An Integrative Review.\n",
      "PMC10301429 Dietary Patterns, Gut Microbiota Remodeling, and Cardiometabolic Disease.\n",
      "PMC10101062 Changes in the Gut Microbiome Associated with Intussusception in Patients with Peutz-Jeghers Syndrome.\n",
      "PMC10446493 Dietary protein levels modulate the gut microbiome composition through fecal samples derived from lactating ewes.\n",
      "PMC10189415 The synergistic ramification of insoluble dietary fiber and associated non-extractable polyphenols on gut microbial population escorting alleviation of lifestyle diseases.\n",
      "PMC10446718 The phenotypic and genotypic antimicrobial resistance patterns of Salmonella isolated from chickens and meat at poultry slaughterhouses in Japan and Thailand.\n",
      "PMC10217589 Modulation of the Gut Microbiota with Prebiotics and Antimicrobial Agents from Pleurotus ostreatus Mushroom.\n",
      "PMC10176537 A TNF-IL-1 circuit controls Yersinia within intestinal granulomas.\n",
      "PMC10467528 Gut microbiome diversity, variability, and latent community types compared with shifts in body weight during the freshman year of college in dormitory-housed adolescents.\n",
      "PMC10358859 The benefits of edible mushroom polysaccharides for health and their influence on gut microbiota: a review.\n",
      "PMC10203222 Probiotics and vitamins modulate the cecal microbiota of laying hens submitted to induced molting.\n",
      "PMC10139042 The Influence of Polyphenols on Atherosclerosis Development.\n",
      "PMC10328715 Influence of gut microecology in the development of malignant tumors and its potential therapeutic application: A review.\n",
      "PMC10153018 Probiotics to improve the gut microbiome in premature infants: are we there yet?\n",
      "PMC10385627 Changes in the Human Gut Microbiome during Dietary Supplementation with Modified  Rice Bran Arabinoxylan Compound.\n",
      "PMC10434029 Intratumoral Microbiota Changes with Tumor Stage and Influences the Immune Signature of Oral Squamous Cell Carcinoma.\n",
      "PMC10324538 Green Tea Extract Alters Gut Microbiota and their Metabolism of Adults with Metabolic Syndrome in a Host-free Human Colonic Model.\n",
      "PMC10483239 Investigating the antidepressant effect of Ziyan green tea on chronic unpredictable mild stress mice through fecal metabolomics.\n",
      "PMC10084985 Food, gut barrier dysfunction, and related diseases: A new target for future individualized disease prevention and management.\n",
      "PMC10304194 The Role of Lactoferrin in Intestinal Health.\n",
      "PMC10005434 Dietary-Derived Exosome-like Nanoparticles as Bacterial Modulators: Beyond MicroRNAs.\n",
      "PMC10456417 Bioactivity Screening and Genomic Analysis Reveals Deep-Sea Fish Microbiome Isolates as Sources of Novel Antimicrobials.\n",
      "PMC10242055 The role of intestinal microbiota and microRNAs in the anti-inflammatory effects  of cranberry: from pre-clinical to clinical studies.\n",
      "PMC10254940 Side Streams of Vegetable Processing and Its Bioactive Compounds Support Microbiota, Intestine Milieu, and Immune System.\n",
      "PMC10320619 A comprehensive review on infant formula: nutritional and functional constituents, recent trends in processing and its impact on infants’ gut microbiota.\n",
      "PMC10475076 Lifestyle patterns influence the composition of the gut microbiome in a healthy Chinese population.\n",
      "PMC10404763 Unraveling the role of type 1 fimbriae in Salmonella pathogenesis: insights from  a comparative analysis of Salmonella Enteritidis and Salmonella Gallinarum.\n",
      "PMC10376057 Diversity and Co-Occurrence Pattern Analysis of Cecal and Jejunal Microbiota in Two Rabbit Breeds.\n",
      "PMC10259202 Gut pathogen colonization precedes bloodstream infection in the neonatal intensive care unit.\n",
      "PMC10269556 Mechanism of Metabolic Response to Hepatectomy by Integrated Analysis of Gut Microbiota, Metabolomics, and Proteomics.\n",
      "PMC10269640 Influence of Maternal Breast Milk and Vaginal Microbiome on Neonatal Gut Microbiome: a Longitudinal Study during the First Year.\n",
      "PMC10420782 Effect of short‐term consumption of yellow peas as noodles on the intestinal environment: A single‐armed pre‐post comparative pilot study.\n",
      "PMC10399007 Lactiplantibacillus plantarum, lactiplantibacillus pentosus and inulin meal inclusion boost the metagenomic function of broiler chickens.\n",
      "PMC10269633 Fermented Bamboo Fiber Improves Productive Performance by Regulating Gut Microbiota and Inhibiting Chronic Inflammation of Sows and Piglets during Late Gestation and Lactation.\n",
      "PMC10434003 Population Dynamics of Intestinal Enterococcus Modulate Galleria mellonella Metamorphosis.\n",
      "PMC10060894 Physiological effects of in ovo delivery of bioactive substances in broiler chickens.\n",
      "PMC10115534 Fishmeal Protein Replacement by Defatted and Full-Fat Black Soldier Fly Larvae Meal in Juvenile Turbot Diet: Effects on the Growth Performance and Intestinal Microbiota.\n",
      "PMC10394096 Effects of Shenling Baizhu powder on intestinal microflora metabolites and liver  mitochondrial energy metabolism in nonalcoholic fatty liver mice.\n",
      "PMC10340040 Effects of Sodium Butyrate Supplementation in Milk on the Growth Performance and  Intestinal Microbiota of Preweaning Holstein Calves.\n",
      "PMC10293439 Sugar Concentration, Nitrogen Availability, and Phylogenetic Factors Determine the Ability of Acinetobacter spp. and Rosenbergiella spp. to Grow in Floral Nectar.\n",
      "PMC10031158 Periodontitis salivary microbiota exacerbates nonalcoholic fatty liver disease in high-fat diet-induced obese mice.\n",
      "PMC10310774 Resistant starches from dietary pulses modulate the gut metabolome in association with microbiome in a humanized murine model of ageing.\n",
      "PMC10244441 Limosilactobacillus mucosae-derived extracellular vesicles modulates macrophage phenotype and orchestrates gut homeostasis in a diarrheal piglet model.\n",
      "PMC10215124 Short-Term Alternate Feeding between Terrestrially Sourced Oil- and Fish Oil-Based Diets Modulates the Intestinal Microecology of Juvenile Turbot.\n",
      "PMC10437066 Progress in the application of Enterococcus faecium in animal husbandry.\n",
      "PMC10024708 Microbial diversity and metabolic function in duodenum, jejunum and ileum of emu  (Dromaius novaehollandiae).\n",
      "PMC10140337 Gut microbiota-derived short-chain fatty acids regulate gastrointestinal tumor immunity: a novel therapeutic strategy?\n",
      "PMC10037058 Role of gut microbiota metabolism and biotransformation on dietary natural products to human health implications with special reference to biochemoinformatics approach.\n",
      "PMC10316573 Enzymatically prepared alginate oligosaccharides improve broiler chicken growth performance by modulating the gut microbiota and growth hormone signals.\n",
      "PMC10213357 Circulation of thermophilic Campylobacter in pigeons, turkeys, and humans at live bird markets in Egypt.\n",
      "PMC10385966 Bacillus subtilis PM5 from Camel Milk Boosts Chicken Immunity and Abrogates Salmonella entertitidis Infections.\n",
      "PMC10096799 Synbiotics as Supplemental Therapy for the Alleviation of Chemotherapy-Associated Symptoms in Patients with Solid Tumours.\n",
      "PMC10047528 Targeting Lung–Gut Axis for Regulating Pollution Particle–Mediated Inflammation and Metabolic Disorders.\n",
      "PMC10215413 Microbiota-Liver-Bile Salts Axis, a Novel Mechanism Involved in the Contrasting Effects of Sodium Selenite and Selenium-Nanoparticle Supplementation on Adipose Tissue Development in Adolescent Rats.\n",
      "PMC10303177 The role of complex interactions between the intestinal flora and host in regulating intestinal homeostasis and inflammatory bowel disease.\n",
      "PMC10096892 Effect of Nuts on Gastrointestinal Health.\n",
      "PMC10198134 β-glucans: a potential source for maintaining gut microbiota and the immune system.\n",
      "PMC10049473 Proanthocyanidins: Impact on Gut Microbiota and Intestinal Action Mechanisms in the Prevention and Treatment of Metabolic Syndrome.\n",
      "PMC10276029 CXCL10 as a shared specific marker in rheumatoid arthritis and inflammatory bowel disease and a clue involved in the mechanism of intestinal flora in rheumatoid arthritis.\n",
      "PMC10345844 Dietary fiber modulates gut microbiome and metabolome in a host sex-specific manner in a murine model of aging.\n",
      "PMC10189416 Unravelling the potential of insects for medicinal purposes – A comprehensive review.\n",
      "PMC10005405 The Role of Phytochemicals and Gut Microbiome in Atherosclerosis in Preclinical Mouse Models.\n",
      "PMC10100947 A High-Salt Diet Exacerbates Liver Fibrosis through Enterococcus-Dependent Macrophage Activation.\n",
      "PMC10012958 Efficacy of Bifidobacterium longum alone or in multi-strain probiotic formulations during early life and beyond.\n",
      "PMC10376390 Rye and Rye Bran as Components of Diets in Piglet Production—Effects on Salmonella Prevalence.\n",
      "PMC10088153 State of the art in research on the gut-liver and gut-brain axis in poultry.\n",
      "PMC10458939 A Scoping Review Evaluating the Current State of Gut Microbiota Research in Africa.\n",
      "PMC10220723 Probiotics, Prebiotics, and Synbiotics Utilization in Crayfish Aquaculture and Factors Affecting Gut Microbiota.\n",
      "PMC10039872 Rutin alleviates colon lesions and regulates gut microbiota in diabetic mice.\n",
      "PMC10217980 Modulation of Fat Deposition–Gut Interactions in Obese Mice by Administrating with Nobiletin.\n",
      "PMC10120190 Mucin-microbiome signatures shape the tumor microenvironment in gastric cancer.\n",
      "PMC10453516 Dietary Polysaccharides Exert Anti-Fatigue Functions via the Gut-Muscle Axis: Advances and Prospectives.\n",
      "PMC10338082 Wood fibers are a crucial microhabitat for cellulose- and xylan- degrading bacteria in the hindgut of the wood-feeding beetle Odontotaenius disjunctus.\n",
      "PMC10183032 Role of the gut microbiota in anticancer therapy: from molecular mechanisms to clinical applications.\n",
      "PMC10476401 Rosemary extract improves egg quality by altering gut barrier function, intestinal microbiota and oviductal gene expressions in late-phase laying hens.\n",
      "PMC10338153 Host gut-derived Bacillus probiotics supplementation improves growth performance, serum and liver immunity, gut health, and resistive capacity against Vibrio harveyi infection in hybrid grouper (♀Epinephelus fuscoguttatus × ♂Epinephelus lanceolatus).\n",
      "PMC10459834 The Intestinal Microbiome after Traumatic Injury.\n",
      "PMC10181102 Could Gut Microbiota Composition Be a Useful Indicator of a Long-Term Dietary Pattern?\n",
      "PMC10383799 Liposomal Epigallocatechin-3-Gallate for the Treatment of Intestinal Dysbiosis in Children with Autism Spectrum Disorder: A Comprehensive Review.\n",
      "PMC10056385 The Development of Gut Microbiota and Its Changes Following C. jejuni Infection in Broilers.\n",
      "PMC10436623 Short-chain fatty acids in diseases.\n",
      "PMC10492416 Penthorum chinense Pursh improves type 2 diabetes mellitus via modulating gut microbiota in db/db mice.\n",
      "PMC10424358 Effect of two insect meals on the gut commensal microbiome of healthy sea trout (Salmo trutta vr. trutta).\n",
      "PMC10393590 Ameliorative avian gut environment and bird productivity through the application  of safe antibiotics alternatives: a comprehensive review.\n",
      "PMC10384699 Analysis of Intestinal Microbiota and Metabolic Pathways before and after a 2-Month-Long Hydrolyzed Fish and Rice Starch Hypoallergenic Diet Trial in Pruritic Dogs.\n",
      "PMC10390834 Swine gut microbiome associated with non-digestible carbohydrate utilization.\n",
      "PMC10215132 The Antioxidant Effect of Dietary Bioactives Arises from the Interplay between the Physiology of the Host and the Gut Microbiota: Involvement of Short-Chain Fatty Acids.\n",
      "PMC10399753 The balanced unsaturated fatty acid supplement constituted by woody edible oils improved lipid metabolism and gut microbiota in high-fat diet mice.\n",
      "PMC10138710 Weighted Gene Co-Expression Network Analysis Identifies a Functional Guild and Metabolite Cluster Mediating the Relationship between Mucosal Inflammation and Adherence to the Mediterranean Diet in Ulcerative Colitis.\n",
      "PMC10256815 Modulation of bone remodeling by the gut microbiota: a new therapy for osteoporosis.\n",
      "PMC10354267 Age-related effects on the modulation of gut microbiota by pectins and their derivatives: an in vitro study.\n",
      "PMC10292949 Unveiling the Antibiotic Susceptibility and Antimicrobial Potential of Bacteria from Human Breast Milk of Pakistani Women: An Exploratory Study.\n",
      "PMC10234599 Maternal and food microbial sources shape the infant microbiome of a rural Ethiopian population.\n",
      "PMC10404764 Guar gum as galactomannan source induces dysbiosis and reduces performance in broiler chickens and dietary β-mannanase restores the gut homeostasis.\n",
      "PMC10192683 Research progress on anti-stress nutrition strategies in swine.\n",
      "PMC10148591 Contribution of the microbiome for better phenotyping of people living with obesity.\n",
      "PMC10037074 Modulation of gut microbiota by foods and herbs to prevent cardiovascular diseases.\n",
      "PMC10339644 Dietary bile acid supplementation in weaned piglets with intrauterine growth retardation improves colonic microbiota, metabolic activity, and epithelial function.\n",
      "PMC10404748 The effects of protease, xylanase, and xylo-oligosaccharides on growth performance, nutrient utilization, short-chain fatty acids, and microbiota in Eimeria-challenged broiler chickens fed low-protein diet.\n",
      "PMC10140855 Probiotics for Neurodegenerative Diseases: A Systemic Review.\n",
      "PMC10343867 Association between Gut Microbiota and Digestive System Cancers: A Bidirectional  Two-Sample Mendelian Randomization Study.\n",
      "PMC10014915 Bifidobacterium-derived short-chain fatty acids and indole compounds attenuate nonalcoholic fatty liver disease by modulating gut-liver axis.\n",
      "PMC10049499 Dietary Supplementation of Microbial Dextran and Inulin Exerts Hypocholesterolemic Effects and Modulates Gut Microbiota in BALB/c Mice Models.\n",
      "PMC10276405 Integrative analysis of the gut microbiota and faecal and serum short-chain fatty acids and tryptophan metabolites in patients with cirrhosis and hepatic encephalopathy.\n",
      "PMC10000670 RG-I Domain Matters to the In Vitro Fermentation Characteristics of Pectic Polysaccharides Recycled from Citrus Canning Processing Water.\n",
      "PMC10159860 The gut microbiota contributes to the pathogenesis of anorexia nervosa in humans  and mice.\n",
      "PMC10220600 The Novel Role of Phage Particles in Chronic Liver Diseases.\n",
      "PMC10437823 Attention Deficit Hyperactivity Disorder (ADHD) and the gut microbiome: An ecological perspective.\n",
      "PMC10295963 Tumorigenesis in Inflammatory Bowel Disease: Microbiota-Environment Interconnections.\n",
      "PMC10146277 Host-Specific Diversity of Culturable Bacteria in the Gut Systems of Fungus-Growing Termites and Their Potential Functions towards Lignocellulose Bioconversion.\n",
      "PMC10320739 Maternal gut microbiota in the postpartum Period: A Systematic review.\n",
      "PMC10097138 Consumption of Solnul™ Resistant Potato Starch Produces a Prebiotic Effect in a Randomized, Placebo-Controlled Clinical Trial.\n",
      "PMC10489940 Fermented Stevia Improves Alcohol Poisoning Symptoms Associated with Changes in Mouse Gut Microbiota.\n",
      "PMC10385192 Electrophysiological and Behavioral Responses of Virgin Female Bactrocera tryoni  to Microbial Volatiles from Enterobacteriaceae.\n",
      "PMC10112845 Ruminococcus gnavus: friend or foe for human health.\n",
      "PMC10350169 Long-term continuous cultivation of Kenyan infant fecal microbiota using the host adapted PolyFermS model.\n",
      "PMC10058873 Study on the Hepatoprotective Effect Mechanism of Polysaccharides from Charred Angelica sinensis on the Layer Chickens Based on the Detection of the Intestinal Floras and Short-Chain Fatty Acids of Cecal Contents and Association Analysis.\n",
      "PMC10416750 Gut microbial beta-glucuronidase: a vital regulator in female estrogen metabolism.\n",
      "PMC10334159 Gut Microbiota and its Metabolites: Bridge of Dietary Nutrients and Alzheimer’s Disease.\n",
      "PMC10247725 Impaired flux of bile acids from the liver to the gut reveals microbiome-immune interactions associated with liver damage.\n",
      "PMC10315043 Comparative effects of soy protein concentrate, enzyme-treated soybean meal, and  fermented soybean meal replacing animal protein supplements in feeds on growth performance and intestinal health of nursery pigs.\n",
      "PMC10399235 Understanding the link between gut microbiota, dietary intake, and nutritional status in children with autism and typical development.\n",
      "PMC10299291 Potential Source and Transmission Pathway of Gut Bacteria in the Diamondback Moth, Plutella xylostella.\n",
      "PMC10028729 Diet-derived metabolites and mucus link the gut microbiome to fever after cytotoxic cancer treatment.\n",
      "PMC10037851 Gut dysbiosis is associated with aortic aneurysm formation and progression in Takayasu arteritis.\n",
      "PMC10075269 High Levels of Multidrug-Resistant and Beta-Lactamase-Producing Bacteria in Meat  and Meat Contact Surfaces, Debre Berhan Town, Ethiopia.\n",
      "PMC10005351 Red Meat Intake, Indole-3-Acetate, and Dorea longicatena Together Affect Insulin  Resistance after Gastric Bypass.\n",
      "PMC10420685 Exploring the Plasticity of Diet on Gut Microbiota and Its Correlation with Gut Health.\n",
      "PMC10275724 Insect-based agri-food waste valorization: Agricultural applications and roles of insect gut microbiota.\n",
      "PMC10225104 The metabolome and bacterial composition of high-moisture Italian ryegrass silage inoculated with lactic acid bacteria during ensiling.\n",
      "PMC10145007 Interplay between Phytochemicals and the Colonic Microbiota.\n",
      "PMC10038037 Microbial metabolites as modulators of the infant gut microbiome and host-microbial interactions in early life.\n",
      "PMC10080009 Comparison of the effects of probiotics, rifaximin, and lactulose in the treatment of minimal hepatic encephalopathy and gut microbiota.\n",
      "PMC10493557 Effect of Consumption of Animal Products on the Gut Microbiome Composition and Gut Health.\n",
      "PMC10010516 Probiotic powder ameliorates colorectal cancer by regulating Bifidobacterium animalis, Clostridium cocleatum, and immune cell composition.\n",
      "PMC10084967 Potential of Bifidobacteriumlactis IDCC 4301 isolated from breast milk‐fed infant feces as a probiotic and functional ingredient.\n",
      "PMC10420825 Compliance with Nutritional Recommendations and Gut Microbiota Profile in Galician Overweight/Obese and Normal-Weight Individuals.\n",
      "PMC10215521 Future Modulation of Gut Microbiota: From Eubiotics to FMT, Engineered Bacteria,  and Phage Therapy.\n",
      "PMC10150032 Regulatory Effects of the Probiotic Clostridium butyricum on Gut Microbes, Intestinal Health, and Growth Performance of Chickens.\n",
      "PMC10004767 Pre-, pro-, syn-, and Postbiotics in Infant Formulas: What Are the Immune Benefits for Infants?\n",
      "PMC10000158 Use of Organic Acid Mixtures Containing 2-Hydroxy-4-(Methylthio) Butanoic Acid (HMTBa) to Mitigate Salmonella enterica, Shiga Toxin-Producing Escherichia coli (STEC) and Aspergillus flavus in Pet Food Kibbles.\n",
      "PMC10282066 Global branches and local states of the human gut microbiome define associations  with environmental and intrinsic factors.\n",
      "PMC10135345 Antibiotic Resistance among Gastrointestinal Bacteria in Broilers: A Review Focused on Enterococcus spp. and Escherichia coli.\n",
      "PMC10474412 Microbial food safety of lettuce produced under irrigated wastewater from Onyasia River in Ghana.\n",
      "PMC10178105 Microbial Diversity and Correlation between Breast Milk and the Infant Gut.\n",
      "PMC10005057 Gut-on-a-Chip for the Analysis of Bacteria–Bacteria Interactions in Gut Microbial Community: What Would Be Needed for Bacterial Co-Culture Study to Explore the Diet–Microbiota Relationship?\n",
      "PMC10452544 Emerging Paradigms in Inflammatory Disease Management: Exploring Bioactive Compounds and the Gut Microbiota.\n",
      "PMC10096616 Constipation-Predominant Irritable Bowel Syndrome (IBS-C): Effects of Different Nutritional Patterns on Intestinal Dysbiosis and Symptoms.\n",
      "PMC10388818 The gut-cardiovascular connection: new era for cardiovascular therapy.\n",
      "PMC10000050 Protein Content in the Diet Influences Growth and Diarrhea in Weaning Piglets.\n",
      "PMC10076011 A 3D Bioprinted Gut Anaerobic Model for Studying Bacteria–Host Interactions.\n",
      "PMC10052163 Bioactive Antimicrobial Peptides from Food Proteins: Perspectives and Challenges  for Controlling Foodborne Pathogens.\n",
      "PMC10044694 Isolation of Potential Probiotic Bacillus spp. from the Intestine of Nile Tilapia to Construct Recombinant Probiotic Expressing CC Chemokine and Its Effectiveness on Innate Immune Responses in Nile Tilapia.\n",
      "PMC10268390 Vitamin B12 produced by Cetobacterium somerae improves host resistance against pathogen infection through strengthening the interactions within gut microbiota.\n",
      "PMC10128065 Deep Divergence and Genomic Diversification of Gut Symbionts of Neotropical Stingless Bees.\n",
      "PMC10255242 Probiotics and Human Milk Differentially Influence the Gut Microbiome and NEC Incidence in Preterm Pigs.\n",
      "PMC10300930 Effects of Animal and Vegetable Proteins on Gut Microbiota in Subjects with Overweight or Obesity.\n",
      "PMC10411309 Robust cross-cohort gut microbiome associations with COVID-19 severity.\n",
      "PMC10004677 Effect of Probiotics in Breast Cancer: A Systematic Review and Meta-Analysis.\n",
      "PMC10015923 Gut microbiota in a mouse model of obesity and peripheral neuropathy associated with plasma and nerve lipidomics and nerve transcriptomics.\n",
      "PMC10245769 Global diversity of enterococci and description of 18 novel species.\n",
      "PMC10154212 Toward an improved definition of a healthy microbiome for healthy aging.\n",
      "PMC10238244 Probiotic and technological characterization of selected Lactobacillus strains isolated from different egyptian cheeses.\n",
      "PMC10464515 The impact of protein source and grain inclusion on digestibility, fecal metabolites, and fecal microbiome in adult canines.\n",
      "PMC10180990 The Gut Microbiome Responds Progressively to Fat and/or Sugar-Rich Diets and Is Differentially Modified by Dietary Fat and Sugar.\n",
      "PMC10082739 The role of probiotics in vannamei shrimp aquaculture performance – A review.\n",
      "PMC10281990 Gut microbiota Turicibacter strains differentially modify bile acids and host lipids.\n",
      "PMC10137412 Longitudinal Study for the Detection and Quantification of Campylobacter spp. in  Dairy Cows during Milking and in the Dairy Farm Environment.\n",
      "PMC10106463 Dietary micro-fibrillated cellulose improves growth, reduces diarrhea, modulates  gut microbiota, and increases butyrate production in post-weaning piglets.\n",
      "PMC10143615 Different Diet Energy Levels Alter Body Condition, Glucolipid Metabolism, Fecal Microbiota and Metabolites in Adult Beagle Dogs.\n",
      "PMC10349203 Effects of probiotics on non-alcoholic fatty liver disease: a review of human clinical trials.\n",
      "PMC10052090 Role of Dietary Defatted Rice Bran in the Modulation of Gut Microbiota in AOM/DSS-Induced Colitis-Associated Colorectal Cancer Rat Model.\n",
      "PMC10253993 Neurodegenerative and Neurodevelopmental Diseases and the Gut-Brain Axis: The Potential of Therapeutic Targeting of the Microbiome.\n",
      "PMC10269917 Caffeine Consumption Helps Honey Bees Fight a Bacterial Pathogen.\n",
      "PMC10448034 Regulation of dietary fiber on intestinal microorganisms and its effects on animal health.\n",
      "PMC10308887 Age-related alterations in metabolome and microbiome provide insights in dietary  transition in giant pandas.\n",
      "PMC10169205 Vitamins as regulators of calcium-containing kidney stones — new perspectives on  the role of the gut microbiome.\n",
      "PMC10034505 Differences in gut microbiota associated with stress resilience and susceptibility to single prolonged stress in female rodents.\n",
      "PMC10161430 Gut microbiome of mealworms (Tenebrio molitor Larvae) show similar responses to polystyrene and corn straw diets.\n",
      "PMC10347221 Bile Acids and Short-Chain Fatty Acids Are Modulated after Onion and Apple Consumption in Obese Zucker Rats.\n",
      "PMC10099150 Dendrobium officinale aqueous extract influences the immune response following vaccination against SARS-CoV-2.\n",
      "PMC10097863 Insights into the circulating microbiome of Atlantic and Greenland halibut populations: the role of species-specific and environmental factors.\n",
      "PMC10318527 Utilization of dietary mixed-linkage β-glucans by the Firmicute Blautia producta.\n",
      "PMC10009685 Composition of the intestinal microbiota of infant rhesus macaques at different ages before and after weaning.\n",
      "PMC10413983 The roles of gut microbiota and its metabolites in diabetic nephropathy.\n",
      "PMC10139017 Innova 2020: A Follow-Up Study of the Fecal Microbiota of Infants Using a Novel Infant Formula between 6 Months and 12 Months of Age.\n",
      "PMC10230642 Chinese herbal medicines for treating ulcerative colitis via regulating gut microbiota-intestinal immunity axis.\n",
      "PMC10222902 Accounting Gut Microbiota as the Mediator of Beneficial Effects of Dietary (Poly)phenols on Skeletal Muscle in Aging.\n",
      "PMC10106643 Antibacterial plant combinations prevent postweaning diarrhea in organically raised piglets challenged with enterotoxigenic Escherichia coli F18.\n",
      "PMC10098083 Relationship of environmental factors in pond water and dynamic changes of gut microbes of sea bass Lateolabrax japonicus.\n",
      "PMC10416873 Digestibility and Palatability of the Diet and Intestinal Functionality of Dogs Fed a Blend of Yeast Cell Wall and Oregano Essential Oil.\n",
      "PMC10051234 Effect of Maternal Diet on Maternal Milk and Breastfed Infant Gut Microbiomes: A  Scoping Review.\n",
      "PMC10474685 Variations of bile bacterial community alongside gallstone disease progression and key taxa involved in poor outcomes after endoscopic surgery.\n",
      "PMC10349393 Metabolic response of intestinal microbiota to guar gum consumption.\n",
      "PMC10384867 The Role of Gut Microbiota in Anxiety, Depression, and Other Mental Disorders as  Well as the Protective Effects of Dietary Components.\n",
      "PMC10489936 Polysaccharides: The Potential Prebiotics for Metabolic Associated Fatty Liver Disease (MAFLD).\n",
      "PMC10306408 A systematic review on the impact of gastrointestinal microbiota composition and  function on cognition in healthy infants and children.\n",
      "PMC10083334 Lactobacillus reuteri strain 8008 attenuated the aggravation of depressive-like behavior induced by CUMS in high-fat diet-fed mice through regulating the gut microbiota.\n",
      "PMC10110541 Altered human gut virome in patients undergoing antibiotics therapy for Helicobacter pylori.\n",
      "PMC10400011 Recent updates on correlation between reactive oxygen species and synbiotics for  effective management of ulcerative colitis.\n",
      "PMC10385089 The Relationship between the Source of Dietary Animal Fats and Proteins and the Gut Microbiota Condition and Obesity in Humans.\n",
      "PMC10499917 Combined analysis of 16S rDNA sequencing and metabolomics to find biomarkers of drug-induced liver injury.\n",
      "PMC10034054 Intestinal flora plays a role in the progression of hepatitis-cirrhosis-liver cancer.\n",
      "PMC10061721 Effects of OsomeFood Clean Label plant-based meals on the gut microbiome.\n",
      "PMC10167637 “Cross-talk” between gut microbiome dysbiosis and osteoarthritis progression: a systematic review.\n",
      "PMC10215027 The infant gut microbiota: in pursuit of non-protein nitrogen.\n",
      "PMC10074822 Effect of yeast species and processing on intestinal microbiota of Atlantic salmon (Salmo salar) fed soybean meal-based diets in seawater.\n",
      "PMC10026866 A systematic review of associations between gut microbiota composition and growth failure in preterm neonates.\n",
      "PMC10483844 Dietary Macleaya cordata extract supplementation improves the growth performance  and gut health of broiler chickens with necrotic enteritis.\n",
      "PMC10093891 Benefits of Biotics for Cardiovascular Diseases.\n",
      "PMC10394784 Oligofructose improves small intestinal lipid-sensing mechanisms via alterations  to the small intestinal microbiota.\n",
      "PMC10037072 Gut microbiota and Autism Spectrum Disorder: From pathogenesis to potential therapeutic perspectives.\n",
      "PMC10421457 Dietary Fat Modulation of Gut Microbiota and Impact on Regulatory Pathways Controlling Food Intake.\n",
      "PMC10141222 Bioaccessibility of Maillard Reaction Products from Biscuits Formulated from Buckwheat Flours Fermented by Selected Lactic Acid Bacteria.\n",
      "PMC10062606 Identification and characterization of gut-associated lactic acid bacteria isolated from the bean bug, Riptortus pedestris (Hemiptera: Alydidae).\n",
      "PMC10130969 Role of prebiotics, probiotics, and synbiotics in management of inflammatory bowel disease: Current perspectives.\n",
      "PMC10199544 Exposing new taxonomic variation with inflammation — a murine model-specific genome database for gut microbiome researchers.\n",
      "PMC10297968 Molecular Mechanism and Clinical Effects of Probiotics in the Management of Cow’s Milk Protein Allergy.\n",
      "PMC10246847 The small intestine: dining table of host–microbiota meetings.\n",
      "PMC10230173 Dietary (poly)phenols mitigate inflammatory bowel disease: Therapeutic targets, mechanisms of action, and clinical observations.\n",
      "PMC10318297 Targeting Gut Microbiota for the Treatment of Primary Biliary Cholangitis: From Bench to Bedside.\n",
      "PMC10052099 Fish Probiotics: Cell Surface Properties of Fish Intestinal Lactobacilli and Escherichia coli.\n",
      "PMC10167392 Altered gut microbiota and microbial metabolism in children with hepatic glycogen storage disease: a case-control study.\n",
      "PMC10297411 Advances in the Metabolic Mechanism and Functional Characteristics of Equol.\n",
      "PMC10395834 Identifying and ranking causal microbial biomarkers for colorectal cancer at different cancer subsites and stages: a Mendelian randomization study.\n",
      "PMC10401411 Gut microbiome and metabolic-associated fatty liver disease: Current status and potential applications.\n",
      "PMC10035785 Dietary and plasma carotenoids are positively associated with alpha diversity in  the fecal microbiota of pregnant women.\n",
      "PMC10194869 Salmonella Enteritidis T1SS protein SiiD inhibits NLRP3 inflammasome activation via repressing the mtROS-ASC dependent pathway.\n",
      "PMC10175524 Microbial community structure and diversity in fish-flower (mint) symbiosis.\n",
      "PMC10257228 Body Metrics and the Gut Microbiome in Response to Macronutrient Limitation in the Zebrafish Danio rerio.\n",
      "PMC10286727 Cecal Microbial Succession and Its Apparent Association with Nutrient Metabolism  in Broiler Chickens.\n",
      "PMC10100740 Dynamic Monitoring of Changes in Fecal Flora of Giant Pandas in Mice: Co-Occurrence Network Reconstruction.\n",
      "PMC10104920 Gut microbiota-mediated associations of green tea and catechin intakes with glucose metabolism in individuals without type 2 diabetes mellitus: a four-season observational study with mediation analysis.\n",
      "PMC10395128 Antifungal activity of compounds from Gordonia sp. WA8-44 isolated from the gut of Periplaneta americana and molecular docking studies.\n",
      "PMC10006512 Alien species invasion of deep-sea bacteria into mouse gut microbiota.\n",
      "PMC10224695 Novel Dietary Approach with Probiotics, Prebiotics, and Synbiotics to Mitigate Antimicrobial Resistance and Subsequent Out Marketplace of Antimicrobial Agents: A Review.\n",
      "PMC10221066 Fermented Beverage Benefits: A Comprehensive Review and Comparison of Kombucha and Kefir Microbiome.\n",
      "PMC10295019 Gut Microbiota and Antibiotic Treatments for the Main Non-Oncologic Hepato-Biliary-Pancreatic Disorders.\n",
      "PMC10266533 Anthocyanin-rich blue potato meals protect against polychlorinated biphenyl-mediated disruption of short-chain fatty acid production and gut microbiota profiles in a simulated human digestion model.\n",
      "PMC10301339 Maternal Nutritional Status and the Microbiome across the Pregnancy and the Post-Partum Period.\n",
      "PMC10135274 Age Rather Than Supplementation with Oat β-Glucan Influences Development of the Intestinal Microbiota and SCFA Concentrations in Suckling Piglets.\n",
      "PMC10178724 Quinoa Ameliorates Hepatic Steatosis, Oxidative Stress, Inflammation and Regulates the Gut Microbiota in Nonalcoholic Fatty Liver Disease Rats.\n",
      "PMC10499267 The microbiota conditions a gut milieu that selects for wild-type Salmonella Typhimurium virulence.\n",
      "PMC10324143 Determinants of microbial colonization in the premature gut.\n",
      "PMC10368373 Anti-infective activities of long-chain fatty acids against foodborne pathogens.\n",
      "PMC10253861 Regulation of Gut Microflora by Lactobacillus casei Zhang Attenuates Liver Injury in Mice Caused by Anti-Tuberculosis Drugs.\n",
      "PMC10314490 Dietary supplemental coated essential oils and organic acids mixture improves growth performance and gut health along with reduces Salmonella load of broiler chickens infected with Salmonella Enteritidis.\n",
      "PMC10469825 Edible exosome-like nanoparticles from portulaca oleracea L mitigate DSS-induced  colitis via facilitating double-positive CD4+CD8+T cells expansion.\n",
      "PMC10066861 Probiotic therapy, African fermented foods and food-derived bioactive peptides in the management of SARS-CoV-2 cases and other viral infections.\n",
      "PMC10262790 The gut microbiota in breast cancer development and treatment: The good, the bad, and the useful!\n",
      "PMC10046554 Clinical Relevance of Gut Microbiota Alterations under the Influence of Selected  Drugs—Updated Review.\n",
      "PMC10472620 Deciphering the functional diversity of the gut microbiota of the black soldier fly (Hermetia illucens): recent advances and future challenges.\n",
      "PMC10279956 Comprehensive analysis of gut microbiome and host transcriptome in chickens after Eimeria tenella infection.\n",
      "PMC10498547 Effects of plant-derived protein and rapeseed oil on growth performance and gut microbiomes in rainbow trout.\n",
      "PMC10486608 Effect and Correlation of Rosa roxburghii Tratt Juice Fermented by Lactobacillus  paracasei SR10-1 on Oxidative Stress and Gut Microflora Dysbiosis in Streptozotocin (STZ)-Induced Type 2 Diabetes Mellitus Mice.\n",
      "PMC10000146 Bamboo Plant Part Preference Affects the Nutrients Digestibility and Intestinal Microbiota of Geriatric Giant Pandas.\n",
      "PMC10287977 Harnessing the potential of probiotics in the treatment of alcoholic liver disorders.\n",
      "PMC10008552 Clinical NEC prevention practices drive different microbiome profiles and functional responses in the preterm intestine.\n",
      "PMC10311452 Beneficial effects of seaweed-derived components on metabolic syndrome via gut microbiota modulation.\n",
      "PMC10149938 Probiotics for the treatment of depression and its comorbidities: A systemic review.\n",
      "PMC10037066 Potential probiotics for regulation of the gut-lung axis to prevent or alleviate  influenza in vulnerable populations.\n",
      "PMC10213049 Detailed mapping of Bifidobacterium strain transmission from mother to infant via a dual culture-based and metagenomic approach.\n",
      "PMC10371856 Avian campylobacteriosis, prevalence, sources, hazards, antibiotic resistance, poultry meat contamination, and control measures: a comprehensive review.\n",
      "PMC10451296 Effect of Bacillus subtilis and Oregano Oil on Performance, Gut Microbiome, and Intestinal Morphology in Pullets.\n",
      "PMC10374326 Impact of transgenerational host switch on gut bacterial assemblage in generalist pest, Spodoptera littoralis (Lepidoptera: Noctuidae).\n",
      "PMC10209021 Growth performance and cecal microbiota of broiler chicks as affected by drinking water disinfection and/or herbal extract blend supplementation.\n",
      "PMC10248010 Feeding the gut microbiome: impact on multiple sclerosis.\n",
      "PMC10255369 A Review on Maternal and Infant Microbiota and Their Implications for the Prevention and Treatment of Allergic Diseases.\n",
      "PMC10216541 Links between Diet, Intestinal Anaerobes, Microbial Metabolites and Health.\n",
      "PMC10051796 Epigenetic Modifications Induced by the Gut Microbiota May Result from What We Eat: Should We Talk about Precision Diet in Health and Disease?\n",
      "PMC10443346 Acetobacter pasteurianus BP2201 alleviates alcohol‐induced hepatic and neuro‐toxicity and modulate gut microbiota in mice.\n",
      "PMC10293464 Alterations in the Microbiota of Caged Honeybees in the Presence of Nosema ceranae Infection and Related Changes in Functionality.\n",
      "PMC10036463 Estradiol-mediated protection against high-fat diet induced anxiety and obesity is associated with changes in the gut microbiota in female mice.\n",
      "PMC10257848 The synbiotic mixture of lactulose and Bacillus coagulans protects intestinal barrier dysfunction and apoptosis in weaned piglets challenged with lipopolysaccharide.\n",
      "PMC10173274 Liposomal encapsulated oregano, cinnamon, and clove oils enhanced the performance, bacterial metabolites antioxidant potential, and intestinal microbiota of broiler chickens.\n",
      "PMC10101061 Probiotics Mediate Intestinal Microbiome and Microbiota-Derived Metabolites Regulating the Growth and Immunity of Rainbow Trout (Oncorhynchus mykiss).\n",
      "PMC10423206 Characterization of the pig lower respiratory tract antibiotic resistome.\n",
      "PMC10068184 The roles of dietary lipids and lipidomics in gut-brain axis in type 2 diabetes mellitus.\n",
      "PMC10229386 Carotenoids and Their Health Benefits as Derived via Their Interactions with Gut  Microbiota.\n",
      "PMC10121613 Multi-omics signatures in new-onset diabetes predict metabolic response to dietary inulin: findings from an observational study followed by an interventional trial.\n",
      "PMC10434016 Identification of Gut Microbiome and Metabolites Associated with Acute Diarrhea in Cats.\n",
      "PMC10252472 Survey of Colistin Resistance in Commensal Bacteria from Penaeus vannamei Farms in China.\n",
      "PMC10232493 Gut microbiome determines therapeutic effects of OCA on NAFLD by modulating bile  acid metabolism.\n",
      "Total:  401\n"
     ]
    }
   ],
   "source": [
    "count = 0\n",
    "for ind, pmc_dict in many_bact_articles_info.items():\n",
    "    title_gut_condition = ' gut ' in pmc_dict['title'] or \\\n",
    "                           ' intestin' in pmc_dict['title'] or \\\n",
    "                            ' digest' in pmc_dict['title']\n",
    "    abstract_gut_condition = ' gut ' in pmc_dict['abstract'] or \\\n",
    "                           ' intestin' in pmc_dict['abstract'] or \\\n",
    "                            ' digest' in pmc_dict['abstract']\n",
    "    if title_gut_condition or abstract_gut_condition:\n",
    "        print(ind, pmc_dict['title'])\n",
    "        count+=1\n",
    "print('Total: ', count)"
   ]
  },
  {
   "cell_type": "code",
   "execution_count": null,
   "metadata": {},
   "outputs": [],
   "source": [
    "for pmcid in many_bact_articles_info:\n",
    "    print(pmcid+': \"'+many_bact_articles_info[pmcid]['title']+'\"\\n')"
   ]
  },
  {
   "cell_type": "code",
   "execution_count": null,
   "metadata": {
    "colab": {
     "base_uri": "https://localhost:8080/",
     "height": 300
    },
    "id": "iTDN0R7yq4vl",
    "outputId": "7cf3d804-2abb-4268-eca4-ead85a5d95a7",
    "scrolled": true
   },
   "outputs": [
    {
     "data": {
      "text/html": [
       "\n",
       "  <div id=\"df-146a6b61-31c8-4504-97bc-701125929ce5\" class=\"colab-df-container\">\n",
       "    <div>\n",
       "<style scoped>\n",
       "    .dataframe tbody tr th:only-of-type {\n",
       "        vertical-align: middle;\n",
       "    }\n",
       "\n",
       "    .dataframe tbody tr th {\n",
       "        vertical-align: top;\n",
       "    }\n",
       "\n",
       "    .dataframe thead th {\n",
       "        text-align: right;\n",
       "    }\n",
       "</style>\n",
       "<table border=\"1\" class=\"dataframe\">\n",
       "  <thead>\n",
       "    <tr style=\"text-align: right;\">\n",
       "      <th></th>\n",
       "      <th>1</th>\n",
       "      <th>3</th>\n",
       "    </tr>\n",
       "  </thead>\n",
       "  <tbody>\n",
       "    <tr>\n",
       "      <th>count</th>\n",
       "      <td>415559.000000</td>\n",
       "      <td>415559.000000</td>\n",
       "    </tr>\n",
       "    <tr>\n",
       "      <th>mean</th>\n",
       "      <td>17.978557</td>\n",
       "      <td>1.172854</td>\n",
       "    </tr>\n",
       "    <tr>\n",
       "      <th>std</th>\n",
       "      <td>36.853012</td>\n",
       "      <td>7.775424</td>\n",
       "    </tr>\n",
       "    <tr>\n",
       "      <th>min</th>\n",
       "      <td>0.000000</td>\n",
       "      <td>0.000000</td>\n",
       "    </tr>\n",
       "    <tr>\n",
       "      <th>25%</th>\n",
       "      <td>1.000000</td>\n",
       "      <td>0.000000</td>\n",
       "    </tr>\n",
       "    <tr>\n",
       "      <th>50%</th>\n",
       "      <td>5.000000</td>\n",
       "      <td>0.000000</td>\n",
       "    </tr>\n",
       "    <tr>\n",
       "      <th>75%</th>\n",
       "      <td>18.000000</td>\n",
       "      <td>0.000000</td>\n",
       "    </tr>\n",
       "    <tr>\n",
       "      <th>max</th>\n",
       "      <td>1620.000000</td>\n",
       "      <td>600.000000</td>\n",
       "    </tr>\n",
       "  </tbody>\n",
       "</table>\n",
       "</div>\n",
       "    <div class=\"colab-df-buttons\">\n",
       "\n",
       "  <div class=\"colab-df-container\">\n",
       "    <button class=\"colab-df-convert\" onclick=\"convertToInteractive('df-146a6b61-31c8-4504-97bc-701125929ce5')\"\n",
       "            title=\"Convert this dataframe to an interactive table.\"\n",
       "            style=\"display:none;\">\n",
       "\n",
       "  <svg xmlns=\"http://www.w3.org/2000/svg\" height=\"24px\" viewBox=\"0 -960 960 960\">\n",
       "    <path d=\"M120-120v-720h720v720H120Zm60-500h600v-160H180v160Zm220 220h160v-160H400v160Zm0 220h160v-160H400v160ZM180-400h160v-160H180v160Zm440 0h160v-160H620v160ZM180-180h160v-160H180v160Zm440 0h160v-160H620v160Z\"/>\n",
       "  </svg>\n",
       "    </button>\n",
       "\n",
       "  <style>\n",
       "    .colab-df-container {\n",
       "      display:flex;\n",
       "      gap: 12px;\n",
       "    }\n",
       "\n",
       "    .colab-df-convert {\n",
       "      background-color: #E8F0FE;\n",
       "      border: none;\n",
       "      border-radius: 50%;\n",
       "      cursor: pointer;\n",
       "      display: none;\n",
       "      fill: #1967D2;\n",
       "      height: 32px;\n",
       "      padding: 0 0 0 0;\n",
       "      width: 32px;\n",
       "    }\n",
       "\n",
       "    .colab-df-convert:hover {\n",
       "      background-color: #E2EBFA;\n",
       "      box-shadow: 0px 1px 2px rgba(60, 64, 67, 0.3), 0px 1px 3px 1px rgba(60, 64, 67, 0.15);\n",
       "      fill: #174EA6;\n",
       "    }\n",
       "\n",
       "    .colab-df-buttons div {\n",
       "      margin-bottom: 4px;\n",
       "    }\n",
       "\n",
       "    [theme=dark] .colab-df-convert {\n",
       "      background-color: #3B4455;\n",
       "      fill: #D2E3FC;\n",
       "    }\n",
       "\n",
       "    [theme=dark] .colab-df-convert:hover {\n",
       "      background-color: #434B5C;\n",
       "      box-shadow: 0px 1px 3px 1px rgba(0, 0, 0, 0.15);\n",
       "      filter: drop-shadow(0px 1px 2px rgba(0, 0, 0, 0.3));\n",
       "      fill: #FFFFFF;\n",
       "    }\n",
       "  </style>\n",
       "\n",
       "    <script>\n",
       "      const buttonEl =\n",
       "        document.querySelector('#df-146a6b61-31c8-4504-97bc-701125929ce5 button.colab-df-convert');\n",
       "      buttonEl.style.display =\n",
       "        google.colab.kernel.accessAllowed ? 'block' : 'none';\n",
       "\n",
       "      async function convertToInteractive(key) {\n",
       "        const element = document.querySelector('#df-146a6b61-31c8-4504-97bc-701125929ce5');\n",
       "        const dataTable =\n",
       "          await google.colab.kernel.invokeFunction('convertToInteractive',\n",
       "                                                    [key], {});\n",
       "        if (!dataTable) return;\n",
       "\n",
       "        const docLinkHtml = 'Like what you see? Visit the ' +\n",
       "          '<a target=\"_blank\" href=https://colab.research.google.com/notebooks/data_table.ipynb>data table notebook</a>'\n",
       "          + ' to learn more about interactive tables.';\n",
       "        element.innerHTML = '';\n",
       "        dataTable['output_type'] = 'display_data';\n",
       "        await google.colab.output.renderOutput(dataTable, element);\n",
       "        const docLink = document.createElement('div');\n",
       "        docLink.innerHTML = docLinkHtml;\n",
       "        element.appendChild(docLink);\n",
       "      }\n",
       "    </script>\n",
       "  </div>\n",
       "\n",
       "\n",
       "<div id=\"df-5c5b8da7-f7d5-4ad9-aab1-d614b7c09e06\">\n",
       "  <button class=\"colab-df-quickchart\" onclick=\"quickchart('df-5c5b8da7-f7d5-4ad9-aab1-d614b7c09e06')\"\n",
       "            title=\"Suggest charts\"\n",
       "            style=\"display:none;\">\n",
       "\n",
       "<svg xmlns=\"http://www.w3.org/2000/svg\" height=\"24px\"viewBox=\"0 0 24 24\"\n",
       "     width=\"24px\">\n",
       "    <g>\n",
       "        <path d=\"M19 3H5c-1.1 0-2 .9-2 2v14c0 1.1.9 2 2 2h14c1.1 0 2-.9 2-2V5c0-1.1-.9-2-2-2zM9 17H7v-7h2v7zm4 0h-2V7h2v10zm4 0h-2v-4h2v4z\"/>\n",
       "    </g>\n",
       "</svg>\n",
       "  </button>\n",
       "\n",
       "<style>\n",
       "  .colab-df-quickchart {\n",
       "      --bg-color: #E8F0FE;\n",
       "      --fill-color: #1967D2;\n",
       "      --hover-bg-color: #E2EBFA;\n",
       "      --hover-fill-color: #174EA6;\n",
       "      --disabled-fill-color: #AAA;\n",
       "      --disabled-bg-color: #DDD;\n",
       "  }\n",
       "\n",
       "  [theme=dark] .colab-df-quickchart {\n",
       "      --bg-color: #3B4455;\n",
       "      --fill-color: #D2E3FC;\n",
       "      --hover-bg-color: #434B5C;\n",
       "      --hover-fill-color: #FFFFFF;\n",
       "      --disabled-bg-color: #3B4455;\n",
       "      --disabled-fill-color: #666;\n",
       "  }\n",
       "\n",
       "  .colab-df-quickchart {\n",
       "    background-color: var(--bg-color);\n",
       "    border: none;\n",
       "    border-radius: 50%;\n",
       "    cursor: pointer;\n",
       "    display: none;\n",
       "    fill: var(--fill-color);\n",
       "    height: 32px;\n",
       "    padding: 0;\n",
       "    width: 32px;\n",
       "  }\n",
       "\n",
       "  .colab-df-quickchart:hover {\n",
       "    background-color: var(--hover-bg-color);\n",
       "    box-shadow: 0 1px 2px rgba(60, 64, 67, 0.3), 0 1px 3px 1px rgba(60, 64, 67, 0.15);\n",
       "    fill: var(--button-hover-fill-color);\n",
       "  }\n",
       "\n",
       "  .colab-df-quickchart-complete:disabled,\n",
       "  .colab-df-quickchart-complete:disabled:hover {\n",
       "    background-color: var(--disabled-bg-color);\n",
       "    fill: var(--disabled-fill-color);\n",
       "    box-shadow: none;\n",
       "  }\n",
       "\n",
       "  .colab-df-spinner {\n",
       "    border: 2px solid var(--fill-color);\n",
       "    border-color: transparent;\n",
       "    border-bottom-color: var(--fill-color);\n",
       "    animation:\n",
       "      spin 1s steps(1) infinite;\n",
       "  }\n",
       "\n",
       "  @keyframes spin {\n",
       "    0% {\n",
       "      border-color: transparent;\n",
       "      border-bottom-color: var(--fill-color);\n",
       "      border-left-color: var(--fill-color);\n",
       "    }\n",
       "    20% {\n",
       "      border-color: transparent;\n",
       "      border-left-color: var(--fill-color);\n",
       "      border-top-color: var(--fill-color);\n",
       "    }\n",
       "    30% {\n",
       "      border-color: transparent;\n",
       "      border-left-color: var(--fill-color);\n",
       "      border-top-color: var(--fill-color);\n",
       "      border-right-color: var(--fill-color);\n",
       "    }\n",
       "    40% {\n",
       "      border-color: transparent;\n",
       "      border-right-color: var(--fill-color);\n",
       "      border-top-color: var(--fill-color);\n",
       "    }\n",
       "    60% {\n",
       "      border-color: transparent;\n",
       "      border-right-color: var(--fill-color);\n",
       "    }\n",
       "    80% {\n",
       "      border-color: transparent;\n",
       "      border-right-color: var(--fill-color);\n",
       "      border-bottom-color: var(--fill-color);\n",
       "    }\n",
       "    90% {\n",
       "      border-color: transparent;\n",
       "      border-bottom-color: var(--fill-color);\n",
       "    }\n",
       "  }\n",
       "</style>\n",
       "\n",
       "  <script>\n",
       "    async function quickchart(key) {\n",
       "      const quickchartButtonEl =\n",
       "        document.querySelector('#' + key + ' button');\n",
       "      quickchartButtonEl.disabled = true;  // To prevent multiple clicks.\n",
       "      quickchartButtonEl.classList.add('colab-df-spinner');\n",
       "      try {\n",
       "        const charts = await google.colab.kernel.invokeFunction(\n",
       "            'suggestCharts', [key], {});\n",
       "      } catch (error) {\n",
       "        console.error('Error during call to suggestCharts:', error);\n",
       "      }\n",
       "      quickchartButtonEl.classList.remove('colab-df-spinner');\n",
       "      quickchartButtonEl.classList.add('colab-df-quickchart-complete');\n",
       "    }\n",
       "    (() => {\n",
       "      let quickchartButtonEl =\n",
       "        document.querySelector('#df-5c5b8da7-f7d5-4ad9-aab1-d614b7c09e06 button');\n",
       "      quickchartButtonEl.style.display =\n",
       "        google.colab.kernel.accessAllowed ? 'block' : 'none';\n",
       "    })();\n",
       "  </script>\n",
       "</div>\n",
       "    </div>\n",
       "  </div>\n"
      ],
      "text/plain": [
       "                   1              3\n",
       "count  415559.000000  415559.000000\n",
       "mean       17.978557       1.172854\n",
       "std        36.853012       7.775424\n",
       "min         0.000000       0.000000\n",
       "25%         1.000000       0.000000\n",
       "50%         5.000000       0.000000\n",
       "75%        18.000000       0.000000\n",
       "max      1620.000000     600.000000"
      ]
     },
     "execution_count": 15,
     "metadata": {},
     "output_type": "execute_result"
    }
   ],
   "source": [
    "pmc100.describe()"
   ]
  },
  {
   "cell_type": "code",
   "execution_count": null,
   "metadata": {
    "colab": {
     "base_uri": "https://localhost:8080/",
     "height": 300
    },
    "id": "kbqMbAp8jfrW",
    "outputId": "dab6d451-541d-4a49-9086-ecff6b2c7b76"
   },
   "outputs": [
    {
     "data": {
      "text/html": [
       "\n",
       "  <div id=\"df-ea256332-8fd9-4d6e-aa11-cf949ef71dc1\" class=\"colab-df-container\">\n",
       "    <div>\n",
       "<style scoped>\n",
       "    .dataframe tbody tr th:only-of-type {\n",
       "        vertical-align: middle;\n",
       "    }\n",
       "\n",
       "    .dataframe tbody tr th {\n",
       "        vertical-align: top;\n",
       "    }\n",
       "\n",
       "    .dataframe thead th {\n",
       "        text-align: right;\n",
       "    }\n",
       "</style>\n",
       "<table border=\"1\" class=\"dataframe\">\n",
       "  <thead>\n",
       "    <tr style=\"text-align: right;\">\n",
       "      <th></th>\n",
       "      <th>1</th>\n",
       "      <th>3</th>\n",
       "    </tr>\n",
       "  </thead>\n",
       "  <tbody>\n",
       "    <tr>\n",
       "      <th>count</th>\n",
       "      <td>435357.000000</td>\n",
       "      <td>435357.000000</td>\n",
       "    </tr>\n",
       "    <tr>\n",
       "      <th>mean</th>\n",
       "      <td>17.221944</td>\n",
       "      <td>1.146183</td>\n",
       "    </tr>\n",
       "    <tr>\n",
       "      <th>std</th>\n",
       "      <td>36.658511</td>\n",
       "      <td>7.749890</td>\n",
       "    </tr>\n",
       "    <tr>\n",
       "      <th>min</th>\n",
       "      <td>0.000000</td>\n",
       "      <td>0.000000</td>\n",
       "    </tr>\n",
       "    <tr>\n",
       "      <th>25%</th>\n",
       "      <td>1.000000</td>\n",
       "      <td>0.000000</td>\n",
       "    </tr>\n",
       "    <tr>\n",
       "      <th>50%</th>\n",
       "      <td>5.000000</td>\n",
       "      <td>0.000000</td>\n",
       "    </tr>\n",
       "    <tr>\n",
       "      <th>75%</th>\n",
       "      <td>16.000000</td>\n",
       "      <td>0.000000</td>\n",
       "    </tr>\n",
       "    <tr>\n",
       "      <th>max</th>\n",
       "      <td>2661.000000</td>\n",
       "      <td>671.000000</td>\n",
       "    </tr>\n",
       "  </tbody>\n",
       "</table>\n",
       "</div>\n",
       "    <div class=\"colab-df-buttons\">\n",
       "\n",
       "  <div class=\"colab-df-container\">\n",
       "    <button class=\"colab-df-convert\" onclick=\"convertToInteractive('df-ea256332-8fd9-4d6e-aa11-cf949ef71dc1')\"\n",
       "            title=\"Convert this dataframe to an interactive table.\"\n",
       "            style=\"display:none;\">\n",
       "\n",
       "  <svg xmlns=\"http://www.w3.org/2000/svg\" height=\"24px\" viewBox=\"0 -960 960 960\">\n",
       "    <path d=\"M120-120v-720h720v720H120Zm60-500h600v-160H180v160Zm220 220h160v-160H400v160Zm0 220h160v-160H400v160ZM180-400h160v-160H180v160Zm440 0h160v-160H620v160ZM180-180h160v-160H180v160Zm440 0h160v-160H620v160Z\"/>\n",
       "  </svg>\n",
       "    </button>\n",
       "\n",
       "  <style>\n",
       "    .colab-df-container {\n",
       "      display:flex;\n",
       "      gap: 12px;\n",
       "    }\n",
       "\n",
       "    .colab-df-convert {\n",
       "      background-color: #E8F0FE;\n",
       "      border: none;\n",
       "      border-radius: 50%;\n",
       "      cursor: pointer;\n",
       "      display: none;\n",
       "      fill: #1967D2;\n",
       "      height: 32px;\n",
       "      padding: 0 0 0 0;\n",
       "      width: 32px;\n",
       "    }\n",
       "\n",
       "    .colab-df-convert:hover {\n",
       "      background-color: #E2EBFA;\n",
       "      box-shadow: 0px 1px 2px rgba(60, 64, 67, 0.3), 0px 1px 3px 1px rgba(60, 64, 67, 0.15);\n",
       "      fill: #174EA6;\n",
       "    }\n",
       "\n",
       "    .colab-df-buttons div {\n",
       "      margin-bottom: 4px;\n",
       "    }\n",
       "\n",
       "    [theme=dark] .colab-df-convert {\n",
       "      background-color: #3B4455;\n",
       "      fill: #D2E3FC;\n",
       "    }\n",
       "\n",
       "    [theme=dark] .colab-df-convert:hover {\n",
       "      background-color: #434B5C;\n",
       "      box-shadow: 0px 1px 3px 1px rgba(0, 0, 0, 0.15);\n",
       "      filter: drop-shadow(0px 1px 2px rgba(0, 0, 0, 0.3));\n",
       "      fill: #FFFFFF;\n",
       "    }\n",
       "  </style>\n",
       "\n",
       "    <script>\n",
       "      const buttonEl =\n",
       "        document.querySelector('#df-ea256332-8fd9-4d6e-aa11-cf949ef71dc1 button.colab-df-convert');\n",
       "      buttonEl.style.display =\n",
       "        google.colab.kernel.accessAllowed ? 'block' : 'none';\n",
       "\n",
       "      async function convertToInteractive(key) {\n",
       "        const element = document.querySelector('#df-ea256332-8fd9-4d6e-aa11-cf949ef71dc1');\n",
       "        const dataTable =\n",
       "          await google.colab.kernel.invokeFunction('convertToInteractive',\n",
       "                                                    [key], {});\n",
       "        if (!dataTable) return;\n",
       "\n",
       "        const docLinkHtml = 'Like what you see? Visit the ' +\n",
       "          '<a target=\"_blank\" href=https://colab.research.google.com/notebooks/data_table.ipynb>data table notebook</a>'\n",
       "          + ' to learn more about interactive tables.';\n",
       "        element.innerHTML = '';\n",
       "        dataTable['output_type'] = 'display_data';\n",
       "        await google.colab.output.renderOutput(dataTable, element);\n",
       "        const docLink = document.createElement('div');\n",
       "        docLink.innerHTML = docLinkHtml;\n",
       "        element.appendChild(docLink);\n",
       "      }\n",
       "    </script>\n",
       "  </div>\n",
       "\n",
       "\n",
       "<div id=\"df-58f46c45-3c18-4efa-a21a-44300c973104\">\n",
       "  <button class=\"colab-df-quickchart\" onclick=\"quickchart('df-58f46c45-3c18-4efa-a21a-44300c973104')\"\n",
       "            title=\"Suggest charts\"\n",
       "            style=\"display:none;\">\n",
       "\n",
       "<svg xmlns=\"http://www.w3.org/2000/svg\" height=\"24px\"viewBox=\"0 0 24 24\"\n",
       "     width=\"24px\">\n",
       "    <g>\n",
       "        <path d=\"M19 3H5c-1.1 0-2 .9-2 2v14c0 1.1.9 2 2 2h14c1.1 0 2-.9 2-2V5c0-1.1-.9-2-2-2zM9 17H7v-7h2v7zm4 0h-2V7h2v10zm4 0h-2v-4h2v4z\"/>\n",
       "    </g>\n",
       "</svg>\n",
       "  </button>\n",
       "\n",
       "<style>\n",
       "  .colab-df-quickchart {\n",
       "      --bg-color: #E8F0FE;\n",
       "      --fill-color: #1967D2;\n",
       "      --hover-bg-color: #E2EBFA;\n",
       "      --hover-fill-color: #174EA6;\n",
       "      --disabled-fill-color: #AAA;\n",
       "      --disabled-bg-color: #DDD;\n",
       "  }\n",
       "\n",
       "  [theme=dark] .colab-df-quickchart {\n",
       "      --bg-color: #3B4455;\n",
       "      --fill-color: #D2E3FC;\n",
       "      --hover-bg-color: #434B5C;\n",
       "      --hover-fill-color: #FFFFFF;\n",
       "      --disabled-bg-color: #3B4455;\n",
       "      --disabled-fill-color: #666;\n",
       "  }\n",
       "\n",
       "  .colab-df-quickchart {\n",
       "    background-color: var(--bg-color);\n",
       "    border: none;\n",
       "    border-radius: 50%;\n",
       "    cursor: pointer;\n",
       "    display: none;\n",
       "    fill: var(--fill-color);\n",
       "    height: 32px;\n",
       "    padding: 0;\n",
       "    width: 32px;\n",
       "  }\n",
       "\n",
       "  .colab-df-quickchart:hover {\n",
       "    background-color: var(--hover-bg-color);\n",
       "    box-shadow: 0 1px 2px rgba(60, 64, 67, 0.3), 0 1px 3px 1px rgba(60, 64, 67, 0.15);\n",
       "    fill: var(--button-hover-fill-color);\n",
       "  }\n",
       "\n",
       "  .colab-df-quickchart-complete:disabled,\n",
       "  .colab-df-quickchart-complete:disabled:hover {\n",
       "    background-color: var(--disabled-bg-color);\n",
       "    fill: var(--disabled-fill-color);\n",
       "    box-shadow: none;\n",
       "  }\n",
       "\n",
       "  .colab-df-spinner {\n",
       "    border: 2px solid var(--fill-color);\n",
       "    border-color: transparent;\n",
       "    border-bottom-color: var(--fill-color);\n",
       "    animation:\n",
       "      spin 1s steps(1) infinite;\n",
       "  }\n",
       "\n",
       "  @keyframes spin {\n",
       "    0% {\n",
       "      border-color: transparent;\n",
       "      border-bottom-color: var(--fill-color);\n",
       "      border-left-color: var(--fill-color);\n",
       "    }\n",
       "    20% {\n",
       "      border-color: transparent;\n",
       "      border-left-color: var(--fill-color);\n",
       "      border-top-color: var(--fill-color);\n",
       "    }\n",
       "    30% {\n",
       "      border-color: transparent;\n",
       "      border-left-color: var(--fill-color);\n",
       "      border-top-color: var(--fill-color);\n",
       "      border-right-color: var(--fill-color);\n",
       "    }\n",
       "    40% {\n",
       "      border-color: transparent;\n",
       "      border-right-color: var(--fill-color);\n",
       "      border-top-color: var(--fill-color);\n",
       "    }\n",
       "    60% {\n",
       "      border-color: transparent;\n",
       "      border-right-color: var(--fill-color);\n",
       "    }\n",
       "    80% {\n",
       "      border-color: transparent;\n",
       "      border-right-color: var(--fill-color);\n",
       "      border-bottom-color: var(--fill-color);\n",
       "    }\n",
       "    90% {\n",
       "      border-color: transparent;\n",
       "      border-bottom-color: var(--fill-color);\n",
       "    }\n",
       "  }\n",
       "</style>\n",
       "\n",
       "  <script>\n",
       "    async function quickchart(key) {\n",
       "      const quickchartButtonEl =\n",
       "        document.querySelector('#' + key + ' button');\n",
       "      quickchartButtonEl.disabled = true;  // To prevent multiple clicks.\n",
       "      quickchartButtonEl.classList.add('colab-df-spinner');\n",
       "      try {\n",
       "        const charts = await google.colab.kernel.invokeFunction(\n",
       "            'suggestCharts', [key], {});\n",
       "      } catch (error) {\n",
       "        console.error('Error during call to suggestCharts:', error);\n",
       "      }\n",
       "      quickchartButtonEl.classList.remove('colab-df-spinner');\n",
       "      quickchartButtonEl.classList.add('colab-df-quickchart-complete');\n",
       "    }\n",
       "    (() => {\n",
       "      let quickchartButtonEl =\n",
       "        document.querySelector('#df-58f46c45-3c18-4efa-a21a-44300c973104 button');\n",
       "      quickchartButtonEl.style.display =\n",
       "        google.colab.kernel.accessAllowed ? 'block' : 'none';\n",
       "    })();\n",
       "  </script>\n",
       "</div>\n",
       "    </div>\n",
       "  </div>\n"
      ],
      "text/plain": [
       "                   1              3\n",
       "count  435357.000000  435357.000000\n",
       "mean       17.221944       1.146183\n",
       "std        36.658511       7.749890\n",
       "min         0.000000       0.000000\n",
       "25%         1.000000       0.000000\n",
       "50%         5.000000       0.000000\n",
       "75%        16.000000       0.000000\n",
       "max      2661.000000     671.000000"
      ]
     },
     "execution_count": 67,
     "metadata": {},
     "output_type": "execute_result"
    }
   ],
   "source": [
    "pmc95.describe()"
   ]
  },
  {
   "cell_type": "code",
   "execution_count": 14,
   "metadata": {},
   "outputs": [
    {
     "data": {
      "text/html": [
       "<div>\n",
       "<style scoped>\n",
       "    .dataframe tbody tr th:only-of-type {\n",
       "        vertical-align: middle;\n",
       "    }\n",
       "\n",
       "    .dataframe tbody tr th {\n",
       "        vertical-align: top;\n",
       "    }\n",
       "\n",
       "    .dataframe thead th {\n",
       "        text-align: right;\n",
       "    }\n",
       "</style>\n",
       "<table border=\"1\" class=\"dataframe\">\n",
       "  <thead>\n",
       "    <tr style=\"text-align: right;\">\n",
       "      <th></th>\n",
       "      <th>1</th>\n",
       "      <th>3</th>\n",
       "    </tr>\n",
       "  </thead>\n",
       "  <tbody>\n",
       "    <tr>\n",
       "      <th>count</th>\n",
       "      <td>442682.000000</td>\n",
       "      <td>442682.000000</td>\n",
       "    </tr>\n",
       "    <tr>\n",
       "      <th>mean</th>\n",
       "      <td>16.818070</td>\n",
       "      <td>1.020509</td>\n",
       "    </tr>\n",
       "    <tr>\n",
       "      <th>std</th>\n",
       "      <td>34.044832</td>\n",
       "      <td>7.082067</td>\n",
       "    </tr>\n",
       "    <tr>\n",
       "      <th>min</th>\n",
       "      <td>0.000000</td>\n",
       "      <td>0.000000</td>\n",
       "    </tr>\n",
       "    <tr>\n",
       "      <th>25%</th>\n",
       "      <td>1.000000</td>\n",
       "      <td>0.000000</td>\n",
       "    </tr>\n",
       "    <tr>\n",
       "      <th>50%</th>\n",
       "      <td>5.000000</td>\n",
       "      <td>0.000000</td>\n",
       "    </tr>\n",
       "    <tr>\n",
       "      <th>75%</th>\n",
       "      <td>17.000000</td>\n",
       "      <td>0.000000</td>\n",
       "    </tr>\n",
       "    <tr>\n",
       "      <th>max</th>\n",
       "      <td>1421.000000</td>\n",
       "      <td>571.000000</td>\n",
       "    </tr>\n",
       "  </tbody>\n",
       "</table>\n",
       "</div>"
      ],
      "text/plain": [
       "                   1              3\n",
       "count  442682.000000  442682.000000\n",
       "mean       16.818070       1.020509\n",
       "std        34.044832       7.082067\n",
       "min         0.000000       0.000000\n",
       "25%         1.000000       0.000000\n",
       "50%         5.000000       0.000000\n",
       "75%        17.000000       0.000000\n",
       "max      1421.000000     571.000000"
      ]
     },
     "execution_count": 14,
     "metadata": {},
     "output_type": "execute_result"
    }
   ],
   "source": [
    "pmc90.describe()"
   ]
  },
  {
   "cell_type": "code",
   "execution_count": 15,
   "metadata": {},
   "outputs": [
    {
     "data": {
      "text/html": [
       "<div>\n",
       "<style scoped>\n",
       "    .dataframe tbody tr th:only-of-type {\n",
       "        vertical-align: middle;\n",
       "    }\n",
       "\n",
       "    .dataframe tbody tr th {\n",
       "        vertical-align: top;\n",
       "    }\n",
       "\n",
       "    .dataframe thead th {\n",
       "        text-align: right;\n",
       "    }\n",
       "</style>\n",
       "<table border=\"1\" class=\"dataframe\">\n",
       "  <thead>\n",
       "    <tr style=\"text-align: right;\">\n",
       "      <th></th>\n",
       "      <th>1</th>\n",
       "      <th>3</th>\n",
       "    </tr>\n",
       "  </thead>\n",
       "  <tbody>\n",
       "    <tr>\n",
       "      <th>count</th>\n",
       "      <td>433882.000000</td>\n",
       "      <td>433882.000000</td>\n",
       "    </tr>\n",
       "    <tr>\n",
       "      <th>mean</th>\n",
       "      <td>16.497834</td>\n",
       "      <td>1.040647</td>\n",
       "    </tr>\n",
       "    <tr>\n",
       "      <th>std</th>\n",
       "      <td>34.726153</td>\n",
       "      <td>6.984593</td>\n",
       "    </tr>\n",
       "    <tr>\n",
       "      <th>min</th>\n",
       "      <td>0.000000</td>\n",
       "      <td>0.000000</td>\n",
       "    </tr>\n",
       "    <tr>\n",
       "      <th>25%</th>\n",
       "      <td>1.000000</td>\n",
       "      <td>0.000000</td>\n",
       "    </tr>\n",
       "    <tr>\n",
       "      <th>50%</th>\n",
       "      <td>5.000000</td>\n",
       "      <td>0.000000</td>\n",
       "    </tr>\n",
       "    <tr>\n",
       "      <th>75%</th>\n",
       "      <td>16.000000</td>\n",
       "      <td>0.000000</td>\n",
       "    </tr>\n",
       "    <tr>\n",
       "      <th>max</th>\n",
       "      <td>1315.000000</td>\n",
       "      <td>416.000000</td>\n",
       "    </tr>\n",
       "  </tbody>\n",
       "</table>\n",
       "</div>"
      ],
      "text/plain": [
       "                   1              3\n",
       "count  433882.000000  433882.000000\n",
       "mean       16.497834       1.040647\n",
       "std        34.726153       6.984593\n",
       "min         0.000000       0.000000\n",
       "25%         1.000000       0.000000\n",
       "50%         5.000000       0.000000\n",
       "75%        16.000000       0.000000\n",
       "max      1315.000000     416.000000"
      ]
     },
     "execution_count": 15,
     "metadata": {},
     "output_type": "execute_result"
    }
   ],
   "source": [
    "pmc85.describe()"
   ]
  },
  {
   "cell_type": "code",
   "execution_count": 16,
   "metadata": {},
   "outputs": [
    {
     "data": {
      "text/html": [
       "<div>\n",
       "<style scoped>\n",
       "    .dataframe tbody tr th:only-of-type {\n",
       "        vertical-align: middle;\n",
       "    }\n",
       "\n",
       "    .dataframe tbody tr th {\n",
       "        vertical-align: top;\n",
       "    }\n",
       "\n",
       "    .dataframe thead th {\n",
       "        text-align: right;\n",
       "    }\n",
       "</style>\n",
       "<table border=\"1\" class=\"dataframe\">\n",
       "  <thead>\n",
       "    <tr style=\"text-align: right;\">\n",
       "      <th></th>\n",
       "      <th>1</th>\n",
       "      <th>3</th>\n",
       "    </tr>\n",
       "  </thead>\n",
       "  <tbody>\n",
       "    <tr>\n",
       "      <th>count</th>\n",
       "      <td>414523.000000</td>\n",
       "      <td>414523.000000</td>\n",
       "    </tr>\n",
       "    <tr>\n",
       "      <th>mean</th>\n",
       "      <td>17.258927</td>\n",
       "      <td>1.080408</td>\n",
       "    </tr>\n",
       "    <tr>\n",
       "      <th>std</th>\n",
       "      <td>34.646722</td>\n",
       "      <td>7.350616</td>\n",
       "    </tr>\n",
       "    <tr>\n",
       "      <th>min</th>\n",
       "      <td>0.000000</td>\n",
       "      <td>0.000000</td>\n",
       "    </tr>\n",
       "    <tr>\n",
       "      <th>25%</th>\n",
       "      <td>1.000000</td>\n",
       "      <td>0.000000</td>\n",
       "    </tr>\n",
       "    <tr>\n",
       "      <th>50%</th>\n",
       "      <td>5.000000</td>\n",
       "      <td>0.000000</td>\n",
       "    </tr>\n",
       "    <tr>\n",
       "      <th>75%</th>\n",
       "      <td>17.000000</td>\n",
       "      <td>0.000000</td>\n",
       "    </tr>\n",
       "    <tr>\n",
       "      <th>max</th>\n",
       "      <td>1308.000000</td>\n",
       "      <td>603.000000</td>\n",
       "    </tr>\n",
       "  </tbody>\n",
       "</table>\n",
       "</div>"
      ],
      "text/plain": [
       "                   1              3\n",
       "count  414523.000000  414523.000000\n",
       "mean       17.258927       1.080408\n",
       "std        34.646722       7.350616\n",
       "min         0.000000       0.000000\n",
       "25%         1.000000       0.000000\n",
       "50%         5.000000       0.000000\n",
       "75%        17.000000       0.000000\n",
       "max      1308.000000     603.000000"
      ]
     },
     "execution_count": 16,
     "metadata": {},
     "output_type": "execute_result"
    }
   ],
   "source": [
    "pmc80.describe()"
   ]
  },
  {
   "cell_type": "code",
   "execution_count": 17,
   "metadata": {},
   "outputs": [
    {
     "data": {
      "text/html": [
       "<div>\n",
       "<style scoped>\n",
       "    .dataframe tbody tr th:only-of-type {\n",
       "        vertical-align: middle;\n",
       "    }\n",
       "\n",
       "    .dataframe tbody tr th {\n",
       "        vertical-align: top;\n",
       "    }\n",
       "\n",
       "    .dataframe thead th {\n",
       "        text-align: right;\n",
       "    }\n",
       "</style>\n",
       "<table border=\"1\" class=\"dataframe\">\n",
       "  <thead>\n",
       "    <tr style=\"text-align: right;\">\n",
       "      <th></th>\n",
       "      <th>1</th>\n",
       "      <th>3</th>\n",
       "    </tr>\n",
       "  </thead>\n",
       "  <tbody>\n",
       "    <tr>\n",
       "      <th>count</th>\n",
       "      <td>393975.000000</td>\n",
       "      <td>393975.000000</td>\n",
       "    </tr>\n",
       "    <tr>\n",
       "      <th>mean</th>\n",
       "      <td>16.858001</td>\n",
       "      <td>1.023001</td>\n",
       "    </tr>\n",
       "    <tr>\n",
       "      <th>std</th>\n",
       "      <td>34.123203</td>\n",
       "      <td>7.062089</td>\n",
       "    </tr>\n",
       "    <tr>\n",
       "      <th>min</th>\n",
       "      <td>0.000000</td>\n",
       "      <td>0.000000</td>\n",
       "    </tr>\n",
       "    <tr>\n",
       "      <th>25%</th>\n",
       "      <td>1.000000</td>\n",
       "      <td>0.000000</td>\n",
       "    </tr>\n",
       "    <tr>\n",
       "      <th>50%</th>\n",
       "      <td>5.000000</td>\n",
       "      <td>0.000000</td>\n",
       "    </tr>\n",
       "    <tr>\n",
       "      <th>75%</th>\n",
       "      <td>17.000000</td>\n",
       "      <td>0.000000</td>\n",
       "    </tr>\n",
       "    <tr>\n",
       "      <th>max</th>\n",
       "      <td>1533.000000</td>\n",
       "      <td>607.000000</td>\n",
       "    </tr>\n",
       "  </tbody>\n",
       "</table>\n",
       "</div>"
      ],
      "text/plain": [
       "                   1              3\n",
       "count  393975.000000  393975.000000\n",
       "mean       16.858001       1.023001\n",
       "std        34.123203       7.062089\n",
       "min         0.000000       0.000000\n",
       "25%         1.000000       0.000000\n",
       "50%         5.000000       0.000000\n",
       "75%        17.000000       0.000000\n",
       "max      1533.000000     607.000000"
      ]
     },
     "execution_count": 17,
     "metadata": {},
     "output_type": "execute_result"
    }
   ],
   "source": [
    "pmc75.describe()"
   ]
  },
  {
   "cell_type": "code",
   "execution_count": 18,
   "metadata": {},
   "outputs": [
    {
     "data": {
      "text/html": [
       "<div>\n",
       "<style scoped>\n",
       "    .dataframe tbody tr th:only-of-type {\n",
       "        vertical-align: middle;\n",
       "    }\n",
       "\n",
       "    .dataframe tbody tr th {\n",
       "        vertical-align: top;\n",
       "    }\n",
       "\n",
       "    .dataframe thead th {\n",
       "        text-align: right;\n",
       "    }\n",
       "</style>\n",
       "<table border=\"1\" class=\"dataframe\">\n",
       "  <thead>\n",
       "    <tr style=\"text-align: right;\">\n",
       "      <th></th>\n",
       "      <th>1</th>\n",
       "      <th>3</th>\n",
       "    </tr>\n",
       "  </thead>\n",
       "  <tbody>\n",
       "    <tr>\n",
       "      <th>count</th>\n",
       "      <td>407023.000000</td>\n",
       "      <td>407023.000000</td>\n",
       "    </tr>\n",
       "    <tr>\n",
       "      <th>mean</th>\n",
       "      <td>17.053225</td>\n",
       "      <td>1.149566</td>\n",
       "    </tr>\n",
       "    <tr>\n",
       "      <th>std</th>\n",
       "      <td>35.490892</td>\n",
       "      <td>8.363879</td>\n",
       "    </tr>\n",
       "    <tr>\n",
       "      <th>min</th>\n",
       "      <td>0.000000</td>\n",
       "      <td>0.000000</td>\n",
       "    </tr>\n",
       "    <tr>\n",
       "      <th>25%</th>\n",
       "      <td>1.000000</td>\n",
       "      <td>0.000000</td>\n",
       "    </tr>\n",
       "    <tr>\n",
       "      <th>50%</th>\n",
       "      <td>5.000000</td>\n",
       "      <td>0.000000</td>\n",
       "    </tr>\n",
       "    <tr>\n",
       "      <th>75%</th>\n",
       "      <td>17.000000</td>\n",
       "      <td>0.000000</td>\n",
       "    </tr>\n",
       "    <tr>\n",
       "      <th>max</th>\n",
       "      <td>2817.000000</td>\n",
       "      <td>1159.000000</td>\n",
       "    </tr>\n",
       "  </tbody>\n",
       "</table>\n",
       "</div>"
      ],
      "text/plain": [
       "                   1              3\n",
       "count  407023.000000  407023.000000\n",
       "mean       17.053225       1.149566\n",
       "std        35.490892       8.363879\n",
       "min         0.000000       0.000000\n",
       "25%         1.000000       0.000000\n",
       "50%         5.000000       0.000000\n",
       "75%        17.000000       0.000000\n",
       "max      2817.000000    1159.000000"
      ]
     },
     "execution_count": 18,
     "metadata": {},
     "output_type": "execute_result"
    }
   ],
   "source": [
    "pmc70.describe()"
   ]
  },
  {
   "cell_type": "markdown",
   "metadata": {},
   "source": [
    "### Plot funcs"
   ]
  },
  {
   "cell_type": "code",
   "execution_count": 252,
   "metadata": {
    "id": "BiNGemtQrset"
   },
   "outputs": [],
   "source": [
    "label_dict = {\"bact\": \"3\", \"food\": \"1\"}\n",
    "def eval_len_for_var_bound(df, bounds, label):\n",
    "  col_id = label_dict[label]\n",
    "  label_bounds = []\n",
    "  for bound in bounds:\n",
    "    len_bound = len(df[df[col_id] > bound])\n",
    "    label_bounds.append( len_bound )\n",
    "    if len_bound == 0:\n",
    "      break\n",
    "\n",
    "  return label_bounds\n",
    "\n",
    "def create_matrix_dict(food_bounds, bact_bounds):\n",
    "  food_out_res_dict = {}\n",
    "  bact_dict = {}\n",
    "  for bact_bound in bact_bounds:\n",
    "    bact_dict[bact_bound] = 0\n",
    "  for food_bound in food_bounds:\n",
    "    food_out_res_dict[food_bound] = bact_dict.copy()\n",
    "\n",
    "  return food_out_res_dict\n",
    "\n",
    "def eval_len_for_two_bounds(df, food_bounds, bact_bounds):\n",
    "  label_bounds = []\n",
    "  food_col_id = 'food'\n",
    "  bact_col_id = 'bact'\n",
    "  food_out_res_dict = create_matrix_dict(food_bounds, bact_bounds)\n",
    "  for food_bound in food_bounds:\n",
    "    for bact_bound in bact_bounds:\n",
    "      filt_df = df[(df[food_col_id] > food_bound) & (df[bact_col_id] > bact_bound)]\n",
    "      len_bound = len(filt_df)\n",
    "      food_out_res_dict[food_bound][bact_bound] = len_bound\n",
    "\n",
    "  res_df = pd.DataFrame(food_out_res_dict)\n",
    "  res_df = res_df.rename_axis(index='bact', columns='food')\n",
    "  return res_df\n",
    "\n",
    "# function to add value labels\n",
    "def addlabels(x,y, shift):\n",
    "    for i in range(len(x)):\n",
    "        plt.text(x = x[i]+shift, y = y[i]/4, s = y[i])"
   ]
  },
  {
   "cell_type": "markdown",
   "metadata": {},
   "source": [
    "### Plots"
   ]
  },
  {
   "cell_type": "code",
   "execution_count": 177,
   "metadata": {
    "id": "odkcr7TztlI8"
   },
   "outputs": [],
   "source": [
    "bounds = np.array(range(0, 100, 5))\n",
    "# bounds2 = np.array(range(0, 50, 10))\n",
    "\n",
    "pmc100_food_bounds = eval_len_for_var_bound(pmc100, bounds, \"food\")\n",
    "pmc100_bact_bounds = eval_len_for_var_bound(pmc100, bounds, \"bact\")\n",
    "pmc95_food_bounds = eval_len_for_var_bound(pmc95, bounds, \"food\")\n",
    "pmc95_bact_bounds = eval_len_for_var_bound(pmc95, bounds, \"bact\")\n"
   ]
  },
  {
   "cell_type": "code",
   "execution_count": 178,
   "metadata": {
    "id": "Hl_F_WjwbAnd"
   },
   "outputs": [
    {
     "data": {
      "text/plain": [
       "<Axes: xlabel='food', ylabel='bact'>"
      ]
     },
     "execution_count": 178,
     "metadata": {},
     "output_type": "execute_result"
    },
    {
     "data": {
      "image/png": "[encoded data removed]",
      "text/plain": [
       "<Figure size 640x480 with 2 Axes>"
      ]
     },
     "metadata": {},
     "output_type": "display_data"
    }
   ],
   "source": [
    "pmc100_matr = eval_len_for_two_bounds(pmc100, food_bounds = bounds[2:], bact_bounds = bounds[2:])\n",
    "sns.heatmap(pmc100_matr)"
   ]
  },
  {
   "cell_type": "code",
   "execution_count": 179,
   "metadata": {
    "colab": {
     "base_uri": "https://localhost:8080/",
     "height": 467
    },
    "id": "QiOw875GvoS-",
    "outputId": "49060df3-79f6-4264-ee04-5e28cf918642"
   },
   "outputs": [
    {
     "data": {
      "text/plain": [
       "<Axes: xlabel='food', ylabel='bact'>"
      ]
     },
     "execution_count": 179,
     "metadata": {},
     "output_type": "execute_result"
    },
    {
     "data": {
      "image/png": "[encoded data removed]",
      "text/plain": [
       "<Figure size 640x480 with 2 Axes>"
      ]
     },
     "metadata": {},
     "output_type": "display_data"
    }
   ],
   "source": [
    "pmc100_matr = eval_len_for_two_bounds(pmc100, food_bounds = bounds, bact_bounds = bounds)\n",
    "sns.heatmap(pmc100_matr)"
   ]
  },
  {
   "cell_type": "code",
   "execution_count": 180,
   "metadata": {
    "colab": {
     "base_uri": "https://localhost:8080/",
     "height": 467
    },
    "id": "-s1OmmYviEG2",
    "outputId": "430ac50f-9616-464f-f76f-8048536488d8"
   },
   "outputs": [
    {
     "data": {
      "text/plain": [
       "<Axes: xlabel='food', ylabel='bact'>"
      ]
     },
     "execution_count": 180,
     "metadata": {},
     "output_type": "execute_result"
    },
    {
     "data": {
      "image/png": "[encoded data removed]",
      "text/plain": [
       "<Figure size 640x480 with 2 Axes>"
      ]
     },
     "metadata": {},
     "output_type": "display_data"
    }
   ],
   "source": [
    "pmc95_matr = eval_len_for_two_bounds(pmc95, food_bounds = bounds, bact_bounds = bounds)\n",
    "sns.heatmap(pmc95_matr)"
   ]
  },
  {
   "cell_type": "markdown",
   "metadata": {
    "id": "-1GFv_9Mm9mG"
   },
   "source": [
    "- откорректировать словари, ускорить первичную разметку\n",
    "\n",
    "- посмотреть статьи с гигантским количеством совпадений по бактериям/еде\n",
    "\n",
    "- запустить NER и поиск зависимостей (посмотреть зависимость количества совместных упоминаний и наличия связи между понятиями)\n",
    "\n",
    "- провести оценку релевантности статей (руками и не руками) (разработать какой-то индекс, посмотреть, что есть)\n",
    "\n",
    "\n"
   ]
  },
  {
   "cell_type": "code",
   "execution_count": null,
   "metadata": {
    "id": "c_PaJhyGm77L"
   },
   "outputs": [],
   "source": []
  },
  {
   "cell_type": "code",
   "execution_count": 51,
   "metadata": {
    "colab": {
     "base_uri": "https://localhost:8080/",
     "height": 487
    },
    "id": "Y8WMLqleuF_9",
    "outputId": "85d5d903-a74b-4835-a2cf-6bf708187c06"
   },
   "outputs": [
    {
     "data": {
      "image/png": "[encoded data removed]",
      "text/plain": [
       "<Figure size 1000x500 with 1 Axes>"
      ]
     },
     "metadata": {},
     "output_type": "display_data"
    }
   ],
   "source": [
    "fig = plt.figure(figsize = (10, 5))\n",
    "\n",
    "# creating the bar plot\n",
    "plt.bar(bounds-0.4, pmc100_food_bounds, color ='maroon',\n",
    "        width = 0.8, label='food')\n",
    "plt.bar(bounds+0.4, pmc100_bact_bounds, color ='green',\n",
    "        width = 0.8, label='bact')\n",
    "\n",
    "plt.xlabel(\"Courses offered\")\n",
    "plt.ylabel(\"No. of articles\")\n",
    "plt.title(\"No. of mentioned entity in pmc100 dataset\")\n",
    "plt.legend()\n",
    "plt.ylim([0, 100_000])\n",
    "addlabels(bounds - 0.4, pmc100_food_bounds, shift = -5)\n",
    "addlabels(bounds + 0.4, pmc100_bact_bounds, shift = 1)\n",
    "\n",
    "plt.show()"
   ]
  },
  {
   "cell_type": "code",
   "execution_count": 52,
   "metadata": {
    "colab": {
     "base_uri": "https://localhost:8080/",
     "height": 487
    },
    "id": "yYbm2D3wq7f8",
    "outputId": "c81e2b9f-1b57-4ffa-96fe-364b7951d9e3"
   },
   "outputs": [
    {
     "data": {
      "image/png": "[encoded data removed]",
      "text/plain": [
       "<Figure size 1000x500 with 1 Axes>"
      ]
     },
     "metadata": {},
     "output_type": "display_data"
    }
   ],
   "source": [
    "fig = plt.figure(figsize = (10, 5))\n",
    "\n",
    "# creating the bar plot\n",
    "plt.bar(bounds-0.4, pmc95_food_bounds, color ='maroon',\n",
    "        width = 0.8, label='food')\n",
    "plt.bar(bounds+0.4, pmc95_bact_bounds, color ='green',\n",
    "        width = 0.8, label='bact')\n",
    "\n",
    "plt.xlabel(\"Courses offered\")\n",
    "plt.ylabel(\"No. of articles\")\n",
    "plt.title(\"No. of mentioned entity in pmc95 dataset\")\n",
    "plt.legend()\n",
    "plt.ylim([0, 100_000])\n",
    "addlabels(bounds - 0.4, pmc95_food_bounds, shift = -5)\n",
    "addlabels(bounds + 0.4, pmc95_bact_bounds, shift = 1)\n",
    "\n",
    "plt.show()"
   ]
  },
  {
   "cell_type": "code",
   "execution_count": null,
   "metadata": {
    "id": "QUS7YQAYiJJP"
   },
   "outputs": [],
   "source": [
    "u = set(pmc95.text_id.values).union(set(pmc100.text_id.values))\n",
    "inters = set(pmc95.text_id.values).intersection(set(pmc100.text_id.values))"
   ]
  },
  {
   "cell_type": "code",
   "execution_count": null,
   "metadata": {
    "colab": {
     "base_uri": "https://localhost:8080/"
    },
    "id": "d66aeOyhiaZd",
    "outputId": "add99134-4ef2-40ce-8307-14b4a60bf53d"
   },
   "outputs": [
    {
     "data": {
      "text/plain": [
       "0"
      ]
     },
     "execution_count": 66,
     "metadata": {},
     "output_type": "execute_result"
    }
   ],
   "source": [
    "len(u) - (pmc95.text_id.nunique() + pmc100.text_id.nunique())"
   ]
  },
  {
   "cell_type": "code",
   "execution_count": null,
   "metadata": {
    "colab": {
     "base_uri": "https://localhost:8080/"
    },
    "id": "07oF8N2srHaz",
    "outputId": "c8206aa7-d01f-43c5-9e13-70bf188f4c79"
   },
   "outputs": [
    {
     "data": {
      "text/plain": [
       "-13"
      ]
     },
     "execution_count": 32,
     "metadata": {},
     "output_type": "execute_result"
    }
   ],
   "source": [
    "pmc95.text_id.nunique() - len(pmc95)"
   ]
  },
  {
   "cell_type": "code",
   "execution_count": null,
   "metadata": {
    "colab": {
     "base_uri": "https://localhost:8080/"
    },
    "id": "YbVPBPO1TdZs",
    "outputId": "7f3cb58f-807b-4f84-cbd2-c049d795b1c7"
   },
   "outputs": [
    {
     "data": {
      "text/plain": [
       "-8"
      ]
     },
     "execution_count": 33,
     "metadata": {},
     "output_type": "execute_result"
    }
   ],
   "source": [
    "pmc100.text_id.nunique() - len(pmc100)"
   ]
  },
  {
   "cell_type": "code",
   "execution_count": null,
   "metadata": {
    "id": "0QPbR5czTq6a"
   },
   "outputs": [],
   "source": []
  },
  {
   "cell_type": "markdown",
   "metadata": {},
   "source": [
    "### Gut labeling"
   ]
  },
  {
   "cell_type": "code",
   "execution_count": 108,
   "metadata": {},
   "outputs": [],
   "source": [
    "import json\n",
    "import os\n",
    "from modules.functions import extract_text_from_json\n",
    "from modules.entity_finder_class import (\n",
    "    ComplexPatternFinder, \n",
    "    EntityMatcher\n",
    ")\n",
    "from modules.constants_and_paths import (\n",
    "    path_to_save as path_to_jsons,\n",
    "    ignorance_sec_types,\n",
    "    food_list,\n",
    "    bacteria_list,\n",
    "    csv_path,\n",
    ")"
   ]
  },
  {
   "cell_type": "code",
   "execution_count": 109,
   "metadata": {},
   "outputs": [
    {
     "data": {
      "text/plain": [
       "{'TITLE': '', 'ABSTRACT': ''}"
      ]
     },
     "execution_count": 109,
     "metadata": {},
     "output_type": "execute_result"
    }
   ],
   "source": [
    "\n",
    "{k:'' for k in check_sec_types}"
   ]
  },
  {
   "cell_type": "code",
   "execution_count": 131,
   "metadata": {},
   "outputs": [],
   "source": [
    "def extract_text_from_json_by_sections(json_data, check_sec_types):\n",
    "    all_text = ''\n",
    "    for document in json_data.get('documents', []):\n",
    "        for passage in document.get('passages', []):\n",
    "            sec_type = passage.get('infons', {}).get('section_type', '')\n",
    "            if sec_type in check_sec_types:\n",
    "                all_text += passage.get('text', '') + \"\\n\"\n",
    "    return all_text"
   ]
  },
  {
   "cell_type": "code",
   "execution_count": 145,
   "metadata": {},
   "outputs": [],
   "source": [
    "gut_list = ['gut', 'digestive', 'intestine','intestines', 'intestinal', 'digest']\n",
    "micro_list = ['microbiota', 'microbiome']\n",
    "digest_list = ['digestive']\n",
    "intest_list = ['intestine', 'intestinal']\n",
    "\n",
    "indicies = [\"0\" + str(i) for i in range(95,25,-5)]\n",
    "indicies.insert(0, \"100\")\n",
    "all_check_sec_types = ['TITLE', 'ABSTRACT']"
   ]
  },
  {
   "cell_type": "code",
   "execution_count": 142,
   "metadata": {},
   "outputs": [
    {
     "name": "stderr",
     "output_type": "stream",
     "text": [
      "  0%|                                                                                             | 0/2 [00:00<?, ?it/s]\n",
      "  0%|                                                                                             | 0/6 [00:00<?, ?it/s]\u001b[A\n",
      "100%|█████████████████████████████████████████████████████████████████████████████████████| 6/6 [00:00<00:00, 36.04it/s]\u001b[A\n",
      " 50%|██████████████████████████████████████████▌                                          | 1/2 [00:00<00:00,  5.87it/s]\n",
      "100%|████████████████████████████████████████████████████████████████████████████████████| 2/2 [00:00<00:00, 134.33it/s]\u001b[A\n",
      "100%|█████████████████████████████████████████████████████████████████████████████████████| 2/2 [00:00<00:00, 10.50it/s]\n"
     ]
    }
   ],
   "source": [
    "em = EntityMatcher()\n",
    "# Создание паттернов для матчера\n",
    "em.create_pattern_dict(\"GUT\", gut_list)\n",
    "em.create_pattern_dict(\"BIOME\", micro_list)\n",
    "em.lemmatize_all_pattern_entities()"
   ]
  },
  {
   "cell_type": "code",
   "execution_count": 143,
   "metadata": {},
   "outputs": [
    {
     "data": {
      "text/plain": [
       "{'GUT': ['gut',\n",
       "  'digestive',\n",
       "  'intestine',\n",
       "  'intestines',\n",
       "  'intestinal',\n",
       "  'digest'],\n",
       " 'BIOME': ['microbiota', 'microbiome']}"
      ]
     },
     "execution_count": 143,
     "metadata": {},
     "output_type": "execute_result"
    }
   ],
   "source": [
    "em.pattern_dict"
   ]
  },
  {
   "cell_type": "code",
   "execution_count": 125,
   "metadata": {},
   "outputs": [
    {
     "data": {
      "text/plain": [
       "{'GUT': 1, 'BIOME': 3}"
      ]
     },
     "execution_count": 125,
     "metadata": {},
     "output_type": "execute_result"
    }
   ],
   "source": [
    "em.entity_ids"
   ]
  },
  {
   "cell_type": "code",
   "execution_count": 144,
   "metadata": {},
   "outputs": [
    {
     "data": {
      "text/plain": [
       "['TITLE', 'ABSTRACT']"
      ]
     },
     "execution_count": 144,
     "metadata": {},
     "output_type": "execute_result"
    }
   ],
   "source": [
    "check_sec_types"
   ]
  },
  {
   "cell_type": "code",
   "execution_count": null,
   "metadata": {},
   "outputs": [],
   "source": [
    "len_text = len(cur_extracted_abstract)\n",
    "if len_text > 1_000_000:\n",
    "    for i in range(len_text//1_000_000 + ((len_text % 1_000_000)>0)):\n",
    "        cpf.label_full_text_spacy(text=cur_extracted_abstract[i:i+999_999], text_id=pmcid)\n",
    "else:\n",
    "    cpf.label_full_text_spacy(text=cur_extracted_abstract, text_id=pmcid)\n",
    "    "
   ]
  },
  {
   "cell_type": "code",
   "execution_count": 147,
   "metadata": {},
   "outputs": [
    {
     "name": "stdout",
     "output_type": "stream",
     "text": [
      "\n",
      " ----------------------------------------------\n",
      "\n",
      "save path  /home/echukhrova/nlp_project/PMC_Dataset/refd_PMC095XXXX/\n",
      "\n",
      "\n"
     ]
    },
    {
     "name": "stderr",
     "output_type": "stream",
     "text": [
      " 23%|█████████████████                                                         | 100600/435344 [09:05<50:09, 111.23it/s]"
     ]
    },
    {
     "name": "stdout",
     "output_type": "stream",
     "text": [
      "---------- PMC9615638 has TOO LONG ABSTRACT -------------\n"
     ]
    },
    {
     "name": "stderr",
     "output_type": "stream",
     "text": [
      " 49%|████████████████████████████████████▌                                     | 215358/435344 [22:35<23:04, 158.84it/s]\n"
     ]
    },
    {
     "ename": "KeyboardInterrupt",
     "evalue": "",
     "output_type": "error",
     "traceback": [
      "\u001b[0;31m---------------------------------------------------------------------------\u001b[0m",
      "\u001b[0;31mKeyboardInterrupt\u001b[0m                         Traceback (most recent call last)",
      "Cell \u001b[0;32mIn[147], line 23\u001b[0m\n\u001b[1;32m     21\u001b[0m     \u001b[38;5;28mprint\u001b[39m(\u001b[38;5;124mf\u001b[39m\u001b[38;5;124m\"\u001b[39m\u001b[38;5;124m---------- \u001b[39m\u001b[38;5;132;01m{\u001b[39;00mpmcid\u001b[38;5;132;01m}\u001b[39;00m\u001b[38;5;124m has TOO LONG ABSTRACT -------------\u001b[39m\u001b[38;5;124m\"\u001b[39m)\n\u001b[1;32m     22\u001b[0m     \u001b[38;5;28;01mcontinue\u001b[39;00m\n\u001b[0;32m---> 23\u001b[0m \u001b[43mcpf\u001b[49m\u001b[38;5;241;43m.\u001b[39;49m\u001b[43mlabel_full_text_spacy\u001b[49m\u001b[43m(\u001b[49m\u001b[43mtext\u001b[49m\u001b[38;5;241;43m=\u001b[39;49m\u001b[43mcur_extracted_abstract\u001b[49m\u001b[43m,\u001b[49m\u001b[43m \u001b[49m\u001b[43mtext_id\u001b[49m\u001b[38;5;241;43m=\u001b[39;49m\u001b[43mpmcid\u001b[49m\u001b[43m)\u001b[49m\n\u001b[1;32m     25\u001b[0m cur_extracted_title \u001b[38;5;241m=\u001b[39m extract_text_from_json_by_sections(data_json, check_sec_types[:\u001b[38;5;241m1\u001b[39m])\n\u001b[1;32m     26\u001b[0m len_text \u001b[38;5;241m=\u001b[39m \u001b[38;5;28mlen\u001b[39m(cur_extracted_title)\n",
      "File \u001b[0;32m/media/disk/home/echukhrova/nlp_project/modules/entity_finder_class.py:131\u001b[0m, in \u001b[0;36mComplexPatternFinder.label_full_text_spacy\u001b[0;34m(self, text, text_id)\u001b[0m\n\u001b[1;32m    125\u001b[0m \u001b[38;5;28;01mdef\u001b[39;00m \u001b[38;5;21mlabel_full_text_spacy\u001b[39m(\u001b[38;5;28mself\u001b[39m, text, text_id):\n\u001b[1;32m    126\u001b[0m \u001b[38;5;250m    \u001b[39m\u001b[38;5;124;03m\"\"\"\u001b[39;00m\n\u001b[1;32m    127\u001b[0m \u001b[38;5;124;03m    Функция для разметки текста на основе паттернов еды и бактерий.\u001b[39;00m\n\u001b[1;32m    128\u001b[0m \u001b[38;5;124;03m    Возвращает список токенов и соответствующий список меток для каждого предложения.\u001b[39;00m\n\u001b[1;32m    129\u001b[0m \u001b[38;5;124;03m    \"\"\"\u001b[39;00m\n\u001b[0;32m--> 131\u001b[0m     doc \u001b[38;5;241m=\u001b[39m \u001b[38;5;28;43mself\u001b[39;49m\u001b[38;5;241;43m.\u001b[39;49m\u001b[43mnlp\u001b[49m\u001b[43m(\u001b[49m\u001b[43mtext\u001b[49m\u001b[43m,\u001b[49m\u001b[43m \u001b[49m\u001b[43mdisable\u001b[49m\u001b[38;5;241;43m=\u001b[39;49m\u001b[43m[\u001b[49m\u001b[38;5;124;43m'\u001b[39;49m\u001b[38;5;124;43mtok2vec\u001b[39;49m\u001b[38;5;124;43m'\u001b[39;49m\u001b[43m,\u001b[49m\u001b[43m \u001b[49m\u001b[38;5;124;43m'\u001b[39;49m\u001b[38;5;124;43mtagger\u001b[39;49m\u001b[38;5;124;43m'\u001b[39;49m\u001b[43m,\u001b[49m\u001b[43m \u001b[49m\u001b[38;5;124;43m'\u001b[39;49m\u001b[38;5;124;43mparser\u001b[39;49m\u001b[38;5;124;43m'\u001b[39;49m\u001b[43m,\u001b[49m\u001b[43m \u001b[49m\u001b[38;5;124;43m'\u001b[39;49m\u001b[38;5;124;43mattribute_ruler\u001b[39;49m\u001b[38;5;124;43m'\u001b[39;49m\u001b[43m,\u001b[49m\u001b[43m \u001b[49m\u001b[38;5;124;43m'\u001b[39;49m\u001b[38;5;124;43mlemmatizer\u001b[39;49m\u001b[38;5;124;43m'\u001b[39;49m\u001b[43m,\u001b[49m\u001b[43m \u001b[49m\u001b[38;5;124;43m'\u001b[39;49m\u001b[38;5;124;43mner\u001b[39;49m\u001b[38;5;124;43m'\u001b[39;49m\u001b[43m]\u001b[49m\u001b[43m)\u001b[49m\n\u001b[1;32m    134\u001b[0m     labels \u001b[38;5;241m=\u001b[39m [\u001b[38;5;241m0\u001b[39m] \u001b[38;5;241m*\u001b[39m \u001b[38;5;28mlen\u001b[39m(doc)\n\u001b[1;32m    136\u001b[0m     start2 \u001b[38;5;241m=\u001b[39m time()\n",
      "File \u001b[0;32m~/micromamba/envs/nlp_env/lib/python3.12/site-packages/spacy/language.py:1037\u001b[0m, in \u001b[0;36mLanguage.__call__\u001b[0;34m(self, text, disable, component_cfg)\u001b[0m\n\u001b[1;32m   1016\u001b[0m \u001b[38;5;28;01mdef\u001b[39;00m \u001b[38;5;21m__call__\u001b[39m(\n\u001b[1;32m   1017\u001b[0m     \u001b[38;5;28mself\u001b[39m,\n\u001b[1;32m   1018\u001b[0m     text: Union[\u001b[38;5;28mstr\u001b[39m, Doc],\n\u001b[0;32m   (...)\u001b[0m\n\u001b[1;32m   1021\u001b[0m     component_cfg: Optional[Dict[\u001b[38;5;28mstr\u001b[39m, Dict[\u001b[38;5;28mstr\u001b[39m, Any]]] \u001b[38;5;241m=\u001b[39m \u001b[38;5;28;01mNone\u001b[39;00m,\n\u001b[1;32m   1022\u001b[0m ) \u001b[38;5;241m-\u001b[39m\u001b[38;5;241m>\u001b[39m Doc:\n\u001b[1;32m   1023\u001b[0m \u001b[38;5;250m    \u001b[39m\u001b[38;5;124;03m\"\"\"Apply the pipeline to some text. The text can span multiple sentences,\u001b[39;00m\n\u001b[1;32m   1024\u001b[0m \u001b[38;5;124;03m    and can contain arbitrary whitespace. Alignment into the original string\u001b[39;00m\n\u001b[1;32m   1025\u001b[0m \u001b[38;5;124;03m    is preserved.\u001b[39;00m\n\u001b[0;32m   (...)\u001b[0m\n\u001b[1;32m   1035\u001b[0m \u001b[38;5;124;03m    DOCS: https://spacy.io/api/language#call\u001b[39;00m\n\u001b[1;32m   1036\u001b[0m \u001b[38;5;124;03m    \"\"\"\u001b[39;00m\n\u001b[0;32m-> 1037\u001b[0m     doc \u001b[38;5;241m=\u001b[39m \u001b[38;5;28;43mself\u001b[39;49m\u001b[38;5;241;43m.\u001b[39;49m\u001b[43m_ensure_doc\u001b[49m\u001b[43m(\u001b[49m\u001b[43mtext\u001b[49m\u001b[43m)\u001b[49m\n\u001b[1;32m   1038\u001b[0m     \u001b[38;5;28;01mif\u001b[39;00m component_cfg \u001b[38;5;129;01mis\u001b[39;00m \u001b[38;5;28;01mNone\u001b[39;00m:\n\u001b[1;32m   1039\u001b[0m         component_cfg \u001b[38;5;241m=\u001b[39m {}\n",
      "File \u001b[0;32m~/micromamba/envs/nlp_env/lib/python3.12/site-packages/spacy/language.py:1128\u001b[0m, in \u001b[0;36mLanguage._ensure_doc\u001b[0;34m(self, doc_like)\u001b[0m\n\u001b[1;32m   1126\u001b[0m     \u001b[38;5;28;01mreturn\u001b[39;00m doc_like\n\u001b[1;32m   1127\u001b[0m \u001b[38;5;28;01mif\u001b[39;00m \u001b[38;5;28misinstance\u001b[39m(doc_like, \u001b[38;5;28mstr\u001b[39m):\n\u001b[0;32m-> 1128\u001b[0m     \u001b[38;5;28;01mreturn\u001b[39;00m \u001b[38;5;28;43mself\u001b[39;49m\u001b[38;5;241;43m.\u001b[39;49m\u001b[43mmake_doc\u001b[49m\u001b[43m(\u001b[49m\u001b[43mdoc_like\u001b[49m\u001b[43m)\u001b[49m\n\u001b[1;32m   1129\u001b[0m \u001b[38;5;28;01mif\u001b[39;00m \u001b[38;5;28misinstance\u001b[39m(doc_like, \u001b[38;5;28mbytes\u001b[39m):\n\u001b[1;32m   1130\u001b[0m     \u001b[38;5;28;01mreturn\u001b[39;00m Doc(\u001b[38;5;28mself\u001b[39m\u001b[38;5;241m.\u001b[39mvocab)\u001b[38;5;241m.\u001b[39mfrom_bytes(doc_like)\n",
      "File \u001b[0;32m~/micromamba/envs/nlp_env/lib/python3.12/site-packages/spacy/language.py:1120\u001b[0m, in \u001b[0;36mLanguage.make_doc\u001b[0;34m(self, text)\u001b[0m\n\u001b[1;32m   1116\u001b[0m \u001b[38;5;28;01mif\u001b[39;00m \u001b[38;5;28mlen\u001b[39m(text) \u001b[38;5;241m>\u001b[39m \u001b[38;5;28mself\u001b[39m\u001b[38;5;241m.\u001b[39mmax_length:\n\u001b[1;32m   1117\u001b[0m     \u001b[38;5;28;01mraise\u001b[39;00m \u001b[38;5;167;01mValueError\u001b[39;00m(\n\u001b[1;32m   1118\u001b[0m         Errors\u001b[38;5;241m.\u001b[39mE088\u001b[38;5;241m.\u001b[39mformat(length\u001b[38;5;241m=\u001b[39m\u001b[38;5;28mlen\u001b[39m(text), max_length\u001b[38;5;241m=\u001b[39m\u001b[38;5;28mself\u001b[39m\u001b[38;5;241m.\u001b[39mmax_length)\n\u001b[1;32m   1119\u001b[0m     )\n\u001b[0;32m-> 1120\u001b[0m \u001b[38;5;28;01mreturn\u001b[39;00m \u001b[38;5;28;43mself\u001b[39;49m\u001b[38;5;241;43m.\u001b[39;49m\u001b[43mtokenizer\u001b[49m\u001b[43m(\u001b[49m\u001b[43mtext\u001b[49m\u001b[43m)\u001b[49m\n",
      "File \u001b[0;32m~/micromamba/envs/nlp_env/lib/python3.12/site-packages/spacy/tokenizer.pyx:151\u001b[0m, in \u001b[0;36mspacy.tokenizer.Tokenizer.__call__\u001b[0;34m()\u001b[0m\n",
      "File \u001b[0;32m~/micromamba/envs/nlp_env/lib/python3.12/site-packages/spacy/tokenizer.pyx:187\u001b[0m, in \u001b[0;36mspacy.tokenizer.Tokenizer._tokenize_affixes\u001b[0;34m()\u001b[0m\n",
      "File \u001b[0;32m~/micromamba/envs/nlp_env/lib/python3.12/site-packages/spacy/tokenizer.pyx:391\u001b[0m, in \u001b[0;36mspacy.tokenizer.Tokenizer._tokenize\u001b[0;34m()\u001b[0m\n",
      "File \u001b[0;32m~/micromamba/envs/nlp_env/lib/python3.12/site-packages/spacy/tokenizer.pyx:470\u001b[0m, in \u001b[0;36mspacy.tokenizer.Tokenizer._attach_tokens\u001b[0;34m()\u001b[0m\n",
      "File \u001b[0;32m~/micromamba/envs/nlp_env/lib/python3.12/site-packages/spacy/vocab.pyx:165\u001b[0m, in \u001b[0;36mspacy.vocab.Vocab.get\u001b[0;34m()\u001b[0m\n",
      "File \u001b[0;32m~/micromamba/envs/nlp_env/lib/python3.12/site-packages/spacy/vocab.pyx:202\u001b[0m, in \u001b[0;36mspacy.vocab.Vocab._new_lexeme\u001b[0;34m()\u001b[0m\n",
      "File \u001b[0;32m~/micromamba/envs/nlp_env/lib/python3.12/site-packages/spacy/lang/lex_attrs.py:144\u001b[0m, in \u001b[0;36mlower\u001b[0;34m(string)\u001b[0m\n\u001b[1;32m    140\u001b[0m             shape\u001b[38;5;241m.\u001b[39mappend(shape_char)\n\u001b[1;32m    141\u001b[0m     \u001b[38;5;28;01mreturn\u001b[39;00m \u001b[38;5;124m\"\u001b[39m\u001b[38;5;124m\"\u001b[39m\u001b[38;5;241m.\u001b[39mjoin(shape)\n\u001b[0;32m--> 144\u001b[0m \u001b[38;5;28;01mdef\u001b[39;00m \u001b[38;5;21mlower\u001b[39m(string: \u001b[38;5;28mstr\u001b[39m) \u001b[38;5;241m-\u001b[39m\u001b[38;5;241m>\u001b[39m \u001b[38;5;28mstr\u001b[39m:\n\u001b[1;32m    145\u001b[0m     \u001b[38;5;28;01mreturn\u001b[39;00m string\u001b[38;5;241m.\u001b[39mlower()\n\u001b[1;32m    148\u001b[0m \u001b[38;5;28;01mdef\u001b[39;00m \u001b[38;5;21mprefix\u001b[39m(string: \u001b[38;5;28mstr\u001b[39m) \u001b[38;5;241m-\u001b[39m\u001b[38;5;241m>\u001b[39m \u001b[38;5;28mstr\u001b[39m:\n",
      "\u001b[0;31mKeyboardInterrupt\u001b[0m: "
     ]
    }
   ],
   "source": [
    "for pmc_dir_id in indicies:\n",
    "    cpf = ComplexPatternFinder(entity_matcher=em)\n",
    "    cpf2 = ComplexPatternFinder(entity_matcher=em)\n",
    "    cur_json_path = path_to_jsons.format(DIR_ID=pmc_dir_id)\n",
    "    print(\"\\n ----------------------------------------------\\n\")\n",
    "    print(\"save path \", cur_json_path)\n",
    "    print(\"\\n\")\n",
    "    \n",
    "    \n",
    "    refd_json_lst = os.listdir(cur_json_path)\n",
    "    data_jsons = {}\n",
    "\n",
    "    for infile_refd in tqdm(refd_json_lst):\n",
    "        pmcid = infile_refd.split(\"_\")[0]\n",
    "        with open(f\"{cur_json_path}{infile_refd}\") as f:\n",
    "            # all_texts[pmcid] = extract_text_from_json(json.load(f), ignorance_sec_types)\n",
    "            data_json = json.load(f)\n",
    "            cur_extracted_abstract = extract_text_from_json_by_sections(data_json, check_sec_types[1:])\n",
    "            len_text = len(cur_extracted_abstract)\n",
    "            if len_text > 1_000_000:\n",
    "                print(f\"---------- {pmcid} has TOO LONG ABSTRACT -------------\")\n",
    "                continue\n",
    "            cpf.label_full_text_spacy(text=cur_extracted_abstract, text_id=pmcid)\n",
    "\n",
    "            cur_extracted_title = extract_text_from_json_by_sections(data_json, check_sec_types[:1])\n",
    "            len_text = len(cur_extracted_title)\n",
    "            cpf2.label_full_text_spacy(text=cur_extracted_title, text_id=pmcid)\n",
    "                \n",
    "    pd.DataFrame(cpf.num_labels_for_text).to_csv(csv_path.format(DIR_ID=pmc_dir_id)+'_ABSTRACT'+\".csv\")\n",
    "    pd.DataFrame(cpf2.num_labels_for_text).to_csv(csv_path.format(DIR_ID=pmc_dir_id)+'_TITLE'+\".csv\")\n",
    "    "
   ]
  },
  {
   "cell_type": "code",
   "execution_count": 113,
   "metadata": {},
   "outputs": [],
   "source": []
  },
  {
   "cell_type": "code",
   "execution_count": 114,
   "metadata": {},
   "outputs": [
    {
     "data": {
      "text/plain": [
       "['100',\n",
       " '095',\n",
       " '090',\n",
       " '085',\n",
       " '080',\n",
       " '075',\n",
       " '070',\n",
       " '065',\n",
       " '060',\n",
       " '055',\n",
       " '050',\n",
       " '045',\n",
       " '040',\n",
       " '035',\n",
       " '030']"
      ]
     },
     "execution_count": 114,
     "metadata": {},
     "output_type": "execute_result"
    }
   ],
   "source": [
    "indicies"
   ]
  },
  {
   "cell_type": "code",
   "execution_count": null,
   "metadata": {},
   "outputs": [],
   "source": []
  }
 ],
 "metadata": {
  "colab": {
   "provenance": []
  },
  "kernelspec": {
   "display_name": "Python 3 (ipykernel)",
   "language": "python",
   "name": "python3"
  },
  "language_info": {
   "codemirror_mode": {
    "name": "ipython",
    "version": 3
   },
   "file_extension": ".py",
   "mimetype": "text/x-python",
   "name": "python",
   "nbconvert_exporter": "python",
   "pygments_lexer": "ipython3",
   "version": "3.12.0"
  }
 },
 "nbformat": 4,
 "nbformat_minor": 4
}
